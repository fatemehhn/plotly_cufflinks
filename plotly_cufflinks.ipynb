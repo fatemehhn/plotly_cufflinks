{
 "cells": [
  {
   "cell_type": "code",
   "execution_count": 1,
   "metadata": {},
   "outputs": [],
   "source": [
    "import pandas as pd"
   ]
  },
  {
   "cell_type": "code",
   "execution_count": 22,
   "metadata": {},
   "outputs": [],
   "source": [
    "import numpy as np\n",
    "import chart_studio.plotly as py\n",
    "%matplotlib inline"
   ]
  },
  {
   "cell_type": "code",
   "execution_count": 4,
   "metadata": {},
   "outputs": [],
   "source": [
    "from plotly import __version__"
   ]
  },
  {
   "cell_type": "code",
   "execution_count": 5,
   "metadata": {},
   "outputs": [
    {
     "name": "stdout",
     "output_type": "stream",
     "text": [
      "5.3.1\n"
     ]
    }
   ],
   "source": [
    "print(__version__)"
   ]
  },
  {
   "cell_type": "code",
   "execution_count": 7,
   "metadata": {},
   "outputs": [],
   "source": [
    "import cufflinks as cf"
   ]
  },
  {
   "cell_type": "code",
   "execution_count": 9,
   "metadata": {},
   "outputs": [],
   "source": [
    "from plotly.offline import download_plotlyjs, init_notebook_mode,plot,iplot"
   ]
  },
  {
   "cell_type": "code",
   "execution_count": 12,
   "metadata": {},
   "outputs": [
    {
     "data": {
      "text/html": [
       "        <script type=\"text/javascript\">\n",
       "        window.PlotlyConfig = {MathJaxConfig: 'local'};\n",
       "        if (window.MathJax) {MathJax.Hub.Config({SVG: {font: \"STIX-Web\"}});}\n",
       "        if (typeof require !== 'undefined') {\n",
       "        require.undef(\"plotly\");\n",
       "        requirejs.config({\n",
       "            paths: {\n",
       "                'plotly': ['https://cdn.plot.ly/plotly-2.4.2.min']\n",
       "            }\n",
       "        });\n",
       "        require(['plotly'], function(Plotly) {\n",
       "            window._Plotly = Plotly;\n",
       "        });\n",
       "        }\n",
       "        </script>\n",
       "        "
      ]
     },
     "metadata": {},
     "output_type": "display_data"
    }
   ],
   "source": [
    "init_notebook_mode(connected = True)"
   ]
  },
  {
   "cell_type": "code",
   "execution_count": 13,
   "metadata": {},
   "outputs": [
    {
     "data": {
      "text/html": [
       "        <script type=\"text/javascript\">\n",
       "        window.PlotlyConfig = {MathJaxConfig: 'local'};\n",
       "        if (window.MathJax) {MathJax.Hub.Config({SVG: {font: \"STIX-Web\"}});}\n",
       "        if (typeof require !== 'undefined') {\n",
       "        require.undef(\"plotly\");\n",
       "        requirejs.config({\n",
       "            paths: {\n",
       "                'plotly': ['https://cdn.plot.ly/plotly-2.4.2.min']\n",
       "            }\n",
       "        });\n",
       "        require(['plotly'], function(Plotly) {\n",
       "            window._Plotly = Plotly;\n",
       "        });\n",
       "        }\n",
       "        </script>\n",
       "        "
      ]
     },
     "metadata": {},
     "output_type": "display_data"
    }
   ],
   "source": [
    "cf.go_offline()"
   ]
  },
  {
   "cell_type": "code",
   "execution_count": 14,
   "metadata": {},
   "outputs": [],
   "source": [
    "# Data"
   ]
  },
  {
   "cell_type": "code",
   "execution_count": 15,
   "metadata": {},
   "outputs": [],
   "source": [
    "df = pd.DataFrame(np.random.randn(100,4), columns = 'A B C D'.split())"
   ]
  },
  {
   "cell_type": "code",
   "execution_count": 16,
   "metadata": {},
   "outputs": [
    {
     "data": {
      "text/html": [
       "<div>\n",
       "<style scoped>\n",
       "    .dataframe tbody tr th:only-of-type {\n",
       "        vertical-align: middle;\n",
       "    }\n",
       "\n",
       "    .dataframe tbody tr th {\n",
       "        vertical-align: top;\n",
       "    }\n",
       "\n",
       "    .dataframe thead th {\n",
       "        text-align: right;\n",
       "    }\n",
       "</style>\n",
       "<table border=\"1\" class=\"dataframe\">\n",
       "  <thead>\n",
       "    <tr style=\"text-align: right;\">\n",
       "      <th></th>\n",
       "      <th>A</th>\n",
       "      <th>B</th>\n",
       "      <th>C</th>\n",
       "      <th>D</th>\n",
       "    </tr>\n",
       "  </thead>\n",
       "  <tbody>\n",
       "    <tr>\n",
       "      <th>0</th>\n",
       "      <td>-1.264743</td>\n",
       "      <td>-0.130115</td>\n",
       "      <td>-0.074323</td>\n",
       "      <td>-0.886345</td>\n",
       "    </tr>\n",
       "    <tr>\n",
       "      <th>1</th>\n",
       "      <td>1.143841</td>\n",
       "      <td>-1.668943</td>\n",
       "      <td>0.877739</td>\n",
       "      <td>-0.164571</td>\n",
       "    </tr>\n",
       "    <tr>\n",
       "      <th>2</th>\n",
       "      <td>-1.059385</td>\n",
       "      <td>-0.202858</td>\n",
       "      <td>-0.268685</td>\n",
       "      <td>-0.767302</td>\n",
       "    </tr>\n",
       "    <tr>\n",
       "      <th>3</th>\n",
       "      <td>1.850487</td>\n",
       "      <td>0.678554</td>\n",
       "      <td>2.275548</td>\n",
       "      <td>0.550200</td>\n",
       "    </tr>\n",
       "    <tr>\n",
       "      <th>4</th>\n",
       "      <td>1.546378</td>\n",
       "      <td>1.067392</td>\n",
       "      <td>-0.377281</td>\n",
       "      <td>0.578233</td>\n",
       "    </tr>\n",
       "    <tr>\n",
       "      <th>...</th>\n",
       "      <td>...</td>\n",
       "      <td>...</td>\n",
       "      <td>...</td>\n",
       "      <td>...</td>\n",
       "    </tr>\n",
       "    <tr>\n",
       "      <th>95</th>\n",
       "      <td>-0.004508</td>\n",
       "      <td>1.259446</td>\n",
       "      <td>0.360356</td>\n",
       "      <td>-0.808050</td>\n",
       "    </tr>\n",
       "    <tr>\n",
       "      <th>96</th>\n",
       "      <td>-0.819361</td>\n",
       "      <td>0.392481</td>\n",
       "      <td>-0.741087</td>\n",
       "      <td>-0.147208</td>\n",
       "    </tr>\n",
       "    <tr>\n",
       "      <th>97</th>\n",
       "      <td>0.815645</td>\n",
       "      <td>-0.889817</td>\n",
       "      <td>-0.163944</td>\n",
       "      <td>1.507562</td>\n",
       "    </tr>\n",
       "    <tr>\n",
       "      <th>98</th>\n",
       "      <td>-2.500038</td>\n",
       "      <td>-1.127590</td>\n",
       "      <td>0.585932</td>\n",
       "      <td>0.285873</td>\n",
       "    </tr>\n",
       "    <tr>\n",
       "      <th>99</th>\n",
       "      <td>-0.647439</td>\n",
       "      <td>-0.118519</td>\n",
       "      <td>0.684929</td>\n",
       "      <td>-0.345289</td>\n",
       "    </tr>\n",
       "  </tbody>\n",
       "</table>\n",
       "<p>100 rows × 4 columns</p>\n",
       "</div>"
      ],
      "text/plain": [
       "           A         B         C         D\n",
       "0  -1.264743 -0.130115 -0.074323 -0.886345\n",
       "1   1.143841 -1.668943  0.877739 -0.164571\n",
       "2  -1.059385 -0.202858 -0.268685 -0.767302\n",
       "3   1.850487  0.678554  2.275548  0.550200\n",
       "4   1.546378  1.067392 -0.377281  0.578233\n",
       "..       ...       ...       ...       ...\n",
       "95 -0.004508  1.259446  0.360356 -0.808050\n",
       "96 -0.819361  0.392481 -0.741087 -0.147208\n",
       "97  0.815645 -0.889817 -0.163944  1.507562\n",
       "98 -2.500038 -1.127590  0.585932  0.285873\n",
       "99 -0.647439 -0.118519  0.684929 -0.345289\n",
       "\n",
       "[100 rows x 4 columns]"
      ]
     },
     "execution_count": 16,
     "metadata": {},
     "output_type": "execute_result"
    }
   ],
   "source": [
    "df"
   ]
  },
  {
   "cell_type": "code",
   "execution_count": 18,
   "metadata": {},
   "outputs": [],
   "source": [
    "df2 = pd.DataFrame({'Category':['A','B','C'], 'Values':[32,43,50]})"
   ]
  },
  {
   "cell_type": "markdown",
   "metadata": {},
   "source": [
    "## "
   ]
  },
  {
   "cell_type": "code",
   "execution_count": 19,
   "metadata": {},
   "outputs": [
    {
     "data": {
      "text/html": [
       "<div>\n",
       "<style scoped>\n",
       "    .dataframe tbody tr th:only-of-type {\n",
       "        vertical-align: middle;\n",
       "    }\n",
       "\n",
       "    .dataframe tbody tr th {\n",
       "        vertical-align: top;\n",
       "    }\n",
       "\n",
       "    .dataframe thead th {\n",
       "        text-align: right;\n",
       "    }\n",
       "</style>\n",
       "<table border=\"1\" class=\"dataframe\">\n",
       "  <thead>\n",
       "    <tr style=\"text-align: right;\">\n",
       "      <th></th>\n",
       "      <th>Category</th>\n",
       "      <th>Values</th>\n",
       "    </tr>\n",
       "  </thead>\n",
       "  <tbody>\n",
       "    <tr>\n",
       "      <th>0</th>\n",
       "      <td>A</td>\n",
       "      <td>32</td>\n",
       "    </tr>\n",
       "    <tr>\n",
       "      <th>1</th>\n",
       "      <td>B</td>\n",
       "      <td>43</td>\n",
       "    </tr>\n",
       "    <tr>\n",
       "      <th>2</th>\n",
       "      <td>C</td>\n",
       "      <td>50</td>\n",
       "    </tr>\n",
       "  </tbody>\n",
       "</table>\n",
       "</div>"
      ],
      "text/plain": [
       "  Category  Values\n",
       "0        A      32\n",
       "1        B      43\n",
       "2        C      50"
      ]
     },
     "execution_count": 19,
     "metadata": {},
     "output_type": "execute_result"
    }
   ],
   "source": [
    "df2"
   ]
  },
  {
   "cell_type": "code",
   "execution_count": 23,
   "metadata": {},
   "outputs": [
    {
     "data": {
      "text/plain": [
       "<AxesSubplot:>"
      ]
     },
     "execution_count": 23,
     "metadata": {},
     "output_type": "execute_result"
    },
    {
     "data": {
      "image/png": "[encoded data removed]",
      "text/plain": [
       "<Figure size 432x288 with 1 Axes>"
      ]
     },
     "metadata": {
      "needs_background": "light"
     },
     "output_type": "display_data"
    }
   ],
   "source": [
    "df.plot()"
   ]
  },
  {
   "cell_type": "code",
   "execution_count": 24,
   "metadata": {},
   "outputs": [
    {
     "data": {
      "application/vnd.plotly.v1+json": {
       "config": {
        "linkText": "Export to plot.ly",
        "plotlyServerURL": "https://plot.ly",
        "showLink": true
       },
       "data": [
        {
         "line": {
          "color": "rgba(255, 153, 51, 1.0)",
          "dash": "solid",
          "shape": "linear",
          "width": 1.3
         },
         "mode": "lines",
         "name": "A",
         "text": "",
         "type": "scatter",
         "x": [
          0,
          1,
          2,
          3,
          4,
          5,
          6,
          7,
          8,
          9,
          10,
          11,
          12,
          13,
          14,
          15,
          16,
          17,
          18,
          19,
          20,
          21,
          22,
          23,
          24,
          25,
          26,
          27,
          28,
          29,
          30,
          31,
          32,
          33,
          34,
          35,
          36,
          37,
          38,
          39,
          40,
          41,
          42,
          43,
          44,
          45,
          46,
          47,
          48,
          49,
          50,
          51,
          52,
          53,
          54,
          55,
          56,
          57,
          58,
          59,
          60,
          61,
          62,
          63,
          64,
          65,
          66,
          67,
          68,
          69,
          70,
          71,
          72,
          73,
          74,
          75,
          76,
          77,
          78,
          79,
          80,
          81,
          82,
          83,
          84,
          85,
          86,
          87,
          88,
          89,
          90,
          91,
          92,
          93,
          94,
          95,
          96,
          97,
          98,
          99
         ],
         "y": [
          -1.2647427478653352,
          1.1438411630417042,
          -1.05938509827262,
          1.8504871379847871,
          1.546377535727985,
          0.33451611794517383,
          -0.20870116298576785,
          -1.085679823482335,
          -1.8827930712316268,
          0.22569589428736125,
          -0.14870073272283485,
          1.8097238490035186,
          1.0846129586722046,
          -0.4585050680912217,
          0.6124031613321901,
          0.37538238094067367,
          0.913002050425729,
          1.447532474939569,
          0.37930096970612054,
          0.025491861586942416,
          -0.15303803382175143,
          2.243550303352481,
          -0.9229629605917236,
          0.49440602178430515,
          0.32626850787772976,
          0.43958972584123573,
          0.6294553731378257,
          -0.7267701219717834,
          -2.138340463946718,
          -1.079017623382896,
          1.4986614544652554,
          -0.27121288174569463,
          0.10138278146479278,
          -1.7605830124243214,
          1.4615654271971597,
          1.3732321332042572,
          -0.28009958692970527,
          0.27184356721053654,
          0.014974755371081123,
          -0.044085016801009055,
          -0.46899889415285745,
          1.1953347937424306,
          -1.2073043812004678,
          1.6594422835590357,
          0.2848202010542789,
          -2.0911424322013095,
          1.6745282025401613,
          0.4378371851153993,
          -1.5566653128924857,
          0.21922867812626284,
          -0.9895599822871955,
          0.4074603834542788,
          -0.11399811827797118,
          -0.4189233977822209,
          0.02238550870270797,
          -0.19216353794605404,
          -0.9170130286940688,
          -0.046978406156488545,
          -0.6700104088456724,
          -0.6660851578679424,
          -0.7556852339933507,
          1.2649343600796048,
          1.2777903189647906,
          -0.9126194253381009,
          -0.2632680461538293,
          -1.8546321915498691,
          -0.7390643109977857,
          -0.38372051200700763,
          2.373219972374884,
          0.15575329596422724,
          0.27443916807887914,
          1.5379394148316894,
          1.0156948488155468,
          2.166093192750811,
          -1.0885500209397434,
          0.23426839259810678,
          1.0855996519748596,
          -0.11987274678594355,
          0.44089320789934516,
          -0.4109301897292856,
          0.2707175129727391,
          0.9588832487102428,
          1.0789411110517297,
          0.567636859797784,
          0.27125757376181386,
          2.3036423634178256,
          -1.6393208075066952,
          -1.0635721442192485,
          -1.11636408945502,
          -0.6034849340046708,
          -0.38968839640407177,
          -0.6161479359295967,
          -1.2335152643562908,
          -0.31229004474165456,
          0.7538272605696364,
          -0.004508090178002124,
          -0.819361298514153,
          0.8156450489617879,
          -2.5000383877630896,
          -0.6474385769236347
         ]
        },
        {
         "line": {
          "color": "rgba(55, 128, 191, 1.0)",
          "dash": "solid",
          "shape": "linear",
          "width": 1.3
         },
         "mode": "lines",
         "name": "B",
         "text": "",
         "type": "scatter",
         "x": [
          0,
          1,
          2,
          3,
          4,
          5,
          6,
          7,
          8,
          9,
          10,
          11,
          12,
          13,
          14,
          15,
          16,
          17,
          18,
          19,
          20,
          21,
          22,
          23,
          24,
          25,
          26,
          27,
          28,
          29,
          30,
          31,
          32,
          33,
          34,
          35,
          36,
          37,
          38,
          39,
          40,
          41,
          42,
          43,
          44,
          45,
          46,
          47,
          48,
          49,
          50,
          51,
          52,
          53,
          54,
          55,
          56,
          57,
          58,
          59,
          60,
          61,
          62,
          63,
          64,
          65,
          66,
          67,
          68,
          69,
          70,
          71,
          72,
          73,
          74,
          75,
          76,
          77,
          78,
          79,
          80,
          81,
          82,
          83,
          84,
          85,
          86,
          87,
          88,
          89,
          90,
          91,
          92,
          93,
          94,
          95,
          96,
          97,
          98,
          99
         ],
         "y": [
          -0.1301153686144075,
          -1.6689431191330846,
          -0.20285842315621072,
          0.6785541362910886,
          1.0673918447214745,
          -0.7802583792353444,
          0.30655867142304316,
          -1.2224647788795076,
          1.1866673649667518,
          0.46219911312653267,
          1.4359201163455364,
          -0.7620857646479738,
          0.14999770489209946,
          1.3510418038024503,
          -0.3476238768658763,
          0.3770700580304464,
          -0.08724172549181444,
          0.2895924442947607,
          0.9263808590552806,
          0.6797844247887547,
          -1.4012028849109173,
          0.4826166320718709,
          -0.3922986215993963,
          0.1959231778807618,
          -1.535535001735862,
          -1.81030871675917,
          0.3202113451900208,
          -1.0894993574122724,
          1.2611748564873886,
          0.22952844301244146,
          0.20716481394625794,
          -0.5318471990187423,
          0.1905060425236613,
          0.33116265806516637,
          -0.20501117215077244,
          -0.13440599237475553,
          1.3694492195462487,
          0.12091625643835999,
          0.25879190464332064,
          2.1810934957315435,
          -0.8879443807209912,
          -0.10370330117363438,
          1.172528207746524,
          -0.7504584806919168,
          -1.3481550776944762,
          -0.3961405026321928,
          -0.5999811877451495,
          -0.20504473373920704,
          -0.21748858862191447,
          3.7711129137159305,
          1.2972268923024826,
          1.3275408771993824,
          1.95760339268544,
          0.5264064674229573,
          -0.34976669900318985,
          0.8883004010504278,
          -1.9693253772292125,
          -0.7893855424963484,
          -0.943500652185212,
          -0.9272532594633244,
          0.31683412564341046,
          -1.7173765182063023,
          -0.9556446260766284,
          1.3879797679477532,
          1.388906776125478,
          -1.420945170989908,
          -1.2135311911828452,
          -0.038105740051507325,
          -0.6840302763696385,
          -0.21411043178080405,
          -1.7717125392677908,
          0.3551843961210306,
          -0.18233526845925668,
          0.0018104373033404708,
          -1.746680394865062,
          -1.4466500104106845,
          0.2546409286259897,
          -0.9201116861442346,
          0.03541568708138817,
          0.7880116269458712,
          0.010526015638076014,
          -1.2808253690232152,
          -0.43045698828732787,
          0.1970487702396815,
          1.540825646555996,
          -0.6756201736428282,
          -0.5194461460437366,
          -0.9511847167654712,
          0.9183457485866829,
          0.647385429594174,
          0.9178442142583454,
          0.6336945961461663,
          -0.3235544554780584,
          -0.44720725073444695,
          0.15843502509823545,
          1.2594456193699413,
          0.39248124451512556,
          -0.8898170383869574,
          -1.1275896315623108,
          -0.11851924403056344
         ]
        },
        {
         "line": {
          "color": "rgba(50, 171, 96, 1.0)",
          "dash": "solid",
          "shape": "linear",
          "width": 1.3
         },
         "mode": "lines",
         "name": "C",
         "text": "",
         "type": "scatter",
         "x": [
          0,
          1,
          2,
          3,
          4,
          5,
          6,
          7,
          8,
          9,
          10,
          11,
          12,
          13,
          14,
          15,
          16,
          17,
          18,
          19,
          20,
          21,
          22,
          23,
          24,
          25,
          26,
          27,
          28,
          29,
          30,
          31,
          32,
          33,
          34,
          35,
          36,
          37,
          38,
          39,
          40,
          41,
          42,
          43,
          44,
          45,
          46,
          47,
          48,
          49,
          50,
          51,
          52,
          53,
          54,
          55,
          56,
          57,
          58,
          59,
          60,
          61,
          62,
          63,
          64,
          65,
          66,
          67,
          68,
          69,
          70,
          71,
          72,
          73,
          74,
          75,
          76,
          77,
          78,
          79,
          80,
          81,
          82,
          83,
          84,
          85,
          86,
          87,
          88,
          89,
          90,
          91,
          92,
          93,
          94,
          95,
          96,
          97,
          98,
          99
         ],
         "y": [
          -0.07432342968579692,
          0.8777393170757319,
          -0.268685472600146,
          2.2755479995390724,
          -0.37728094900430725,
          0.1184472486791024,
          -0.29017894624360546,
          1.1158427295735731,
          -0.7758434989150765,
          -0.4790779231648547,
          -2.3250729856442938,
          -1.5534520814003805,
          0.07010582217536217,
          -0.2927700554009269,
          -0.2811455338833278,
          -0.8750958025697672,
          -1.2038965914051378,
          -0.6434231131292169,
          -0.6933378384744655,
          -0.7577773232183364,
          0.5154751557422648,
          -0.5641891223990193,
          -1.2678242521522025,
          0.7580626055782035,
          -1.6437958322617576,
          0.1407262845677634,
          0.734618915207698,
          -2.1253459717396757,
          -0.05320894119059313,
          0.5020172279450783,
          -0.6007903967332062,
          0.4684013807286517,
          -1.247870978194363,
          -0.38664553706485005,
          0.03776818892294396,
          -1.1267882230181745,
          0.9733591024478954,
          0.2930903308635077,
          -0.9356332519517122,
          -0.6153650657932038,
          -2.005219721405772,
          0.4695288178331009,
          -1.073751331509847,
          1.5482237236119312,
          0.6198457881908529,
          -0.642975934936527,
          -0.2386603838651042,
          0.5457898899845418,
          0.008883115991847122,
          0.23611209976553363,
          -1.0661063877070136,
          1.1667594602651707,
          -1.4575667775877763,
          -0.3847504559382402,
          0.09733002200553688,
          0.4310870134831516,
          -0.4525022409739558,
          0.37553198768314006,
          -0.08003213716421696,
          -1.358415695089806,
          -0.45033699452019677,
          -0.3472681257446617,
          -0.06396174660646238,
          0.2953685116668367,
          -0.5716331949998891,
          0.620180982707281,
          0.6178404926900865,
          0.4727830204525924,
          0.0707867733215683,
          0.7700111763387979,
          0.7016979988897313,
          0.9891376074936984,
          0.8455810848569197,
          1.2976137757949149,
          0.18066361919708504,
          -0.14591865517098768,
          -0.38216986888205057,
          1.4135921837446803,
          -0.6035065781423513,
          -0.5376334455997732,
          0.16614548239085303,
          -1.3663504605981143,
          0.8304002429780812,
          0.012290164098070978,
          0.07764199785601283,
          -1.638318478838887,
          0.44109578829677776,
          1.441371191636775,
          0.18436976846990072,
          1.3310878377634119,
          -0.151549605806431,
          0.911745823951154,
          -0.14309957623134648,
          -1.4817145138189582,
          0.4039496314825262,
          0.3603561154744288,
          -0.7410868344261943,
          -0.16394398100005667,
          0.5859320151542924,
          0.6849286686588602
         ]
        },
        {
         "line": {
          "color": "rgba(128, 0, 128, 1.0)",
          "dash": "solid",
          "shape": "linear",
          "width": 1.3
         },
         "mode": "lines",
         "name": "D",
         "text": "",
         "type": "scatter",
         "x": [
          0,
          1,
          2,
          3,
          4,
          5,
          6,
          7,
          8,
          9,
          10,
          11,
          12,
          13,
          14,
          15,
          16,
          17,
          18,
          19,
          20,
          21,
          22,
          23,
          24,
          25,
          26,
          27,
          28,
          29,
          30,
          31,
          32,
          33,
          34,
          35,
          36,
          37,
          38,
          39,
          40,
          41,
          42,
          43,
          44,
          45,
          46,
          47,
          48,
          49,
          50,
          51,
          52,
          53,
          54,
          55,
          56,
          57,
          58,
          59,
          60,
          61,
          62,
          63,
          64,
          65,
          66,
          67,
          68,
          69,
          70,
          71,
          72,
          73,
          74,
          75,
          76,
          77,
          78,
          79,
          80,
          81,
          82,
          83,
          84,
          85,
          86,
          87,
          88,
          89,
          90,
          91,
          92,
          93,
          94,
          95,
          96,
          97,
          98,
          99
         ],
         "y": [
          -0.8863454276883004,
          -0.1645708355236205,
          -0.7673022871715959,
          0.5502003178107542,
          0.5782332646332343,
          -0.2883640033885405,
          -2.4590500778578295,
          0.3814999589068852,
          -0.7848758141315808,
          -0.5886942499702799,
          -1.1801811153934427,
          3.9370432901687895,
          1.1957947402804088,
          0.26039386578231316,
          -0.3865384592129036,
          1.1426080070390392,
          0.15853703541445704,
          1.9434894736718002,
          0.5634047708216215,
          0.4845198129148697,
          1.4778971369029104,
          -0.23522299796185353,
          1.2652058584995227,
          0.39965351876924093,
          1.1342011861190648,
          1.4876317325502424,
          -0.7315044957257623,
          1.2721255156223625,
          -0.5150307609409148,
          0.9191075654871602,
          0.3494876538837761,
          0.7618773037155189,
          -0.2169210404456462,
          -0.3721130554270073,
          -1.0647043052330407,
          -1.798502529073453,
          0.3630921321787982,
          -0.7034208280439024,
          0.41967401887464095,
          1.2408493405964054,
          -0.8649778879766941,
          0.5370630893827874,
          -0.0022656007835508037,
          0.5528593758405621,
          0.6514452462779097,
          -0.7193390468692294,
          0.41363849852505,
          -1.1550876929393719,
          -0.3333227893871169,
          1.1670374072457335,
          -0.193170443946,
          0.9858918067424841,
          0.5352465267173225,
          -0.4214400221911786,
          -0.6058297062984426,
          0.8355805060377944,
          -0.21831842091956985,
          -1.2206737775347731,
          1.0618805543186036,
          0.8256202093395615,
          1.0480969337977304,
          -1.1767596205270556,
          0.22660341445141913,
          -0.02043141145474128,
          -0.3970225663722118,
          -0.06510176853847016,
          2.283918922208758,
          0.36218304941214347,
          -0.43750547101447995,
          0.9572622278046339,
          1.0897298993794287,
          -1.8881741854698473,
          0.24837316037209245,
          0.1576255939153728,
          0.6985460371861626,
          0.577325167618128,
          0.04288007554373437,
          0.0798381463361213,
          0.47021391855991557,
          -1.322498435518512,
          0.807740653757711,
          1.044837675048127,
          0.6683976697470645,
          1.0806151850609549,
          -0.8964360100020632,
          1.4486966483639385,
          -0.7620826886466616,
          -1.1840753631011112,
          0.5826196587773148,
          1.2446553971162422,
          -0.2497319817787376,
          1.000513118384911,
          0.23676817902069075,
          1.1611010130583208,
          0.31636924126830085,
          -0.8080503861933555,
          -0.14720794930826459,
          1.5075623463079884,
          0.28587340189621624,
          -0.34528881368554365
         ]
        }
       ],
       "layout": {
        "legend": {
         "bgcolor": "#F5F6F9",
         "font": {
          "color": "#4D5663"
         }
        },
        "paper_bgcolor": "#F5F6F9",
        "plot_bgcolor": "#F5F6F9",
        "template": {
         "data": {
          "bar": [
           {
            "error_x": {
             "color": "#2a3f5f"
            },
            "error_y": {
             "color": "#2a3f5f"
            },
            "marker": {
             "line": {
              "color": "#E5ECF6",
              "width": 0.5
             },
             "pattern": {
              "fillmode": "overlay",
              "size": 10,
              "solidity": 0.2
             }
            },
            "type": "bar"
           }
          ],
          "barpolar": [
           {
            "marker": {
             "line": {
              "color": "#E5ECF6",
              "width": 0.5
             },
             "pattern": {
              "fillmode": "overlay",
              "size": 10,
              "solidity": 0.2
             }
            },
            "type": "barpolar"
           }
          ],
          "carpet": [
           {
            "aaxis": {
             "endlinecolor": "#2a3f5f",
             "gridcolor": "white",
             "linecolor": "white",
             "minorgridcolor": "white",
             "startlinecolor": "#2a3f5f"
            },
            "baxis": {
             "endlinecolor": "#2a3f5f",
             "gridcolor": "white",
             "linecolor": "white",
             "minorgridcolor": "white",
             "startlinecolor": "#2a3f5f"
            },
            "type": "carpet"
           }
          ],
          "choropleth": [
           {
            "colorbar": {
             "outlinewidth": 0,
             "ticks": ""
            },
            "type": "choropleth"
           }
          ],
          "contour": [
           {
            "colorbar": {
             "outlinewidth": 0,
             "ticks": ""
            },
            "colorscale": [
             [
              0,
              "#0d0887"
             ],
             [
              0.1111111111111111,
              "#46039f"
             ],
             [
              0.2222222222222222,
              "#7201a8"
             ],
             [
              0.3333333333333333,
              "#9c179e"
             ],
             [
              0.4444444444444444,
              "#bd3786"
             ],
             [
              0.5555555555555556,
              "#d8576b"
             ],
             [
              0.6666666666666666,
              "#ed7953"
             ],
             [
              0.7777777777777778,
              "#fb9f3a"
             ],
             [
              0.8888888888888888,
              "#fdca26"
             ],
             [
              1,
              "#f0f921"
             ]
            ],
            "type": "contour"
           }
          ],
          "contourcarpet": [
           {
            "colorbar": {
             "outlinewidth": 0,
             "ticks": ""
            },
            "type": "contourcarpet"
           }
          ],
          "heatmap": [
           {
            "colorbar": {
             "outlinewidth": 0,
             "ticks": ""
            },
            "colorscale": [
             [
              0,
              "#0d0887"
             ],
             [
              0.1111111111111111,
              "#46039f"
             ],
             [
              0.2222222222222222,
              "#7201a8"
             ],
             [
              0.3333333333333333,
              "#9c179e"
             ],
             [
              0.4444444444444444,
              "#bd3786"
             ],
             [
              0.5555555555555556,
              "#d8576b"
             ],
             [
              0.6666666666666666,
              "#ed7953"
             ],
             [
              0.7777777777777778,
              "#fb9f3a"
             ],
             [
              0.8888888888888888,
              "#fdca26"
             ],
             [
              1,
              "#f0f921"
             ]
            ],
            "type": "heatmap"
           }
          ],
          "heatmapgl": [
           {
            "colorbar": {
             "outlinewidth": 0,
             "ticks": ""
            },
            "colorscale": [
             [
              0,
              "#0d0887"
             ],
             [
              0.1111111111111111,
              "#46039f"
             ],
             [
              0.2222222222222222,
              "#7201a8"
             ],
             [
              0.3333333333333333,
              "#9c179e"
             ],
             [
              0.4444444444444444,
              "#bd3786"
             ],
             [
              0.5555555555555556,
              "#d8576b"
             ],
             [
              0.6666666666666666,
              "#ed7953"
             ],
             [
              0.7777777777777778,
              "#fb9f3a"
             ],
             [
              0.8888888888888888,
              "#fdca26"
             ],
             [
              1,
              "#f0f921"
             ]
            ],
            "type": "heatmapgl"
           }
          ],
          "histogram": [
           {
            "marker": {
             "pattern": {
              "fillmode": "overlay",
              "size": 10,
              "solidity": 0.2
             }
            },
            "type": "histogram"
           }
          ],
          "histogram2d": [
           {
            "colorbar": {
             "outlinewidth": 0,
             "ticks": ""
            },
            "colorscale": [
             [
              0,
              "#0d0887"
             ],
             [
              0.1111111111111111,
              "#46039f"
             ],
             [
              0.2222222222222222,
              "#7201a8"
             ],
             [
              0.3333333333333333,
              "#9c179e"
             ],
             [
              0.4444444444444444,
              "#bd3786"
             ],
             [
              0.5555555555555556,
              "#d8576b"
             ],
             [
              0.6666666666666666,
              "#ed7953"
             ],
             [
              0.7777777777777778,
              "#fb9f3a"
             ],
             [
              0.8888888888888888,
              "#fdca26"
             ],
             [
              1,
              "#f0f921"
             ]
            ],
            "type": "histogram2d"
           }
          ],
          "histogram2dcontour": [
           {
            "colorbar": {
             "outlinewidth": 0,
             "ticks": ""
            },
            "colorscale": [
             [
              0,
              "#0d0887"
             ],
             [
              0.1111111111111111,
              "#46039f"
             ],
             [
              0.2222222222222222,
              "#7201a8"
             ],
             [
              0.3333333333333333,
              "#9c179e"
             ],
             [
              0.4444444444444444,
              "#bd3786"
             ],
             [
              0.5555555555555556,
              "#d8576b"
             ],
             [
              0.6666666666666666,
              "#ed7953"
             ],
             [
              0.7777777777777778,
              "#fb9f3a"
             ],
             [
              0.8888888888888888,
              "#fdca26"
             ],
             [
              1,
              "#f0f921"
             ]
            ],
            "type": "histogram2dcontour"
           }
          ],
          "mesh3d": [
           {
            "colorbar": {
             "outlinewidth": 0,
             "ticks": ""
            },
            "type": "mesh3d"
           }
          ],
          "parcoords": [
           {
            "line": {
             "colorbar": {
              "outlinewidth": 0,
              "ticks": ""
             }
            },
            "type": "parcoords"
           }
          ],
          "pie": [
           {
            "automargin": true,
            "type": "pie"
           }
          ],
          "scatter": [
           {
            "marker": {
             "colorbar": {
              "outlinewidth": 0,
              "ticks": ""
             }
            },
            "type": "scatter"
           }
          ],
          "scatter3d": [
           {
            "line": {
             "colorbar": {
              "outlinewidth": 0,
              "ticks": ""
             }
            },
            "marker": {
             "colorbar": {
              "outlinewidth": 0,
              "ticks": ""
             }
            },
            "type": "scatter3d"
           }
          ],
          "scattercarpet": [
           {
            "marker": {
             "colorbar": {
              "outlinewidth": 0,
              "ticks": ""
             }
            },
            "type": "scattercarpet"
           }
          ],
          "scattergeo": [
           {
            "marker": {
             "colorbar": {
              "outlinewidth": 0,
              "ticks": ""
             }
            },
            "type": "scattergeo"
           }
          ],
          "scattergl": [
           {
            "marker": {
             "colorbar": {
              "outlinewidth": 0,
              "ticks": ""
             }
            },
            "type": "scattergl"
           }
          ],
          "scattermapbox": [
           {
            "marker": {
             "colorbar": {
              "outlinewidth": 0,
              "ticks": ""
             }
            },
            "type": "scattermapbox"
           }
          ],
          "scatterpolar": [
           {
            "marker": {
             "colorbar": {
              "outlinewidth": 0,
              "ticks": ""
             }
            },
            "type": "scatterpolar"
           }
          ],
          "scatterpolargl": [
           {
            "marker": {
             "colorbar": {
              "outlinewidth": 0,
              "ticks": ""
             }
            },
            "type": "scatterpolargl"
           }
          ],
          "scatterternary": [
           {
            "marker": {
             "colorbar": {
              "outlinewidth": 0,
              "ticks": ""
             }
            },
            "type": "scatterternary"
           }
          ],
          "surface": [
           {
            "colorbar": {
             "outlinewidth": 0,
             "ticks": ""
            },
            "colorscale": [
             [
              0,
              "#0d0887"
             ],
             [
              0.1111111111111111,
              "#46039f"
             ],
             [
              0.2222222222222222,
              "#7201a8"
             ],
             [
              0.3333333333333333,
              "#9c179e"
             ],
             [
              0.4444444444444444,
              "#bd3786"
             ],
             [
              0.5555555555555556,
              "#d8576b"
             ],
             [
              0.6666666666666666,
              "#ed7953"
             ],
             [
              0.7777777777777778,
              "#fb9f3a"
             ],
             [
              0.8888888888888888,
              "#fdca26"
             ],
             [
              1,
              "#f0f921"
             ]
            ],
            "type": "surface"
           }
          ],
          "table": [
           {
            "cells": {
             "fill": {
              "color": "#EBF0F8"
             },
             "line": {
              "color": "white"
             }
            },
            "header": {
             "fill": {
              "color": "#C8D4E3"
             },
             "line": {
              "color": "white"
             }
            },
            "type": "table"
           }
          ]
         },
         "layout": {
          "annotationdefaults": {
           "arrowcolor": "#2a3f5f",
           "arrowhead": 0,
           "arrowwidth": 1
          },
          "autotypenumbers": "strict",
          "coloraxis": {
           "colorbar": {
            "outlinewidth": 0,
            "ticks": ""
           }
          },
          "colorscale": {
           "diverging": [
            [
             0,
             "#8e0152"
            ],
            [
             0.1,
             "#c51b7d"
            ],
            [
             0.2,
             "#de77ae"
            ],
            [
             0.3,
             "#f1b6da"
            ],
            [
             0.4,
             "#fde0ef"
            ],
            [
             0.5,
             "#f7f7f7"
            ],
            [
             0.6,
             "#e6f5d0"
            ],
            [
             0.7,
             "#b8e186"
            ],
            [
             0.8,
             "#7fbc41"
            ],
            [
             0.9,
             "#4d9221"
            ],
            [
             1,
             "#276419"
            ]
           ],
           "sequential": [
            [
             0,
             "#0d0887"
            ],
            [
             0.1111111111111111,
             "#46039f"
            ],
            [
             0.2222222222222222,
             "#7201a8"
            ],
            [
             0.3333333333333333,
             "#9c179e"
            ],
            [
             0.4444444444444444,
             "#bd3786"
            ],
            [
             0.5555555555555556,
             "#d8576b"
            ],
            [
             0.6666666666666666,
             "#ed7953"
            ],
            [
             0.7777777777777778,
             "#fb9f3a"
            ],
            [
             0.8888888888888888,
             "#fdca26"
            ],
            [
             1,
             "#f0f921"
            ]
           ],
           "sequentialminus": [
            [
             0,
             "#0d0887"
            ],
            [
             0.1111111111111111,
             "#46039f"
            ],
            [
             0.2222222222222222,
             "#7201a8"
            ],
            [
             0.3333333333333333,
             "#9c179e"
            ],
            [
             0.4444444444444444,
             "#bd3786"
            ],
            [
             0.5555555555555556,
             "#d8576b"
            ],
            [
             0.6666666666666666,
             "#ed7953"
            ],
            [
             0.7777777777777778,
             "#fb9f3a"
            ],
            [
             0.8888888888888888,
             "#fdca26"
            ],
            [
             1,
             "#f0f921"
            ]
           ]
          },
          "colorway": [
           "#636efa",
           "#EF553B",
           "#00cc96",
           "#ab63fa",
           "#FFA15A",
           "#19d3f3",
           "#FF6692",
           "#B6E880",
           "#FF97FF",
           "#FECB52"
          ],
          "font": {
           "color": "#2a3f5f"
          },
          "geo": {
           "bgcolor": "white",
           "lakecolor": "white",
           "landcolor": "#E5ECF6",
           "showlakes": true,
           "showland": true,
           "subunitcolor": "white"
          },
          "hoverlabel": {
           "align": "left"
          },
          "hovermode": "closest",
          "mapbox": {
           "style": "light"
          },
          "paper_bgcolor": "white",
          "plot_bgcolor": "#E5ECF6",
          "polar": {
           "angularaxis": {
            "gridcolor": "white",
            "linecolor": "white",
            "ticks": ""
           },
           "bgcolor": "#E5ECF6",
           "radialaxis": {
            "gridcolor": "white",
            "linecolor": "white",
            "ticks": ""
           }
          },
          "scene": {
           "xaxis": {
            "backgroundcolor": "#E5ECF6",
            "gridcolor": "white",
            "gridwidth": 2,
            "linecolor": "white",
            "showbackground": true,
            "ticks": "",
            "zerolinecolor": "white"
           },
           "yaxis": {
            "backgroundcolor": "#E5ECF6",
            "gridcolor": "white",
            "gridwidth": 2,
            "linecolor": "white",
            "showbackground": true,
            "ticks": "",
            "zerolinecolor": "white"
           },
           "zaxis": {
            "backgroundcolor": "#E5ECF6",
            "gridcolor": "white",
            "gridwidth": 2,
            "linecolor": "white",
            "showbackground": true,
            "ticks": "",
            "zerolinecolor": "white"
           }
          },
          "shapedefaults": {
           "line": {
            "color": "#2a3f5f"
           }
          },
          "ternary": {
           "aaxis": {
            "gridcolor": "white",
            "linecolor": "white",
            "ticks": ""
           },
           "baxis": {
            "gridcolor": "white",
            "linecolor": "white",
            "ticks": ""
           },
           "bgcolor": "#E5ECF6",
           "caxis": {
            "gridcolor": "white",
            "linecolor": "white",
            "ticks": ""
           }
          },
          "title": {
           "x": 0.05
          },
          "xaxis": {
           "automargin": true,
           "gridcolor": "white",
           "linecolor": "white",
           "ticks": "",
           "title": {
            "standoff": 15
           },
           "zerolinecolor": "white",
           "zerolinewidth": 2
          },
          "yaxis": {
           "automargin": true,
           "gridcolor": "white",
           "linecolor": "white",
           "ticks": "",
           "title": {
            "standoff": 15
           },
           "zerolinecolor": "white",
           "zerolinewidth": 2
          }
         }
        },
        "title": {
         "font": {
          "color": "#4D5663"
         }
        },
        "xaxis": {
         "gridcolor": "#E1E5ED",
         "showgrid": true,
         "tickfont": {
          "color": "#4D5663"
         },
         "title": {
          "font": {
           "color": "#4D5663"
          },
          "text": ""
         },
         "zerolinecolor": "#E1E5ED"
        },
        "yaxis": {
         "gridcolor": "#E1E5ED",
         "showgrid": true,
         "tickfont": {
          "color": "#4D5663"
         },
         "title": {
          "font": {
           "color": "#4D5663"
          },
          "text": ""
         },
         "zerolinecolor": "#E1E5ED"
        }
       }
      },
      "text/html": [
       "<div>                            <div id=\"232cd300-2ab0-41bb-941a-49064e738f9b\" class=\"plotly-graph-div\" style=\"height:525px; width:100%;\"></div>            <script type=\"text/javascript\">                require([\"plotly\"], function(Plotly) {                    window.PLOTLYENV=window.PLOTLYENV || {};\n",
       "                    window.PLOTLYENV.BASE_URL='https://plot.ly';                                    if (document.getElementById(\"232cd300-2ab0-41bb-941a-49064e738f9b\")) {                    Plotly.newPlot(                        \"232cd300-2ab0-41bb-941a-49064e738f9b\",                        [{\"line\":{\"color\":\"rgba(255, 153, 51, 1.0)\",\"dash\":\"solid\",\"shape\":\"linear\",\"width\":1.3},\"mode\":\"lines\",\"name\":\"A\",\"text\":\"\",\"type\":\"scatter\",\"x\":[0,1,2,3,4,5,6,7,8,9,10,11,12,13,14,15,16,17,18,19,20,21,22,23,24,25,26,27,28,29,30,31,32,33,34,35,36,37,38,39,40,41,42,43,44,45,46,47,48,49,50,51,52,53,54,55,56,57,58,59,60,61,62,63,64,65,66,67,68,69,70,71,72,73,74,75,76,77,78,79,80,81,82,83,84,85,86,87,88,89,90,91,92,93,94,95,96,97,98,99],\"y\":[-1.2647427478653352,1.1438411630417042,-1.05938509827262,1.8504871379847871,1.546377535727985,0.33451611794517383,-0.20870116298576785,-1.085679823482335,-1.8827930712316268,0.22569589428736125,-0.14870073272283485,1.8097238490035186,1.0846129586722046,-0.4585050680912217,0.6124031613321901,0.37538238094067367,0.913002050425729,1.447532474939569,0.37930096970612054,0.025491861586942416,-0.15303803382175143,2.243550303352481,-0.9229629605917236,0.49440602178430515,0.32626850787772976,0.43958972584123573,0.6294553731378257,-0.7267701219717834,-2.138340463946718,-1.079017623382896,1.4986614544652554,-0.27121288174569463,0.10138278146479278,-1.7605830124243214,1.4615654271971597,1.3732321332042572,-0.28009958692970527,0.27184356721053654,0.014974755371081123,-0.044085016801009055,-0.46899889415285745,1.1953347937424306,-1.2073043812004678,1.6594422835590357,0.2848202010542789,-2.0911424322013095,1.6745282025401613,0.4378371851153993,-1.5566653128924857,0.21922867812626284,-0.9895599822871955,0.4074603834542788,-0.11399811827797118,-0.4189233977822209,0.02238550870270797,-0.19216353794605404,-0.9170130286940688,-0.046978406156488545,-0.6700104088456724,-0.6660851578679424,-0.7556852339933507,1.2649343600796048,1.2777903189647906,-0.9126194253381009,-0.2632680461538293,-1.8546321915498691,-0.7390643109977857,-0.38372051200700763,2.373219972374884,0.15575329596422724,0.27443916807887914,1.5379394148316894,1.0156948488155468,2.166093192750811,-1.0885500209397434,0.23426839259810678,1.0855996519748596,-0.11987274678594355,0.44089320789934516,-0.4109301897292856,0.2707175129727391,0.9588832487102428,1.0789411110517297,0.567636859797784,0.27125757376181386,2.3036423634178256,-1.6393208075066952,-1.0635721442192485,-1.11636408945502,-0.6034849340046708,-0.38968839640407177,-0.6161479359295967,-1.2335152643562908,-0.31229004474165456,0.7538272605696364,-0.004508090178002124,-0.819361298514153,0.8156450489617879,-2.5000383877630896,-0.6474385769236347]},{\"line\":{\"color\":\"rgba(55, 128, 191, 1.0)\",\"dash\":\"solid\",\"shape\":\"linear\",\"width\":1.3},\"mode\":\"lines\",\"name\":\"B\",\"text\":\"\",\"type\":\"scatter\",\"x\":[0,1,2,3,4,5,6,7,8,9,10,11,12,13,14,15,16,17,18,19,20,21,22,23,24,25,26,27,28,29,30,31,32,33,34,35,36,37,38,39,40,41,42,43,44,45,46,47,48,49,50,51,52,53,54,55,56,57,58,59,60,61,62,63,64,65,66,67,68,69,70,71,72,73,74,75,76,77,78,79,80,81,82,83,84,85,86,87,88,89,90,91,92,93,94,95,96,97,98,99],\"y\":[-0.1301153686144075,-1.6689431191330846,-0.20285842315621072,0.6785541362910886,1.0673918447214745,-0.7802583792353444,0.30655867142304316,-1.2224647788795076,1.1866673649667518,0.46219911312653267,1.4359201163455364,-0.7620857646479738,0.14999770489209946,1.3510418038024503,-0.3476238768658763,0.3770700580304464,-0.08724172549181444,0.2895924442947607,0.9263808590552806,0.6797844247887547,-1.4012028849109173,0.4826166320718709,-0.3922986215993963,0.1959231778807618,-1.535535001735862,-1.81030871675917,0.3202113451900208,-1.0894993574122724,1.2611748564873886,0.22952844301244146,0.20716481394625794,-0.5318471990187423,0.1905060425236613,0.33116265806516637,-0.20501117215077244,-0.13440599237475553,1.3694492195462487,0.12091625643835999,0.25879190464332064,2.1810934957315435,-0.8879443807209912,-0.10370330117363438,1.172528207746524,-0.7504584806919168,-1.3481550776944762,-0.3961405026321928,-0.5999811877451495,-0.20504473373920704,-0.21748858862191447,3.7711129137159305,1.2972268923024826,1.3275408771993824,1.95760339268544,0.5264064674229573,-0.34976669900318985,0.8883004010504278,-1.9693253772292125,-0.7893855424963484,-0.943500652185212,-0.9272532594633244,0.31683412564341046,-1.7173765182063023,-0.9556446260766284,1.3879797679477532,1.388906776125478,-1.420945170989908,-1.2135311911828452,-0.038105740051507325,-0.6840302763696385,-0.21411043178080405,-1.7717125392677908,0.3551843961210306,-0.18233526845925668,0.0018104373033404708,-1.746680394865062,-1.4466500104106845,0.2546409286259897,-0.9201116861442346,0.03541568708138817,0.7880116269458712,0.010526015638076014,-1.2808253690232152,-0.43045698828732787,0.1970487702396815,1.540825646555996,-0.6756201736428282,-0.5194461460437366,-0.9511847167654712,0.9183457485866829,0.647385429594174,0.9178442142583454,0.6336945961461663,-0.3235544554780584,-0.44720725073444695,0.15843502509823545,1.2594456193699413,0.39248124451512556,-0.8898170383869574,-1.1275896315623108,-0.11851924403056344]},{\"line\":{\"color\":\"rgba(50, 171, 96, 1.0)\",\"dash\":\"solid\",\"shape\":\"linear\",\"width\":1.3},\"mode\":\"lines\",\"name\":\"C\",\"text\":\"\",\"type\":\"scatter\",\"x\":[0,1,2,3,4,5,6,7,8,9,10,11,12,13,14,15,16,17,18,19,20,21,22,23,24,25,26,27,28,29,30,31,32,33,34,35,36,37,38,39,40,41,42,43,44,45,46,47,48,49,50,51,52,53,54,55,56,57,58,59,60,61,62,63,64,65,66,67,68,69,70,71,72,73,74,75,76,77,78,79,80,81,82,83,84,85,86,87,88,89,90,91,92,93,94,95,96,97,98,99],\"y\":[-0.07432342968579692,0.8777393170757319,-0.268685472600146,2.2755479995390724,-0.37728094900430725,0.1184472486791024,-0.29017894624360546,1.1158427295735731,-0.7758434989150765,-0.4790779231648547,-2.3250729856442938,-1.5534520814003805,0.07010582217536217,-0.2927700554009269,-0.2811455338833278,-0.8750958025697672,-1.2038965914051378,-0.6434231131292169,-0.6933378384744655,-0.7577773232183364,0.5154751557422648,-0.5641891223990193,-1.2678242521522025,0.7580626055782035,-1.6437958322617576,0.1407262845677634,0.734618915207698,-2.1253459717396757,-0.05320894119059313,0.5020172279450783,-0.6007903967332062,0.4684013807286517,-1.247870978194363,-0.38664553706485005,0.03776818892294396,-1.1267882230181745,0.9733591024478954,0.2930903308635077,-0.9356332519517122,-0.6153650657932038,-2.005219721405772,0.4695288178331009,-1.073751331509847,1.5482237236119312,0.6198457881908529,-0.642975934936527,-0.2386603838651042,0.5457898899845418,0.008883115991847122,0.23611209976553363,-1.0661063877070136,1.1667594602651707,-1.4575667775877763,-0.3847504559382402,0.09733002200553688,0.4310870134831516,-0.4525022409739558,0.37553198768314006,-0.08003213716421696,-1.358415695089806,-0.45033699452019677,-0.3472681257446617,-0.06396174660646238,0.2953685116668367,-0.5716331949998891,0.620180982707281,0.6178404926900865,0.4727830204525924,0.0707867733215683,0.7700111763387979,0.7016979988897313,0.9891376074936984,0.8455810848569197,1.2976137757949149,0.18066361919708504,-0.14591865517098768,-0.38216986888205057,1.4135921837446803,-0.6035065781423513,-0.5376334455997732,0.16614548239085303,-1.3663504605981143,0.8304002429780812,0.012290164098070978,0.07764199785601283,-1.638318478838887,0.44109578829677776,1.441371191636775,0.18436976846990072,1.3310878377634119,-0.151549605806431,0.911745823951154,-0.14309957623134648,-1.4817145138189582,0.4039496314825262,0.3603561154744288,-0.7410868344261943,-0.16394398100005667,0.5859320151542924,0.6849286686588602]},{\"line\":{\"color\":\"rgba(128, 0, 128, 1.0)\",\"dash\":\"solid\",\"shape\":\"linear\",\"width\":1.3},\"mode\":\"lines\",\"name\":\"D\",\"text\":\"\",\"type\":\"scatter\",\"x\":[0,1,2,3,4,5,6,7,8,9,10,11,12,13,14,15,16,17,18,19,20,21,22,23,24,25,26,27,28,29,30,31,32,33,34,35,36,37,38,39,40,41,42,43,44,45,46,47,48,49,50,51,52,53,54,55,56,57,58,59,60,61,62,63,64,65,66,67,68,69,70,71,72,73,74,75,76,77,78,79,80,81,82,83,84,85,86,87,88,89,90,91,92,93,94,95,96,97,98,99],\"y\":[-0.8863454276883004,-0.1645708355236205,-0.7673022871715959,0.5502003178107542,0.5782332646332343,-0.2883640033885405,-2.4590500778578295,0.3814999589068852,-0.7848758141315808,-0.5886942499702799,-1.1801811153934427,3.9370432901687895,1.1957947402804088,0.26039386578231316,-0.3865384592129036,1.1426080070390392,0.15853703541445704,1.9434894736718002,0.5634047708216215,0.4845198129148697,1.4778971369029104,-0.23522299796185353,1.2652058584995227,0.39965351876924093,1.1342011861190648,1.4876317325502424,-0.7315044957257623,1.2721255156223625,-0.5150307609409148,0.9191075654871602,0.3494876538837761,0.7618773037155189,-0.2169210404456462,-0.3721130554270073,-1.0647043052330407,-1.798502529073453,0.3630921321787982,-0.7034208280439024,0.41967401887464095,1.2408493405964054,-0.8649778879766941,0.5370630893827874,-0.0022656007835508037,0.5528593758405621,0.6514452462779097,-0.7193390468692294,0.41363849852505,-1.1550876929393719,-0.3333227893871169,1.1670374072457335,-0.193170443946,0.9858918067424841,0.5352465267173225,-0.4214400221911786,-0.6058297062984426,0.8355805060377944,-0.21831842091956985,-1.2206737775347731,1.0618805543186036,0.8256202093395615,1.0480969337977304,-1.1767596205270556,0.22660341445141913,-0.02043141145474128,-0.3970225663722118,-0.06510176853847016,2.283918922208758,0.36218304941214347,-0.43750547101447995,0.9572622278046339,1.0897298993794287,-1.8881741854698473,0.24837316037209245,0.1576255939153728,0.6985460371861626,0.577325167618128,0.04288007554373437,0.0798381463361213,0.47021391855991557,-1.322498435518512,0.807740653757711,1.044837675048127,0.6683976697470645,1.0806151850609549,-0.8964360100020632,1.4486966483639385,-0.7620826886466616,-1.1840753631011112,0.5826196587773148,1.2446553971162422,-0.2497319817787376,1.000513118384911,0.23676817902069075,1.1611010130583208,0.31636924126830085,-0.8080503861933555,-0.14720794930826459,1.5075623463079884,0.28587340189621624,-0.34528881368554365]}],                        {\"legend\":{\"bgcolor\":\"#F5F6F9\",\"font\":{\"color\":\"#4D5663\"}},\"paper_bgcolor\":\"#F5F6F9\",\"plot_bgcolor\":\"#F5F6F9\",\"template\":{\"data\":{\"bar\":[{\"error_x\":{\"color\":\"#2a3f5f\"},\"error_y\":{\"color\":\"#2a3f5f\"},\"marker\":{\"line\":{\"color\":\"#E5ECF6\",\"width\":0.5},\"pattern\":{\"fillmode\":\"overlay\",\"size\":10,\"solidity\":0.2}},\"type\":\"bar\"}],\"barpolar\":[{\"marker\":{\"line\":{\"color\":\"#E5ECF6\",\"width\":0.5},\"pattern\":{\"fillmode\":\"overlay\",\"size\":10,\"solidity\":0.2}},\"type\":\"barpolar\"}],\"carpet\":[{\"aaxis\":{\"endlinecolor\":\"#2a3f5f\",\"gridcolor\":\"white\",\"linecolor\":\"white\",\"minorgridcolor\":\"white\",\"startlinecolor\":\"#2a3f5f\"},\"baxis\":{\"endlinecolor\":\"#2a3f5f\",\"gridcolor\":\"white\",\"linecolor\":\"white\",\"minorgridcolor\":\"white\",\"startlinecolor\":\"#2a3f5f\"},\"type\":\"carpet\"}],\"choropleth\":[{\"colorbar\":{\"outlinewidth\":0,\"ticks\":\"\"},\"type\":\"choropleth\"}],\"contour\":[{\"colorbar\":{\"outlinewidth\":0,\"ticks\":\"\"},\"colorscale\":[[0.0,\"#0d0887\"],[0.1111111111111111,\"#46039f\"],[0.2222222222222222,\"#7201a8\"],[0.3333333333333333,\"#9c179e\"],[0.4444444444444444,\"#bd3786\"],[0.5555555555555556,\"#d8576b\"],[0.6666666666666666,\"#ed7953\"],[0.7777777777777778,\"#fb9f3a\"],[0.8888888888888888,\"#fdca26\"],[1.0,\"#f0f921\"]],\"type\":\"contour\"}],\"contourcarpet\":[{\"colorbar\":{\"outlinewidth\":0,\"ticks\":\"\"},\"type\":\"contourcarpet\"}],\"heatmap\":[{\"colorbar\":{\"outlinewidth\":0,\"ticks\":\"\"},\"colorscale\":[[0.0,\"#0d0887\"],[0.1111111111111111,\"#46039f\"],[0.2222222222222222,\"#7201a8\"],[0.3333333333333333,\"#9c179e\"],[0.4444444444444444,\"#bd3786\"],[0.5555555555555556,\"#d8576b\"],[0.6666666666666666,\"#ed7953\"],[0.7777777777777778,\"#fb9f3a\"],[0.8888888888888888,\"#fdca26\"],[1.0,\"#f0f921\"]],\"type\":\"heatmap\"}],\"heatmapgl\":[{\"colorbar\":{\"outlinewidth\":0,\"ticks\":\"\"},\"colorscale\":[[0.0,\"#0d0887\"],[0.1111111111111111,\"#46039f\"],[0.2222222222222222,\"#7201a8\"],[0.3333333333333333,\"#9c179e\"],[0.4444444444444444,\"#bd3786\"],[0.5555555555555556,\"#d8576b\"],[0.6666666666666666,\"#ed7953\"],[0.7777777777777778,\"#fb9f3a\"],[0.8888888888888888,\"#fdca26\"],[1.0,\"#f0f921\"]],\"type\":\"heatmapgl\"}],\"histogram\":[{\"marker\":{\"pattern\":{\"fillmode\":\"overlay\",\"size\":10,\"solidity\":0.2}},\"type\":\"histogram\"}],\"histogram2d\":[{\"colorbar\":{\"outlinewidth\":0,\"ticks\":\"\"},\"colorscale\":[[0.0,\"#0d0887\"],[0.1111111111111111,\"#46039f\"],[0.2222222222222222,\"#7201a8\"],[0.3333333333333333,\"#9c179e\"],[0.4444444444444444,\"#bd3786\"],[0.5555555555555556,\"#d8576b\"],[0.6666666666666666,\"#ed7953\"],[0.7777777777777778,\"#fb9f3a\"],[0.8888888888888888,\"#fdca26\"],[1.0,\"#f0f921\"]],\"type\":\"histogram2d\"}],\"histogram2dcontour\":[{\"colorbar\":{\"outlinewidth\":0,\"ticks\":\"\"},\"colorscale\":[[0.0,\"#0d0887\"],[0.1111111111111111,\"#46039f\"],[0.2222222222222222,\"#7201a8\"],[0.3333333333333333,\"#9c179e\"],[0.4444444444444444,\"#bd3786\"],[0.5555555555555556,\"#d8576b\"],[0.6666666666666666,\"#ed7953\"],[0.7777777777777778,\"#fb9f3a\"],[0.8888888888888888,\"#fdca26\"],[1.0,\"#f0f921\"]],\"type\":\"histogram2dcontour\"}],\"mesh3d\":[{\"colorbar\":{\"outlinewidth\":0,\"ticks\":\"\"},\"type\":\"mesh3d\"}],\"parcoords\":[{\"line\":{\"colorbar\":{\"outlinewidth\":0,\"ticks\":\"\"}},\"type\":\"parcoords\"}],\"pie\":[{\"automargin\":true,\"type\":\"pie\"}],\"scatter\":[{\"marker\":{\"colorbar\":{\"outlinewidth\":0,\"ticks\":\"\"}},\"type\":\"scatter\"}],\"scatter3d\":[{\"line\":{\"colorbar\":{\"outlinewidth\":0,\"ticks\":\"\"}},\"marker\":{\"colorbar\":{\"outlinewidth\":0,\"ticks\":\"\"}},\"type\":\"scatter3d\"}],\"scattercarpet\":[{\"marker\":{\"colorbar\":{\"outlinewidth\":0,\"ticks\":\"\"}},\"type\":\"scattercarpet\"}],\"scattergeo\":[{\"marker\":{\"colorbar\":{\"outlinewidth\":0,\"ticks\":\"\"}},\"type\":\"scattergeo\"}],\"scattergl\":[{\"marker\":{\"colorbar\":{\"outlinewidth\":0,\"ticks\":\"\"}},\"type\":\"scattergl\"}],\"scattermapbox\":[{\"marker\":{\"colorbar\":{\"outlinewidth\":0,\"ticks\":\"\"}},\"type\":\"scattermapbox\"}],\"scatterpolar\":[{\"marker\":{\"colorbar\":{\"outlinewidth\":0,\"ticks\":\"\"}},\"type\":\"scatterpolar\"}],\"scatterpolargl\":[{\"marker\":{\"colorbar\":{\"outlinewidth\":0,\"ticks\":\"\"}},\"type\":\"scatterpolargl\"}],\"scatterternary\":[{\"marker\":{\"colorbar\":{\"outlinewidth\":0,\"ticks\":\"\"}},\"type\":\"scatterternary\"}],\"surface\":[{\"colorbar\":{\"outlinewidth\":0,\"ticks\":\"\"},\"colorscale\":[[0.0,\"#0d0887\"],[0.1111111111111111,\"#46039f\"],[0.2222222222222222,\"#7201a8\"],[0.3333333333333333,\"#9c179e\"],[0.4444444444444444,\"#bd3786\"],[0.5555555555555556,\"#d8576b\"],[0.6666666666666666,\"#ed7953\"],[0.7777777777777778,\"#fb9f3a\"],[0.8888888888888888,\"#fdca26\"],[1.0,\"#f0f921\"]],\"type\":\"surface\"}],\"table\":[{\"cells\":{\"fill\":{\"color\":\"#EBF0F8\"},\"line\":{\"color\":\"white\"}},\"header\":{\"fill\":{\"color\":\"#C8D4E3\"},\"line\":{\"color\":\"white\"}},\"type\":\"table\"}]},\"layout\":{\"annotationdefaults\":{\"arrowcolor\":\"#2a3f5f\",\"arrowhead\":0,\"arrowwidth\":1},\"autotypenumbers\":\"strict\",\"coloraxis\":{\"colorbar\":{\"outlinewidth\":0,\"ticks\":\"\"}},\"colorscale\":{\"diverging\":[[0,\"#8e0152\"],[0.1,\"#c51b7d\"],[0.2,\"#de77ae\"],[0.3,\"#f1b6da\"],[0.4,\"#fde0ef\"],[0.5,\"#f7f7f7\"],[0.6,\"#e6f5d0\"],[0.7,\"#b8e186\"],[0.8,\"#7fbc41\"],[0.9,\"#4d9221\"],[1,\"#276419\"]],\"sequential\":[[0.0,\"#0d0887\"],[0.1111111111111111,\"#46039f\"],[0.2222222222222222,\"#7201a8\"],[0.3333333333333333,\"#9c179e\"],[0.4444444444444444,\"#bd3786\"],[0.5555555555555556,\"#d8576b\"],[0.6666666666666666,\"#ed7953\"],[0.7777777777777778,\"#fb9f3a\"],[0.8888888888888888,\"#fdca26\"],[1.0,\"#f0f921\"]],\"sequentialminus\":[[0.0,\"#0d0887\"],[0.1111111111111111,\"#46039f\"],[0.2222222222222222,\"#7201a8\"],[0.3333333333333333,\"#9c179e\"],[0.4444444444444444,\"#bd3786\"],[0.5555555555555556,\"#d8576b\"],[0.6666666666666666,\"#ed7953\"],[0.7777777777777778,\"#fb9f3a\"],[0.8888888888888888,\"#fdca26\"],[1.0,\"#f0f921\"]]},\"colorway\":[\"#636efa\",\"#EF553B\",\"#00cc96\",\"#ab63fa\",\"#FFA15A\",\"#19d3f3\",\"#FF6692\",\"#B6E880\",\"#FF97FF\",\"#FECB52\"],\"font\":{\"color\":\"#2a3f5f\"},\"geo\":{\"bgcolor\":\"white\",\"lakecolor\":\"white\",\"landcolor\":\"#E5ECF6\",\"showlakes\":true,\"showland\":true,\"subunitcolor\":\"white\"},\"hoverlabel\":{\"align\":\"left\"},\"hovermode\":\"closest\",\"mapbox\":{\"style\":\"light\"},\"paper_bgcolor\":\"white\",\"plot_bgcolor\":\"#E5ECF6\",\"polar\":{\"angularaxis\":{\"gridcolor\":\"white\",\"linecolor\":\"white\",\"ticks\":\"\"},\"bgcolor\":\"#E5ECF6\",\"radialaxis\":{\"gridcolor\":\"white\",\"linecolor\":\"white\",\"ticks\":\"\"}},\"scene\":{\"xaxis\":{\"backgroundcolor\":\"#E5ECF6\",\"gridcolor\":\"white\",\"gridwidth\":2,\"linecolor\":\"white\",\"showbackground\":true,\"ticks\":\"\",\"zerolinecolor\":\"white\"},\"yaxis\":{\"backgroundcolor\":\"#E5ECF6\",\"gridcolor\":\"white\",\"gridwidth\":2,\"linecolor\":\"white\",\"showbackground\":true,\"ticks\":\"\",\"zerolinecolor\":\"white\"},\"zaxis\":{\"backgroundcolor\":\"#E5ECF6\",\"gridcolor\":\"white\",\"gridwidth\":2,\"linecolor\":\"white\",\"showbackground\":true,\"ticks\":\"\",\"zerolinecolor\":\"white\"}},\"shapedefaults\":{\"line\":{\"color\":\"#2a3f5f\"}},\"ternary\":{\"aaxis\":{\"gridcolor\":\"white\",\"linecolor\":\"white\",\"ticks\":\"\"},\"baxis\":{\"gridcolor\":\"white\",\"linecolor\":\"white\",\"ticks\":\"\"},\"bgcolor\":\"#E5ECF6\",\"caxis\":{\"gridcolor\":\"white\",\"linecolor\":\"white\",\"ticks\":\"\"}},\"title\":{\"x\":0.05},\"xaxis\":{\"automargin\":true,\"gridcolor\":\"white\",\"linecolor\":\"white\",\"ticks\":\"\",\"title\":{\"standoff\":15},\"zerolinecolor\":\"white\",\"zerolinewidth\":2},\"yaxis\":{\"automargin\":true,\"gridcolor\":\"white\",\"linecolor\":\"white\",\"ticks\":\"\",\"title\":{\"standoff\":15},\"zerolinecolor\":\"white\",\"zerolinewidth\":2}}},\"title\":{\"font\":{\"color\":\"#4D5663\"}},\"xaxis\":{\"gridcolor\":\"#E1E5ED\",\"showgrid\":true,\"tickfont\":{\"color\":\"#4D5663\"},\"title\":{\"font\":{\"color\":\"#4D5663\"},\"text\":\"\"},\"zerolinecolor\":\"#E1E5ED\"},\"yaxis\":{\"gridcolor\":\"#E1E5ED\",\"showgrid\":true,\"tickfont\":{\"color\":\"#4D5663\"},\"title\":{\"font\":{\"color\":\"#4D5663\"},\"text\":\"\"},\"zerolinecolor\":\"#E1E5ED\"}},                        {\"showLink\": true, \"linkText\": \"Export to plot.ly\", \"plotlyServerURL\": \"https://plot.ly\", \"responsive\": true}                    ).then(function(){\n",
       "                            \n",
       "var gd = document.getElementById('232cd300-2ab0-41bb-941a-49064e738f9b');\n",
       "var x = new MutationObserver(function (mutations, observer) {{\n",
       "        var display = window.getComputedStyle(gd).display;\n",
       "        if (!display || display === 'none') {{\n",
       "            console.log([gd, 'removed!']);\n",
       "            Plotly.purge(gd);\n",
       "            observer.disconnect();\n",
       "        }}\n",
       "}});\n",
       "\n",
       "// Listen for the removal of the full notebook cells\n",
       "var notebookContainer = gd.closest('#notebook-container');\n",
       "if (notebookContainer) {{\n",
       "    x.observe(notebookContainer, {childList: true});\n",
       "}}\n",
       "\n",
       "// Listen for the clearing of the current output cell\n",
       "var outputEl = gd.closest('.output');\n",
       "if (outputEl) {{\n",
       "    x.observe(outputEl, {childList: true});\n",
       "}}\n",
       "\n",
       "                        })                };                });            </script>        </div>"
      ]
     },
     "metadata": {},
     "output_type": "display_data"
    }
   ],
   "source": [
    "df.iplot()"
   ]
  },
  {
   "cell_type": "code",
   "execution_count": 29,
   "metadata": {},
   "outputs": [
    {
     "data": {
      "application/vnd.plotly.v1+json": {
       "config": {
        "linkText": "Export to plot.ly",
        "plotlyServerURL": "https://plot.ly",
        "showLink": true
       },
       "data": [
        {
         "line": {
          "color": "rgba(255, 153, 51, 1.0)",
          "dash": "solid",
          "shape": "linear",
          "width": 1.3
         },
         "marker": {
          "size": 20,
          "symbol": "circle"
         },
         "mode": "markers",
         "name": "B",
         "text": "",
         "type": "scatter",
         "x": [
          -1.2647427478653352,
          1.1438411630417042,
          -1.05938509827262,
          1.8504871379847871,
          1.546377535727985,
          0.33451611794517383,
          -0.20870116298576785,
          -1.085679823482335,
          -1.8827930712316268,
          0.22569589428736125,
          -0.14870073272283485,
          1.8097238490035186,
          1.0846129586722046,
          -0.4585050680912217,
          0.6124031613321901,
          0.37538238094067367,
          0.913002050425729,
          1.447532474939569,
          0.37930096970612054,
          0.025491861586942416,
          -0.15303803382175143,
          2.243550303352481,
          -0.9229629605917236,
          0.49440602178430515,
          0.32626850787772976,
          0.43958972584123573,
          0.6294553731378257,
          -0.7267701219717834,
          -2.138340463946718,
          -1.079017623382896,
          1.4986614544652554,
          -0.27121288174569463,
          0.10138278146479278,
          -1.7605830124243214,
          1.4615654271971597,
          1.3732321332042572,
          -0.28009958692970527,
          0.27184356721053654,
          0.014974755371081123,
          -0.044085016801009055,
          -0.46899889415285745,
          1.1953347937424306,
          -1.2073043812004678,
          1.6594422835590357,
          0.2848202010542789,
          -2.0911424322013095,
          1.6745282025401613,
          0.4378371851153993,
          -1.5566653128924857,
          0.21922867812626284,
          -0.9895599822871955,
          0.4074603834542788,
          -0.11399811827797118,
          -0.4189233977822209,
          0.02238550870270797,
          -0.19216353794605404,
          -0.9170130286940688,
          -0.046978406156488545,
          -0.6700104088456724,
          -0.6660851578679424,
          -0.7556852339933507,
          1.2649343600796048,
          1.2777903189647906,
          -0.9126194253381009,
          -0.2632680461538293,
          -1.8546321915498691,
          -0.7390643109977857,
          -0.38372051200700763,
          2.373219972374884,
          0.15575329596422724,
          0.27443916807887914,
          1.5379394148316894,
          1.0156948488155468,
          2.166093192750811,
          -1.0885500209397434,
          0.23426839259810678,
          1.0855996519748596,
          -0.11987274678594355,
          0.44089320789934516,
          -0.4109301897292856,
          0.2707175129727391,
          0.9588832487102428,
          1.0789411110517297,
          0.567636859797784,
          0.27125757376181386,
          2.3036423634178256,
          -1.6393208075066952,
          -1.0635721442192485,
          -1.11636408945502,
          -0.6034849340046708,
          -0.38968839640407177,
          -0.6161479359295967,
          -1.2335152643562908,
          -0.31229004474165456,
          0.7538272605696364,
          -0.004508090178002124,
          -0.819361298514153,
          0.8156450489617879,
          -2.5000383877630896,
          -0.6474385769236347
         ],
         "y": [
          -0.1301153686144075,
          -1.6689431191330846,
          -0.20285842315621072,
          0.6785541362910886,
          1.0673918447214745,
          -0.7802583792353444,
          0.30655867142304316,
          -1.2224647788795076,
          1.1866673649667518,
          0.46219911312653267,
          1.4359201163455364,
          -0.7620857646479738,
          0.14999770489209946,
          1.3510418038024503,
          -0.3476238768658763,
          0.3770700580304464,
          -0.08724172549181444,
          0.2895924442947607,
          0.9263808590552806,
          0.6797844247887547,
          -1.4012028849109173,
          0.4826166320718709,
          -0.3922986215993963,
          0.1959231778807618,
          -1.535535001735862,
          -1.81030871675917,
          0.3202113451900208,
          -1.0894993574122724,
          1.2611748564873886,
          0.22952844301244146,
          0.20716481394625794,
          -0.5318471990187423,
          0.1905060425236613,
          0.33116265806516637,
          -0.20501117215077244,
          -0.13440599237475553,
          1.3694492195462487,
          0.12091625643835999,
          0.25879190464332064,
          2.1810934957315435,
          -0.8879443807209912,
          -0.10370330117363438,
          1.172528207746524,
          -0.7504584806919168,
          -1.3481550776944762,
          -0.3961405026321928,
          -0.5999811877451495,
          -0.20504473373920704,
          -0.21748858862191447,
          3.7711129137159305,
          1.2972268923024826,
          1.3275408771993824,
          1.95760339268544,
          0.5264064674229573,
          -0.34976669900318985,
          0.8883004010504278,
          -1.9693253772292125,
          -0.7893855424963484,
          -0.943500652185212,
          -0.9272532594633244,
          0.31683412564341046,
          -1.7173765182063023,
          -0.9556446260766284,
          1.3879797679477532,
          1.388906776125478,
          -1.420945170989908,
          -1.2135311911828452,
          -0.038105740051507325,
          -0.6840302763696385,
          -0.21411043178080405,
          -1.7717125392677908,
          0.3551843961210306,
          -0.18233526845925668,
          0.0018104373033404708,
          -1.746680394865062,
          -1.4466500104106845,
          0.2546409286259897,
          -0.9201116861442346,
          0.03541568708138817,
          0.7880116269458712,
          0.010526015638076014,
          -1.2808253690232152,
          -0.43045698828732787,
          0.1970487702396815,
          1.540825646555996,
          -0.6756201736428282,
          -0.5194461460437366,
          -0.9511847167654712,
          0.9183457485866829,
          0.647385429594174,
          0.9178442142583454,
          0.6336945961461663,
          -0.3235544554780584,
          -0.44720725073444695,
          0.15843502509823545,
          1.2594456193699413,
          0.39248124451512556,
          -0.8898170383869574,
          -1.1275896315623108,
          -0.11851924403056344
         ]
        }
       ],
       "layout": {
        "legend": {
         "bgcolor": "#F5F6F9",
         "font": {
          "color": "#4D5663"
         }
        },
        "paper_bgcolor": "#F5F6F9",
        "plot_bgcolor": "#F5F6F9",
        "template": {
         "data": {
          "bar": [
           {
            "error_x": {
             "color": "#2a3f5f"
            },
            "error_y": {
             "color": "#2a3f5f"
            },
            "marker": {
             "line": {
              "color": "#E5ECF6",
              "width": 0.5
             },
             "pattern": {
              "fillmode": "overlay",
              "size": 10,
              "solidity": 0.2
             }
            },
            "type": "bar"
           }
          ],
          "barpolar": [
           {
            "marker": {
             "line": {
              "color": "#E5ECF6",
              "width": 0.5
             },
             "pattern": {
              "fillmode": "overlay",
              "size": 10,
              "solidity": 0.2
             }
            },
            "type": "barpolar"
           }
          ],
          "carpet": [
           {
            "aaxis": {
             "endlinecolor": "#2a3f5f",
             "gridcolor": "white",
             "linecolor": "white",
             "minorgridcolor": "white",
             "startlinecolor": "#2a3f5f"
            },
            "baxis": {
             "endlinecolor": "#2a3f5f",
             "gridcolor": "white",
             "linecolor": "white",
             "minorgridcolor": "white",
             "startlinecolor": "#2a3f5f"
            },
            "type": "carpet"
           }
          ],
          "choropleth": [
           {
            "colorbar": {
             "outlinewidth": 0,
             "ticks": ""
            },
            "type": "choropleth"
           }
          ],
          "contour": [
           {
            "colorbar": {
             "outlinewidth": 0,
             "ticks": ""
            },
            "colorscale": [
             [
              0,
              "#0d0887"
             ],
             [
              0.1111111111111111,
              "#46039f"
             ],
             [
              0.2222222222222222,
              "#7201a8"
             ],
             [
              0.3333333333333333,
              "#9c179e"
             ],
             [
              0.4444444444444444,
              "#bd3786"
             ],
             [
              0.5555555555555556,
              "#d8576b"
             ],
             [
              0.6666666666666666,
              "#ed7953"
             ],
             [
              0.7777777777777778,
              "#fb9f3a"
             ],
             [
              0.8888888888888888,
              "#fdca26"
             ],
             [
              1,
              "#f0f921"
             ]
            ],
            "type": "contour"
           }
          ],
          "contourcarpet": [
           {
            "colorbar": {
             "outlinewidth": 0,
             "ticks": ""
            },
            "type": "contourcarpet"
           }
          ],
          "heatmap": [
           {
            "colorbar": {
             "outlinewidth": 0,
             "ticks": ""
            },
            "colorscale": [
             [
              0,
              "#0d0887"
             ],
             [
              0.1111111111111111,
              "#46039f"
             ],
             [
              0.2222222222222222,
              "#7201a8"
             ],
             [
              0.3333333333333333,
              "#9c179e"
             ],
             [
              0.4444444444444444,
              "#bd3786"
             ],
             [
              0.5555555555555556,
              "#d8576b"
             ],
             [
              0.6666666666666666,
              "#ed7953"
             ],
             [
              0.7777777777777778,
              "#fb9f3a"
             ],
             [
              0.8888888888888888,
              "#fdca26"
             ],
             [
              1,
              "#f0f921"
             ]
            ],
            "type": "heatmap"
           }
          ],
          "heatmapgl": [
           {
            "colorbar": {
             "outlinewidth": 0,
             "ticks": ""
            },
            "colorscale": [
             [
              0,
              "#0d0887"
             ],
             [
              0.1111111111111111,
              "#46039f"
             ],
             [
              0.2222222222222222,
              "#7201a8"
             ],
             [
              0.3333333333333333,
              "#9c179e"
             ],
             [
              0.4444444444444444,
              "#bd3786"
             ],
             [
              0.5555555555555556,
              "#d8576b"
             ],
             [
              0.6666666666666666,
              "#ed7953"
             ],
             [
              0.7777777777777778,
              "#fb9f3a"
             ],
             [
              0.8888888888888888,
              "#fdca26"
             ],
             [
              1,
              "#f0f921"
             ]
            ],
            "type": "heatmapgl"
           }
          ],
          "histogram": [
           {
            "marker": {
             "pattern": {
              "fillmode": "overlay",
              "size": 10,
              "solidity": 0.2
             }
            },
            "type": "histogram"
           }
          ],
          "histogram2d": [
           {
            "colorbar": {
             "outlinewidth": 0,
             "ticks": ""
            },
            "colorscale": [
             [
              0,
              "#0d0887"
             ],
             [
              0.1111111111111111,
              "#46039f"
             ],
             [
              0.2222222222222222,
              "#7201a8"
             ],
             [
              0.3333333333333333,
              "#9c179e"
             ],
             [
              0.4444444444444444,
              "#bd3786"
             ],
             [
              0.5555555555555556,
              "#d8576b"
             ],
             [
              0.6666666666666666,
              "#ed7953"
             ],
             [
              0.7777777777777778,
              "#fb9f3a"
             ],
             [
              0.8888888888888888,
              "#fdca26"
             ],
             [
              1,
              "#f0f921"
             ]
            ],
            "type": "histogram2d"
           }
          ],
          "histogram2dcontour": [
           {
            "colorbar": {
             "outlinewidth": 0,
             "ticks": ""
            },
            "colorscale": [
             [
              0,
              "#0d0887"
             ],
             [
              0.1111111111111111,
              "#46039f"
             ],
             [
              0.2222222222222222,
              "#7201a8"
             ],
             [
              0.3333333333333333,
              "#9c179e"
             ],
             [
              0.4444444444444444,
              "#bd3786"
             ],
             [
              0.5555555555555556,
              "#d8576b"
             ],
             [
              0.6666666666666666,
              "#ed7953"
             ],
             [
              0.7777777777777778,
              "#fb9f3a"
             ],
             [
              0.8888888888888888,
              "#fdca26"
             ],
             [
              1,
              "#f0f921"
             ]
            ],
            "type": "histogram2dcontour"
           }
          ],
          "mesh3d": [
           {
            "colorbar": {
             "outlinewidth": 0,
             "ticks": ""
            },
            "type": "mesh3d"
           }
          ],
          "parcoords": [
           {
            "line": {
             "colorbar": {
              "outlinewidth": 0,
              "ticks": ""
             }
            },
            "type": "parcoords"
           }
          ],
          "pie": [
           {
            "automargin": true,
            "type": "pie"
           }
          ],
          "scatter": [
           {
            "marker": {
             "colorbar": {
              "outlinewidth": 0,
              "ticks": ""
             }
            },
            "type": "scatter"
           }
          ],
          "scatter3d": [
           {
            "line": {
             "colorbar": {
              "outlinewidth": 0,
              "ticks": ""
             }
            },
            "marker": {
             "colorbar": {
              "outlinewidth": 0,
              "ticks": ""
             }
            },
            "type": "scatter3d"
           }
          ],
          "scattercarpet": [
           {
            "marker": {
             "colorbar": {
              "outlinewidth": 0,
              "ticks": ""
             }
            },
            "type": "scattercarpet"
           }
          ],
          "scattergeo": [
           {
            "marker": {
             "colorbar": {
              "outlinewidth": 0,
              "ticks": ""
             }
            },
            "type": "scattergeo"
           }
          ],
          "scattergl": [
           {
            "marker": {
             "colorbar": {
              "outlinewidth": 0,
              "ticks": ""
             }
            },
            "type": "scattergl"
           }
          ],
          "scattermapbox": [
           {
            "marker": {
             "colorbar": {
              "outlinewidth": 0,
              "ticks": ""
             }
            },
            "type": "scattermapbox"
           }
          ],
          "scatterpolar": [
           {
            "marker": {
             "colorbar": {
              "outlinewidth": 0,
              "ticks": ""
             }
            },
            "type": "scatterpolar"
           }
          ],
          "scatterpolargl": [
           {
            "marker": {
             "colorbar": {
              "outlinewidth": 0,
              "ticks": ""
             }
            },
            "type": "scatterpolargl"
           }
          ],
          "scatterternary": [
           {
            "marker": {
             "colorbar": {
              "outlinewidth": 0,
              "ticks": ""
             }
            },
            "type": "scatterternary"
           }
          ],
          "surface": [
           {
            "colorbar": {
             "outlinewidth": 0,
             "ticks": ""
            },
            "colorscale": [
             [
              0,
              "#0d0887"
             ],
             [
              0.1111111111111111,
              "#46039f"
             ],
             [
              0.2222222222222222,
              "#7201a8"
             ],
             [
              0.3333333333333333,
              "#9c179e"
             ],
             [
              0.4444444444444444,
              "#bd3786"
             ],
             [
              0.5555555555555556,
              "#d8576b"
             ],
             [
              0.6666666666666666,
              "#ed7953"
             ],
             [
              0.7777777777777778,
              "#fb9f3a"
             ],
             [
              0.8888888888888888,
              "#fdca26"
             ],
             [
              1,
              "#f0f921"
             ]
            ],
            "type": "surface"
           }
          ],
          "table": [
           {
            "cells": {
             "fill": {
              "color": "#EBF0F8"
             },
             "line": {
              "color": "white"
             }
            },
            "header": {
             "fill": {
              "color": "#C8D4E3"
             },
             "line": {
              "color": "white"
             }
            },
            "type": "table"
           }
          ]
         },
         "layout": {
          "annotationdefaults": {
           "arrowcolor": "#2a3f5f",
           "arrowhead": 0,
           "arrowwidth": 1
          },
          "autotypenumbers": "strict",
          "coloraxis": {
           "colorbar": {
            "outlinewidth": 0,
            "ticks": ""
           }
          },
          "colorscale": {
           "diverging": [
            [
             0,
             "#8e0152"
            ],
            [
             0.1,
             "#c51b7d"
            ],
            [
             0.2,
             "#de77ae"
            ],
            [
             0.3,
             "#f1b6da"
            ],
            [
             0.4,
             "#fde0ef"
            ],
            [
             0.5,
             "#f7f7f7"
            ],
            [
             0.6,
             "#e6f5d0"
            ],
            [
             0.7,
             "#b8e186"
            ],
            [
             0.8,
             "#7fbc41"
            ],
            [
             0.9,
             "#4d9221"
            ],
            [
             1,
             "#276419"
            ]
           ],
           "sequential": [
            [
             0,
             "#0d0887"
            ],
            [
             0.1111111111111111,
             "#46039f"
            ],
            [
             0.2222222222222222,
             "#7201a8"
            ],
            [
             0.3333333333333333,
             "#9c179e"
            ],
            [
             0.4444444444444444,
             "#bd3786"
            ],
            [
             0.5555555555555556,
             "#d8576b"
            ],
            [
             0.6666666666666666,
             "#ed7953"
            ],
            [
             0.7777777777777778,
             "#fb9f3a"
            ],
            [
             0.8888888888888888,
             "#fdca26"
            ],
            [
             1,
             "#f0f921"
            ]
           ],
           "sequentialminus": [
            [
             0,
             "#0d0887"
            ],
            [
             0.1111111111111111,
             "#46039f"
            ],
            [
             0.2222222222222222,
             "#7201a8"
            ],
            [
             0.3333333333333333,
             "#9c179e"
            ],
            [
             0.4444444444444444,
             "#bd3786"
            ],
            [
             0.5555555555555556,
             "#d8576b"
            ],
            [
             0.6666666666666666,
             "#ed7953"
            ],
            [
             0.7777777777777778,
             "#fb9f3a"
            ],
            [
             0.8888888888888888,
             "#fdca26"
            ],
            [
             1,
             "#f0f921"
            ]
           ]
          },
          "colorway": [
           "#636efa",
           "#EF553B",
           "#00cc96",
           "#ab63fa",
           "#FFA15A",
           "#19d3f3",
           "#FF6692",
           "#B6E880",
           "#FF97FF",
           "#FECB52"
          ],
          "font": {
           "color": "#2a3f5f"
          },
          "geo": {
           "bgcolor": "white",
           "lakecolor": "white",
           "landcolor": "#E5ECF6",
           "showlakes": true,
           "showland": true,
           "subunitcolor": "white"
          },
          "hoverlabel": {
           "align": "left"
          },
          "hovermode": "closest",
          "mapbox": {
           "style": "light"
          },
          "paper_bgcolor": "white",
          "plot_bgcolor": "#E5ECF6",
          "polar": {
           "angularaxis": {
            "gridcolor": "white",
            "linecolor": "white",
            "ticks": ""
           },
           "bgcolor": "#E5ECF6",
           "radialaxis": {
            "gridcolor": "white",
            "linecolor": "white",
            "ticks": ""
           }
          },
          "scene": {
           "xaxis": {
            "backgroundcolor": "#E5ECF6",
            "gridcolor": "white",
            "gridwidth": 2,
            "linecolor": "white",
            "showbackground": true,
            "ticks": "",
            "zerolinecolor": "white"
           },
           "yaxis": {
            "backgroundcolor": "#E5ECF6",
            "gridcolor": "white",
            "gridwidth": 2,
            "linecolor": "white",
            "showbackground": true,
            "ticks": "",
            "zerolinecolor": "white"
           },
           "zaxis": {
            "backgroundcolor": "#E5ECF6",
            "gridcolor": "white",
            "gridwidth": 2,
            "linecolor": "white",
            "showbackground": true,
            "ticks": "",
            "zerolinecolor": "white"
           }
          },
          "shapedefaults": {
           "line": {
            "color": "#2a3f5f"
           }
          },
          "ternary": {
           "aaxis": {
            "gridcolor": "white",
            "linecolor": "white",
            "ticks": ""
           },
           "baxis": {
            "gridcolor": "white",
            "linecolor": "white",
            "ticks": ""
           },
           "bgcolor": "#E5ECF6",
           "caxis": {
            "gridcolor": "white",
            "linecolor": "white",
            "ticks": ""
           }
          },
          "title": {
           "x": 0.05
          },
          "xaxis": {
           "automargin": true,
           "gridcolor": "white",
           "linecolor": "white",
           "ticks": "",
           "title": {
            "standoff": 15
           },
           "zerolinecolor": "white",
           "zerolinewidth": 2
          },
          "yaxis": {
           "automargin": true,
           "gridcolor": "white",
           "linecolor": "white",
           "ticks": "",
           "title": {
            "standoff": 15
           },
           "zerolinecolor": "white",
           "zerolinewidth": 2
          }
         }
        },
        "title": {
         "font": {
          "color": "#4D5663"
         }
        },
        "xaxis": {
         "gridcolor": "#E1E5ED",
         "showgrid": true,
         "tickfont": {
          "color": "#4D5663"
         },
         "title": {
          "font": {
           "color": "#4D5663"
          },
          "text": ""
         },
         "zerolinecolor": "#E1E5ED"
        },
        "yaxis": {
         "gridcolor": "#E1E5ED",
         "showgrid": true,
         "tickfont": {
          "color": "#4D5663"
         },
         "title": {
          "font": {
           "color": "#4D5663"
          },
          "text": ""
         },
         "zerolinecolor": "#E1E5ED"
        }
       }
      },
      "text/html": [
       "<div>                            <div id=\"802b2396-57f6-4ae1-9587-a8a070087447\" class=\"plotly-graph-div\" style=\"height:525px; width:100%;\"></div>            <script type=\"text/javascript\">                require([\"plotly\"], function(Plotly) {                    window.PLOTLYENV=window.PLOTLYENV || {};\n",
       "                    window.PLOTLYENV.BASE_URL='https://plot.ly';                                    if (document.getElementById(\"802b2396-57f6-4ae1-9587-a8a070087447\")) {                    Plotly.newPlot(                        \"802b2396-57f6-4ae1-9587-a8a070087447\",                        [{\"line\":{\"color\":\"rgba(255, 153, 51, 1.0)\",\"dash\":\"solid\",\"shape\":\"linear\",\"width\":1.3},\"marker\":{\"size\":20,\"symbol\":\"circle\"},\"mode\":\"markers\",\"name\":\"B\",\"text\":\"\",\"type\":\"scatter\",\"x\":[-1.2647427478653352,1.1438411630417042,-1.05938509827262,1.8504871379847871,1.546377535727985,0.33451611794517383,-0.20870116298576785,-1.085679823482335,-1.8827930712316268,0.22569589428736125,-0.14870073272283485,1.8097238490035186,1.0846129586722046,-0.4585050680912217,0.6124031613321901,0.37538238094067367,0.913002050425729,1.447532474939569,0.37930096970612054,0.025491861586942416,-0.15303803382175143,2.243550303352481,-0.9229629605917236,0.49440602178430515,0.32626850787772976,0.43958972584123573,0.6294553731378257,-0.7267701219717834,-2.138340463946718,-1.079017623382896,1.4986614544652554,-0.27121288174569463,0.10138278146479278,-1.7605830124243214,1.4615654271971597,1.3732321332042572,-0.28009958692970527,0.27184356721053654,0.014974755371081123,-0.044085016801009055,-0.46899889415285745,1.1953347937424306,-1.2073043812004678,1.6594422835590357,0.2848202010542789,-2.0911424322013095,1.6745282025401613,0.4378371851153993,-1.5566653128924857,0.21922867812626284,-0.9895599822871955,0.4074603834542788,-0.11399811827797118,-0.4189233977822209,0.02238550870270797,-0.19216353794605404,-0.9170130286940688,-0.046978406156488545,-0.6700104088456724,-0.6660851578679424,-0.7556852339933507,1.2649343600796048,1.2777903189647906,-0.9126194253381009,-0.2632680461538293,-1.8546321915498691,-0.7390643109977857,-0.38372051200700763,2.373219972374884,0.15575329596422724,0.27443916807887914,1.5379394148316894,1.0156948488155468,2.166093192750811,-1.0885500209397434,0.23426839259810678,1.0855996519748596,-0.11987274678594355,0.44089320789934516,-0.4109301897292856,0.2707175129727391,0.9588832487102428,1.0789411110517297,0.567636859797784,0.27125757376181386,2.3036423634178256,-1.6393208075066952,-1.0635721442192485,-1.11636408945502,-0.6034849340046708,-0.38968839640407177,-0.6161479359295967,-1.2335152643562908,-0.31229004474165456,0.7538272605696364,-0.004508090178002124,-0.819361298514153,0.8156450489617879,-2.5000383877630896,-0.6474385769236347],\"y\":[-0.1301153686144075,-1.6689431191330846,-0.20285842315621072,0.6785541362910886,1.0673918447214745,-0.7802583792353444,0.30655867142304316,-1.2224647788795076,1.1866673649667518,0.46219911312653267,1.4359201163455364,-0.7620857646479738,0.14999770489209946,1.3510418038024503,-0.3476238768658763,0.3770700580304464,-0.08724172549181444,0.2895924442947607,0.9263808590552806,0.6797844247887547,-1.4012028849109173,0.4826166320718709,-0.3922986215993963,0.1959231778807618,-1.535535001735862,-1.81030871675917,0.3202113451900208,-1.0894993574122724,1.2611748564873886,0.22952844301244146,0.20716481394625794,-0.5318471990187423,0.1905060425236613,0.33116265806516637,-0.20501117215077244,-0.13440599237475553,1.3694492195462487,0.12091625643835999,0.25879190464332064,2.1810934957315435,-0.8879443807209912,-0.10370330117363438,1.172528207746524,-0.7504584806919168,-1.3481550776944762,-0.3961405026321928,-0.5999811877451495,-0.20504473373920704,-0.21748858862191447,3.7711129137159305,1.2972268923024826,1.3275408771993824,1.95760339268544,0.5264064674229573,-0.34976669900318985,0.8883004010504278,-1.9693253772292125,-0.7893855424963484,-0.943500652185212,-0.9272532594633244,0.31683412564341046,-1.7173765182063023,-0.9556446260766284,1.3879797679477532,1.388906776125478,-1.420945170989908,-1.2135311911828452,-0.038105740051507325,-0.6840302763696385,-0.21411043178080405,-1.7717125392677908,0.3551843961210306,-0.18233526845925668,0.0018104373033404708,-1.746680394865062,-1.4466500104106845,0.2546409286259897,-0.9201116861442346,0.03541568708138817,0.7880116269458712,0.010526015638076014,-1.2808253690232152,-0.43045698828732787,0.1970487702396815,1.540825646555996,-0.6756201736428282,-0.5194461460437366,-0.9511847167654712,0.9183457485866829,0.647385429594174,0.9178442142583454,0.6336945961461663,-0.3235544554780584,-0.44720725073444695,0.15843502509823545,1.2594456193699413,0.39248124451512556,-0.8898170383869574,-1.1275896315623108,-0.11851924403056344]}],                        {\"legend\":{\"bgcolor\":\"#F5F6F9\",\"font\":{\"color\":\"#4D5663\"}},\"paper_bgcolor\":\"#F5F6F9\",\"plot_bgcolor\":\"#F5F6F9\",\"template\":{\"data\":{\"bar\":[{\"error_x\":{\"color\":\"#2a3f5f\"},\"error_y\":{\"color\":\"#2a3f5f\"},\"marker\":{\"line\":{\"color\":\"#E5ECF6\",\"width\":0.5},\"pattern\":{\"fillmode\":\"overlay\",\"size\":10,\"solidity\":0.2}},\"type\":\"bar\"}],\"barpolar\":[{\"marker\":{\"line\":{\"color\":\"#E5ECF6\",\"width\":0.5},\"pattern\":{\"fillmode\":\"overlay\",\"size\":10,\"solidity\":0.2}},\"type\":\"barpolar\"}],\"carpet\":[{\"aaxis\":{\"endlinecolor\":\"#2a3f5f\",\"gridcolor\":\"white\",\"linecolor\":\"white\",\"minorgridcolor\":\"white\",\"startlinecolor\":\"#2a3f5f\"},\"baxis\":{\"endlinecolor\":\"#2a3f5f\",\"gridcolor\":\"white\",\"linecolor\":\"white\",\"minorgridcolor\":\"white\",\"startlinecolor\":\"#2a3f5f\"},\"type\":\"carpet\"}],\"choropleth\":[{\"colorbar\":{\"outlinewidth\":0,\"ticks\":\"\"},\"type\":\"choropleth\"}],\"contour\":[{\"colorbar\":{\"outlinewidth\":0,\"ticks\":\"\"},\"colorscale\":[[0.0,\"#0d0887\"],[0.1111111111111111,\"#46039f\"],[0.2222222222222222,\"#7201a8\"],[0.3333333333333333,\"#9c179e\"],[0.4444444444444444,\"#bd3786\"],[0.5555555555555556,\"#d8576b\"],[0.6666666666666666,\"#ed7953\"],[0.7777777777777778,\"#fb9f3a\"],[0.8888888888888888,\"#fdca26\"],[1.0,\"#f0f921\"]],\"type\":\"contour\"}],\"contourcarpet\":[{\"colorbar\":{\"outlinewidth\":0,\"ticks\":\"\"},\"type\":\"contourcarpet\"}],\"heatmap\":[{\"colorbar\":{\"outlinewidth\":0,\"ticks\":\"\"},\"colorscale\":[[0.0,\"#0d0887\"],[0.1111111111111111,\"#46039f\"],[0.2222222222222222,\"#7201a8\"],[0.3333333333333333,\"#9c179e\"],[0.4444444444444444,\"#bd3786\"],[0.5555555555555556,\"#d8576b\"],[0.6666666666666666,\"#ed7953\"],[0.7777777777777778,\"#fb9f3a\"],[0.8888888888888888,\"#fdca26\"],[1.0,\"#f0f921\"]],\"type\":\"heatmap\"}],\"heatmapgl\":[{\"colorbar\":{\"outlinewidth\":0,\"ticks\":\"\"},\"colorscale\":[[0.0,\"#0d0887\"],[0.1111111111111111,\"#46039f\"],[0.2222222222222222,\"#7201a8\"],[0.3333333333333333,\"#9c179e\"],[0.4444444444444444,\"#bd3786\"],[0.5555555555555556,\"#d8576b\"],[0.6666666666666666,\"#ed7953\"],[0.7777777777777778,\"#fb9f3a\"],[0.8888888888888888,\"#fdca26\"],[1.0,\"#f0f921\"]],\"type\":\"heatmapgl\"}],\"histogram\":[{\"marker\":{\"pattern\":{\"fillmode\":\"overlay\",\"size\":10,\"solidity\":0.2}},\"type\":\"histogram\"}],\"histogram2d\":[{\"colorbar\":{\"outlinewidth\":0,\"ticks\":\"\"},\"colorscale\":[[0.0,\"#0d0887\"],[0.1111111111111111,\"#46039f\"],[0.2222222222222222,\"#7201a8\"],[0.3333333333333333,\"#9c179e\"],[0.4444444444444444,\"#bd3786\"],[0.5555555555555556,\"#d8576b\"],[0.6666666666666666,\"#ed7953\"],[0.7777777777777778,\"#fb9f3a\"],[0.8888888888888888,\"#fdca26\"],[1.0,\"#f0f921\"]],\"type\":\"histogram2d\"}],\"histogram2dcontour\":[{\"colorbar\":{\"outlinewidth\":0,\"ticks\":\"\"},\"colorscale\":[[0.0,\"#0d0887\"],[0.1111111111111111,\"#46039f\"],[0.2222222222222222,\"#7201a8\"],[0.3333333333333333,\"#9c179e\"],[0.4444444444444444,\"#bd3786\"],[0.5555555555555556,\"#d8576b\"],[0.6666666666666666,\"#ed7953\"],[0.7777777777777778,\"#fb9f3a\"],[0.8888888888888888,\"#fdca26\"],[1.0,\"#f0f921\"]],\"type\":\"histogram2dcontour\"}],\"mesh3d\":[{\"colorbar\":{\"outlinewidth\":0,\"ticks\":\"\"},\"type\":\"mesh3d\"}],\"parcoords\":[{\"line\":{\"colorbar\":{\"outlinewidth\":0,\"ticks\":\"\"}},\"type\":\"parcoords\"}],\"pie\":[{\"automargin\":true,\"type\":\"pie\"}],\"scatter\":[{\"marker\":{\"colorbar\":{\"outlinewidth\":0,\"ticks\":\"\"}},\"type\":\"scatter\"}],\"scatter3d\":[{\"line\":{\"colorbar\":{\"outlinewidth\":0,\"ticks\":\"\"}},\"marker\":{\"colorbar\":{\"outlinewidth\":0,\"ticks\":\"\"}},\"type\":\"scatter3d\"}],\"scattercarpet\":[{\"marker\":{\"colorbar\":{\"outlinewidth\":0,\"ticks\":\"\"}},\"type\":\"scattercarpet\"}],\"scattergeo\":[{\"marker\":{\"colorbar\":{\"outlinewidth\":0,\"ticks\":\"\"}},\"type\":\"scattergeo\"}],\"scattergl\":[{\"marker\":{\"colorbar\":{\"outlinewidth\":0,\"ticks\":\"\"}},\"type\":\"scattergl\"}],\"scattermapbox\":[{\"marker\":{\"colorbar\":{\"outlinewidth\":0,\"ticks\":\"\"}},\"type\":\"scattermapbox\"}],\"scatterpolar\":[{\"marker\":{\"colorbar\":{\"outlinewidth\":0,\"ticks\":\"\"}},\"type\":\"scatterpolar\"}],\"scatterpolargl\":[{\"marker\":{\"colorbar\":{\"outlinewidth\":0,\"ticks\":\"\"}},\"type\":\"scatterpolargl\"}],\"scatterternary\":[{\"marker\":{\"colorbar\":{\"outlinewidth\":0,\"ticks\":\"\"}},\"type\":\"scatterternary\"}],\"surface\":[{\"colorbar\":{\"outlinewidth\":0,\"ticks\":\"\"},\"colorscale\":[[0.0,\"#0d0887\"],[0.1111111111111111,\"#46039f\"],[0.2222222222222222,\"#7201a8\"],[0.3333333333333333,\"#9c179e\"],[0.4444444444444444,\"#bd3786\"],[0.5555555555555556,\"#d8576b\"],[0.6666666666666666,\"#ed7953\"],[0.7777777777777778,\"#fb9f3a\"],[0.8888888888888888,\"#fdca26\"],[1.0,\"#f0f921\"]],\"type\":\"surface\"}],\"table\":[{\"cells\":{\"fill\":{\"color\":\"#EBF0F8\"},\"line\":{\"color\":\"white\"}},\"header\":{\"fill\":{\"color\":\"#C8D4E3\"},\"line\":{\"color\":\"white\"}},\"type\":\"table\"}]},\"layout\":{\"annotationdefaults\":{\"arrowcolor\":\"#2a3f5f\",\"arrowhead\":0,\"arrowwidth\":1},\"autotypenumbers\":\"strict\",\"coloraxis\":{\"colorbar\":{\"outlinewidth\":0,\"ticks\":\"\"}},\"colorscale\":{\"diverging\":[[0,\"#8e0152\"],[0.1,\"#c51b7d\"],[0.2,\"#de77ae\"],[0.3,\"#f1b6da\"],[0.4,\"#fde0ef\"],[0.5,\"#f7f7f7\"],[0.6,\"#e6f5d0\"],[0.7,\"#b8e186\"],[0.8,\"#7fbc41\"],[0.9,\"#4d9221\"],[1,\"#276419\"]],\"sequential\":[[0.0,\"#0d0887\"],[0.1111111111111111,\"#46039f\"],[0.2222222222222222,\"#7201a8\"],[0.3333333333333333,\"#9c179e\"],[0.4444444444444444,\"#bd3786\"],[0.5555555555555556,\"#d8576b\"],[0.6666666666666666,\"#ed7953\"],[0.7777777777777778,\"#fb9f3a\"],[0.8888888888888888,\"#fdca26\"],[1.0,\"#f0f921\"]],\"sequentialminus\":[[0.0,\"#0d0887\"],[0.1111111111111111,\"#46039f\"],[0.2222222222222222,\"#7201a8\"],[0.3333333333333333,\"#9c179e\"],[0.4444444444444444,\"#bd3786\"],[0.5555555555555556,\"#d8576b\"],[0.6666666666666666,\"#ed7953\"],[0.7777777777777778,\"#fb9f3a\"],[0.8888888888888888,\"#fdca26\"],[1.0,\"#f0f921\"]]},\"colorway\":[\"#636efa\",\"#EF553B\",\"#00cc96\",\"#ab63fa\",\"#FFA15A\",\"#19d3f3\",\"#FF6692\",\"#B6E880\",\"#FF97FF\",\"#FECB52\"],\"font\":{\"color\":\"#2a3f5f\"},\"geo\":{\"bgcolor\":\"white\",\"lakecolor\":\"white\",\"landcolor\":\"#E5ECF6\",\"showlakes\":true,\"showland\":true,\"subunitcolor\":\"white\"},\"hoverlabel\":{\"align\":\"left\"},\"hovermode\":\"closest\",\"mapbox\":{\"style\":\"light\"},\"paper_bgcolor\":\"white\",\"plot_bgcolor\":\"#E5ECF6\",\"polar\":{\"angularaxis\":{\"gridcolor\":\"white\",\"linecolor\":\"white\",\"ticks\":\"\"},\"bgcolor\":\"#E5ECF6\",\"radialaxis\":{\"gridcolor\":\"white\",\"linecolor\":\"white\",\"ticks\":\"\"}},\"scene\":{\"xaxis\":{\"backgroundcolor\":\"#E5ECF6\",\"gridcolor\":\"white\",\"gridwidth\":2,\"linecolor\":\"white\",\"showbackground\":true,\"ticks\":\"\",\"zerolinecolor\":\"white\"},\"yaxis\":{\"backgroundcolor\":\"#E5ECF6\",\"gridcolor\":\"white\",\"gridwidth\":2,\"linecolor\":\"white\",\"showbackground\":true,\"ticks\":\"\",\"zerolinecolor\":\"white\"},\"zaxis\":{\"backgroundcolor\":\"#E5ECF6\",\"gridcolor\":\"white\",\"gridwidth\":2,\"linecolor\":\"white\",\"showbackground\":true,\"ticks\":\"\",\"zerolinecolor\":\"white\"}},\"shapedefaults\":{\"line\":{\"color\":\"#2a3f5f\"}},\"ternary\":{\"aaxis\":{\"gridcolor\":\"white\",\"linecolor\":\"white\",\"ticks\":\"\"},\"baxis\":{\"gridcolor\":\"white\",\"linecolor\":\"white\",\"ticks\":\"\"},\"bgcolor\":\"#E5ECF6\",\"caxis\":{\"gridcolor\":\"white\",\"linecolor\":\"white\",\"ticks\":\"\"}},\"title\":{\"x\":0.05},\"xaxis\":{\"automargin\":true,\"gridcolor\":\"white\",\"linecolor\":\"white\",\"ticks\":\"\",\"title\":{\"standoff\":15},\"zerolinecolor\":\"white\",\"zerolinewidth\":2},\"yaxis\":{\"automargin\":true,\"gridcolor\":\"white\",\"linecolor\":\"white\",\"ticks\":\"\",\"title\":{\"standoff\":15},\"zerolinecolor\":\"white\",\"zerolinewidth\":2}}},\"title\":{\"font\":{\"color\":\"#4D5663\"}},\"xaxis\":{\"gridcolor\":\"#E1E5ED\",\"showgrid\":true,\"tickfont\":{\"color\":\"#4D5663\"},\"title\":{\"font\":{\"color\":\"#4D5663\"},\"text\":\"\"},\"zerolinecolor\":\"#E1E5ED\"},\"yaxis\":{\"gridcolor\":\"#E1E5ED\",\"showgrid\":true,\"tickfont\":{\"color\":\"#4D5663\"},\"title\":{\"font\":{\"color\":\"#4D5663\"},\"text\":\"\"},\"zerolinecolor\":\"#E1E5ED\"}},                        {\"showLink\": true, \"linkText\": \"Export to plot.ly\", \"plotlyServerURL\": \"https://plot.ly\", \"responsive\": true}                    ).then(function(){\n",
       "                            \n",
       "var gd = document.getElementById('802b2396-57f6-4ae1-9587-a8a070087447');\n",
       "var x = new MutationObserver(function (mutations, observer) {{\n",
       "        var display = window.getComputedStyle(gd).display;\n",
       "        if (!display || display === 'none') {{\n",
       "            console.log([gd, 'removed!']);\n",
       "            Plotly.purge(gd);\n",
       "            observer.disconnect();\n",
       "        }}\n",
       "}});\n",
       "\n",
       "// Listen for the removal of the full notebook cells\n",
       "var notebookContainer = gd.closest('#notebook-container');\n",
       "if (notebookContainer) {{\n",
       "    x.observe(notebookContainer, {childList: true});\n",
       "}}\n",
       "\n",
       "// Listen for the clearing of the current output cell\n",
       "var outputEl = gd.closest('.output');\n",
       "if (outputEl) {{\n",
       "    x.observe(outputEl, {childList: true});\n",
       "}}\n",
       "\n",
       "                        })                };                });            </script>        </div>"
      ]
     },
     "metadata": {},
     "output_type": "display_data"
    }
   ],
   "source": [
    "df.iplot(kind = 'scatter', x = 'A', y = 'B', mode = 'markers', size= 20)"
   ]
  },
  {
   "cell_type": "code",
   "execution_count": 30,
   "metadata": {},
   "outputs": [
    {
     "data": {
      "application/vnd.plotly.v1+json": {
       "config": {
        "linkText": "Export to plot.ly",
        "plotlyServerURL": "https://plot.ly",
        "showLink": true
       },
       "data": [
        {
         "marker": {
          "color": "rgba(255, 153, 51, 0.6)",
          "line": {
           "color": "rgba(255, 153, 51, 1.0)",
           "width": 1
          }
         },
         "name": "Values",
         "orientation": "v",
         "text": "",
         "type": "bar",
         "x": [
          "A",
          "B",
          "C"
         ],
         "y": [
          32,
          43,
          50
         ]
        }
       ],
       "layout": {
        "legend": {
         "bgcolor": "#F5F6F9",
         "font": {
          "color": "#4D5663"
         }
        },
        "paper_bgcolor": "#F5F6F9",
        "plot_bgcolor": "#F5F6F9",
        "template": {
         "data": {
          "bar": [
           {
            "error_x": {
             "color": "#2a3f5f"
            },
            "error_y": {
             "color": "#2a3f5f"
            },
            "marker": {
             "line": {
              "color": "#E5ECF6",
              "width": 0.5
             },
             "pattern": {
              "fillmode": "overlay",
              "size": 10,
              "solidity": 0.2
             }
            },
            "type": "bar"
           }
          ],
          "barpolar": [
           {
            "marker": {
             "line": {
              "color": "#E5ECF6",
              "width": 0.5
             },
             "pattern": {
              "fillmode": "overlay",
              "size": 10,
              "solidity": 0.2
             }
            },
            "type": "barpolar"
           }
          ],
          "carpet": [
           {
            "aaxis": {
             "endlinecolor": "#2a3f5f",
             "gridcolor": "white",
             "linecolor": "white",
             "minorgridcolor": "white",
             "startlinecolor": "#2a3f5f"
            },
            "baxis": {
             "endlinecolor": "#2a3f5f",
             "gridcolor": "white",
             "linecolor": "white",
             "minorgridcolor": "white",
             "startlinecolor": "#2a3f5f"
            },
            "type": "carpet"
           }
          ],
          "choropleth": [
           {
            "colorbar": {
             "outlinewidth": 0,
             "ticks": ""
            },
            "type": "choropleth"
           }
          ],
          "contour": [
           {
            "colorbar": {
             "outlinewidth": 0,
             "ticks": ""
            },
            "colorscale": [
             [
              0,
              "#0d0887"
             ],
             [
              0.1111111111111111,
              "#46039f"
             ],
             [
              0.2222222222222222,
              "#7201a8"
             ],
             [
              0.3333333333333333,
              "#9c179e"
             ],
             [
              0.4444444444444444,
              "#bd3786"
             ],
             [
              0.5555555555555556,
              "#d8576b"
             ],
             [
              0.6666666666666666,
              "#ed7953"
             ],
             [
              0.7777777777777778,
              "#fb9f3a"
             ],
             [
              0.8888888888888888,
              "#fdca26"
             ],
             [
              1,
              "#f0f921"
             ]
            ],
            "type": "contour"
           }
          ],
          "contourcarpet": [
           {
            "colorbar": {
             "outlinewidth": 0,
             "ticks": ""
            },
            "type": "contourcarpet"
           }
          ],
          "heatmap": [
           {
            "colorbar": {
             "outlinewidth": 0,
             "ticks": ""
            },
            "colorscale": [
             [
              0,
              "#0d0887"
             ],
             [
              0.1111111111111111,
              "#46039f"
             ],
             [
              0.2222222222222222,
              "#7201a8"
             ],
             [
              0.3333333333333333,
              "#9c179e"
             ],
             [
              0.4444444444444444,
              "#bd3786"
             ],
             [
              0.5555555555555556,
              "#d8576b"
             ],
             [
              0.6666666666666666,
              "#ed7953"
             ],
             [
              0.7777777777777778,
              "#fb9f3a"
             ],
             [
              0.8888888888888888,
              "#fdca26"
             ],
             [
              1,
              "#f0f921"
             ]
            ],
            "type": "heatmap"
           }
          ],
          "heatmapgl": [
           {
            "colorbar": {
             "outlinewidth": 0,
             "ticks": ""
            },
            "colorscale": [
             [
              0,
              "#0d0887"
             ],
             [
              0.1111111111111111,
              "#46039f"
             ],
             [
              0.2222222222222222,
              "#7201a8"
             ],
             [
              0.3333333333333333,
              "#9c179e"
             ],
             [
              0.4444444444444444,
              "#bd3786"
             ],
             [
              0.5555555555555556,
              "#d8576b"
             ],
             [
              0.6666666666666666,
              "#ed7953"
             ],
             [
              0.7777777777777778,
              "#fb9f3a"
             ],
             [
              0.8888888888888888,
              "#fdca26"
             ],
             [
              1,
              "#f0f921"
             ]
            ],
            "type": "heatmapgl"
           }
          ],
          "histogram": [
           {
            "marker": {
             "pattern": {
              "fillmode": "overlay",
              "size": 10,
              "solidity": 0.2
             }
            },
            "type": "histogram"
           }
          ],
          "histogram2d": [
           {
            "colorbar": {
             "outlinewidth": 0,
             "ticks": ""
            },
            "colorscale": [
             [
              0,
              "#0d0887"
             ],
             [
              0.1111111111111111,
              "#46039f"
             ],
             [
              0.2222222222222222,
              "#7201a8"
             ],
             [
              0.3333333333333333,
              "#9c179e"
             ],
             [
              0.4444444444444444,
              "#bd3786"
             ],
             [
              0.5555555555555556,
              "#d8576b"
             ],
             [
              0.6666666666666666,
              "#ed7953"
             ],
             [
              0.7777777777777778,
              "#fb9f3a"
             ],
             [
              0.8888888888888888,
              "#fdca26"
             ],
             [
              1,
              "#f0f921"
             ]
            ],
            "type": "histogram2d"
           }
          ],
          "histogram2dcontour": [
           {
            "colorbar": {
             "outlinewidth": 0,
             "ticks": ""
            },
            "colorscale": [
             [
              0,
              "#0d0887"
             ],
             [
              0.1111111111111111,
              "#46039f"
             ],
             [
              0.2222222222222222,
              "#7201a8"
             ],
             [
              0.3333333333333333,
              "#9c179e"
             ],
             [
              0.4444444444444444,
              "#bd3786"
             ],
             [
              0.5555555555555556,
              "#d8576b"
             ],
             [
              0.6666666666666666,
              "#ed7953"
             ],
             [
              0.7777777777777778,
              "#fb9f3a"
             ],
             [
              0.8888888888888888,
              "#fdca26"
             ],
             [
              1,
              "#f0f921"
             ]
            ],
            "type": "histogram2dcontour"
           }
          ],
          "mesh3d": [
           {
            "colorbar": {
             "outlinewidth": 0,
             "ticks": ""
            },
            "type": "mesh3d"
           }
          ],
          "parcoords": [
           {
            "line": {
             "colorbar": {
              "outlinewidth": 0,
              "ticks": ""
             }
            },
            "type": "parcoords"
           }
          ],
          "pie": [
           {
            "automargin": true,
            "type": "pie"
           }
          ],
          "scatter": [
           {
            "marker": {
             "colorbar": {
              "outlinewidth": 0,
              "ticks": ""
             }
            },
            "type": "scatter"
           }
          ],
          "scatter3d": [
           {
            "line": {
             "colorbar": {
              "outlinewidth": 0,
              "ticks": ""
             }
            },
            "marker": {
             "colorbar": {
              "outlinewidth": 0,
              "ticks": ""
             }
            },
            "type": "scatter3d"
           }
          ],
          "scattercarpet": [
           {
            "marker": {
             "colorbar": {
              "outlinewidth": 0,
              "ticks": ""
             }
            },
            "type": "scattercarpet"
           }
          ],
          "scattergeo": [
           {
            "marker": {
             "colorbar": {
              "outlinewidth": 0,
              "ticks": ""
             }
            },
            "type": "scattergeo"
           }
          ],
          "scattergl": [
           {
            "marker": {
             "colorbar": {
              "outlinewidth": 0,
              "ticks": ""
             }
            },
            "type": "scattergl"
           }
          ],
          "scattermapbox": [
           {
            "marker": {
             "colorbar": {
              "outlinewidth": 0,
              "ticks": ""
             }
            },
            "type": "scattermapbox"
           }
          ],
          "scatterpolar": [
           {
            "marker": {
             "colorbar": {
              "outlinewidth": 0,
              "ticks": ""
             }
            },
            "type": "scatterpolar"
           }
          ],
          "scatterpolargl": [
           {
            "marker": {
             "colorbar": {
              "outlinewidth": 0,
              "ticks": ""
             }
            },
            "type": "scatterpolargl"
           }
          ],
          "scatterternary": [
           {
            "marker": {
             "colorbar": {
              "outlinewidth": 0,
              "ticks": ""
             }
            },
            "type": "scatterternary"
           }
          ],
          "surface": [
           {
            "colorbar": {
             "outlinewidth": 0,
             "ticks": ""
            },
            "colorscale": [
             [
              0,
              "#0d0887"
             ],
             [
              0.1111111111111111,
              "#46039f"
             ],
             [
              0.2222222222222222,
              "#7201a8"
             ],
             [
              0.3333333333333333,
              "#9c179e"
             ],
             [
              0.4444444444444444,
              "#bd3786"
             ],
             [
              0.5555555555555556,
              "#d8576b"
             ],
             [
              0.6666666666666666,
              "#ed7953"
             ],
             [
              0.7777777777777778,
              "#fb9f3a"
             ],
             [
              0.8888888888888888,
              "#fdca26"
             ],
             [
              1,
              "#f0f921"
             ]
            ],
            "type": "surface"
           }
          ],
          "table": [
           {
            "cells": {
             "fill": {
              "color": "#EBF0F8"
             },
             "line": {
              "color": "white"
             }
            },
            "header": {
             "fill": {
              "color": "#C8D4E3"
             },
             "line": {
              "color": "white"
             }
            },
            "type": "table"
           }
          ]
         },
         "layout": {
          "annotationdefaults": {
           "arrowcolor": "#2a3f5f",
           "arrowhead": 0,
           "arrowwidth": 1
          },
          "autotypenumbers": "strict",
          "coloraxis": {
           "colorbar": {
            "outlinewidth": 0,
            "ticks": ""
           }
          },
          "colorscale": {
           "diverging": [
            [
             0,
             "#8e0152"
            ],
            [
             0.1,
             "#c51b7d"
            ],
            [
             0.2,
             "#de77ae"
            ],
            [
             0.3,
             "#f1b6da"
            ],
            [
             0.4,
             "#fde0ef"
            ],
            [
             0.5,
             "#f7f7f7"
            ],
            [
             0.6,
             "#e6f5d0"
            ],
            [
             0.7,
             "#b8e186"
            ],
            [
             0.8,
             "#7fbc41"
            ],
            [
             0.9,
             "#4d9221"
            ],
            [
             1,
             "#276419"
            ]
           ],
           "sequential": [
            [
             0,
             "#0d0887"
            ],
            [
             0.1111111111111111,
             "#46039f"
            ],
            [
             0.2222222222222222,
             "#7201a8"
            ],
            [
             0.3333333333333333,
             "#9c179e"
            ],
            [
             0.4444444444444444,
             "#bd3786"
            ],
            [
             0.5555555555555556,
             "#d8576b"
            ],
            [
             0.6666666666666666,
             "#ed7953"
            ],
            [
             0.7777777777777778,
             "#fb9f3a"
            ],
            [
             0.8888888888888888,
             "#fdca26"
            ],
            [
             1,
             "#f0f921"
            ]
           ],
           "sequentialminus": [
            [
             0,
             "#0d0887"
            ],
            [
             0.1111111111111111,
             "#46039f"
            ],
            [
             0.2222222222222222,
             "#7201a8"
            ],
            [
             0.3333333333333333,
             "#9c179e"
            ],
            [
             0.4444444444444444,
             "#bd3786"
            ],
            [
             0.5555555555555556,
             "#d8576b"
            ],
            [
             0.6666666666666666,
             "#ed7953"
            ],
            [
             0.7777777777777778,
             "#fb9f3a"
            ],
            [
             0.8888888888888888,
             "#fdca26"
            ],
            [
             1,
             "#f0f921"
            ]
           ]
          },
          "colorway": [
           "#636efa",
           "#EF553B",
           "#00cc96",
           "#ab63fa",
           "#FFA15A",
           "#19d3f3",
           "#FF6692",
           "#B6E880",
           "#FF97FF",
           "#FECB52"
          ],
          "font": {
           "color": "#2a3f5f"
          },
          "geo": {
           "bgcolor": "white",
           "lakecolor": "white",
           "landcolor": "#E5ECF6",
           "showlakes": true,
           "showland": true,
           "subunitcolor": "white"
          },
          "hoverlabel": {
           "align": "left"
          },
          "hovermode": "closest",
          "mapbox": {
           "style": "light"
          },
          "paper_bgcolor": "white",
          "plot_bgcolor": "#E5ECF6",
          "polar": {
           "angularaxis": {
            "gridcolor": "white",
            "linecolor": "white",
            "ticks": ""
           },
           "bgcolor": "#E5ECF6",
           "radialaxis": {
            "gridcolor": "white",
            "linecolor": "white",
            "ticks": ""
           }
          },
          "scene": {
           "xaxis": {
            "backgroundcolor": "#E5ECF6",
            "gridcolor": "white",
            "gridwidth": 2,
            "linecolor": "white",
            "showbackground": true,
            "ticks": "",
            "zerolinecolor": "white"
           },
           "yaxis": {
            "backgroundcolor": "#E5ECF6",
            "gridcolor": "white",
            "gridwidth": 2,
            "linecolor": "white",
            "showbackground": true,
            "ticks": "",
            "zerolinecolor": "white"
           },
           "zaxis": {
            "backgroundcolor": "#E5ECF6",
            "gridcolor": "white",
            "gridwidth": 2,
            "linecolor": "white",
            "showbackground": true,
            "ticks": "",
            "zerolinecolor": "white"
           }
          },
          "shapedefaults": {
           "line": {
            "color": "#2a3f5f"
           }
          },
          "ternary": {
           "aaxis": {
            "gridcolor": "white",
            "linecolor": "white",
            "ticks": ""
           },
           "baxis": {
            "gridcolor": "white",
            "linecolor": "white",
            "ticks": ""
           },
           "bgcolor": "#E5ECF6",
           "caxis": {
            "gridcolor": "white",
            "linecolor": "white",
            "ticks": ""
           }
          },
          "title": {
           "x": 0.05
          },
          "xaxis": {
           "automargin": true,
           "gridcolor": "white",
           "linecolor": "white",
           "ticks": "",
           "title": {
            "standoff": 15
           },
           "zerolinecolor": "white",
           "zerolinewidth": 2
          },
          "yaxis": {
           "automargin": true,
           "gridcolor": "white",
           "linecolor": "white",
           "ticks": "",
           "title": {
            "standoff": 15
           },
           "zerolinecolor": "white",
           "zerolinewidth": 2
          }
         }
        },
        "title": {
         "font": {
          "color": "#4D5663"
         }
        },
        "xaxis": {
         "gridcolor": "#E1E5ED",
         "showgrid": true,
         "tickfont": {
          "color": "#4D5663"
         },
         "title": {
          "font": {
           "color": "#4D5663"
          },
          "text": ""
         },
         "zerolinecolor": "#E1E5ED"
        },
        "yaxis": {
         "gridcolor": "#E1E5ED",
         "showgrid": true,
         "tickfont": {
          "color": "#4D5663"
         },
         "title": {
          "font": {
           "color": "#4D5663"
          },
          "text": ""
         },
         "zerolinecolor": "#E1E5ED"
        }
       }
      },
      "text/html": [
       "<div>                            <div id=\"ef00c8e7-8639-42df-afd1-1ba53a61b92d\" class=\"plotly-graph-div\" style=\"height:525px; width:100%;\"></div>            <script type=\"text/javascript\">                require([\"plotly\"], function(Plotly) {                    window.PLOTLYENV=window.PLOTLYENV || {};\n",
       "                    window.PLOTLYENV.BASE_URL='https://plot.ly';                                    if (document.getElementById(\"ef00c8e7-8639-42df-afd1-1ba53a61b92d\")) {                    Plotly.newPlot(                        \"ef00c8e7-8639-42df-afd1-1ba53a61b92d\",                        [{\"marker\":{\"color\":\"rgba(255, 153, 51, 0.6)\",\"line\":{\"color\":\"rgba(255, 153, 51, 1.0)\",\"width\":1}},\"name\":\"Values\",\"orientation\":\"v\",\"text\":\"\",\"type\":\"bar\",\"x\":[\"A\",\"B\",\"C\"],\"y\":[32,43,50]}],                        {\"legend\":{\"bgcolor\":\"#F5F6F9\",\"font\":{\"color\":\"#4D5663\"}},\"paper_bgcolor\":\"#F5F6F9\",\"plot_bgcolor\":\"#F5F6F9\",\"template\":{\"data\":{\"bar\":[{\"error_x\":{\"color\":\"#2a3f5f\"},\"error_y\":{\"color\":\"#2a3f5f\"},\"marker\":{\"line\":{\"color\":\"#E5ECF6\",\"width\":0.5},\"pattern\":{\"fillmode\":\"overlay\",\"size\":10,\"solidity\":0.2}},\"type\":\"bar\"}],\"barpolar\":[{\"marker\":{\"line\":{\"color\":\"#E5ECF6\",\"width\":0.5},\"pattern\":{\"fillmode\":\"overlay\",\"size\":10,\"solidity\":0.2}},\"type\":\"barpolar\"}],\"carpet\":[{\"aaxis\":{\"endlinecolor\":\"#2a3f5f\",\"gridcolor\":\"white\",\"linecolor\":\"white\",\"minorgridcolor\":\"white\",\"startlinecolor\":\"#2a3f5f\"},\"baxis\":{\"endlinecolor\":\"#2a3f5f\",\"gridcolor\":\"white\",\"linecolor\":\"white\",\"minorgridcolor\":\"white\",\"startlinecolor\":\"#2a3f5f\"},\"type\":\"carpet\"}],\"choropleth\":[{\"colorbar\":{\"outlinewidth\":0,\"ticks\":\"\"},\"type\":\"choropleth\"}],\"contour\":[{\"colorbar\":{\"outlinewidth\":0,\"ticks\":\"\"},\"colorscale\":[[0.0,\"#0d0887\"],[0.1111111111111111,\"#46039f\"],[0.2222222222222222,\"#7201a8\"],[0.3333333333333333,\"#9c179e\"],[0.4444444444444444,\"#bd3786\"],[0.5555555555555556,\"#d8576b\"],[0.6666666666666666,\"#ed7953\"],[0.7777777777777778,\"#fb9f3a\"],[0.8888888888888888,\"#fdca26\"],[1.0,\"#f0f921\"]],\"type\":\"contour\"}],\"contourcarpet\":[{\"colorbar\":{\"outlinewidth\":0,\"ticks\":\"\"},\"type\":\"contourcarpet\"}],\"heatmap\":[{\"colorbar\":{\"outlinewidth\":0,\"ticks\":\"\"},\"colorscale\":[[0.0,\"#0d0887\"],[0.1111111111111111,\"#46039f\"],[0.2222222222222222,\"#7201a8\"],[0.3333333333333333,\"#9c179e\"],[0.4444444444444444,\"#bd3786\"],[0.5555555555555556,\"#d8576b\"],[0.6666666666666666,\"#ed7953\"],[0.7777777777777778,\"#fb9f3a\"],[0.8888888888888888,\"#fdca26\"],[1.0,\"#f0f921\"]],\"type\":\"heatmap\"}],\"heatmapgl\":[{\"colorbar\":{\"outlinewidth\":0,\"ticks\":\"\"},\"colorscale\":[[0.0,\"#0d0887\"],[0.1111111111111111,\"#46039f\"],[0.2222222222222222,\"#7201a8\"],[0.3333333333333333,\"#9c179e\"],[0.4444444444444444,\"#bd3786\"],[0.5555555555555556,\"#d8576b\"],[0.6666666666666666,\"#ed7953\"],[0.7777777777777778,\"#fb9f3a\"],[0.8888888888888888,\"#fdca26\"],[1.0,\"#f0f921\"]],\"type\":\"heatmapgl\"}],\"histogram\":[{\"marker\":{\"pattern\":{\"fillmode\":\"overlay\",\"size\":10,\"solidity\":0.2}},\"type\":\"histogram\"}],\"histogram2d\":[{\"colorbar\":{\"outlinewidth\":0,\"ticks\":\"\"},\"colorscale\":[[0.0,\"#0d0887\"],[0.1111111111111111,\"#46039f\"],[0.2222222222222222,\"#7201a8\"],[0.3333333333333333,\"#9c179e\"],[0.4444444444444444,\"#bd3786\"],[0.5555555555555556,\"#d8576b\"],[0.6666666666666666,\"#ed7953\"],[0.7777777777777778,\"#fb9f3a\"],[0.8888888888888888,\"#fdca26\"],[1.0,\"#f0f921\"]],\"type\":\"histogram2d\"}],\"histogram2dcontour\":[{\"colorbar\":{\"outlinewidth\":0,\"ticks\":\"\"},\"colorscale\":[[0.0,\"#0d0887\"],[0.1111111111111111,\"#46039f\"],[0.2222222222222222,\"#7201a8\"],[0.3333333333333333,\"#9c179e\"],[0.4444444444444444,\"#bd3786\"],[0.5555555555555556,\"#d8576b\"],[0.6666666666666666,\"#ed7953\"],[0.7777777777777778,\"#fb9f3a\"],[0.8888888888888888,\"#fdca26\"],[1.0,\"#f0f921\"]],\"type\":\"histogram2dcontour\"}],\"mesh3d\":[{\"colorbar\":{\"outlinewidth\":0,\"ticks\":\"\"},\"type\":\"mesh3d\"}],\"parcoords\":[{\"line\":{\"colorbar\":{\"outlinewidth\":0,\"ticks\":\"\"}},\"type\":\"parcoords\"}],\"pie\":[{\"automargin\":true,\"type\":\"pie\"}],\"scatter\":[{\"marker\":{\"colorbar\":{\"outlinewidth\":0,\"ticks\":\"\"}},\"type\":\"scatter\"}],\"scatter3d\":[{\"line\":{\"colorbar\":{\"outlinewidth\":0,\"ticks\":\"\"}},\"marker\":{\"colorbar\":{\"outlinewidth\":0,\"ticks\":\"\"}},\"type\":\"scatter3d\"}],\"scattercarpet\":[{\"marker\":{\"colorbar\":{\"outlinewidth\":0,\"ticks\":\"\"}},\"type\":\"scattercarpet\"}],\"scattergeo\":[{\"marker\":{\"colorbar\":{\"outlinewidth\":0,\"ticks\":\"\"}},\"type\":\"scattergeo\"}],\"scattergl\":[{\"marker\":{\"colorbar\":{\"outlinewidth\":0,\"ticks\":\"\"}},\"type\":\"scattergl\"}],\"scattermapbox\":[{\"marker\":{\"colorbar\":{\"outlinewidth\":0,\"ticks\":\"\"}},\"type\":\"scattermapbox\"}],\"scatterpolar\":[{\"marker\":{\"colorbar\":{\"outlinewidth\":0,\"ticks\":\"\"}},\"type\":\"scatterpolar\"}],\"scatterpolargl\":[{\"marker\":{\"colorbar\":{\"outlinewidth\":0,\"ticks\":\"\"}},\"type\":\"scatterpolargl\"}],\"scatterternary\":[{\"marker\":{\"colorbar\":{\"outlinewidth\":0,\"ticks\":\"\"}},\"type\":\"scatterternary\"}],\"surface\":[{\"colorbar\":{\"outlinewidth\":0,\"ticks\":\"\"},\"colorscale\":[[0.0,\"#0d0887\"],[0.1111111111111111,\"#46039f\"],[0.2222222222222222,\"#7201a8\"],[0.3333333333333333,\"#9c179e\"],[0.4444444444444444,\"#bd3786\"],[0.5555555555555556,\"#d8576b\"],[0.6666666666666666,\"#ed7953\"],[0.7777777777777778,\"#fb9f3a\"],[0.8888888888888888,\"#fdca26\"],[1.0,\"#f0f921\"]],\"type\":\"surface\"}],\"table\":[{\"cells\":{\"fill\":{\"color\":\"#EBF0F8\"},\"line\":{\"color\":\"white\"}},\"header\":{\"fill\":{\"color\":\"#C8D4E3\"},\"line\":{\"color\":\"white\"}},\"type\":\"table\"}]},\"layout\":{\"annotationdefaults\":{\"arrowcolor\":\"#2a3f5f\",\"arrowhead\":0,\"arrowwidth\":1},\"autotypenumbers\":\"strict\",\"coloraxis\":{\"colorbar\":{\"outlinewidth\":0,\"ticks\":\"\"}},\"colorscale\":{\"diverging\":[[0,\"#8e0152\"],[0.1,\"#c51b7d\"],[0.2,\"#de77ae\"],[0.3,\"#f1b6da\"],[0.4,\"#fde0ef\"],[0.5,\"#f7f7f7\"],[0.6,\"#e6f5d0\"],[0.7,\"#b8e186\"],[0.8,\"#7fbc41\"],[0.9,\"#4d9221\"],[1,\"#276419\"]],\"sequential\":[[0.0,\"#0d0887\"],[0.1111111111111111,\"#46039f\"],[0.2222222222222222,\"#7201a8\"],[0.3333333333333333,\"#9c179e\"],[0.4444444444444444,\"#bd3786\"],[0.5555555555555556,\"#d8576b\"],[0.6666666666666666,\"#ed7953\"],[0.7777777777777778,\"#fb9f3a\"],[0.8888888888888888,\"#fdca26\"],[1.0,\"#f0f921\"]],\"sequentialminus\":[[0.0,\"#0d0887\"],[0.1111111111111111,\"#46039f\"],[0.2222222222222222,\"#7201a8\"],[0.3333333333333333,\"#9c179e\"],[0.4444444444444444,\"#bd3786\"],[0.5555555555555556,\"#d8576b\"],[0.6666666666666666,\"#ed7953\"],[0.7777777777777778,\"#fb9f3a\"],[0.8888888888888888,\"#fdca26\"],[1.0,\"#f0f921\"]]},\"colorway\":[\"#636efa\",\"#EF553B\",\"#00cc96\",\"#ab63fa\",\"#FFA15A\",\"#19d3f3\",\"#FF6692\",\"#B6E880\",\"#FF97FF\",\"#FECB52\"],\"font\":{\"color\":\"#2a3f5f\"},\"geo\":{\"bgcolor\":\"white\",\"lakecolor\":\"white\",\"landcolor\":\"#E5ECF6\",\"showlakes\":true,\"showland\":true,\"subunitcolor\":\"white\"},\"hoverlabel\":{\"align\":\"left\"},\"hovermode\":\"closest\",\"mapbox\":{\"style\":\"light\"},\"paper_bgcolor\":\"white\",\"plot_bgcolor\":\"#E5ECF6\",\"polar\":{\"angularaxis\":{\"gridcolor\":\"white\",\"linecolor\":\"white\",\"ticks\":\"\"},\"bgcolor\":\"#E5ECF6\",\"radialaxis\":{\"gridcolor\":\"white\",\"linecolor\":\"white\",\"ticks\":\"\"}},\"scene\":{\"xaxis\":{\"backgroundcolor\":\"#E5ECF6\",\"gridcolor\":\"white\",\"gridwidth\":2,\"linecolor\":\"white\",\"showbackground\":true,\"ticks\":\"\",\"zerolinecolor\":\"white\"},\"yaxis\":{\"backgroundcolor\":\"#E5ECF6\",\"gridcolor\":\"white\",\"gridwidth\":2,\"linecolor\":\"white\",\"showbackground\":true,\"ticks\":\"\",\"zerolinecolor\":\"white\"},\"zaxis\":{\"backgroundcolor\":\"#E5ECF6\",\"gridcolor\":\"white\",\"gridwidth\":2,\"linecolor\":\"white\",\"showbackground\":true,\"ticks\":\"\",\"zerolinecolor\":\"white\"}},\"shapedefaults\":{\"line\":{\"color\":\"#2a3f5f\"}},\"ternary\":{\"aaxis\":{\"gridcolor\":\"white\",\"linecolor\":\"white\",\"ticks\":\"\"},\"baxis\":{\"gridcolor\":\"white\",\"linecolor\":\"white\",\"ticks\":\"\"},\"bgcolor\":\"#E5ECF6\",\"caxis\":{\"gridcolor\":\"white\",\"linecolor\":\"white\",\"ticks\":\"\"}},\"title\":{\"x\":0.05},\"xaxis\":{\"automargin\":true,\"gridcolor\":\"white\",\"linecolor\":\"white\",\"ticks\":\"\",\"title\":{\"standoff\":15},\"zerolinecolor\":\"white\",\"zerolinewidth\":2},\"yaxis\":{\"automargin\":true,\"gridcolor\":\"white\",\"linecolor\":\"white\",\"ticks\":\"\",\"title\":{\"standoff\":15},\"zerolinecolor\":\"white\",\"zerolinewidth\":2}}},\"title\":{\"font\":{\"color\":\"#4D5663\"}},\"xaxis\":{\"gridcolor\":\"#E1E5ED\",\"showgrid\":true,\"tickfont\":{\"color\":\"#4D5663\"},\"title\":{\"font\":{\"color\":\"#4D5663\"},\"text\":\"\"},\"zerolinecolor\":\"#E1E5ED\"},\"yaxis\":{\"gridcolor\":\"#E1E5ED\",\"showgrid\":true,\"tickfont\":{\"color\":\"#4D5663\"},\"title\":{\"font\":{\"color\":\"#4D5663\"},\"text\":\"\"},\"zerolinecolor\":\"#E1E5ED\"}},                        {\"showLink\": true, \"linkText\": \"Export to plot.ly\", \"plotlyServerURL\": \"https://plot.ly\", \"responsive\": true}                    ).then(function(){\n",
       "                            \n",
       "var gd = document.getElementById('ef00c8e7-8639-42df-afd1-1ba53a61b92d');\n",
       "var x = new MutationObserver(function (mutations, observer) {{\n",
       "        var display = window.getComputedStyle(gd).display;\n",
       "        if (!display || display === 'none') {{\n",
       "            console.log([gd, 'removed!']);\n",
       "            Plotly.purge(gd);\n",
       "            observer.disconnect();\n",
       "        }}\n",
       "}});\n",
       "\n",
       "// Listen for the removal of the full notebook cells\n",
       "var notebookContainer = gd.closest('#notebook-container');\n",
       "if (notebookContainer) {{\n",
       "    x.observe(notebookContainer, {childList: true});\n",
       "}}\n",
       "\n",
       "// Listen for the clearing of the current output cell\n",
       "var outputEl = gd.closest('.output');\n",
       "if (outputEl) {{\n",
       "    x.observe(outputEl, {childList: true});\n",
       "}}\n",
       "\n",
       "                        })                };                });            </script>        </div>"
      ]
     },
     "metadata": {},
     "output_type": "display_data"
    }
   ],
   "source": [
    "df2.iplot(kind = 'bar', x = 'Category', y = 'Values')"
   ]
  },
  {
   "cell_type": "code",
   "execution_count": 31,
   "metadata": {},
   "outputs": [
    {
     "data": {
      "application/vnd.plotly.v1+json": {
       "config": {
        "linkText": "Export to plot.ly",
        "plotlyServerURL": "https://plot.ly",
        "showLink": true
       },
       "data": [
        {
         "boxpoints": false,
         "line": {
          "width": 1.3
         },
         "marker": {
          "color": "rgba(255, 153, 51, 1.0)"
         },
         "name": "A",
         "orientation": "v",
         "type": "box",
         "y": [
          -1.2647427478653352,
          1.1438411630417042,
          -1.05938509827262,
          1.8504871379847871,
          1.546377535727985,
          0.33451611794517383,
          -0.20870116298576785,
          -1.085679823482335,
          -1.8827930712316268,
          0.22569589428736125,
          -0.14870073272283485,
          1.8097238490035186,
          1.0846129586722046,
          -0.4585050680912217,
          0.6124031613321901,
          0.37538238094067367,
          0.913002050425729,
          1.447532474939569,
          0.37930096970612054,
          0.025491861586942416,
          -0.15303803382175143,
          2.243550303352481,
          -0.9229629605917236,
          0.49440602178430515,
          0.32626850787772976,
          0.43958972584123573,
          0.6294553731378257,
          -0.7267701219717834,
          -2.138340463946718,
          -1.079017623382896,
          1.4986614544652554,
          -0.27121288174569463,
          0.10138278146479278,
          -1.7605830124243214,
          1.4615654271971597,
          1.3732321332042572,
          -0.28009958692970527,
          0.27184356721053654,
          0.014974755371081123,
          -0.044085016801009055,
          -0.46899889415285745,
          1.1953347937424306,
          -1.2073043812004678,
          1.6594422835590357,
          0.2848202010542789,
          -2.0911424322013095,
          1.6745282025401613,
          0.4378371851153993,
          -1.5566653128924857,
          0.21922867812626284,
          -0.9895599822871955,
          0.4074603834542788,
          -0.11399811827797118,
          -0.4189233977822209,
          0.02238550870270797,
          -0.19216353794605404,
          -0.9170130286940688,
          -0.046978406156488545,
          -0.6700104088456724,
          -0.6660851578679424,
          -0.7556852339933507,
          1.2649343600796048,
          1.2777903189647906,
          -0.9126194253381009,
          -0.2632680461538293,
          -1.8546321915498691,
          -0.7390643109977857,
          -0.38372051200700763,
          2.373219972374884,
          0.15575329596422724,
          0.27443916807887914,
          1.5379394148316894,
          1.0156948488155468,
          2.166093192750811,
          -1.0885500209397434,
          0.23426839259810678,
          1.0855996519748596,
          -0.11987274678594355,
          0.44089320789934516,
          -0.4109301897292856,
          0.2707175129727391,
          0.9588832487102428,
          1.0789411110517297,
          0.567636859797784,
          0.27125757376181386,
          2.3036423634178256,
          -1.6393208075066952,
          -1.0635721442192485,
          -1.11636408945502,
          -0.6034849340046708,
          -0.38968839640407177,
          -0.6161479359295967,
          -1.2335152643562908,
          -0.31229004474165456,
          0.7538272605696364,
          -0.004508090178002124,
          -0.819361298514153,
          0.8156450489617879,
          -2.5000383877630896,
          -0.6474385769236347
         ]
        },
        {
         "boxpoints": false,
         "line": {
          "width": 1.3
         },
         "marker": {
          "color": "rgba(55, 128, 191, 1.0)"
         },
         "name": "B",
         "orientation": "v",
         "type": "box",
         "y": [
          -0.1301153686144075,
          -1.6689431191330846,
          -0.20285842315621072,
          0.6785541362910886,
          1.0673918447214745,
          -0.7802583792353444,
          0.30655867142304316,
          -1.2224647788795076,
          1.1866673649667518,
          0.46219911312653267,
          1.4359201163455364,
          -0.7620857646479738,
          0.14999770489209946,
          1.3510418038024503,
          -0.3476238768658763,
          0.3770700580304464,
          -0.08724172549181444,
          0.2895924442947607,
          0.9263808590552806,
          0.6797844247887547,
          -1.4012028849109173,
          0.4826166320718709,
          -0.3922986215993963,
          0.1959231778807618,
          -1.535535001735862,
          -1.81030871675917,
          0.3202113451900208,
          -1.0894993574122724,
          1.2611748564873886,
          0.22952844301244146,
          0.20716481394625794,
          -0.5318471990187423,
          0.1905060425236613,
          0.33116265806516637,
          -0.20501117215077244,
          -0.13440599237475553,
          1.3694492195462487,
          0.12091625643835999,
          0.25879190464332064,
          2.1810934957315435,
          -0.8879443807209912,
          -0.10370330117363438,
          1.172528207746524,
          -0.7504584806919168,
          -1.3481550776944762,
          -0.3961405026321928,
          -0.5999811877451495,
          -0.20504473373920704,
          -0.21748858862191447,
          3.7711129137159305,
          1.2972268923024826,
          1.3275408771993824,
          1.95760339268544,
          0.5264064674229573,
          -0.34976669900318985,
          0.8883004010504278,
          -1.9693253772292125,
          -0.7893855424963484,
          -0.943500652185212,
          -0.9272532594633244,
          0.31683412564341046,
          -1.7173765182063023,
          -0.9556446260766284,
          1.3879797679477532,
          1.388906776125478,
          -1.420945170989908,
          -1.2135311911828452,
          -0.038105740051507325,
          -0.6840302763696385,
          -0.21411043178080405,
          -1.7717125392677908,
          0.3551843961210306,
          -0.18233526845925668,
          0.0018104373033404708,
          -1.746680394865062,
          -1.4466500104106845,
          0.2546409286259897,
          -0.9201116861442346,
          0.03541568708138817,
          0.7880116269458712,
          0.010526015638076014,
          -1.2808253690232152,
          -0.43045698828732787,
          0.1970487702396815,
          1.540825646555996,
          -0.6756201736428282,
          -0.5194461460437366,
          -0.9511847167654712,
          0.9183457485866829,
          0.647385429594174,
          0.9178442142583454,
          0.6336945961461663,
          -0.3235544554780584,
          -0.44720725073444695,
          0.15843502509823545,
          1.2594456193699413,
          0.39248124451512556,
          -0.8898170383869574,
          -1.1275896315623108,
          -0.11851924403056344
         ]
        },
        {
         "boxpoints": false,
         "line": {
          "width": 1.3
         },
         "marker": {
          "color": "rgba(50, 171, 96, 1.0)"
         },
         "name": "C",
         "orientation": "v",
         "type": "box",
         "y": [
          -0.07432342968579692,
          0.8777393170757319,
          -0.268685472600146,
          2.2755479995390724,
          -0.37728094900430725,
          0.1184472486791024,
          -0.29017894624360546,
          1.1158427295735731,
          -0.7758434989150765,
          -0.4790779231648547,
          -2.3250729856442938,
          -1.5534520814003805,
          0.07010582217536217,
          -0.2927700554009269,
          -0.2811455338833278,
          -0.8750958025697672,
          -1.2038965914051378,
          -0.6434231131292169,
          -0.6933378384744655,
          -0.7577773232183364,
          0.5154751557422648,
          -0.5641891223990193,
          -1.2678242521522025,
          0.7580626055782035,
          -1.6437958322617576,
          0.1407262845677634,
          0.734618915207698,
          -2.1253459717396757,
          -0.05320894119059313,
          0.5020172279450783,
          -0.6007903967332062,
          0.4684013807286517,
          -1.247870978194363,
          -0.38664553706485005,
          0.03776818892294396,
          -1.1267882230181745,
          0.9733591024478954,
          0.2930903308635077,
          -0.9356332519517122,
          -0.6153650657932038,
          -2.005219721405772,
          0.4695288178331009,
          -1.073751331509847,
          1.5482237236119312,
          0.6198457881908529,
          -0.642975934936527,
          -0.2386603838651042,
          0.5457898899845418,
          0.008883115991847122,
          0.23611209976553363,
          -1.0661063877070136,
          1.1667594602651707,
          -1.4575667775877763,
          -0.3847504559382402,
          0.09733002200553688,
          0.4310870134831516,
          -0.4525022409739558,
          0.37553198768314006,
          -0.08003213716421696,
          -1.358415695089806,
          -0.45033699452019677,
          -0.3472681257446617,
          -0.06396174660646238,
          0.2953685116668367,
          -0.5716331949998891,
          0.620180982707281,
          0.6178404926900865,
          0.4727830204525924,
          0.0707867733215683,
          0.7700111763387979,
          0.7016979988897313,
          0.9891376074936984,
          0.8455810848569197,
          1.2976137757949149,
          0.18066361919708504,
          -0.14591865517098768,
          -0.38216986888205057,
          1.4135921837446803,
          -0.6035065781423513,
          -0.5376334455997732,
          0.16614548239085303,
          -1.3663504605981143,
          0.8304002429780812,
          0.012290164098070978,
          0.07764199785601283,
          -1.638318478838887,
          0.44109578829677776,
          1.441371191636775,
          0.18436976846990072,
          1.3310878377634119,
          -0.151549605806431,
          0.911745823951154,
          -0.14309957623134648,
          -1.4817145138189582,
          0.4039496314825262,
          0.3603561154744288,
          -0.7410868344261943,
          -0.16394398100005667,
          0.5859320151542924,
          0.6849286686588602
         ]
        },
        {
         "boxpoints": false,
         "line": {
          "width": 1.3
         },
         "marker": {
          "color": "rgba(128, 0, 128, 1.0)"
         },
         "name": "D",
         "orientation": "v",
         "type": "box",
         "y": [
          -0.8863454276883004,
          -0.1645708355236205,
          -0.7673022871715959,
          0.5502003178107542,
          0.5782332646332343,
          -0.2883640033885405,
          -2.4590500778578295,
          0.3814999589068852,
          -0.7848758141315808,
          -0.5886942499702799,
          -1.1801811153934427,
          3.9370432901687895,
          1.1957947402804088,
          0.26039386578231316,
          -0.3865384592129036,
          1.1426080070390392,
          0.15853703541445704,
          1.9434894736718002,
          0.5634047708216215,
          0.4845198129148697,
          1.4778971369029104,
          -0.23522299796185353,
          1.2652058584995227,
          0.39965351876924093,
          1.1342011861190648,
          1.4876317325502424,
          -0.7315044957257623,
          1.2721255156223625,
          -0.5150307609409148,
          0.9191075654871602,
          0.3494876538837761,
          0.7618773037155189,
          -0.2169210404456462,
          -0.3721130554270073,
          -1.0647043052330407,
          -1.798502529073453,
          0.3630921321787982,
          -0.7034208280439024,
          0.41967401887464095,
          1.2408493405964054,
          -0.8649778879766941,
          0.5370630893827874,
          -0.0022656007835508037,
          0.5528593758405621,
          0.6514452462779097,
          -0.7193390468692294,
          0.41363849852505,
          -1.1550876929393719,
          -0.3333227893871169,
          1.1670374072457335,
          -0.193170443946,
          0.9858918067424841,
          0.5352465267173225,
          -0.4214400221911786,
          -0.6058297062984426,
          0.8355805060377944,
          -0.21831842091956985,
          -1.2206737775347731,
          1.0618805543186036,
          0.8256202093395615,
          1.0480969337977304,
          -1.1767596205270556,
          0.22660341445141913,
          -0.02043141145474128,
          -0.3970225663722118,
          -0.06510176853847016,
          2.283918922208758,
          0.36218304941214347,
          -0.43750547101447995,
          0.9572622278046339,
          1.0897298993794287,
          -1.8881741854698473,
          0.24837316037209245,
          0.1576255939153728,
          0.6985460371861626,
          0.577325167618128,
          0.04288007554373437,
          0.0798381463361213,
          0.47021391855991557,
          -1.322498435518512,
          0.807740653757711,
          1.044837675048127,
          0.6683976697470645,
          1.0806151850609549,
          -0.8964360100020632,
          1.4486966483639385,
          -0.7620826886466616,
          -1.1840753631011112,
          0.5826196587773148,
          1.2446553971162422,
          -0.2497319817787376,
          1.000513118384911,
          0.23676817902069075,
          1.1611010130583208,
          0.31636924126830085,
          -0.8080503861933555,
          -0.14720794930826459,
          1.5075623463079884,
          0.28587340189621624,
          -0.34528881368554365
         ]
        }
       ],
       "layout": {
        "legend": {
         "bgcolor": "#F5F6F9",
         "font": {
          "color": "#4D5663"
         }
        },
        "paper_bgcolor": "#F5F6F9",
        "plot_bgcolor": "#F5F6F9",
        "template": {
         "data": {
          "bar": [
           {
            "error_x": {
             "color": "#2a3f5f"
            },
            "error_y": {
             "color": "#2a3f5f"
            },
            "marker": {
             "line": {
              "color": "#E5ECF6",
              "width": 0.5
             },
             "pattern": {
              "fillmode": "overlay",
              "size": 10,
              "solidity": 0.2
             }
            },
            "type": "bar"
           }
          ],
          "barpolar": [
           {
            "marker": {
             "line": {
              "color": "#E5ECF6",
              "width": 0.5
             },
             "pattern": {
              "fillmode": "overlay",
              "size": 10,
              "solidity": 0.2
             }
            },
            "type": "barpolar"
           }
          ],
          "carpet": [
           {
            "aaxis": {
             "endlinecolor": "#2a3f5f",
             "gridcolor": "white",
             "linecolor": "white",
             "minorgridcolor": "white",
             "startlinecolor": "#2a3f5f"
            },
            "baxis": {
             "endlinecolor": "#2a3f5f",
             "gridcolor": "white",
             "linecolor": "white",
             "minorgridcolor": "white",
             "startlinecolor": "#2a3f5f"
            },
            "type": "carpet"
           }
          ],
          "choropleth": [
           {
            "colorbar": {
             "outlinewidth": 0,
             "ticks": ""
            },
            "type": "choropleth"
           }
          ],
          "contour": [
           {
            "colorbar": {
             "outlinewidth": 0,
             "ticks": ""
            },
            "colorscale": [
             [
              0,
              "#0d0887"
             ],
             [
              0.1111111111111111,
              "#46039f"
             ],
             [
              0.2222222222222222,
              "#7201a8"
             ],
             [
              0.3333333333333333,
              "#9c179e"
             ],
             [
              0.4444444444444444,
              "#bd3786"
             ],
             [
              0.5555555555555556,
              "#d8576b"
             ],
             [
              0.6666666666666666,
              "#ed7953"
             ],
             [
              0.7777777777777778,
              "#fb9f3a"
             ],
             [
              0.8888888888888888,
              "#fdca26"
             ],
             [
              1,
              "#f0f921"
             ]
            ],
            "type": "contour"
           }
          ],
          "contourcarpet": [
           {
            "colorbar": {
             "outlinewidth": 0,
             "ticks": ""
            },
            "type": "contourcarpet"
           }
          ],
          "heatmap": [
           {
            "colorbar": {
             "outlinewidth": 0,
             "ticks": ""
            },
            "colorscale": [
             [
              0,
              "#0d0887"
             ],
             [
              0.1111111111111111,
              "#46039f"
             ],
             [
              0.2222222222222222,
              "#7201a8"
             ],
             [
              0.3333333333333333,
              "#9c179e"
             ],
             [
              0.4444444444444444,
              "#bd3786"
             ],
             [
              0.5555555555555556,
              "#d8576b"
             ],
             [
              0.6666666666666666,
              "#ed7953"
             ],
             [
              0.7777777777777778,
              "#fb9f3a"
             ],
             [
              0.8888888888888888,
              "#fdca26"
             ],
             [
              1,
              "#f0f921"
             ]
            ],
            "type": "heatmap"
           }
          ],
          "heatmapgl": [
           {
            "colorbar": {
             "outlinewidth": 0,
             "ticks": ""
            },
            "colorscale": [
             [
              0,
              "#0d0887"
             ],
             [
              0.1111111111111111,
              "#46039f"
             ],
             [
              0.2222222222222222,
              "#7201a8"
             ],
             [
              0.3333333333333333,
              "#9c179e"
             ],
             [
              0.4444444444444444,
              "#bd3786"
             ],
             [
              0.5555555555555556,
              "#d8576b"
             ],
             [
              0.6666666666666666,
              "#ed7953"
             ],
             [
              0.7777777777777778,
              "#fb9f3a"
             ],
             [
              0.8888888888888888,
              "#fdca26"
             ],
             [
              1,
              "#f0f921"
             ]
            ],
            "type": "heatmapgl"
           }
          ],
          "histogram": [
           {
            "marker": {
             "pattern": {
              "fillmode": "overlay",
              "size": 10,
              "solidity": 0.2
             }
            },
            "type": "histogram"
           }
          ],
          "histogram2d": [
           {
            "colorbar": {
             "outlinewidth": 0,
             "ticks": ""
            },
            "colorscale": [
             [
              0,
              "#0d0887"
             ],
             [
              0.1111111111111111,
              "#46039f"
             ],
             [
              0.2222222222222222,
              "#7201a8"
             ],
             [
              0.3333333333333333,
              "#9c179e"
             ],
             [
              0.4444444444444444,
              "#bd3786"
             ],
             [
              0.5555555555555556,
              "#d8576b"
             ],
             [
              0.6666666666666666,
              "#ed7953"
             ],
             [
              0.7777777777777778,
              "#fb9f3a"
             ],
             [
              0.8888888888888888,
              "#fdca26"
             ],
             [
              1,
              "#f0f921"
             ]
            ],
            "type": "histogram2d"
           }
          ],
          "histogram2dcontour": [
           {
            "colorbar": {
             "outlinewidth": 0,
             "ticks": ""
            },
            "colorscale": [
             [
              0,
              "#0d0887"
             ],
             [
              0.1111111111111111,
              "#46039f"
             ],
             [
              0.2222222222222222,
              "#7201a8"
             ],
             [
              0.3333333333333333,
              "#9c179e"
             ],
             [
              0.4444444444444444,
              "#bd3786"
             ],
             [
              0.5555555555555556,
              "#d8576b"
             ],
             [
              0.6666666666666666,
              "#ed7953"
             ],
             [
              0.7777777777777778,
              "#fb9f3a"
             ],
             [
              0.8888888888888888,
              "#fdca26"
             ],
             [
              1,
              "#f0f921"
             ]
            ],
            "type": "histogram2dcontour"
           }
          ],
          "mesh3d": [
           {
            "colorbar": {
             "outlinewidth": 0,
             "ticks": ""
            },
            "type": "mesh3d"
           }
          ],
          "parcoords": [
           {
            "line": {
             "colorbar": {
              "outlinewidth": 0,
              "ticks": ""
             }
            },
            "type": "parcoords"
           }
          ],
          "pie": [
           {
            "automargin": true,
            "type": "pie"
           }
          ],
          "scatter": [
           {
            "marker": {
             "colorbar": {
              "outlinewidth": 0,
              "ticks": ""
             }
            },
            "type": "scatter"
           }
          ],
          "scatter3d": [
           {
            "line": {
             "colorbar": {
              "outlinewidth": 0,
              "ticks": ""
             }
            },
            "marker": {
             "colorbar": {
              "outlinewidth": 0,
              "ticks": ""
             }
            },
            "type": "scatter3d"
           }
          ],
          "scattercarpet": [
           {
            "marker": {
             "colorbar": {
              "outlinewidth": 0,
              "ticks": ""
             }
            },
            "type": "scattercarpet"
           }
          ],
          "scattergeo": [
           {
            "marker": {
             "colorbar": {
              "outlinewidth": 0,
              "ticks": ""
             }
            },
            "type": "scattergeo"
           }
          ],
          "scattergl": [
           {
            "marker": {
             "colorbar": {
              "outlinewidth": 0,
              "ticks": ""
             }
            },
            "type": "scattergl"
           }
          ],
          "scattermapbox": [
           {
            "marker": {
             "colorbar": {
              "outlinewidth": 0,
              "ticks": ""
             }
            },
            "type": "scattermapbox"
           }
          ],
          "scatterpolar": [
           {
            "marker": {
             "colorbar": {
              "outlinewidth": 0,
              "ticks": ""
             }
            },
            "type": "scatterpolar"
           }
          ],
          "scatterpolargl": [
           {
            "marker": {
             "colorbar": {
              "outlinewidth": 0,
              "ticks": ""
             }
            },
            "type": "scatterpolargl"
           }
          ],
          "scatterternary": [
           {
            "marker": {
             "colorbar": {
              "outlinewidth": 0,
              "ticks": ""
             }
            },
            "type": "scatterternary"
           }
          ],
          "surface": [
           {
            "colorbar": {
             "outlinewidth": 0,
             "ticks": ""
            },
            "colorscale": [
             [
              0,
              "#0d0887"
             ],
             [
              0.1111111111111111,
              "#46039f"
             ],
             [
              0.2222222222222222,
              "#7201a8"
             ],
             [
              0.3333333333333333,
              "#9c179e"
             ],
             [
              0.4444444444444444,
              "#bd3786"
             ],
             [
              0.5555555555555556,
              "#d8576b"
             ],
             [
              0.6666666666666666,
              "#ed7953"
             ],
             [
              0.7777777777777778,
              "#fb9f3a"
             ],
             [
              0.8888888888888888,
              "#fdca26"
             ],
             [
              1,
              "#f0f921"
             ]
            ],
            "type": "surface"
           }
          ],
          "table": [
           {
            "cells": {
             "fill": {
              "color": "#EBF0F8"
             },
             "line": {
              "color": "white"
             }
            },
            "header": {
             "fill": {
              "color": "#C8D4E3"
             },
             "line": {
              "color": "white"
             }
            },
            "type": "table"
           }
          ]
         },
         "layout": {
          "annotationdefaults": {
           "arrowcolor": "#2a3f5f",
           "arrowhead": 0,
           "arrowwidth": 1
          },
          "autotypenumbers": "strict",
          "coloraxis": {
           "colorbar": {
            "outlinewidth": 0,
            "ticks": ""
           }
          },
          "colorscale": {
           "diverging": [
            [
             0,
             "#8e0152"
            ],
            [
             0.1,
             "#c51b7d"
            ],
            [
             0.2,
             "#de77ae"
            ],
            [
             0.3,
             "#f1b6da"
            ],
            [
             0.4,
             "#fde0ef"
            ],
            [
             0.5,
             "#f7f7f7"
            ],
            [
             0.6,
             "#e6f5d0"
            ],
            [
             0.7,
             "#b8e186"
            ],
            [
             0.8,
             "#7fbc41"
            ],
            [
             0.9,
             "#4d9221"
            ],
            [
             1,
             "#276419"
            ]
           ],
           "sequential": [
            [
             0,
             "#0d0887"
            ],
            [
             0.1111111111111111,
             "#46039f"
            ],
            [
             0.2222222222222222,
             "#7201a8"
            ],
            [
             0.3333333333333333,
             "#9c179e"
            ],
            [
             0.4444444444444444,
             "#bd3786"
            ],
            [
             0.5555555555555556,
             "#d8576b"
            ],
            [
             0.6666666666666666,
             "#ed7953"
            ],
            [
             0.7777777777777778,
             "#fb9f3a"
            ],
            [
             0.8888888888888888,
             "#fdca26"
            ],
            [
             1,
             "#f0f921"
            ]
           ],
           "sequentialminus": [
            [
             0,
             "#0d0887"
            ],
            [
             0.1111111111111111,
             "#46039f"
            ],
            [
             0.2222222222222222,
             "#7201a8"
            ],
            [
             0.3333333333333333,
             "#9c179e"
            ],
            [
             0.4444444444444444,
             "#bd3786"
            ],
            [
             0.5555555555555556,
             "#d8576b"
            ],
            [
             0.6666666666666666,
             "#ed7953"
            ],
            [
             0.7777777777777778,
             "#fb9f3a"
            ],
            [
             0.8888888888888888,
             "#fdca26"
            ],
            [
             1,
             "#f0f921"
            ]
           ]
          },
          "colorway": [
           "#636efa",
           "#EF553B",
           "#00cc96",
           "#ab63fa",
           "#FFA15A",
           "#19d3f3",
           "#FF6692",
           "#B6E880",
           "#FF97FF",
           "#FECB52"
          ],
          "font": {
           "color": "#2a3f5f"
          },
          "geo": {
           "bgcolor": "white",
           "lakecolor": "white",
           "landcolor": "#E5ECF6",
           "showlakes": true,
           "showland": true,
           "subunitcolor": "white"
          },
          "hoverlabel": {
           "align": "left"
          },
          "hovermode": "closest",
          "mapbox": {
           "style": "light"
          },
          "paper_bgcolor": "white",
          "plot_bgcolor": "#E5ECF6",
          "polar": {
           "angularaxis": {
            "gridcolor": "white",
            "linecolor": "white",
            "ticks": ""
           },
           "bgcolor": "#E5ECF6",
           "radialaxis": {
            "gridcolor": "white",
            "linecolor": "white",
            "ticks": ""
           }
          },
          "scene": {
           "xaxis": {
            "backgroundcolor": "#E5ECF6",
            "gridcolor": "white",
            "gridwidth": 2,
            "linecolor": "white",
            "showbackground": true,
            "ticks": "",
            "zerolinecolor": "white"
           },
           "yaxis": {
            "backgroundcolor": "#E5ECF6",
            "gridcolor": "white",
            "gridwidth": 2,
            "linecolor": "white",
            "showbackground": true,
            "ticks": "",
            "zerolinecolor": "white"
           },
           "zaxis": {
            "backgroundcolor": "#E5ECF6",
            "gridcolor": "white",
            "gridwidth": 2,
            "linecolor": "white",
            "showbackground": true,
            "ticks": "",
            "zerolinecolor": "white"
           }
          },
          "shapedefaults": {
           "line": {
            "color": "#2a3f5f"
           }
          },
          "ternary": {
           "aaxis": {
            "gridcolor": "white",
            "linecolor": "white",
            "ticks": ""
           },
           "baxis": {
            "gridcolor": "white",
            "linecolor": "white",
            "ticks": ""
           },
           "bgcolor": "#E5ECF6",
           "caxis": {
            "gridcolor": "white",
            "linecolor": "white",
            "ticks": ""
           }
          },
          "title": {
           "x": 0.05
          },
          "xaxis": {
           "automargin": true,
           "gridcolor": "white",
           "linecolor": "white",
           "ticks": "",
           "title": {
            "standoff": 15
           },
           "zerolinecolor": "white",
           "zerolinewidth": 2
          },
          "yaxis": {
           "automargin": true,
           "gridcolor": "white",
           "linecolor": "white",
           "ticks": "",
           "title": {
            "standoff": 15
           },
           "zerolinecolor": "white",
           "zerolinewidth": 2
          }
         }
        },
        "title": {
         "font": {
          "color": "#4D5663"
         }
        },
        "xaxis": {
         "gridcolor": "#E1E5ED",
         "showgrid": true,
         "tickfont": {
          "color": "#4D5663"
         },
         "title": {
          "font": {
           "color": "#4D5663"
          },
          "text": ""
         },
         "zerolinecolor": "#E1E5ED"
        },
        "yaxis": {
         "gridcolor": "#E1E5ED",
         "showgrid": true,
         "tickfont": {
          "color": "#4D5663"
         },
         "title": {
          "font": {
           "color": "#4D5663"
          },
          "text": ""
         },
         "zerolinecolor": "#E1E5ED"
        }
       }
      },
      "text/html": [
       "<div>                            <div id=\"62d4d19b-6845-41df-91b5-fa7f6b6910f1\" class=\"plotly-graph-div\" style=\"height:525px; width:100%;\"></div>            <script type=\"text/javascript\">                require([\"plotly\"], function(Plotly) {                    window.PLOTLYENV=window.PLOTLYENV || {};\n",
       "                    window.PLOTLYENV.BASE_URL='https://plot.ly';                                    if (document.getElementById(\"62d4d19b-6845-41df-91b5-fa7f6b6910f1\")) {                    Plotly.newPlot(                        \"62d4d19b-6845-41df-91b5-fa7f6b6910f1\",                        [{\"boxpoints\":false,\"line\":{\"width\":1.3},\"marker\":{\"color\":\"rgba(255, 153, 51, 1.0)\"},\"name\":\"A\",\"orientation\":\"v\",\"type\":\"box\",\"y\":[-1.2647427478653352,1.1438411630417042,-1.05938509827262,1.8504871379847871,1.546377535727985,0.33451611794517383,-0.20870116298576785,-1.085679823482335,-1.8827930712316268,0.22569589428736125,-0.14870073272283485,1.8097238490035186,1.0846129586722046,-0.4585050680912217,0.6124031613321901,0.37538238094067367,0.913002050425729,1.447532474939569,0.37930096970612054,0.025491861586942416,-0.15303803382175143,2.243550303352481,-0.9229629605917236,0.49440602178430515,0.32626850787772976,0.43958972584123573,0.6294553731378257,-0.7267701219717834,-2.138340463946718,-1.079017623382896,1.4986614544652554,-0.27121288174569463,0.10138278146479278,-1.7605830124243214,1.4615654271971597,1.3732321332042572,-0.28009958692970527,0.27184356721053654,0.014974755371081123,-0.044085016801009055,-0.46899889415285745,1.1953347937424306,-1.2073043812004678,1.6594422835590357,0.2848202010542789,-2.0911424322013095,1.6745282025401613,0.4378371851153993,-1.5566653128924857,0.21922867812626284,-0.9895599822871955,0.4074603834542788,-0.11399811827797118,-0.4189233977822209,0.02238550870270797,-0.19216353794605404,-0.9170130286940688,-0.046978406156488545,-0.6700104088456724,-0.6660851578679424,-0.7556852339933507,1.2649343600796048,1.2777903189647906,-0.9126194253381009,-0.2632680461538293,-1.8546321915498691,-0.7390643109977857,-0.38372051200700763,2.373219972374884,0.15575329596422724,0.27443916807887914,1.5379394148316894,1.0156948488155468,2.166093192750811,-1.0885500209397434,0.23426839259810678,1.0855996519748596,-0.11987274678594355,0.44089320789934516,-0.4109301897292856,0.2707175129727391,0.9588832487102428,1.0789411110517297,0.567636859797784,0.27125757376181386,2.3036423634178256,-1.6393208075066952,-1.0635721442192485,-1.11636408945502,-0.6034849340046708,-0.38968839640407177,-0.6161479359295967,-1.2335152643562908,-0.31229004474165456,0.7538272605696364,-0.004508090178002124,-0.819361298514153,0.8156450489617879,-2.5000383877630896,-0.6474385769236347]},{\"boxpoints\":false,\"line\":{\"width\":1.3},\"marker\":{\"color\":\"rgba(55, 128, 191, 1.0)\"},\"name\":\"B\",\"orientation\":\"v\",\"type\":\"box\",\"y\":[-0.1301153686144075,-1.6689431191330846,-0.20285842315621072,0.6785541362910886,1.0673918447214745,-0.7802583792353444,0.30655867142304316,-1.2224647788795076,1.1866673649667518,0.46219911312653267,1.4359201163455364,-0.7620857646479738,0.14999770489209946,1.3510418038024503,-0.3476238768658763,0.3770700580304464,-0.08724172549181444,0.2895924442947607,0.9263808590552806,0.6797844247887547,-1.4012028849109173,0.4826166320718709,-0.3922986215993963,0.1959231778807618,-1.535535001735862,-1.81030871675917,0.3202113451900208,-1.0894993574122724,1.2611748564873886,0.22952844301244146,0.20716481394625794,-0.5318471990187423,0.1905060425236613,0.33116265806516637,-0.20501117215077244,-0.13440599237475553,1.3694492195462487,0.12091625643835999,0.25879190464332064,2.1810934957315435,-0.8879443807209912,-0.10370330117363438,1.172528207746524,-0.7504584806919168,-1.3481550776944762,-0.3961405026321928,-0.5999811877451495,-0.20504473373920704,-0.21748858862191447,3.7711129137159305,1.2972268923024826,1.3275408771993824,1.95760339268544,0.5264064674229573,-0.34976669900318985,0.8883004010504278,-1.9693253772292125,-0.7893855424963484,-0.943500652185212,-0.9272532594633244,0.31683412564341046,-1.7173765182063023,-0.9556446260766284,1.3879797679477532,1.388906776125478,-1.420945170989908,-1.2135311911828452,-0.038105740051507325,-0.6840302763696385,-0.21411043178080405,-1.7717125392677908,0.3551843961210306,-0.18233526845925668,0.0018104373033404708,-1.746680394865062,-1.4466500104106845,0.2546409286259897,-0.9201116861442346,0.03541568708138817,0.7880116269458712,0.010526015638076014,-1.2808253690232152,-0.43045698828732787,0.1970487702396815,1.540825646555996,-0.6756201736428282,-0.5194461460437366,-0.9511847167654712,0.9183457485866829,0.647385429594174,0.9178442142583454,0.6336945961461663,-0.3235544554780584,-0.44720725073444695,0.15843502509823545,1.2594456193699413,0.39248124451512556,-0.8898170383869574,-1.1275896315623108,-0.11851924403056344]},{\"boxpoints\":false,\"line\":{\"width\":1.3},\"marker\":{\"color\":\"rgba(50, 171, 96, 1.0)\"},\"name\":\"C\",\"orientation\":\"v\",\"type\":\"box\",\"y\":[-0.07432342968579692,0.8777393170757319,-0.268685472600146,2.2755479995390724,-0.37728094900430725,0.1184472486791024,-0.29017894624360546,1.1158427295735731,-0.7758434989150765,-0.4790779231648547,-2.3250729856442938,-1.5534520814003805,0.07010582217536217,-0.2927700554009269,-0.2811455338833278,-0.8750958025697672,-1.2038965914051378,-0.6434231131292169,-0.6933378384744655,-0.7577773232183364,0.5154751557422648,-0.5641891223990193,-1.2678242521522025,0.7580626055782035,-1.6437958322617576,0.1407262845677634,0.734618915207698,-2.1253459717396757,-0.05320894119059313,0.5020172279450783,-0.6007903967332062,0.4684013807286517,-1.247870978194363,-0.38664553706485005,0.03776818892294396,-1.1267882230181745,0.9733591024478954,0.2930903308635077,-0.9356332519517122,-0.6153650657932038,-2.005219721405772,0.4695288178331009,-1.073751331509847,1.5482237236119312,0.6198457881908529,-0.642975934936527,-0.2386603838651042,0.5457898899845418,0.008883115991847122,0.23611209976553363,-1.0661063877070136,1.1667594602651707,-1.4575667775877763,-0.3847504559382402,0.09733002200553688,0.4310870134831516,-0.4525022409739558,0.37553198768314006,-0.08003213716421696,-1.358415695089806,-0.45033699452019677,-0.3472681257446617,-0.06396174660646238,0.2953685116668367,-0.5716331949998891,0.620180982707281,0.6178404926900865,0.4727830204525924,0.0707867733215683,0.7700111763387979,0.7016979988897313,0.9891376074936984,0.8455810848569197,1.2976137757949149,0.18066361919708504,-0.14591865517098768,-0.38216986888205057,1.4135921837446803,-0.6035065781423513,-0.5376334455997732,0.16614548239085303,-1.3663504605981143,0.8304002429780812,0.012290164098070978,0.07764199785601283,-1.638318478838887,0.44109578829677776,1.441371191636775,0.18436976846990072,1.3310878377634119,-0.151549605806431,0.911745823951154,-0.14309957623134648,-1.4817145138189582,0.4039496314825262,0.3603561154744288,-0.7410868344261943,-0.16394398100005667,0.5859320151542924,0.6849286686588602]},{\"boxpoints\":false,\"line\":{\"width\":1.3},\"marker\":{\"color\":\"rgba(128, 0, 128, 1.0)\"},\"name\":\"D\",\"orientation\":\"v\",\"type\":\"box\",\"y\":[-0.8863454276883004,-0.1645708355236205,-0.7673022871715959,0.5502003178107542,0.5782332646332343,-0.2883640033885405,-2.4590500778578295,0.3814999589068852,-0.7848758141315808,-0.5886942499702799,-1.1801811153934427,3.9370432901687895,1.1957947402804088,0.26039386578231316,-0.3865384592129036,1.1426080070390392,0.15853703541445704,1.9434894736718002,0.5634047708216215,0.4845198129148697,1.4778971369029104,-0.23522299796185353,1.2652058584995227,0.39965351876924093,1.1342011861190648,1.4876317325502424,-0.7315044957257623,1.2721255156223625,-0.5150307609409148,0.9191075654871602,0.3494876538837761,0.7618773037155189,-0.2169210404456462,-0.3721130554270073,-1.0647043052330407,-1.798502529073453,0.3630921321787982,-0.7034208280439024,0.41967401887464095,1.2408493405964054,-0.8649778879766941,0.5370630893827874,-0.0022656007835508037,0.5528593758405621,0.6514452462779097,-0.7193390468692294,0.41363849852505,-1.1550876929393719,-0.3333227893871169,1.1670374072457335,-0.193170443946,0.9858918067424841,0.5352465267173225,-0.4214400221911786,-0.6058297062984426,0.8355805060377944,-0.21831842091956985,-1.2206737775347731,1.0618805543186036,0.8256202093395615,1.0480969337977304,-1.1767596205270556,0.22660341445141913,-0.02043141145474128,-0.3970225663722118,-0.06510176853847016,2.283918922208758,0.36218304941214347,-0.43750547101447995,0.9572622278046339,1.0897298993794287,-1.8881741854698473,0.24837316037209245,0.1576255939153728,0.6985460371861626,0.577325167618128,0.04288007554373437,0.0798381463361213,0.47021391855991557,-1.322498435518512,0.807740653757711,1.044837675048127,0.6683976697470645,1.0806151850609549,-0.8964360100020632,1.4486966483639385,-0.7620826886466616,-1.1840753631011112,0.5826196587773148,1.2446553971162422,-0.2497319817787376,1.000513118384911,0.23676817902069075,1.1611010130583208,0.31636924126830085,-0.8080503861933555,-0.14720794930826459,1.5075623463079884,0.28587340189621624,-0.34528881368554365]}],                        {\"legend\":{\"bgcolor\":\"#F5F6F9\",\"font\":{\"color\":\"#4D5663\"}},\"paper_bgcolor\":\"#F5F6F9\",\"plot_bgcolor\":\"#F5F6F9\",\"template\":{\"data\":{\"bar\":[{\"error_x\":{\"color\":\"#2a3f5f\"},\"error_y\":{\"color\":\"#2a3f5f\"},\"marker\":{\"line\":{\"color\":\"#E5ECF6\",\"width\":0.5},\"pattern\":{\"fillmode\":\"overlay\",\"size\":10,\"solidity\":0.2}},\"type\":\"bar\"}],\"barpolar\":[{\"marker\":{\"line\":{\"color\":\"#E5ECF6\",\"width\":0.5},\"pattern\":{\"fillmode\":\"overlay\",\"size\":10,\"solidity\":0.2}},\"type\":\"barpolar\"}],\"carpet\":[{\"aaxis\":{\"endlinecolor\":\"#2a3f5f\",\"gridcolor\":\"white\",\"linecolor\":\"white\",\"minorgridcolor\":\"white\",\"startlinecolor\":\"#2a3f5f\"},\"baxis\":{\"endlinecolor\":\"#2a3f5f\",\"gridcolor\":\"white\",\"linecolor\":\"white\",\"minorgridcolor\":\"white\",\"startlinecolor\":\"#2a3f5f\"},\"type\":\"carpet\"}],\"choropleth\":[{\"colorbar\":{\"outlinewidth\":0,\"ticks\":\"\"},\"type\":\"choropleth\"}],\"contour\":[{\"colorbar\":{\"outlinewidth\":0,\"ticks\":\"\"},\"colorscale\":[[0.0,\"#0d0887\"],[0.1111111111111111,\"#46039f\"],[0.2222222222222222,\"#7201a8\"],[0.3333333333333333,\"#9c179e\"],[0.4444444444444444,\"#bd3786\"],[0.5555555555555556,\"#d8576b\"],[0.6666666666666666,\"#ed7953\"],[0.7777777777777778,\"#fb9f3a\"],[0.8888888888888888,\"#fdca26\"],[1.0,\"#f0f921\"]],\"type\":\"contour\"}],\"contourcarpet\":[{\"colorbar\":{\"outlinewidth\":0,\"ticks\":\"\"},\"type\":\"contourcarpet\"}],\"heatmap\":[{\"colorbar\":{\"outlinewidth\":0,\"ticks\":\"\"},\"colorscale\":[[0.0,\"#0d0887\"],[0.1111111111111111,\"#46039f\"],[0.2222222222222222,\"#7201a8\"],[0.3333333333333333,\"#9c179e\"],[0.4444444444444444,\"#bd3786\"],[0.5555555555555556,\"#d8576b\"],[0.6666666666666666,\"#ed7953\"],[0.7777777777777778,\"#fb9f3a\"],[0.8888888888888888,\"#fdca26\"],[1.0,\"#f0f921\"]],\"type\":\"heatmap\"}],\"heatmapgl\":[{\"colorbar\":{\"outlinewidth\":0,\"ticks\":\"\"},\"colorscale\":[[0.0,\"#0d0887\"],[0.1111111111111111,\"#46039f\"],[0.2222222222222222,\"#7201a8\"],[0.3333333333333333,\"#9c179e\"],[0.4444444444444444,\"#bd3786\"],[0.5555555555555556,\"#d8576b\"],[0.6666666666666666,\"#ed7953\"],[0.7777777777777778,\"#fb9f3a\"],[0.8888888888888888,\"#fdca26\"],[1.0,\"#f0f921\"]],\"type\":\"heatmapgl\"}],\"histogram\":[{\"marker\":{\"pattern\":{\"fillmode\":\"overlay\",\"size\":10,\"solidity\":0.2}},\"type\":\"histogram\"}],\"histogram2d\":[{\"colorbar\":{\"outlinewidth\":0,\"ticks\":\"\"},\"colorscale\":[[0.0,\"#0d0887\"],[0.1111111111111111,\"#46039f\"],[0.2222222222222222,\"#7201a8\"],[0.3333333333333333,\"#9c179e\"],[0.4444444444444444,\"#bd3786\"],[0.5555555555555556,\"#d8576b\"],[0.6666666666666666,\"#ed7953\"],[0.7777777777777778,\"#fb9f3a\"],[0.8888888888888888,\"#fdca26\"],[1.0,\"#f0f921\"]],\"type\":\"histogram2d\"}],\"histogram2dcontour\":[{\"colorbar\":{\"outlinewidth\":0,\"ticks\":\"\"},\"colorscale\":[[0.0,\"#0d0887\"],[0.1111111111111111,\"#46039f\"],[0.2222222222222222,\"#7201a8\"],[0.3333333333333333,\"#9c179e\"],[0.4444444444444444,\"#bd3786\"],[0.5555555555555556,\"#d8576b\"],[0.6666666666666666,\"#ed7953\"],[0.7777777777777778,\"#fb9f3a\"],[0.8888888888888888,\"#fdca26\"],[1.0,\"#f0f921\"]],\"type\":\"histogram2dcontour\"}],\"mesh3d\":[{\"colorbar\":{\"outlinewidth\":0,\"ticks\":\"\"},\"type\":\"mesh3d\"}],\"parcoords\":[{\"line\":{\"colorbar\":{\"outlinewidth\":0,\"ticks\":\"\"}},\"type\":\"parcoords\"}],\"pie\":[{\"automargin\":true,\"type\":\"pie\"}],\"scatter\":[{\"marker\":{\"colorbar\":{\"outlinewidth\":0,\"ticks\":\"\"}},\"type\":\"scatter\"}],\"scatter3d\":[{\"line\":{\"colorbar\":{\"outlinewidth\":0,\"ticks\":\"\"}},\"marker\":{\"colorbar\":{\"outlinewidth\":0,\"ticks\":\"\"}},\"type\":\"scatter3d\"}],\"scattercarpet\":[{\"marker\":{\"colorbar\":{\"outlinewidth\":0,\"ticks\":\"\"}},\"type\":\"scattercarpet\"}],\"scattergeo\":[{\"marker\":{\"colorbar\":{\"outlinewidth\":0,\"ticks\":\"\"}},\"type\":\"scattergeo\"}],\"scattergl\":[{\"marker\":{\"colorbar\":{\"outlinewidth\":0,\"ticks\":\"\"}},\"type\":\"scattergl\"}],\"scattermapbox\":[{\"marker\":{\"colorbar\":{\"outlinewidth\":0,\"ticks\":\"\"}},\"type\":\"scattermapbox\"}],\"scatterpolar\":[{\"marker\":{\"colorbar\":{\"outlinewidth\":0,\"ticks\":\"\"}},\"type\":\"scatterpolar\"}],\"scatterpolargl\":[{\"marker\":{\"colorbar\":{\"outlinewidth\":0,\"ticks\":\"\"}},\"type\":\"scatterpolargl\"}],\"scatterternary\":[{\"marker\":{\"colorbar\":{\"outlinewidth\":0,\"ticks\":\"\"}},\"type\":\"scatterternary\"}],\"surface\":[{\"colorbar\":{\"outlinewidth\":0,\"ticks\":\"\"},\"colorscale\":[[0.0,\"#0d0887\"],[0.1111111111111111,\"#46039f\"],[0.2222222222222222,\"#7201a8\"],[0.3333333333333333,\"#9c179e\"],[0.4444444444444444,\"#bd3786\"],[0.5555555555555556,\"#d8576b\"],[0.6666666666666666,\"#ed7953\"],[0.7777777777777778,\"#fb9f3a\"],[0.8888888888888888,\"#fdca26\"],[1.0,\"#f0f921\"]],\"type\":\"surface\"}],\"table\":[{\"cells\":{\"fill\":{\"color\":\"#EBF0F8\"},\"line\":{\"color\":\"white\"}},\"header\":{\"fill\":{\"color\":\"#C8D4E3\"},\"line\":{\"color\":\"white\"}},\"type\":\"table\"}]},\"layout\":{\"annotationdefaults\":{\"arrowcolor\":\"#2a3f5f\",\"arrowhead\":0,\"arrowwidth\":1},\"autotypenumbers\":\"strict\",\"coloraxis\":{\"colorbar\":{\"outlinewidth\":0,\"ticks\":\"\"}},\"colorscale\":{\"diverging\":[[0,\"#8e0152\"],[0.1,\"#c51b7d\"],[0.2,\"#de77ae\"],[0.3,\"#f1b6da\"],[0.4,\"#fde0ef\"],[0.5,\"#f7f7f7\"],[0.6,\"#e6f5d0\"],[0.7,\"#b8e186\"],[0.8,\"#7fbc41\"],[0.9,\"#4d9221\"],[1,\"#276419\"]],\"sequential\":[[0.0,\"#0d0887\"],[0.1111111111111111,\"#46039f\"],[0.2222222222222222,\"#7201a8\"],[0.3333333333333333,\"#9c179e\"],[0.4444444444444444,\"#bd3786\"],[0.5555555555555556,\"#d8576b\"],[0.6666666666666666,\"#ed7953\"],[0.7777777777777778,\"#fb9f3a\"],[0.8888888888888888,\"#fdca26\"],[1.0,\"#f0f921\"]],\"sequentialminus\":[[0.0,\"#0d0887\"],[0.1111111111111111,\"#46039f\"],[0.2222222222222222,\"#7201a8\"],[0.3333333333333333,\"#9c179e\"],[0.4444444444444444,\"#bd3786\"],[0.5555555555555556,\"#d8576b\"],[0.6666666666666666,\"#ed7953\"],[0.7777777777777778,\"#fb9f3a\"],[0.8888888888888888,\"#fdca26\"],[1.0,\"#f0f921\"]]},\"colorway\":[\"#636efa\",\"#EF553B\",\"#00cc96\",\"#ab63fa\",\"#FFA15A\",\"#19d3f3\",\"#FF6692\",\"#B6E880\",\"#FF97FF\",\"#FECB52\"],\"font\":{\"color\":\"#2a3f5f\"},\"geo\":{\"bgcolor\":\"white\",\"lakecolor\":\"white\",\"landcolor\":\"#E5ECF6\",\"showlakes\":true,\"showland\":true,\"subunitcolor\":\"white\"},\"hoverlabel\":{\"align\":\"left\"},\"hovermode\":\"closest\",\"mapbox\":{\"style\":\"light\"},\"paper_bgcolor\":\"white\",\"plot_bgcolor\":\"#E5ECF6\",\"polar\":{\"angularaxis\":{\"gridcolor\":\"white\",\"linecolor\":\"white\",\"ticks\":\"\"},\"bgcolor\":\"#E5ECF6\",\"radialaxis\":{\"gridcolor\":\"white\",\"linecolor\":\"white\",\"ticks\":\"\"}},\"scene\":{\"xaxis\":{\"backgroundcolor\":\"#E5ECF6\",\"gridcolor\":\"white\",\"gridwidth\":2,\"linecolor\":\"white\",\"showbackground\":true,\"ticks\":\"\",\"zerolinecolor\":\"white\"},\"yaxis\":{\"backgroundcolor\":\"#E5ECF6\",\"gridcolor\":\"white\",\"gridwidth\":2,\"linecolor\":\"white\",\"showbackground\":true,\"ticks\":\"\",\"zerolinecolor\":\"white\"},\"zaxis\":{\"backgroundcolor\":\"#E5ECF6\",\"gridcolor\":\"white\",\"gridwidth\":2,\"linecolor\":\"white\",\"showbackground\":true,\"ticks\":\"\",\"zerolinecolor\":\"white\"}},\"shapedefaults\":{\"line\":{\"color\":\"#2a3f5f\"}},\"ternary\":{\"aaxis\":{\"gridcolor\":\"white\",\"linecolor\":\"white\",\"ticks\":\"\"},\"baxis\":{\"gridcolor\":\"white\",\"linecolor\":\"white\",\"ticks\":\"\"},\"bgcolor\":\"#E5ECF6\",\"caxis\":{\"gridcolor\":\"white\",\"linecolor\":\"white\",\"ticks\":\"\"}},\"title\":{\"x\":0.05},\"xaxis\":{\"automargin\":true,\"gridcolor\":\"white\",\"linecolor\":\"white\",\"ticks\":\"\",\"title\":{\"standoff\":15},\"zerolinecolor\":\"white\",\"zerolinewidth\":2},\"yaxis\":{\"automargin\":true,\"gridcolor\":\"white\",\"linecolor\":\"white\",\"ticks\":\"\",\"title\":{\"standoff\":15},\"zerolinecolor\":\"white\",\"zerolinewidth\":2}}},\"title\":{\"font\":{\"color\":\"#4D5663\"}},\"xaxis\":{\"gridcolor\":\"#E1E5ED\",\"showgrid\":true,\"tickfont\":{\"color\":\"#4D5663\"},\"title\":{\"font\":{\"color\":\"#4D5663\"},\"text\":\"\"},\"zerolinecolor\":\"#E1E5ED\"},\"yaxis\":{\"gridcolor\":\"#E1E5ED\",\"showgrid\":true,\"tickfont\":{\"color\":\"#4D5663\"},\"title\":{\"font\":{\"color\":\"#4D5663\"},\"text\":\"\"},\"zerolinecolor\":\"#E1E5ED\"}},                        {\"showLink\": true, \"linkText\": \"Export to plot.ly\", \"plotlyServerURL\": \"https://plot.ly\", \"responsive\": true}                    ).then(function(){\n",
       "                            \n",
       "var gd = document.getElementById('62d4d19b-6845-41df-91b5-fa7f6b6910f1');\n",
       "var x = new MutationObserver(function (mutations, observer) {{\n",
       "        var display = window.getComputedStyle(gd).display;\n",
       "        if (!display || display === 'none') {{\n",
       "            console.log([gd, 'removed!']);\n",
       "            Plotly.purge(gd);\n",
       "            observer.disconnect();\n",
       "        }}\n",
       "}});\n",
       "\n",
       "// Listen for the removal of the full notebook cells\n",
       "var notebookContainer = gd.closest('#notebook-container');\n",
       "if (notebookContainer) {{\n",
       "    x.observe(notebookContainer, {childList: true});\n",
       "}}\n",
       "\n",
       "// Listen for the clearing of the current output cell\n",
       "var outputEl = gd.closest('.output');\n",
       "if (outputEl) {{\n",
       "    x.observe(outputEl, {childList: true});\n",
       "}}\n",
       "\n",
       "                        })                };                });            </script>        </div>"
      ]
     },
     "metadata": {},
     "output_type": "display_data"
    }
   ],
   "source": [
    "df.iplot(kind = 'box')"
   ]
  },
  {
   "cell_type": "code",
   "execution_count": 39,
   "metadata": {},
   "outputs": [],
   "source": [
    "df3 = pd.DataFrame({'x':[1,2,3,4,5], 'y': [10,20,30,20,10], 'z':[5,4,3,2,1]})"
   ]
  },
  {
   "cell_type": "code",
   "execution_count": 40,
   "metadata": {},
   "outputs": [
    {
     "data": {
      "text/html": [
       "<div>\n",
       "<style scoped>\n",
       "    .dataframe tbody tr th:only-of-type {\n",
       "        vertical-align: middle;\n",
       "    }\n",
       "\n",
       "    .dataframe tbody tr th {\n",
       "        vertical-align: top;\n",
       "    }\n",
       "\n",
       "    .dataframe thead th {\n",
       "        text-align: right;\n",
       "    }\n",
       "</style>\n",
       "<table border=\"1\" class=\"dataframe\">\n",
       "  <thead>\n",
       "    <tr style=\"text-align: right;\">\n",
       "      <th></th>\n",
       "      <th>x</th>\n",
       "      <th>y</th>\n",
       "      <th>z</th>\n",
       "    </tr>\n",
       "  </thead>\n",
       "  <tbody>\n",
       "    <tr>\n",
       "      <th>0</th>\n",
       "      <td>1</td>\n",
       "      <td>10</td>\n",
       "      <td>5</td>\n",
       "    </tr>\n",
       "    <tr>\n",
       "      <th>1</th>\n",
       "      <td>2</td>\n",
       "      <td>20</td>\n",
       "      <td>4</td>\n",
       "    </tr>\n",
       "    <tr>\n",
       "      <th>2</th>\n",
       "      <td>3</td>\n",
       "      <td>30</td>\n",
       "      <td>3</td>\n",
       "    </tr>\n",
       "    <tr>\n",
       "      <th>3</th>\n",
       "      <td>4</td>\n",
       "      <td>20</td>\n",
       "      <td>2</td>\n",
       "    </tr>\n",
       "    <tr>\n",
       "      <th>4</th>\n",
       "      <td>5</td>\n",
       "      <td>10</td>\n",
       "      <td>1</td>\n",
       "    </tr>\n",
       "  </tbody>\n",
       "</table>\n",
       "</div>"
      ],
      "text/plain": [
       "   x   y  z\n",
       "0  1  10  5\n",
       "1  2  20  4\n",
       "2  3  30  3\n",
       "3  4  20  2\n",
       "4  5  10  1"
      ]
     },
     "execution_count": 40,
     "metadata": {},
     "output_type": "execute_result"
    }
   ],
   "source": [
    "df3"
   ]
  },
  {
   "cell_type": "code",
   "execution_count": 41,
   "metadata": {},
   "outputs": [
    {
     "data": {
      "application/vnd.plotly.v1+json": {
       "config": {
        "linkText": "Export to plot.ly",
        "plotlyServerURL": "https://plot.ly",
        "showLink": true
       },
       "data": [
        {
         "colorscale": [
          [
           0,
           "rgb(255, 153, 51)"
          ],
          [
           0.1111111111111111,
           "rgb(55, 128, 191)"
          ],
          [
           0.2222222222222222,
           "rgb(50, 171, 96)"
          ],
          [
           0.3333333333333333,
           "rgb(128, 0, 128)"
          ],
          [
           0.4444444444444444,
           "rgb(219, 64, 82)"
          ],
          [
           0.5555555555555556,
           "rgb(0, 128, 128)"
          ],
          [
           0.6666666666666666,
           "rgb(255, 255, 51)"
          ],
          [
           0.7777777777777778,
           "rgb(128, 128, 0)"
          ],
          [
           0.8888888888888888,
           "rgb(251, 128, 114)"
          ],
          [
           1,
           "rgb(128, 177, 211)"
          ]
         ],
         "type": "surface",
         "x": [
          0,
          1,
          2,
          3,
          4,
          5,
          6,
          7,
          8,
          9,
          10,
          11,
          12,
          13,
          14,
          15,
          16,
          17,
          18,
          19,
          20,
          21,
          22,
          23,
          24,
          25,
          26,
          27,
          28,
          29,
          30,
          31,
          32,
          33,
          34,
          35,
          36,
          37,
          38,
          39,
          40,
          41,
          42,
          43,
          44,
          45,
          46,
          47,
          48,
          49,
          50,
          51,
          52,
          53,
          54,
          55,
          56,
          57,
          58,
          59,
          60,
          61,
          62,
          63,
          64,
          65,
          66,
          67,
          68,
          69,
          70,
          71,
          72,
          73,
          74,
          75,
          76,
          77,
          78,
          79,
          80,
          81,
          82,
          83,
          84,
          85,
          86,
          87,
          88,
          89,
          90,
          91,
          92,
          93,
          94,
          95,
          96,
          97,
          98,
          99
         ],
         "y": [
          "A",
          "B",
          "C",
          "D"
         ],
         "z": [
          [
           -1.2647427478653352,
           1.1438411630417042,
           -1.05938509827262,
           1.8504871379847871,
           1.546377535727985,
           0.33451611794517383,
           -0.20870116298576785,
           -1.085679823482335,
           -1.8827930712316268,
           0.22569589428736125,
           -0.14870073272283485,
           1.8097238490035186,
           1.0846129586722046,
           -0.4585050680912217,
           0.6124031613321901,
           0.37538238094067367,
           0.913002050425729,
           1.447532474939569,
           0.37930096970612054,
           0.025491861586942416,
           -0.15303803382175143,
           2.243550303352481,
           -0.9229629605917236,
           0.49440602178430515,
           0.32626850787772976,
           0.43958972584123573,
           0.6294553731378257,
           -0.7267701219717834,
           -2.138340463946718,
           -1.079017623382896,
           1.4986614544652554,
           -0.27121288174569463,
           0.10138278146479278,
           -1.7605830124243214,
           1.4615654271971597,
           1.3732321332042572,
           -0.28009958692970527,
           0.27184356721053654,
           0.014974755371081123,
           -0.044085016801009055,
           -0.46899889415285745,
           1.1953347937424306,
           -1.2073043812004678,
           1.6594422835590357,
           0.2848202010542789,
           -2.0911424322013095,
           1.6745282025401613,
           0.4378371851153993,
           -1.5566653128924857,
           0.21922867812626284,
           -0.9895599822871955,
           0.4074603834542788,
           -0.11399811827797118,
           -0.4189233977822209,
           0.02238550870270797,
           -0.19216353794605404,
           -0.9170130286940688,
           -0.046978406156488545,
           -0.6700104088456724,
           -0.6660851578679424,
           -0.7556852339933507,
           1.2649343600796048,
           1.2777903189647906,
           -0.9126194253381009,
           -0.2632680461538293,
           -1.8546321915498691,
           -0.7390643109977857,
           -0.38372051200700763,
           2.373219972374884,
           0.15575329596422724,
           0.27443916807887914,
           1.5379394148316894,
           1.0156948488155468,
           2.166093192750811,
           -1.0885500209397434,
           0.23426839259810678,
           1.0855996519748596,
           -0.11987274678594355,
           0.44089320789934516,
           -0.4109301897292856,
           0.2707175129727391,
           0.9588832487102428,
           1.0789411110517297,
           0.567636859797784,
           0.27125757376181386,
           2.3036423634178256,
           -1.6393208075066952,
           -1.0635721442192485,
           -1.11636408945502,
           -0.6034849340046708,
           -0.38968839640407177,
           -0.6161479359295967,
           -1.2335152643562908,
           -0.31229004474165456,
           0.7538272605696364,
           -0.004508090178002124,
           -0.819361298514153,
           0.8156450489617879,
           -2.5000383877630896,
           -0.6474385769236347
          ],
          [
           -0.1301153686144075,
           -1.6689431191330846,
           -0.20285842315621072,
           0.6785541362910886,
           1.0673918447214745,
           -0.7802583792353444,
           0.30655867142304316,
           -1.2224647788795076,
           1.1866673649667518,
           0.46219911312653267,
           1.4359201163455364,
           -0.7620857646479738,
           0.14999770489209946,
           1.3510418038024503,
           -0.3476238768658763,
           0.3770700580304464,
           -0.08724172549181444,
           0.2895924442947607,
           0.9263808590552806,
           0.6797844247887547,
           -1.4012028849109173,
           0.4826166320718709,
           -0.3922986215993963,
           0.1959231778807618,
           -1.535535001735862,
           -1.81030871675917,
           0.3202113451900208,
           -1.0894993574122724,
           1.2611748564873886,
           0.22952844301244146,
           0.20716481394625794,
           -0.5318471990187423,
           0.1905060425236613,
           0.33116265806516637,
           -0.20501117215077244,
           -0.13440599237475553,
           1.3694492195462487,
           0.12091625643835999,
           0.25879190464332064,
           2.1810934957315435,
           -0.8879443807209912,
           -0.10370330117363438,
           1.172528207746524,
           -0.7504584806919168,
           -1.3481550776944762,
           -0.3961405026321928,
           -0.5999811877451495,
           -0.20504473373920704,
           -0.21748858862191447,
           3.7711129137159305,
           1.2972268923024826,
           1.3275408771993824,
           1.95760339268544,
           0.5264064674229573,
           -0.34976669900318985,
           0.8883004010504278,
           -1.9693253772292125,
           -0.7893855424963484,
           -0.943500652185212,
           -0.9272532594633244,
           0.31683412564341046,
           -1.7173765182063023,
           -0.9556446260766284,
           1.3879797679477532,
           1.388906776125478,
           -1.420945170989908,
           -1.2135311911828452,
           -0.038105740051507325,
           -0.6840302763696385,
           -0.21411043178080405,
           -1.7717125392677908,
           0.3551843961210306,
           -0.18233526845925668,
           0.0018104373033404708,
           -1.746680394865062,
           -1.4466500104106845,
           0.2546409286259897,
           -0.9201116861442346,
           0.03541568708138817,
           0.7880116269458712,
           0.010526015638076014,
           -1.2808253690232152,
           -0.43045698828732787,
           0.1970487702396815,
           1.540825646555996,
           -0.6756201736428282,
           -0.5194461460437366,
           -0.9511847167654712,
           0.9183457485866829,
           0.647385429594174,
           0.9178442142583454,
           0.6336945961461663,
           -0.3235544554780584,
           -0.44720725073444695,
           0.15843502509823545,
           1.2594456193699413,
           0.39248124451512556,
           -0.8898170383869574,
           -1.1275896315623108,
           -0.11851924403056344
          ],
          [
           -0.07432342968579692,
           0.8777393170757319,
           -0.268685472600146,
           2.2755479995390724,
           -0.37728094900430725,
           0.1184472486791024,
           -0.29017894624360546,
           1.1158427295735731,
           -0.7758434989150765,
           -0.4790779231648547,
           -2.3250729856442938,
           -1.5534520814003805,
           0.07010582217536217,
           -0.2927700554009269,
           -0.2811455338833278,
           -0.8750958025697672,
           -1.2038965914051378,
           -0.6434231131292169,
           -0.6933378384744655,
           -0.7577773232183364,
           0.5154751557422648,
           -0.5641891223990193,
           -1.2678242521522025,
           0.7580626055782035,
           -1.6437958322617576,
           0.1407262845677634,
           0.734618915207698,
           -2.1253459717396757,
           -0.05320894119059313,
           0.5020172279450783,
           -0.6007903967332062,
           0.4684013807286517,
           -1.247870978194363,
           -0.38664553706485005,
           0.03776818892294396,
           -1.1267882230181745,
           0.9733591024478954,
           0.2930903308635077,
           -0.9356332519517122,
           -0.6153650657932038,
           -2.005219721405772,
           0.4695288178331009,
           -1.073751331509847,
           1.5482237236119312,
           0.6198457881908529,
           -0.642975934936527,
           -0.2386603838651042,
           0.5457898899845418,
           0.008883115991847122,
           0.23611209976553363,
           -1.0661063877070136,
           1.1667594602651707,
           -1.4575667775877763,
           -0.3847504559382402,
           0.09733002200553688,
           0.4310870134831516,
           -0.4525022409739558,
           0.37553198768314006,
           -0.08003213716421696,
           -1.358415695089806,
           -0.45033699452019677,
           -0.3472681257446617,
           -0.06396174660646238,
           0.2953685116668367,
           -0.5716331949998891,
           0.620180982707281,
           0.6178404926900865,
           0.4727830204525924,
           0.0707867733215683,
           0.7700111763387979,
           0.7016979988897313,
           0.9891376074936984,
           0.8455810848569197,
           1.2976137757949149,
           0.18066361919708504,
           -0.14591865517098768,
           -0.38216986888205057,
           1.4135921837446803,
           -0.6035065781423513,
           -0.5376334455997732,
           0.16614548239085303,
           -1.3663504605981143,
           0.8304002429780812,
           0.012290164098070978,
           0.07764199785601283,
           -1.638318478838887,
           0.44109578829677776,
           1.441371191636775,
           0.18436976846990072,
           1.3310878377634119,
           -0.151549605806431,
           0.911745823951154,
           -0.14309957623134648,
           -1.4817145138189582,
           0.4039496314825262,
           0.3603561154744288,
           -0.7410868344261943,
           -0.16394398100005667,
           0.5859320151542924,
           0.6849286686588602
          ],
          [
           -0.8863454276883004,
           -0.1645708355236205,
           -0.7673022871715959,
           0.5502003178107542,
           0.5782332646332343,
           -0.2883640033885405,
           -2.4590500778578295,
           0.3814999589068852,
           -0.7848758141315808,
           -0.5886942499702799,
           -1.1801811153934427,
           3.9370432901687895,
           1.1957947402804088,
           0.26039386578231316,
           -0.3865384592129036,
           1.1426080070390392,
           0.15853703541445704,
           1.9434894736718002,
           0.5634047708216215,
           0.4845198129148697,
           1.4778971369029104,
           -0.23522299796185353,
           1.2652058584995227,
           0.39965351876924093,
           1.1342011861190648,
           1.4876317325502424,
           -0.7315044957257623,
           1.2721255156223625,
           -0.5150307609409148,
           0.9191075654871602,
           0.3494876538837761,
           0.7618773037155189,
           -0.2169210404456462,
           -0.3721130554270073,
           -1.0647043052330407,
           -1.798502529073453,
           0.3630921321787982,
           -0.7034208280439024,
           0.41967401887464095,
           1.2408493405964054,
           -0.8649778879766941,
           0.5370630893827874,
           -0.0022656007835508037,
           0.5528593758405621,
           0.6514452462779097,
           -0.7193390468692294,
           0.41363849852505,
           -1.1550876929393719,
           -0.3333227893871169,
           1.1670374072457335,
           -0.193170443946,
           0.9858918067424841,
           0.5352465267173225,
           -0.4214400221911786,
           -0.6058297062984426,
           0.8355805060377944,
           -0.21831842091956985,
           -1.2206737775347731,
           1.0618805543186036,
           0.8256202093395615,
           1.0480969337977304,
           -1.1767596205270556,
           0.22660341445141913,
           -0.02043141145474128,
           -0.3970225663722118,
           -0.06510176853847016,
           2.283918922208758,
           0.36218304941214347,
           -0.43750547101447995,
           0.9572622278046339,
           1.0897298993794287,
           -1.8881741854698473,
           0.24837316037209245,
           0.1576255939153728,
           0.6985460371861626,
           0.577325167618128,
           0.04288007554373437,
           0.0798381463361213,
           0.47021391855991557,
           -1.322498435518512,
           0.807740653757711,
           1.044837675048127,
           0.6683976697470645,
           1.0806151850609549,
           -0.8964360100020632,
           1.4486966483639385,
           -0.7620826886466616,
           -1.1840753631011112,
           0.5826196587773148,
           1.2446553971162422,
           -0.2497319817787376,
           1.000513118384911,
           0.23676817902069075,
           1.1611010130583208,
           0.31636924126830085,
           -0.8080503861933555,
           -0.14720794930826459,
           1.5075623463079884,
           0.28587340189621624,
           -0.34528881368554365
          ]
         ]
        }
       ],
       "layout": {
        "legend": {
         "bgcolor": "#F5F6F9",
         "font": {
          "color": "#4D5663"
         }
        },
        "paper_bgcolor": "#F5F6F9",
        "plot_bgcolor": "#F5F6F9",
        "template": {
         "data": {
          "bar": [
           {
            "error_x": {
             "color": "#2a3f5f"
            },
            "error_y": {
             "color": "#2a3f5f"
            },
            "marker": {
             "line": {
              "color": "#E5ECF6",
              "width": 0.5
             },
             "pattern": {
              "fillmode": "overlay",
              "size": 10,
              "solidity": 0.2
             }
            },
            "type": "bar"
           }
          ],
          "barpolar": [
           {
            "marker": {
             "line": {
              "color": "#E5ECF6",
              "width": 0.5
             },
             "pattern": {
              "fillmode": "overlay",
              "size": 10,
              "solidity": 0.2
             }
            },
            "type": "barpolar"
           }
          ],
          "carpet": [
           {
            "aaxis": {
             "endlinecolor": "#2a3f5f",
             "gridcolor": "white",
             "linecolor": "white",
             "minorgridcolor": "white",
             "startlinecolor": "#2a3f5f"
            },
            "baxis": {
             "endlinecolor": "#2a3f5f",
             "gridcolor": "white",
             "linecolor": "white",
             "minorgridcolor": "white",
             "startlinecolor": "#2a3f5f"
            },
            "type": "carpet"
           }
          ],
          "choropleth": [
           {
            "colorbar": {
             "outlinewidth": 0,
             "ticks": ""
            },
            "type": "choropleth"
           }
          ],
          "contour": [
           {
            "colorbar": {
             "outlinewidth": 0,
             "ticks": ""
            },
            "colorscale": [
             [
              0,
              "#0d0887"
             ],
             [
              0.1111111111111111,
              "#46039f"
             ],
             [
              0.2222222222222222,
              "#7201a8"
             ],
             [
              0.3333333333333333,
              "#9c179e"
             ],
             [
              0.4444444444444444,
              "#bd3786"
             ],
             [
              0.5555555555555556,
              "#d8576b"
             ],
             [
              0.6666666666666666,
              "#ed7953"
             ],
             [
              0.7777777777777778,
              "#fb9f3a"
             ],
             [
              0.8888888888888888,
              "#fdca26"
             ],
             [
              1,
              "#f0f921"
             ]
            ],
            "type": "contour"
           }
          ],
          "contourcarpet": [
           {
            "colorbar": {
             "outlinewidth": 0,
             "ticks": ""
            },
            "type": "contourcarpet"
           }
          ],
          "heatmap": [
           {
            "colorbar": {
             "outlinewidth": 0,
             "ticks": ""
            },
            "colorscale": [
             [
              0,
              "#0d0887"
             ],
             [
              0.1111111111111111,
              "#46039f"
             ],
             [
              0.2222222222222222,
              "#7201a8"
             ],
             [
              0.3333333333333333,
              "#9c179e"
             ],
             [
              0.4444444444444444,
              "#bd3786"
             ],
             [
              0.5555555555555556,
              "#d8576b"
             ],
             [
              0.6666666666666666,
              "#ed7953"
             ],
             [
              0.7777777777777778,
              "#fb9f3a"
             ],
             [
              0.8888888888888888,
              "#fdca26"
             ],
             [
              1,
              "#f0f921"
             ]
            ],
            "type": "heatmap"
           }
          ],
          "heatmapgl": [
           {
            "colorbar": {
             "outlinewidth": 0,
             "ticks": ""
            },
            "colorscale": [
             [
              0,
              "#0d0887"
             ],
             [
              0.1111111111111111,
              "#46039f"
             ],
             [
              0.2222222222222222,
              "#7201a8"
             ],
             [
              0.3333333333333333,
              "#9c179e"
             ],
             [
              0.4444444444444444,
              "#bd3786"
             ],
             [
              0.5555555555555556,
              "#d8576b"
             ],
             [
              0.6666666666666666,
              "#ed7953"
             ],
             [
              0.7777777777777778,
              "#fb9f3a"
             ],
             [
              0.8888888888888888,
              "#fdca26"
             ],
             [
              1,
              "#f0f921"
             ]
            ],
            "type": "heatmapgl"
           }
          ],
          "histogram": [
           {
            "marker": {
             "pattern": {
              "fillmode": "overlay",
              "size": 10,
              "solidity": 0.2
             }
            },
            "type": "histogram"
           }
          ],
          "histogram2d": [
           {
            "colorbar": {
             "outlinewidth": 0,
             "ticks": ""
            },
            "colorscale": [
             [
              0,
              "#0d0887"
             ],
             [
              0.1111111111111111,
              "#46039f"
             ],
             [
              0.2222222222222222,
              "#7201a8"
             ],
             [
              0.3333333333333333,
              "#9c179e"
             ],
             [
              0.4444444444444444,
              "#bd3786"
             ],
             [
              0.5555555555555556,
              "#d8576b"
             ],
             [
              0.6666666666666666,
              "#ed7953"
             ],
             [
              0.7777777777777778,
              "#fb9f3a"
             ],
             [
              0.8888888888888888,
              "#fdca26"
             ],
             [
              1,
              "#f0f921"
             ]
            ],
            "type": "histogram2d"
           }
          ],
          "histogram2dcontour": [
           {
            "colorbar": {
             "outlinewidth": 0,
             "ticks": ""
            },
            "colorscale": [
             [
              0,
              "#0d0887"
             ],
             [
              0.1111111111111111,
              "#46039f"
             ],
             [
              0.2222222222222222,
              "#7201a8"
             ],
             [
              0.3333333333333333,
              "#9c179e"
             ],
             [
              0.4444444444444444,
              "#bd3786"
             ],
             [
              0.5555555555555556,
              "#d8576b"
             ],
             [
              0.6666666666666666,
              "#ed7953"
             ],
             [
              0.7777777777777778,
              "#fb9f3a"
             ],
             [
              0.8888888888888888,
              "#fdca26"
             ],
             [
              1,
              "#f0f921"
             ]
            ],
            "type": "histogram2dcontour"
           }
          ],
          "mesh3d": [
           {
            "colorbar": {
             "outlinewidth": 0,
             "ticks": ""
            },
            "type": "mesh3d"
           }
          ],
          "parcoords": [
           {
            "line": {
             "colorbar": {
              "outlinewidth": 0,
              "ticks": ""
             }
            },
            "type": "parcoords"
           }
          ],
          "pie": [
           {
            "automargin": true,
            "type": "pie"
           }
          ],
          "scatter": [
           {
            "marker": {
             "colorbar": {
              "outlinewidth": 0,
              "ticks": ""
             }
            },
            "type": "scatter"
           }
          ],
          "scatter3d": [
           {
            "line": {
             "colorbar": {
              "outlinewidth": 0,
              "ticks": ""
             }
            },
            "marker": {
             "colorbar": {
              "outlinewidth": 0,
              "ticks": ""
             }
            },
            "type": "scatter3d"
           }
          ],
          "scattercarpet": [
           {
            "marker": {
             "colorbar": {
              "outlinewidth": 0,
              "ticks": ""
             }
            },
            "type": "scattercarpet"
           }
          ],
          "scattergeo": [
           {
            "marker": {
             "colorbar": {
              "outlinewidth": 0,
              "ticks": ""
             }
            },
            "type": "scattergeo"
           }
          ],
          "scattergl": [
           {
            "marker": {
             "colorbar": {
              "outlinewidth": 0,
              "ticks": ""
             }
            },
            "type": "scattergl"
           }
          ],
          "scattermapbox": [
           {
            "marker": {
             "colorbar": {
              "outlinewidth": 0,
              "ticks": ""
             }
            },
            "type": "scattermapbox"
           }
          ],
          "scatterpolar": [
           {
            "marker": {
             "colorbar": {
              "outlinewidth": 0,
              "ticks": ""
             }
            },
            "type": "scatterpolar"
           }
          ],
          "scatterpolargl": [
           {
            "marker": {
             "colorbar": {
              "outlinewidth": 0,
              "ticks": ""
             }
            },
            "type": "scatterpolargl"
           }
          ],
          "scatterternary": [
           {
            "marker": {
             "colorbar": {
              "outlinewidth": 0,
              "ticks": ""
             }
            },
            "type": "scatterternary"
           }
          ],
          "surface": [
           {
            "colorbar": {
             "outlinewidth": 0,
             "ticks": ""
            },
            "colorscale": [
             [
              0,
              "#0d0887"
             ],
             [
              0.1111111111111111,
              "#46039f"
             ],
             [
              0.2222222222222222,
              "#7201a8"
             ],
             [
              0.3333333333333333,
              "#9c179e"
             ],
             [
              0.4444444444444444,
              "#bd3786"
             ],
             [
              0.5555555555555556,
              "#d8576b"
             ],
             [
              0.6666666666666666,
              "#ed7953"
             ],
             [
              0.7777777777777778,
              "#fb9f3a"
             ],
             [
              0.8888888888888888,
              "#fdca26"
             ],
             [
              1,
              "#f0f921"
             ]
            ],
            "type": "surface"
           }
          ],
          "table": [
           {
            "cells": {
             "fill": {
              "color": "#EBF0F8"
             },
             "line": {
              "color": "white"
             }
            },
            "header": {
             "fill": {
              "color": "#C8D4E3"
             },
             "line": {
              "color": "white"
             }
            },
            "type": "table"
           }
          ]
         },
         "layout": {
          "annotationdefaults": {
           "arrowcolor": "#2a3f5f",
           "arrowhead": 0,
           "arrowwidth": 1
          },
          "autotypenumbers": "strict",
          "coloraxis": {
           "colorbar": {
            "outlinewidth": 0,
            "ticks": ""
           }
          },
          "colorscale": {
           "diverging": [
            [
             0,
             "#8e0152"
            ],
            [
             0.1,
             "#c51b7d"
            ],
            [
             0.2,
             "#de77ae"
            ],
            [
             0.3,
             "#f1b6da"
            ],
            [
             0.4,
             "#fde0ef"
            ],
            [
             0.5,
             "#f7f7f7"
            ],
            [
             0.6,
             "#e6f5d0"
            ],
            [
             0.7,
             "#b8e186"
            ],
            [
             0.8,
             "#7fbc41"
            ],
            [
             0.9,
             "#4d9221"
            ],
            [
             1,
             "#276419"
            ]
           ],
           "sequential": [
            [
             0,
             "#0d0887"
            ],
            [
             0.1111111111111111,
             "#46039f"
            ],
            [
             0.2222222222222222,
             "#7201a8"
            ],
            [
             0.3333333333333333,
             "#9c179e"
            ],
            [
             0.4444444444444444,
             "#bd3786"
            ],
            [
             0.5555555555555556,
             "#d8576b"
            ],
            [
             0.6666666666666666,
             "#ed7953"
            ],
            [
             0.7777777777777778,
             "#fb9f3a"
            ],
            [
             0.8888888888888888,
             "#fdca26"
            ],
            [
             1,
             "#f0f921"
            ]
           ],
           "sequentialminus": [
            [
             0,
             "#0d0887"
            ],
            [
             0.1111111111111111,
             "#46039f"
            ],
            [
             0.2222222222222222,
             "#7201a8"
            ],
            [
             0.3333333333333333,
             "#9c179e"
            ],
            [
             0.4444444444444444,
             "#bd3786"
            ],
            [
             0.5555555555555556,
             "#d8576b"
            ],
            [
             0.6666666666666666,
             "#ed7953"
            ],
            [
             0.7777777777777778,
             "#fb9f3a"
            ],
            [
             0.8888888888888888,
             "#fdca26"
            ],
            [
             1,
             "#f0f921"
            ]
           ]
          },
          "colorway": [
           "#636efa",
           "#EF553B",
           "#00cc96",
           "#ab63fa",
           "#FFA15A",
           "#19d3f3",
           "#FF6692",
           "#B6E880",
           "#FF97FF",
           "#FECB52"
          ],
          "font": {
           "color": "#2a3f5f"
          },
          "geo": {
           "bgcolor": "white",
           "lakecolor": "white",
           "landcolor": "#E5ECF6",
           "showlakes": true,
           "showland": true,
           "subunitcolor": "white"
          },
          "hoverlabel": {
           "align": "left"
          },
          "hovermode": "closest",
          "mapbox": {
           "style": "light"
          },
          "paper_bgcolor": "white",
          "plot_bgcolor": "#E5ECF6",
          "polar": {
           "angularaxis": {
            "gridcolor": "white",
            "linecolor": "white",
            "ticks": ""
           },
           "bgcolor": "#E5ECF6",
           "radialaxis": {
            "gridcolor": "white",
            "linecolor": "white",
            "ticks": ""
           }
          },
          "scene": {
           "xaxis": {
            "backgroundcolor": "#E5ECF6",
            "gridcolor": "white",
            "gridwidth": 2,
            "linecolor": "white",
            "showbackground": true,
            "ticks": "",
            "zerolinecolor": "white"
           },
           "yaxis": {
            "backgroundcolor": "#E5ECF6",
            "gridcolor": "white",
            "gridwidth": 2,
            "linecolor": "white",
            "showbackground": true,
            "ticks": "",
            "zerolinecolor": "white"
           },
           "zaxis": {
            "backgroundcolor": "#E5ECF6",
            "gridcolor": "white",
            "gridwidth": 2,
            "linecolor": "white",
            "showbackground": true,
            "ticks": "",
            "zerolinecolor": "white"
           }
          },
          "shapedefaults": {
           "line": {
            "color": "#2a3f5f"
           }
          },
          "ternary": {
           "aaxis": {
            "gridcolor": "white",
            "linecolor": "white",
            "ticks": ""
           },
           "baxis": {
            "gridcolor": "white",
            "linecolor": "white",
            "ticks": ""
           },
           "bgcolor": "#E5ECF6",
           "caxis": {
            "gridcolor": "white",
            "linecolor": "white",
            "ticks": ""
           }
          },
          "title": {
           "x": 0.05
          },
          "xaxis": {
           "automargin": true,
           "gridcolor": "white",
           "linecolor": "white",
           "ticks": "",
           "title": {
            "standoff": 15
           },
           "zerolinecolor": "white",
           "zerolinewidth": 2
          },
          "yaxis": {
           "automargin": true,
           "gridcolor": "white",
           "linecolor": "white",
           "ticks": "",
           "title": {
            "standoff": 15
           },
           "zerolinecolor": "white",
           "zerolinewidth": 2
          }
         }
        },
        "title": {
         "font": {
          "color": "#4D5663"
         }
        },
        "xaxis": {
         "gridcolor": "#E1E5ED",
         "showgrid": true,
         "tickfont": {
          "color": "#4D5663"
         },
         "title": {
          "font": {
           "color": "#4D5663"
          },
          "text": ""
         },
         "zerolinecolor": "#E1E5ED"
        },
        "yaxis": {
         "gridcolor": "#E1E5ED",
         "showgrid": true,
         "tickfont": {
          "color": "#4D5663"
         },
         "title": {
          "font": {
           "color": "#4D5663"
          },
          "text": ""
         },
         "zerolinecolor": "#E1E5ED"
        }
       }
      },
      "text/html": [
       "<div>                            <div id=\"72027d5e-9fea-47af-a3a2-37cfbe4a70ba\" class=\"plotly-graph-div\" style=\"height:525px; width:100%;\"></div>            <script type=\"text/javascript\">                require([\"plotly\"], function(Plotly) {                    window.PLOTLYENV=window.PLOTLYENV || {};\n",
       "                    window.PLOTLYENV.BASE_URL='https://plot.ly';                                    if (document.getElementById(\"72027d5e-9fea-47af-a3a2-37cfbe4a70ba\")) {                    Plotly.newPlot(                        \"72027d5e-9fea-47af-a3a2-37cfbe4a70ba\",                        [{\"colorscale\":[[0.0,\"rgb(255, 153, 51)\"],[0.1111111111111111,\"rgb(55, 128, 191)\"],[0.2222222222222222,\"rgb(50, 171, 96)\"],[0.3333333333333333,\"rgb(128, 0, 128)\"],[0.4444444444444444,\"rgb(219, 64, 82)\"],[0.5555555555555556,\"rgb(0, 128, 128)\"],[0.6666666666666666,\"rgb(255, 255, 51)\"],[0.7777777777777778,\"rgb(128, 128, 0)\"],[0.8888888888888888,\"rgb(251, 128, 114)\"],[1.0,\"rgb(128, 177, 211)\"]],\"type\":\"surface\",\"x\":[0,1,2,3,4,5,6,7,8,9,10,11,12,13,14,15,16,17,18,19,20,21,22,23,24,25,26,27,28,29,30,31,32,33,34,35,36,37,38,39,40,41,42,43,44,45,46,47,48,49,50,51,52,53,54,55,56,57,58,59,60,61,62,63,64,65,66,67,68,69,70,71,72,73,74,75,76,77,78,79,80,81,82,83,84,85,86,87,88,89,90,91,92,93,94,95,96,97,98,99],\"y\":[\"A\",\"B\",\"C\",\"D\"],\"z\":[[-1.2647427478653352,1.1438411630417042,-1.05938509827262,1.8504871379847871,1.546377535727985,0.33451611794517383,-0.20870116298576785,-1.085679823482335,-1.8827930712316268,0.22569589428736125,-0.14870073272283485,1.8097238490035186,1.0846129586722046,-0.4585050680912217,0.6124031613321901,0.37538238094067367,0.913002050425729,1.447532474939569,0.37930096970612054,0.025491861586942416,-0.15303803382175143,2.243550303352481,-0.9229629605917236,0.49440602178430515,0.32626850787772976,0.43958972584123573,0.6294553731378257,-0.7267701219717834,-2.138340463946718,-1.079017623382896,1.4986614544652554,-0.27121288174569463,0.10138278146479278,-1.7605830124243214,1.4615654271971597,1.3732321332042572,-0.28009958692970527,0.27184356721053654,0.014974755371081123,-0.044085016801009055,-0.46899889415285745,1.1953347937424306,-1.2073043812004678,1.6594422835590357,0.2848202010542789,-2.0911424322013095,1.6745282025401613,0.4378371851153993,-1.5566653128924857,0.21922867812626284,-0.9895599822871955,0.4074603834542788,-0.11399811827797118,-0.4189233977822209,0.02238550870270797,-0.19216353794605404,-0.9170130286940688,-0.046978406156488545,-0.6700104088456724,-0.6660851578679424,-0.7556852339933507,1.2649343600796048,1.2777903189647906,-0.9126194253381009,-0.2632680461538293,-1.8546321915498691,-0.7390643109977857,-0.38372051200700763,2.373219972374884,0.15575329596422724,0.27443916807887914,1.5379394148316894,1.0156948488155468,2.166093192750811,-1.0885500209397434,0.23426839259810678,1.0855996519748596,-0.11987274678594355,0.44089320789934516,-0.4109301897292856,0.2707175129727391,0.9588832487102428,1.0789411110517297,0.567636859797784,0.27125757376181386,2.3036423634178256,-1.6393208075066952,-1.0635721442192485,-1.11636408945502,-0.6034849340046708,-0.38968839640407177,-0.6161479359295967,-1.2335152643562908,-0.31229004474165456,0.7538272605696364,-0.004508090178002124,-0.819361298514153,0.8156450489617879,-2.5000383877630896,-0.6474385769236347],[-0.1301153686144075,-1.6689431191330846,-0.20285842315621072,0.6785541362910886,1.0673918447214745,-0.7802583792353444,0.30655867142304316,-1.2224647788795076,1.1866673649667518,0.46219911312653267,1.4359201163455364,-0.7620857646479738,0.14999770489209946,1.3510418038024503,-0.3476238768658763,0.3770700580304464,-0.08724172549181444,0.2895924442947607,0.9263808590552806,0.6797844247887547,-1.4012028849109173,0.4826166320718709,-0.3922986215993963,0.1959231778807618,-1.535535001735862,-1.81030871675917,0.3202113451900208,-1.0894993574122724,1.2611748564873886,0.22952844301244146,0.20716481394625794,-0.5318471990187423,0.1905060425236613,0.33116265806516637,-0.20501117215077244,-0.13440599237475553,1.3694492195462487,0.12091625643835999,0.25879190464332064,2.1810934957315435,-0.8879443807209912,-0.10370330117363438,1.172528207746524,-0.7504584806919168,-1.3481550776944762,-0.3961405026321928,-0.5999811877451495,-0.20504473373920704,-0.21748858862191447,3.7711129137159305,1.2972268923024826,1.3275408771993824,1.95760339268544,0.5264064674229573,-0.34976669900318985,0.8883004010504278,-1.9693253772292125,-0.7893855424963484,-0.943500652185212,-0.9272532594633244,0.31683412564341046,-1.7173765182063023,-0.9556446260766284,1.3879797679477532,1.388906776125478,-1.420945170989908,-1.2135311911828452,-0.038105740051507325,-0.6840302763696385,-0.21411043178080405,-1.7717125392677908,0.3551843961210306,-0.18233526845925668,0.0018104373033404708,-1.746680394865062,-1.4466500104106845,0.2546409286259897,-0.9201116861442346,0.03541568708138817,0.7880116269458712,0.010526015638076014,-1.2808253690232152,-0.43045698828732787,0.1970487702396815,1.540825646555996,-0.6756201736428282,-0.5194461460437366,-0.9511847167654712,0.9183457485866829,0.647385429594174,0.9178442142583454,0.6336945961461663,-0.3235544554780584,-0.44720725073444695,0.15843502509823545,1.2594456193699413,0.39248124451512556,-0.8898170383869574,-1.1275896315623108,-0.11851924403056344],[-0.07432342968579692,0.8777393170757319,-0.268685472600146,2.2755479995390724,-0.37728094900430725,0.1184472486791024,-0.29017894624360546,1.1158427295735731,-0.7758434989150765,-0.4790779231648547,-2.3250729856442938,-1.5534520814003805,0.07010582217536217,-0.2927700554009269,-0.2811455338833278,-0.8750958025697672,-1.2038965914051378,-0.6434231131292169,-0.6933378384744655,-0.7577773232183364,0.5154751557422648,-0.5641891223990193,-1.2678242521522025,0.7580626055782035,-1.6437958322617576,0.1407262845677634,0.734618915207698,-2.1253459717396757,-0.05320894119059313,0.5020172279450783,-0.6007903967332062,0.4684013807286517,-1.247870978194363,-0.38664553706485005,0.03776818892294396,-1.1267882230181745,0.9733591024478954,0.2930903308635077,-0.9356332519517122,-0.6153650657932038,-2.005219721405772,0.4695288178331009,-1.073751331509847,1.5482237236119312,0.6198457881908529,-0.642975934936527,-0.2386603838651042,0.5457898899845418,0.008883115991847122,0.23611209976553363,-1.0661063877070136,1.1667594602651707,-1.4575667775877763,-0.3847504559382402,0.09733002200553688,0.4310870134831516,-0.4525022409739558,0.37553198768314006,-0.08003213716421696,-1.358415695089806,-0.45033699452019677,-0.3472681257446617,-0.06396174660646238,0.2953685116668367,-0.5716331949998891,0.620180982707281,0.6178404926900865,0.4727830204525924,0.0707867733215683,0.7700111763387979,0.7016979988897313,0.9891376074936984,0.8455810848569197,1.2976137757949149,0.18066361919708504,-0.14591865517098768,-0.38216986888205057,1.4135921837446803,-0.6035065781423513,-0.5376334455997732,0.16614548239085303,-1.3663504605981143,0.8304002429780812,0.012290164098070978,0.07764199785601283,-1.638318478838887,0.44109578829677776,1.441371191636775,0.18436976846990072,1.3310878377634119,-0.151549605806431,0.911745823951154,-0.14309957623134648,-1.4817145138189582,0.4039496314825262,0.3603561154744288,-0.7410868344261943,-0.16394398100005667,0.5859320151542924,0.6849286686588602],[-0.8863454276883004,-0.1645708355236205,-0.7673022871715959,0.5502003178107542,0.5782332646332343,-0.2883640033885405,-2.4590500778578295,0.3814999589068852,-0.7848758141315808,-0.5886942499702799,-1.1801811153934427,3.9370432901687895,1.1957947402804088,0.26039386578231316,-0.3865384592129036,1.1426080070390392,0.15853703541445704,1.9434894736718002,0.5634047708216215,0.4845198129148697,1.4778971369029104,-0.23522299796185353,1.2652058584995227,0.39965351876924093,1.1342011861190648,1.4876317325502424,-0.7315044957257623,1.2721255156223625,-0.5150307609409148,0.9191075654871602,0.3494876538837761,0.7618773037155189,-0.2169210404456462,-0.3721130554270073,-1.0647043052330407,-1.798502529073453,0.3630921321787982,-0.7034208280439024,0.41967401887464095,1.2408493405964054,-0.8649778879766941,0.5370630893827874,-0.0022656007835508037,0.5528593758405621,0.6514452462779097,-0.7193390468692294,0.41363849852505,-1.1550876929393719,-0.3333227893871169,1.1670374072457335,-0.193170443946,0.9858918067424841,0.5352465267173225,-0.4214400221911786,-0.6058297062984426,0.8355805060377944,-0.21831842091956985,-1.2206737775347731,1.0618805543186036,0.8256202093395615,1.0480969337977304,-1.1767596205270556,0.22660341445141913,-0.02043141145474128,-0.3970225663722118,-0.06510176853847016,2.283918922208758,0.36218304941214347,-0.43750547101447995,0.9572622278046339,1.0897298993794287,-1.8881741854698473,0.24837316037209245,0.1576255939153728,0.6985460371861626,0.577325167618128,0.04288007554373437,0.0798381463361213,0.47021391855991557,-1.322498435518512,0.807740653757711,1.044837675048127,0.6683976697470645,1.0806151850609549,-0.8964360100020632,1.4486966483639385,-0.7620826886466616,-1.1840753631011112,0.5826196587773148,1.2446553971162422,-0.2497319817787376,1.000513118384911,0.23676817902069075,1.1611010130583208,0.31636924126830085,-0.8080503861933555,-0.14720794930826459,1.5075623463079884,0.28587340189621624,-0.34528881368554365]]}],                        {\"legend\":{\"bgcolor\":\"#F5F6F9\",\"font\":{\"color\":\"#4D5663\"}},\"paper_bgcolor\":\"#F5F6F9\",\"plot_bgcolor\":\"#F5F6F9\",\"template\":{\"data\":{\"bar\":[{\"error_x\":{\"color\":\"#2a3f5f\"},\"error_y\":{\"color\":\"#2a3f5f\"},\"marker\":{\"line\":{\"color\":\"#E5ECF6\",\"width\":0.5},\"pattern\":{\"fillmode\":\"overlay\",\"size\":10,\"solidity\":0.2}},\"type\":\"bar\"}],\"barpolar\":[{\"marker\":{\"line\":{\"color\":\"#E5ECF6\",\"width\":0.5},\"pattern\":{\"fillmode\":\"overlay\",\"size\":10,\"solidity\":0.2}},\"type\":\"barpolar\"}],\"carpet\":[{\"aaxis\":{\"endlinecolor\":\"#2a3f5f\",\"gridcolor\":\"white\",\"linecolor\":\"white\",\"minorgridcolor\":\"white\",\"startlinecolor\":\"#2a3f5f\"},\"baxis\":{\"endlinecolor\":\"#2a3f5f\",\"gridcolor\":\"white\",\"linecolor\":\"white\",\"minorgridcolor\":\"white\",\"startlinecolor\":\"#2a3f5f\"},\"type\":\"carpet\"}],\"choropleth\":[{\"colorbar\":{\"outlinewidth\":0,\"ticks\":\"\"},\"type\":\"choropleth\"}],\"contour\":[{\"colorbar\":{\"outlinewidth\":0,\"ticks\":\"\"},\"colorscale\":[[0.0,\"#0d0887\"],[0.1111111111111111,\"#46039f\"],[0.2222222222222222,\"#7201a8\"],[0.3333333333333333,\"#9c179e\"],[0.4444444444444444,\"#bd3786\"],[0.5555555555555556,\"#d8576b\"],[0.6666666666666666,\"#ed7953\"],[0.7777777777777778,\"#fb9f3a\"],[0.8888888888888888,\"#fdca26\"],[1.0,\"#f0f921\"]],\"type\":\"contour\"}],\"contourcarpet\":[{\"colorbar\":{\"outlinewidth\":0,\"ticks\":\"\"},\"type\":\"contourcarpet\"}],\"heatmap\":[{\"colorbar\":{\"outlinewidth\":0,\"ticks\":\"\"},\"colorscale\":[[0.0,\"#0d0887\"],[0.1111111111111111,\"#46039f\"],[0.2222222222222222,\"#7201a8\"],[0.3333333333333333,\"#9c179e\"],[0.4444444444444444,\"#bd3786\"],[0.5555555555555556,\"#d8576b\"],[0.6666666666666666,\"#ed7953\"],[0.7777777777777778,\"#fb9f3a\"],[0.8888888888888888,\"#fdca26\"],[1.0,\"#f0f921\"]],\"type\":\"heatmap\"}],\"heatmapgl\":[{\"colorbar\":{\"outlinewidth\":0,\"ticks\":\"\"},\"colorscale\":[[0.0,\"#0d0887\"],[0.1111111111111111,\"#46039f\"],[0.2222222222222222,\"#7201a8\"],[0.3333333333333333,\"#9c179e\"],[0.4444444444444444,\"#bd3786\"],[0.5555555555555556,\"#d8576b\"],[0.6666666666666666,\"#ed7953\"],[0.7777777777777778,\"#fb9f3a\"],[0.8888888888888888,\"#fdca26\"],[1.0,\"#f0f921\"]],\"type\":\"heatmapgl\"}],\"histogram\":[{\"marker\":{\"pattern\":{\"fillmode\":\"overlay\",\"size\":10,\"solidity\":0.2}},\"type\":\"histogram\"}],\"histogram2d\":[{\"colorbar\":{\"outlinewidth\":0,\"ticks\":\"\"},\"colorscale\":[[0.0,\"#0d0887\"],[0.1111111111111111,\"#46039f\"],[0.2222222222222222,\"#7201a8\"],[0.3333333333333333,\"#9c179e\"],[0.4444444444444444,\"#bd3786\"],[0.5555555555555556,\"#d8576b\"],[0.6666666666666666,\"#ed7953\"],[0.7777777777777778,\"#fb9f3a\"],[0.8888888888888888,\"#fdca26\"],[1.0,\"#f0f921\"]],\"type\":\"histogram2d\"}],\"histogram2dcontour\":[{\"colorbar\":{\"outlinewidth\":0,\"ticks\":\"\"},\"colorscale\":[[0.0,\"#0d0887\"],[0.1111111111111111,\"#46039f\"],[0.2222222222222222,\"#7201a8\"],[0.3333333333333333,\"#9c179e\"],[0.4444444444444444,\"#bd3786\"],[0.5555555555555556,\"#d8576b\"],[0.6666666666666666,\"#ed7953\"],[0.7777777777777778,\"#fb9f3a\"],[0.8888888888888888,\"#fdca26\"],[1.0,\"#f0f921\"]],\"type\":\"histogram2dcontour\"}],\"mesh3d\":[{\"colorbar\":{\"outlinewidth\":0,\"ticks\":\"\"},\"type\":\"mesh3d\"}],\"parcoords\":[{\"line\":{\"colorbar\":{\"outlinewidth\":0,\"ticks\":\"\"}},\"type\":\"parcoords\"}],\"pie\":[{\"automargin\":true,\"type\":\"pie\"}],\"scatter\":[{\"marker\":{\"colorbar\":{\"outlinewidth\":0,\"ticks\":\"\"}},\"type\":\"scatter\"}],\"scatter3d\":[{\"line\":{\"colorbar\":{\"outlinewidth\":0,\"ticks\":\"\"}},\"marker\":{\"colorbar\":{\"outlinewidth\":0,\"ticks\":\"\"}},\"type\":\"scatter3d\"}],\"scattercarpet\":[{\"marker\":{\"colorbar\":{\"outlinewidth\":0,\"ticks\":\"\"}},\"type\":\"scattercarpet\"}],\"scattergeo\":[{\"marker\":{\"colorbar\":{\"outlinewidth\":0,\"ticks\":\"\"}},\"type\":\"scattergeo\"}],\"scattergl\":[{\"marker\":{\"colorbar\":{\"outlinewidth\":0,\"ticks\":\"\"}},\"type\":\"scattergl\"}],\"scattermapbox\":[{\"marker\":{\"colorbar\":{\"outlinewidth\":0,\"ticks\":\"\"}},\"type\":\"scattermapbox\"}],\"scatterpolar\":[{\"marker\":{\"colorbar\":{\"outlinewidth\":0,\"ticks\":\"\"}},\"type\":\"scatterpolar\"}],\"scatterpolargl\":[{\"marker\":{\"colorbar\":{\"outlinewidth\":0,\"ticks\":\"\"}},\"type\":\"scatterpolargl\"}],\"scatterternary\":[{\"marker\":{\"colorbar\":{\"outlinewidth\":0,\"ticks\":\"\"}},\"type\":\"scatterternary\"}],\"surface\":[{\"colorbar\":{\"outlinewidth\":0,\"ticks\":\"\"},\"colorscale\":[[0.0,\"#0d0887\"],[0.1111111111111111,\"#46039f\"],[0.2222222222222222,\"#7201a8\"],[0.3333333333333333,\"#9c179e\"],[0.4444444444444444,\"#bd3786\"],[0.5555555555555556,\"#d8576b\"],[0.6666666666666666,\"#ed7953\"],[0.7777777777777778,\"#fb9f3a\"],[0.8888888888888888,\"#fdca26\"],[1.0,\"#f0f921\"]],\"type\":\"surface\"}],\"table\":[{\"cells\":{\"fill\":{\"color\":\"#EBF0F8\"},\"line\":{\"color\":\"white\"}},\"header\":{\"fill\":{\"color\":\"#C8D4E3\"},\"line\":{\"color\":\"white\"}},\"type\":\"table\"}]},\"layout\":{\"annotationdefaults\":{\"arrowcolor\":\"#2a3f5f\",\"arrowhead\":0,\"arrowwidth\":1},\"autotypenumbers\":\"strict\",\"coloraxis\":{\"colorbar\":{\"outlinewidth\":0,\"ticks\":\"\"}},\"colorscale\":{\"diverging\":[[0,\"#8e0152\"],[0.1,\"#c51b7d\"],[0.2,\"#de77ae\"],[0.3,\"#f1b6da\"],[0.4,\"#fde0ef\"],[0.5,\"#f7f7f7\"],[0.6,\"#e6f5d0\"],[0.7,\"#b8e186\"],[0.8,\"#7fbc41\"],[0.9,\"#4d9221\"],[1,\"#276419\"]],\"sequential\":[[0.0,\"#0d0887\"],[0.1111111111111111,\"#46039f\"],[0.2222222222222222,\"#7201a8\"],[0.3333333333333333,\"#9c179e\"],[0.4444444444444444,\"#bd3786\"],[0.5555555555555556,\"#d8576b\"],[0.6666666666666666,\"#ed7953\"],[0.7777777777777778,\"#fb9f3a\"],[0.8888888888888888,\"#fdca26\"],[1.0,\"#f0f921\"]],\"sequentialminus\":[[0.0,\"#0d0887\"],[0.1111111111111111,\"#46039f\"],[0.2222222222222222,\"#7201a8\"],[0.3333333333333333,\"#9c179e\"],[0.4444444444444444,\"#bd3786\"],[0.5555555555555556,\"#d8576b\"],[0.6666666666666666,\"#ed7953\"],[0.7777777777777778,\"#fb9f3a\"],[0.8888888888888888,\"#fdca26\"],[1.0,\"#f0f921\"]]},\"colorway\":[\"#636efa\",\"#EF553B\",\"#00cc96\",\"#ab63fa\",\"#FFA15A\",\"#19d3f3\",\"#FF6692\",\"#B6E880\",\"#FF97FF\",\"#FECB52\"],\"font\":{\"color\":\"#2a3f5f\"},\"geo\":{\"bgcolor\":\"white\",\"lakecolor\":\"white\",\"landcolor\":\"#E5ECF6\",\"showlakes\":true,\"showland\":true,\"subunitcolor\":\"white\"},\"hoverlabel\":{\"align\":\"left\"},\"hovermode\":\"closest\",\"mapbox\":{\"style\":\"light\"},\"paper_bgcolor\":\"white\",\"plot_bgcolor\":\"#E5ECF6\",\"polar\":{\"angularaxis\":{\"gridcolor\":\"white\",\"linecolor\":\"white\",\"ticks\":\"\"},\"bgcolor\":\"#E5ECF6\",\"radialaxis\":{\"gridcolor\":\"white\",\"linecolor\":\"white\",\"ticks\":\"\"}},\"scene\":{\"xaxis\":{\"backgroundcolor\":\"#E5ECF6\",\"gridcolor\":\"white\",\"gridwidth\":2,\"linecolor\":\"white\",\"showbackground\":true,\"ticks\":\"\",\"zerolinecolor\":\"white\"},\"yaxis\":{\"backgroundcolor\":\"#E5ECF6\",\"gridcolor\":\"white\",\"gridwidth\":2,\"linecolor\":\"white\",\"showbackground\":true,\"ticks\":\"\",\"zerolinecolor\":\"white\"},\"zaxis\":{\"backgroundcolor\":\"#E5ECF6\",\"gridcolor\":\"white\",\"gridwidth\":2,\"linecolor\":\"white\",\"showbackground\":true,\"ticks\":\"\",\"zerolinecolor\":\"white\"}},\"shapedefaults\":{\"line\":{\"color\":\"#2a3f5f\"}},\"ternary\":{\"aaxis\":{\"gridcolor\":\"white\",\"linecolor\":\"white\",\"ticks\":\"\"},\"baxis\":{\"gridcolor\":\"white\",\"linecolor\":\"white\",\"ticks\":\"\"},\"bgcolor\":\"#E5ECF6\",\"caxis\":{\"gridcolor\":\"white\",\"linecolor\":\"white\",\"ticks\":\"\"}},\"title\":{\"x\":0.05},\"xaxis\":{\"automargin\":true,\"gridcolor\":\"white\",\"linecolor\":\"white\",\"ticks\":\"\",\"title\":{\"standoff\":15},\"zerolinecolor\":\"white\",\"zerolinewidth\":2},\"yaxis\":{\"automargin\":true,\"gridcolor\":\"white\",\"linecolor\":\"white\",\"ticks\":\"\",\"title\":{\"standoff\":15},\"zerolinecolor\":\"white\",\"zerolinewidth\":2}}},\"title\":{\"font\":{\"color\":\"#4D5663\"}},\"xaxis\":{\"gridcolor\":\"#E1E5ED\",\"showgrid\":true,\"tickfont\":{\"color\":\"#4D5663\"},\"title\":{\"font\":{\"color\":\"#4D5663\"},\"text\":\"\"},\"zerolinecolor\":\"#E1E5ED\"},\"yaxis\":{\"gridcolor\":\"#E1E5ED\",\"showgrid\":true,\"tickfont\":{\"color\":\"#4D5663\"},\"title\":{\"font\":{\"color\":\"#4D5663\"},\"text\":\"\"},\"zerolinecolor\":\"#E1E5ED\"}},                        {\"showLink\": true, \"linkText\": \"Export to plot.ly\", \"plotlyServerURL\": \"https://plot.ly\", \"responsive\": true}                    ).then(function(){\n",
       "                            \n",
       "var gd = document.getElementById('72027d5e-9fea-47af-a3a2-37cfbe4a70ba');\n",
       "var x = new MutationObserver(function (mutations, observer) {{\n",
       "        var display = window.getComputedStyle(gd).display;\n",
       "        if (!display || display === 'none') {{\n",
       "            console.log([gd, 'removed!']);\n",
       "            Plotly.purge(gd);\n",
       "            observer.disconnect();\n",
       "        }}\n",
       "}});\n",
       "\n",
       "// Listen for the removal of the full notebook cells\n",
       "var notebookContainer = gd.closest('#notebook-container');\n",
       "if (notebookContainer) {{\n",
       "    x.observe(notebookContainer, {childList: true});\n",
       "}}\n",
       "\n",
       "// Listen for the clearing of the current output cell\n",
       "var outputEl = gd.closest('.output');\n",
       "if (outputEl) {{\n",
       "    x.observe(outputEl, {childList: true});\n",
       "}}\n",
       "\n",
       "                        })                };                });            </script>        </div>"
      ]
     },
     "metadata": {},
     "output_type": "display_data"
    }
   ],
   "source": [
    "df.iplot(kind = 'surface')"
   ]
  },
  {
   "cell_type": "code",
   "execution_count": 44,
   "metadata": {},
   "outputs": [
    {
     "data": {
      "application/vnd.plotly.v1+json": {
       "config": {
        "linkText": "Export to plot.ly",
        "plotlyServerURL": "https://plot.ly",
        "showLink": true
       },
       "data": [
        {
         "histfunc": "count",
         "histnorm": "",
         "marker": {
          "color": "rgba(255, 153, 51, 1.0)",
          "line": {
           "color": "#4D5663",
           "width": 1.3
          }
         },
         "name": "A",
         "nbinsx": 50,
         "opacity": 0.8,
         "orientation": "v",
         "type": "histogram",
         "x": [
          -1.2647427478653352,
          1.1438411630417042,
          -1.05938509827262,
          1.8504871379847871,
          1.546377535727985,
          0.33451611794517383,
          -0.20870116298576785,
          -1.085679823482335,
          -1.8827930712316268,
          0.22569589428736125,
          -0.14870073272283485,
          1.8097238490035186,
          1.0846129586722046,
          -0.4585050680912217,
          0.6124031613321901,
          0.37538238094067367,
          0.913002050425729,
          1.447532474939569,
          0.37930096970612054,
          0.025491861586942416,
          -0.15303803382175143,
          2.243550303352481,
          -0.9229629605917236,
          0.49440602178430515,
          0.32626850787772976,
          0.43958972584123573,
          0.6294553731378257,
          -0.7267701219717834,
          -2.138340463946718,
          -1.079017623382896,
          1.4986614544652554,
          -0.27121288174569463,
          0.10138278146479278,
          -1.7605830124243214,
          1.4615654271971597,
          1.3732321332042572,
          -0.28009958692970527,
          0.27184356721053654,
          0.014974755371081123,
          -0.044085016801009055,
          -0.46899889415285745,
          1.1953347937424306,
          -1.2073043812004678,
          1.6594422835590357,
          0.2848202010542789,
          -2.0911424322013095,
          1.6745282025401613,
          0.4378371851153993,
          -1.5566653128924857,
          0.21922867812626284,
          -0.9895599822871955,
          0.4074603834542788,
          -0.11399811827797118,
          -0.4189233977822209,
          0.02238550870270797,
          -0.19216353794605404,
          -0.9170130286940688,
          -0.046978406156488545,
          -0.6700104088456724,
          -0.6660851578679424,
          -0.7556852339933507,
          1.2649343600796048,
          1.2777903189647906,
          -0.9126194253381009,
          -0.2632680461538293,
          -1.8546321915498691,
          -0.7390643109977857,
          -0.38372051200700763,
          2.373219972374884,
          0.15575329596422724,
          0.27443916807887914,
          1.5379394148316894,
          1.0156948488155468,
          2.166093192750811,
          -1.0885500209397434,
          0.23426839259810678,
          1.0855996519748596,
          -0.11987274678594355,
          0.44089320789934516,
          -0.4109301897292856,
          0.2707175129727391,
          0.9588832487102428,
          1.0789411110517297,
          0.567636859797784,
          0.27125757376181386,
          2.3036423634178256,
          -1.6393208075066952,
          -1.0635721442192485,
          -1.11636408945502,
          -0.6034849340046708,
          -0.38968839640407177,
          -0.6161479359295967,
          -1.2335152643562908,
          -0.31229004474165456,
          0.7538272605696364,
          -0.004508090178002124,
          -0.819361298514153,
          0.8156450489617879,
          -2.5000383877630896,
          -0.6474385769236347
         ]
        }
       ],
       "layout": {
        "barmode": "overlay",
        "legend": {
         "bgcolor": "#F5F6F9",
         "font": {
          "color": "#4D5663"
         }
        },
        "paper_bgcolor": "#F5F6F9",
        "plot_bgcolor": "#F5F6F9",
        "template": {
         "data": {
          "bar": [
           {
            "error_x": {
             "color": "#2a3f5f"
            },
            "error_y": {
             "color": "#2a3f5f"
            },
            "marker": {
             "line": {
              "color": "#E5ECF6",
              "width": 0.5
             },
             "pattern": {
              "fillmode": "overlay",
              "size": 10,
              "solidity": 0.2
             }
            },
            "type": "bar"
           }
          ],
          "barpolar": [
           {
            "marker": {
             "line": {
              "color": "#E5ECF6",
              "width": 0.5
             },
             "pattern": {
              "fillmode": "overlay",
              "size": 10,
              "solidity": 0.2
             }
            },
            "type": "barpolar"
           }
          ],
          "carpet": [
           {
            "aaxis": {
             "endlinecolor": "#2a3f5f",
             "gridcolor": "white",
             "linecolor": "white",
             "minorgridcolor": "white",
             "startlinecolor": "#2a3f5f"
            },
            "baxis": {
             "endlinecolor": "#2a3f5f",
             "gridcolor": "white",
             "linecolor": "white",
             "minorgridcolor": "white",
             "startlinecolor": "#2a3f5f"
            },
            "type": "carpet"
           }
          ],
          "choropleth": [
           {
            "colorbar": {
             "outlinewidth": 0,
             "ticks": ""
            },
            "type": "choropleth"
           }
          ],
          "contour": [
           {
            "colorbar": {
             "outlinewidth": 0,
             "ticks": ""
            },
            "colorscale": [
             [
              0,
              "#0d0887"
             ],
             [
              0.1111111111111111,
              "#46039f"
             ],
             [
              0.2222222222222222,
              "#7201a8"
             ],
             [
              0.3333333333333333,
              "#9c179e"
             ],
             [
              0.4444444444444444,
              "#bd3786"
             ],
             [
              0.5555555555555556,
              "#d8576b"
             ],
             [
              0.6666666666666666,
              "#ed7953"
             ],
             [
              0.7777777777777778,
              "#fb9f3a"
             ],
             [
              0.8888888888888888,
              "#fdca26"
             ],
             [
              1,
              "#f0f921"
             ]
            ],
            "type": "contour"
           }
          ],
          "contourcarpet": [
           {
            "colorbar": {
             "outlinewidth": 0,
             "ticks": ""
            },
            "type": "contourcarpet"
           }
          ],
          "heatmap": [
           {
            "colorbar": {
             "outlinewidth": 0,
             "ticks": ""
            },
            "colorscale": [
             [
              0,
              "#0d0887"
             ],
             [
              0.1111111111111111,
              "#46039f"
             ],
             [
              0.2222222222222222,
              "#7201a8"
             ],
             [
              0.3333333333333333,
              "#9c179e"
             ],
             [
              0.4444444444444444,
              "#bd3786"
             ],
             [
              0.5555555555555556,
              "#d8576b"
             ],
             [
              0.6666666666666666,
              "#ed7953"
             ],
             [
              0.7777777777777778,
              "#fb9f3a"
             ],
             [
              0.8888888888888888,
              "#fdca26"
             ],
             [
              1,
              "#f0f921"
             ]
            ],
            "type": "heatmap"
           }
          ],
          "heatmapgl": [
           {
            "colorbar": {
             "outlinewidth": 0,
             "ticks": ""
            },
            "colorscale": [
             [
              0,
              "#0d0887"
             ],
             [
              0.1111111111111111,
              "#46039f"
             ],
             [
              0.2222222222222222,
              "#7201a8"
             ],
             [
              0.3333333333333333,
              "#9c179e"
             ],
             [
              0.4444444444444444,
              "#bd3786"
             ],
             [
              0.5555555555555556,
              "#d8576b"
             ],
             [
              0.6666666666666666,
              "#ed7953"
             ],
             [
              0.7777777777777778,
              "#fb9f3a"
             ],
             [
              0.8888888888888888,
              "#fdca26"
             ],
             [
              1,
              "#f0f921"
             ]
            ],
            "type": "heatmapgl"
           }
          ],
          "histogram": [
           {
            "marker": {
             "pattern": {
              "fillmode": "overlay",
              "size": 10,
              "solidity": 0.2
             }
            },
            "type": "histogram"
           }
          ],
          "histogram2d": [
           {
            "colorbar": {
             "outlinewidth": 0,
             "ticks": ""
            },
            "colorscale": [
             [
              0,
              "#0d0887"
             ],
             [
              0.1111111111111111,
              "#46039f"
             ],
             [
              0.2222222222222222,
              "#7201a8"
             ],
             [
              0.3333333333333333,
              "#9c179e"
             ],
             [
              0.4444444444444444,
              "#bd3786"
             ],
             [
              0.5555555555555556,
              "#d8576b"
             ],
             [
              0.6666666666666666,
              "#ed7953"
             ],
             [
              0.7777777777777778,
              "#fb9f3a"
             ],
             [
              0.8888888888888888,
              "#fdca26"
             ],
             [
              1,
              "#f0f921"
             ]
            ],
            "type": "histogram2d"
           }
          ],
          "histogram2dcontour": [
           {
            "colorbar": {
             "outlinewidth": 0,
             "ticks": ""
            },
            "colorscale": [
             [
              0,
              "#0d0887"
             ],
             [
              0.1111111111111111,
              "#46039f"
             ],
             [
              0.2222222222222222,
              "#7201a8"
             ],
             [
              0.3333333333333333,
              "#9c179e"
             ],
             [
              0.4444444444444444,
              "#bd3786"
             ],
             [
              0.5555555555555556,
              "#d8576b"
             ],
             [
              0.6666666666666666,
              "#ed7953"
             ],
             [
              0.7777777777777778,
              "#fb9f3a"
             ],
             [
              0.8888888888888888,
              "#fdca26"
             ],
             [
              1,
              "#f0f921"
             ]
            ],
            "type": "histogram2dcontour"
           }
          ],
          "mesh3d": [
           {
            "colorbar": {
             "outlinewidth": 0,
             "ticks": ""
            },
            "type": "mesh3d"
           }
          ],
          "parcoords": [
           {
            "line": {
             "colorbar": {
              "outlinewidth": 0,
              "ticks": ""
             }
            },
            "type": "parcoords"
           }
          ],
          "pie": [
           {
            "automargin": true,
            "type": "pie"
           }
          ],
          "scatter": [
           {
            "marker": {
             "colorbar": {
              "outlinewidth": 0,
              "ticks": ""
             }
            },
            "type": "scatter"
           }
          ],
          "scatter3d": [
           {
            "line": {
             "colorbar": {
              "outlinewidth": 0,
              "ticks": ""
             }
            },
            "marker": {
             "colorbar": {
              "outlinewidth": 0,
              "ticks": ""
             }
            },
            "type": "scatter3d"
           }
          ],
          "scattercarpet": [
           {
            "marker": {
             "colorbar": {
              "outlinewidth": 0,
              "ticks": ""
             }
            },
            "type": "scattercarpet"
           }
          ],
          "scattergeo": [
           {
            "marker": {
             "colorbar": {
              "outlinewidth": 0,
              "ticks": ""
             }
            },
            "type": "scattergeo"
           }
          ],
          "scattergl": [
           {
            "marker": {
             "colorbar": {
              "outlinewidth": 0,
              "ticks": ""
             }
            },
            "type": "scattergl"
           }
          ],
          "scattermapbox": [
           {
            "marker": {
             "colorbar": {
              "outlinewidth": 0,
              "ticks": ""
             }
            },
            "type": "scattermapbox"
           }
          ],
          "scatterpolar": [
           {
            "marker": {
             "colorbar": {
              "outlinewidth": 0,
              "ticks": ""
             }
            },
            "type": "scatterpolar"
           }
          ],
          "scatterpolargl": [
           {
            "marker": {
             "colorbar": {
              "outlinewidth": 0,
              "ticks": ""
             }
            },
            "type": "scatterpolargl"
           }
          ],
          "scatterternary": [
           {
            "marker": {
             "colorbar": {
              "outlinewidth": 0,
              "ticks": ""
             }
            },
            "type": "scatterternary"
           }
          ],
          "surface": [
           {
            "colorbar": {
             "outlinewidth": 0,
             "ticks": ""
            },
            "colorscale": [
             [
              0,
              "#0d0887"
             ],
             [
              0.1111111111111111,
              "#46039f"
             ],
             [
              0.2222222222222222,
              "#7201a8"
             ],
             [
              0.3333333333333333,
              "#9c179e"
             ],
             [
              0.4444444444444444,
              "#bd3786"
             ],
             [
              0.5555555555555556,
              "#d8576b"
             ],
             [
              0.6666666666666666,
              "#ed7953"
             ],
             [
              0.7777777777777778,
              "#fb9f3a"
             ],
             [
              0.8888888888888888,
              "#fdca26"
             ],
             [
              1,
              "#f0f921"
             ]
            ],
            "type": "surface"
           }
          ],
          "table": [
           {
            "cells": {
             "fill": {
              "color": "#EBF0F8"
             },
             "line": {
              "color": "white"
             }
            },
            "header": {
             "fill": {
              "color": "#C8D4E3"
             },
             "line": {
              "color": "white"
             }
            },
            "type": "table"
           }
          ]
         },
         "layout": {
          "annotationdefaults": {
           "arrowcolor": "#2a3f5f",
           "arrowhead": 0,
           "arrowwidth": 1
          },
          "autotypenumbers": "strict",
          "coloraxis": {
           "colorbar": {
            "outlinewidth": 0,
            "ticks": ""
           }
          },
          "colorscale": {
           "diverging": [
            [
             0,
             "#8e0152"
            ],
            [
             0.1,
             "#c51b7d"
            ],
            [
             0.2,
             "#de77ae"
            ],
            [
             0.3,
             "#f1b6da"
            ],
            [
             0.4,
             "#fde0ef"
            ],
            [
             0.5,
             "#f7f7f7"
            ],
            [
             0.6,
             "#e6f5d0"
            ],
            [
             0.7,
             "#b8e186"
            ],
            [
             0.8,
             "#7fbc41"
            ],
            [
             0.9,
             "#4d9221"
            ],
            [
             1,
             "#276419"
            ]
           ],
           "sequential": [
            [
             0,
             "#0d0887"
            ],
            [
             0.1111111111111111,
             "#46039f"
            ],
            [
             0.2222222222222222,
             "#7201a8"
            ],
            [
             0.3333333333333333,
             "#9c179e"
            ],
            [
             0.4444444444444444,
             "#bd3786"
            ],
            [
             0.5555555555555556,
             "#d8576b"
            ],
            [
             0.6666666666666666,
             "#ed7953"
            ],
            [
             0.7777777777777778,
             "#fb9f3a"
            ],
            [
             0.8888888888888888,
             "#fdca26"
            ],
            [
             1,
             "#f0f921"
            ]
           ],
           "sequentialminus": [
            [
             0,
             "#0d0887"
            ],
            [
             0.1111111111111111,
             "#46039f"
            ],
            [
             0.2222222222222222,
             "#7201a8"
            ],
            [
             0.3333333333333333,
             "#9c179e"
            ],
            [
             0.4444444444444444,
             "#bd3786"
            ],
            [
             0.5555555555555556,
             "#d8576b"
            ],
            [
             0.6666666666666666,
             "#ed7953"
            ],
            [
             0.7777777777777778,
             "#fb9f3a"
            ],
            [
             0.8888888888888888,
             "#fdca26"
            ],
            [
             1,
             "#f0f921"
            ]
           ]
          },
          "colorway": [
           "#636efa",
           "#EF553B",
           "#00cc96",
           "#ab63fa",
           "#FFA15A",
           "#19d3f3",
           "#FF6692",
           "#B6E880",
           "#FF97FF",
           "#FECB52"
          ],
          "font": {
           "color": "#2a3f5f"
          },
          "geo": {
           "bgcolor": "white",
           "lakecolor": "white",
           "landcolor": "#E5ECF6",
           "showlakes": true,
           "showland": true,
           "subunitcolor": "white"
          },
          "hoverlabel": {
           "align": "left"
          },
          "hovermode": "closest",
          "mapbox": {
           "style": "light"
          },
          "paper_bgcolor": "white",
          "plot_bgcolor": "#E5ECF6",
          "polar": {
           "angularaxis": {
            "gridcolor": "white",
            "linecolor": "white",
            "ticks": ""
           },
           "bgcolor": "#E5ECF6",
           "radialaxis": {
            "gridcolor": "white",
            "linecolor": "white",
            "ticks": ""
           }
          },
          "scene": {
           "xaxis": {
            "backgroundcolor": "#E5ECF6",
            "gridcolor": "white",
            "gridwidth": 2,
            "linecolor": "white",
            "showbackground": true,
            "ticks": "",
            "zerolinecolor": "white"
           },
           "yaxis": {
            "backgroundcolor": "#E5ECF6",
            "gridcolor": "white",
            "gridwidth": 2,
            "linecolor": "white",
            "showbackground": true,
            "ticks": "",
            "zerolinecolor": "white"
           },
           "zaxis": {
            "backgroundcolor": "#E5ECF6",
            "gridcolor": "white",
            "gridwidth": 2,
            "linecolor": "white",
            "showbackground": true,
            "ticks": "",
            "zerolinecolor": "white"
           }
          },
          "shapedefaults": {
           "line": {
            "color": "#2a3f5f"
           }
          },
          "ternary": {
           "aaxis": {
            "gridcolor": "white",
            "linecolor": "white",
            "ticks": ""
           },
           "baxis": {
            "gridcolor": "white",
            "linecolor": "white",
            "ticks": ""
           },
           "bgcolor": "#E5ECF6",
           "caxis": {
            "gridcolor": "white",
            "linecolor": "white",
            "ticks": ""
           }
          },
          "title": {
           "x": 0.05
          },
          "xaxis": {
           "automargin": true,
           "gridcolor": "white",
           "linecolor": "white",
           "ticks": "",
           "title": {
            "standoff": 15
           },
           "zerolinecolor": "white",
           "zerolinewidth": 2
          },
          "yaxis": {
           "automargin": true,
           "gridcolor": "white",
           "linecolor": "white",
           "ticks": "",
           "title": {
            "standoff": 15
           },
           "zerolinecolor": "white",
           "zerolinewidth": 2
          }
         }
        },
        "title": {
         "font": {
          "color": "#4D5663"
         }
        },
        "xaxis": {
         "gridcolor": "#E1E5ED",
         "showgrid": true,
         "tickfont": {
          "color": "#4D5663"
         },
         "title": {
          "font": {
           "color": "#4D5663"
          },
          "text": ""
         },
         "zerolinecolor": "#E1E5ED"
        },
        "yaxis": {
         "gridcolor": "#E1E5ED",
         "showgrid": true,
         "tickfont": {
          "color": "#4D5663"
         },
         "title": {
          "font": {
           "color": "#4D5663"
          },
          "text": ""
         },
         "zerolinecolor": "#E1E5ED"
        }
       }
      },
      "text/html": [
       "<div>                            <div id=\"36dc5e89-8387-464a-9514-0ce77434e070\" class=\"plotly-graph-div\" style=\"height:525px; width:100%;\"></div>            <script type=\"text/javascript\">                require([\"plotly\"], function(Plotly) {                    window.PLOTLYENV=window.PLOTLYENV || {};\n",
       "                    window.PLOTLYENV.BASE_URL='https://plot.ly';                                    if (document.getElementById(\"36dc5e89-8387-464a-9514-0ce77434e070\")) {                    Plotly.newPlot(                        \"36dc5e89-8387-464a-9514-0ce77434e070\",                        [{\"histfunc\":\"count\",\"histnorm\":\"\",\"marker\":{\"color\":\"rgba(255, 153, 51, 1.0)\",\"line\":{\"color\":\"#4D5663\",\"width\":1.3}},\"name\":\"A\",\"nbinsx\":50,\"opacity\":0.8,\"orientation\":\"v\",\"type\":\"histogram\",\"x\":[-1.2647427478653352,1.1438411630417042,-1.05938509827262,1.8504871379847871,1.546377535727985,0.33451611794517383,-0.20870116298576785,-1.085679823482335,-1.8827930712316268,0.22569589428736125,-0.14870073272283485,1.8097238490035186,1.0846129586722046,-0.4585050680912217,0.6124031613321901,0.37538238094067367,0.913002050425729,1.447532474939569,0.37930096970612054,0.025491861586942416,-0.15303803382175143,2.243550303352481,-0.9229629605917236,0.49440602178430515,0.32626850787772976,0.43958972584123573,0.6294553731378257,-0.7267701219717834,-2.138340463946718,-1.079017623382896,1.4986614544652554,-0.27121288174569463,0.10138278146479278,-1.7605830124243214,1.4615654271971597,1.3732321332042572,-0.28009958692970527,0.27184356721053654,0.014974755371081123,-0.044085016801009055,-0.46899889415285745,1.1953347937424306,-1.2073043812004678,1.6594422835590357,0.2848202010542789,-2.0911424322013095,1.6745282025401613,0.4378371851153993,-1.5566653128924857,0.21922867812626284,-0.9895599822871955,0.4074603834542788,-0.11399811827797118,-0.4189233977822209,0.02238550870270797,-0.19216353794605404,-0.9170130286940688,-0.046978406156488545,-0.6700104088456724,-0.6660851578679424,-0.7556852339933507,1.2649343600796048,1.2777903189647906,-0.9126194253381009,-0.2632680461538293,-1.8546321915498691,-0.7390643109977857,-0.38372051200700763,2.373219972374884,0.15575329596422724,0.27443916807887914,1.5379394148316894,1.0156948488155468,2.166093192750811,-1.0885500209397434,0.23426839259810678,1.0855996519748596,-0.11987274678594355,0.44089320789934516,-0.4109301897292856,0.2707175129727391,0.9588832487102428,1.0789411110517297,0.567636859797784,0.27125757376181386,2.3036423634178256,-1.6393208075066952,-1.0635721442192485,-1.11636408945502,-0.6034849340046708,-0.38968839640407177,-0.6161479359295967,-1.2335152643562908,-0.31229004474165456,0.7538272605696364,-0.004508090178002124,-0.819361298514153,0.8156450489617879,-2.5000383877630896,-0.6474385769236347]}],                        {\"barmode\":\"overlay\",\"legend\":{\"bgcolor\":\"#F5F6F9\",\"font\":{\"color\":\"#4D5663\"}},\"paper_bgcolor\":\"#F5F6F9\",\"plot_bgcolor\":\"#F5F6F9\",\"template\":{\"data\":{\"bar\":[{\"error_x\":{\"color\":\"#2a3f5f\"},\"error_y\":{\"color\":\"#2a3f5f\"},\"marker\":{\"line\":{\"color\":\"#E5ECF6\",\"width\":0.5},\"pattern\":{\"fillmode\":\"overlay\",\"size\":10,\"solidity\":0.2}},\"type\":\"bar\"}],\"barpolar\":[{\"marker\":{\"line\":{\"color\":\"#E5ECF6\",\"width\":0.5},\"pattern\":{\"fillmode\":\"overlay\",\"size\":10,\"solidity\":0.2}},\"type\":\"barpolar\"}],\"carpet\":[{\"aaxis\":{\"endlinecolor\":\"#2a3f5f\",\"gridcolor\":\"white\",\"linecolor\":\"white\",\"minorgridcolor\":\"white\",\"startlinecolor\":\"#2a3f5f\"},\"baxis\":{\"endlinecolor\":\"#2a3f5f\",\"gridcolor\":\"white\",\"linecolor\":\"white\",\"minorgridcolor\":\"white\",\"startlinecolor\":\"#2a3f5f\"},\"type\":\"carpet\"}],\"choropleth\":[{\"colorbar\":{\"outlinewidth\":0,\"ticks\":\"\"},\"type\":\"choropleth\"}],\"contour\":[{\"colorbar\":{\"outlinewidth\":0,\"ticks\":\"\"},\"colorscale\":[[0.0,\"#0d0887\"],[0.1111111111111111,\"#46039f\"],[0.2222222222222222,\"#7201a8\"],[0.3333333333333333,\"#9c179e\"],[0.4444444444444444,\"#bd3786\"],[0.5555555555555556,\"#d8576b\"],[0.6666666666666666,\"#ed7953\"],[0.7777777777777778,\"#fb9f3a\"],[0.8888888888888888,\"#fdca26\"],[1.0,\"#f0f921\"]],\"type\":\"contour\"}],\"contourcarpet\":[{\"colorbar\":{\"outlinewidth\":0,\"ticks\":\"\"},\"type\":\"contourcarpet\"}],\"heatmap\":[{\"colorbar\":{\"outlinewidth\":0,\"ticks\":\"\"},\"colorscale\":[[0.0,\"#0d0887\"],[0.1111111111111111,\"#46039f\"],[0.2222222222222222,\"#7201a8\"],[0.3333333333333333,\"#9c179e\"],[0.4444444444444444,\"#bd3786\"],[0.5555555555555556,\"#d8576b\"],[0.6666666666666666,\"#ed7953\"],[0.7777777777777778,\"#fb9f3a\"],[0.8888888888888888,\"#fdca26\"],[1.0,\"#f0f921\"]],\"type\":\"heatmap\"}],\"heatmapgl\":[{\"colorbar\":{\"outlinewidth\":0,\"ticks\":\"\"},\"colorscale\":[[0.0,\"#0d0887\"],[0.1111111111111111,\"#46039f\"],[0.2222222222222222,\"#7201a8\"],[0.3333333333333333,\"#9c179e\"],[0.4444444444444444,\"#bd3786\"],[0.5555555555555556,\"#d8576b\"],[0.6666666666666666,\"#ed7953\"],[0.7777777777777778,\"#fb9f3a\"],[0.8888888888888888,\"#fdca26\"],[1.0,\"#f0f921\"]],\"type\":\"heatmapgl\"}],\"histogram\":[{\"marker\":{\"pattern\":{\"fillmode\":\"overlay\",\"size\":10,\"solidity\":0.2}},\"type\":\"histogram\"}],\"histogram2d\":[{\"colorbar\":{\"outlinewidth\":0,\"ticks\":\"\"},\"colorscale\":[[0.0,\"#0d0887\"],[0.1111111111111111,\"#46039f\"],[0.2222222222222222,\"#7201a8\"],[0.3333333333333333,\"#9c179e\"],[0.4444444444444444,\"#bd3786\"],[0.5555555555555556,\"#d8576b\"],[0.6666666666666666,\"#ed7953\"],[0.7777777777777778,\"#fb9f3a\"],[0.8888888888888888,\"#fdca26\"],[1.0,\"#f0f921\"]],\"type\":\"histogram2d\"}],\"histogram2dcontour\":[{\"colorbar\":{\"outlinewidth\":0,\"ticks\":\"\"},\"colorscale\":[[0.0,\"#0d0887\"],[0.1111111111111111,\"#46039f\"],[0.2222222222222222,\"#7201a8\"],[0.3333333333333333,\"#9c179e\"],[0.4444444444444444,\"#bd3786\"],[0.5555555555555556,\"#d8576b\"],[0.6666666666666666,\"#ed7953\"],[0.7777777777777778,\"#fb9f3a\"],[0.8888888888888888,\"#fdca26\"],[1.0,\"#f0f921\"]],\"type\":\"histogram2dcontour\"}],\"mesh3d\":[{\"colorbar\":{\"outlinewidth\":0,\"ticks\":\"\"},\"type\":\"mesh3d\"}],\"parcoords\":[{\"line\":{\"colorbar\":{\"outlinewidth\":0,\"ticks\":\"\"}},\"type\":\"parcoords\"}],\"pie\":[{\"automargin\":true,\"type\":\"pie\"}],\"scatter\":[{\"marker\":{\"colorbar\":{\"outlinewidth\":0,\"ticks\":\"\"}},\"type\":\"scatter\"}],\"scatter3d\":[{\"line\":{\"colorbar\":{\"outlinewidth\":0,\"ticks\":\"\"}},\"marker\":{\"colorbar\":{\"outlinewidth\":0,\"ticks\":\"\"}},\"type\":\"scatter3d\"}],\"scattercarpet\":[{\"marker\":{\"colorbar\":{\"outlinewidth\":0,\"ticks\":\"\"}},\"type\":\"scattercarpet\"}],\"scattergeo\":[{\"marker\":{\"colorbar\":{\"outlinewidth\":0,\"ticks\":\"\"}},\"type\":\"scattergeo\"}],\"scattergl\":[{\"marker\":{\"colorbar\":{\"outlinewidth\":0,\"ticks\":\"\"}},\"type\":\"scattergl\"}],\"scattermapbox\":[{\"marker\":{\"colorbar\":{\"outlinewidth\":0,\"ticks\":\"\"}},\"type\":\"scattermapbox\"}],\"scatterpolar\":[{\"marker\":{\"colorbar\":{\"outlinewidth\":0,\"ticks\":\"\"}},\"type\":\"scatterpolar\"}],\"scatterpolargl\":[{\"marker\":{\"colorbar\":{\"outlinewidth\":0,\"ticks\":\"\"}},\"type\":\"scatterpolargl\"}],\"scatterternary\":[{\"marker\":{\"colorbar\":{\"outlinewidth\":0,\"ticks\":\"\"}},\"type\":\"scatterternary\"}],\"surface\":[{\"colorbar\":{\"outlinewidth\":0,\"ticks\":\"\"},\"colorscale\":[[0.0,\"#0d0887\"],[0.1111111111111111,\"#46039f\"],[0.2222222222222222,\"#7201a8\"],[0.3333333333333333,\"#9c179e\"],[0.4444444444444444,\"#bd3786\"],[0.5555555555555556,\"#d8576b\"],[0.6666666666666666,\"#ed7953\"],[0.7777777777777778,\"#fb9f3a\"],[0.8888888888888888,\"#fdca26\"],[1.0,\"#f0f921\"]],\"type\":\"surface\"}],\"table\":[{\"cells\":{\"fill\":{\"color\":\"#EBF0F8\"},\"line\":{\"color\":\"white\"}},\"header\":{\"fill\":{\"color\":\"#C8D4E3\"},\"line\":{\"color\":\"white\"}},\"type\":\"table\"}]},\"layout\":{\"annotationdefaults\":{\"arrowcolor\":\"#2a3f5f\",\"arrowhead\":0,\"arrowwidth\":1},\"autotypenumbers\":\"strict\",\"coloraxis\":{\"colorbar\":{\"outlinewidth\":0,\"ticks\":\"\"}},\"colorscale\":{\"diverging\":[[0,\"#8e0152\"],[0.1,\"#c51b7d\"],[0.2,\"#de77ae\"],[0.3,\"#f1b6da\"],[0.4,\"#fde0ef\"],[0.5,\"#f7f7f7\"],[0.6,\"#e6f5d0\"],[0.7,\"#b8e186\"],[0.8,\"#7fbc41\"],[0.9,\"#4d9221\"],[1,\"#276419\"]],\"sequential\":[[0.0,\"#0d0887\"],[0.1111111111111111,\"#46039f\"],[0.2222222222222222,\"#7201a8\"],[0.3333333333333333,\"#9c179e\"],[0.4444444444444444,\"#bd3786\"],[0.5555555555555556,\"#d8576b\"],[0.6666666666666666,\"#ed7953\"],[0.7777777777777778,\"#fb9f3a\"],[0.8888888888888888,\"#fdca26\"],[1.0,\"#f0f921\"]],\"sequentialminus\":[[0.0,\"#0d0887\"],[0.1111111111111111,\"#46039f\"],[0.2222222222222222,\"#7201a8\"],[0.3333333333333333,\"#9c179e\"],[0.4444444444444444,\"#bd3786\"],[0.5555555555555556,\"#d8576b\"],[0.6666666666666666,\"#ed7953\"],[0.7777777777777778,\"#fb9f3a\"],[0.8888888888888888,\"#fdca26\"],[1.0,\"#f0f921\"]]},\"colorway\":[\"#636efa\",\"#EF553B\",\"#00cc96\",\"#ab63fa\",\"#FFA15A\",\"#19d3f3\",\"#FF6692\",\"#B6E880\",\"#FF97FF\",\"#FECB52\"],\"font\":{\"color\":\"#2a3f5f\"},\"geo\":{\"bgcolor\":\"white\",\"lakecolor\":\"white\",\"landcolor\":\"#E5ECF6\",\"showlakes\":true,\"showland\":true,\"subunitcolor\":\"white\"},\"hoverlabel\":{\"align\":\"left\"},\"hovermode\":\"closest\",\"mapbox\":{\"style\":\"light\"},\"paper_bgcolor\":\"white\",\"plot_bgcolor\":\"#E5ECF6\",\"polar\":{\"angularaxis\":{\"gridcolor\":\"white\",\"linecolor\":\"white\",\"ticks\":\"\"},\"bgcolor\":\"#E5ECF6\",\"radialaxis\":{\"gridcolor\":\"white\",\"linecolor\":\"white\",\"ticks\":\"\"}},\"scene\":{\"xaxis\":{\"backgroundcolor\":\"#E5ECF6\",\"gridcolor\":\"white\",\"gridwidth\":2,\"linecolor\":\"white\",\"showbackground\":true,\"ticks\":\"\",\"zerolinecolor\":\"white\"},\"yaxis\":{\"backgroundcolor\":\"#E5ECF6\",\"gridcolor\":\"white\",\"gridwidth\":2,\"linecolor\":\"white\",\"showbackground\":true,\"ticks\":\"\",\"zerolinecolor\":\"white\"},\"zaxis\":{\"backgroundcolor\":\"#E5ECF6\",\"gridcolor\":\"white\",\"gridwidth\":2,\"linecolor\":\"white\",\"showbackground\":true,\"ticks\":\"\",\"zerolinecolor\":\"white\"}},\"shapedefaults\":{\"line\":{\"color\":\"#2a3f5f\"}},\"ternary\":{\"aaxis\":{\"gridcolor\":\"white\",\"linecolor\":\"white\",\"ticks\":\"\"},\"baxis\":{\"gridcolor\":\"white\",\"linecolor\":\"white\",\"ticks\":\"\"},\"bgcolor\":\"#E5ECF6\",\"caxis\":{\"gridcolor\":\"white\",\"linecolor\":\"white\",\"ticks\":\"\"}},\"title\":{\"x\":0.05},\"xaxis\":{\"automargin\":true,\"gridcolor\":\"white\",\"linecolor\":\"white\",\"ticks\":\"\",\"title\":{\"standoff\":15},\"zerolinecolor\":\"white\",\"zerolinewidth\":2},\"yaxis\":{\"automargin\":true,\"gridcolor\":\"white\",\"linecolor\":\"white\",\"ticks\":\"\",\"title\":{\"standoff\":15},\"zerolinecolor\":\"white\",\"zerolinewidth\":2}}},\"title\":{\"font\":{\"color\":\"#4D5663\"}},\"xaxis\":{\"gridcolor\":\"#E1E5ED\",\"showgrid\":true,\"tickfont\":{\"color\":\"#4D5663\"},\"title\":{\"font\":{\"color\":\"#4D5663\"},\"text\":\"\"},\"zerolinecolor\":\"#E1E5ED\"},\"yaxis\":{\"gridcolor\":\"#E1E5ED\",\"showgrid\":true,\"tickfont\":{\"color\":\"#4D5663\"},\"title\":{\"font\":{\"color\":\"#4D5663\"},\"text\":\"\"},\"zerolinecolor\":\"#E1E5ED\"}},                        {\"showLink\": true, \"linkText\": \"Export to plot.ly\", \"plotlyServerURL\": \"https://plot.ly\", \"responsive\": true}                    ).then(function(){\n",
       "                            \n",
       "var gd = document.getElementById('36dc5e89-8387-464a-9514-0ce77434e070');\n",
       "var x = new MutationObserver(function (mutations, observer) {{\n",
       "        var display = window.getComputedStyle(gd).display;\n",
       "        if (!display || display === 'none') {{\n",
       "            console.log([gd, 'removed!']);\n",
       "            Plotly.purge(gd);\n",
       "            observer.disconnect();\n",
       "        }}\n",
       "}});\n",
       "\n",
       "// Listen for the removal of the full notebook cells\n",
       "var notebookContainer = gd.closest('#notebook-container');\n",
       "if (notebookContainer) {{\n",
       "    x.observe(notebookContainer, {childList: true});\n",
       "}}\n",
       "\n",
       "// Listen for the clearing of the current output cell\n",
       "var outputEl = gd.closest('.output');\n",
       "if (outputEl) {{\n",
       "    x.observe(outputEl, {childList: true});\n",
       "}}\n",
       "\n",
       "                        })                };                });            </script>        </div>"
      ]
     },
     "metadata": {},
     "output_type": "display_data"
    }
   ],
   "source": [
    "df['A'].iplot(kind = 'hist',bins = 50)"
   ]
  },
  {
   "cell_type": "code",
   "execution_count": 46,
   "metadata": {},
   "outputs": [
    {
     "name": "stderr",
     "output_type": "stream",
     "text": [
      "/Users/fatemehnosrat/opt/anaconda3/lib/python3.8/site-packages/cufflinks/plotlytools.py:849: FutureWarning:\n",
      "\n",
      "The pandas.np module is deprecated and will be removed from pandas in a future version. Import numpy directly instead\n",
      "\n",
      "/Users/fatemehnosrat/opt/anaconda3/lib/python3.8/site-packages/cufflinks/plotlytools.py:850: FutureWarning:\n",
      "\n",
      "The pandas.np module is deprecated and will be removed from pandas in a future version. Import numpy directly instead\n",
      "\n"
     ]
    },
    {
     "data": {
      "application/vnd.plotly.v1+json": {
       "config": {
        "linkText": "Export to plot.ly",
        "plotlyServerURL": "https://plot.ly",
        "showLink": true
       },
       "data": [
        {
         "line": {
          "color": "rgba(255, 153, 51, 1.0)",
          "dash": "solid",
          "shape": "linear",
          "width": 1.3
         },
         "mode": "lines",
         "name": "A",
         "text": "",
         "type": "scatter",
         "x": [
          0,
          1,
          2,
          3,
          4,
          5,
          6,
          7,
          8,
          9,
          10,
          11,
          12,
          13,
          14,
          15,
          16,
          17,
          18,
          19,
          20,
          21,
          22,
          23,
          24,
          25,
          26,
          27,
          28,
          29,
          30,
          31,
          32,
          33,
          34,
          35,
          36,
          37,
          38,
          39,
          40,
          41,
          42,
          43,
          44,
          45,
          46,
          47,
          48,
          49,
          50,
          51,
          52,
          53,
          54,
          55,
          56,
          57,
          58,
          59,
          60,
          61,
          62,
          63,
          64,
          65,
          66,
          67,
          68,
          69,
          70,
          71,
          72,
          73,
          74,
          75,
          76,
          77,
          78,
          79,
          80,
          81,
          82,
          83,
          84,
          85,
          86,
          87,
          88,
          89,
          90,
          91,
          92,
          93,
          94,
          95,
          96,
          97,
          98,
          99
         ],
         "y": [
          -1.2647427478653352,
          1.1438411630417042,
          -1.05938509827262,
          1.8504871379847871,
          1.546377535727985,
          0.33451611794517383,
          -0.20870116298576785,
          -1.085679823482335,
          -1.8827930712316268,
          0.22569589428736125,
          -0.14870073272283485,
          1.8097238490035186,
          1.0846129586722046,
          -0.4585050680912217,
          0.6124031613321901,
          0.37538238094067367,
          0.913002050425729,
          1.447532474939569,
          0.37930096970612054,
          0.025491861586942416,
          -0.15303803382175143,
          2.243550303352481,
          -0.9229629605917236,
          0.49440602178430515,
          0.32626850787772976,
          0.43958972584123573,
          0.6294553731378257,
          -0.7267701219717834,
          -2.138340463946718,
          -1.079017623382896,
          1.4986614544652554,
          -0.27121288174569463,
          0.10138278146479278,
          -1.7605830124243214,
          1.4615654271971597,
          1.3732321332042572,
          -0.28009958692970527,
          0.27184356721053654,
          0.014974755371081123,
          -0.044085016801009055,
          -0.46899889415285745,
          1.1953347937424306,
          -1.2073043812004678,
          1.6594422835590357,
          0.2848202010542789,
          -2.0911424322013095,
          1.6745282025401613,
          0.4378371851153993,
          -1.5566653128924857,
          0.21922867812626284,
          -0.9895599822871955,
          0.4074603834542788,
          -0.11399811827797118,
          -0.4189233977822209,
          0.02238550870270797,
          -0.19216353794605404,
          -0.9170130286940688,
          -0.046978406156488545,
          -0.6700104088456724,
          -0.6660851578679424,
          -0.7556852339933507,
          1.2649343600796048,
          1.2777903189647906,
          -0.9126194253381009,
          -0.2632680461538293,
          -1.8546321915498691,
          -0.7390643109977857,
          -0.38372051200700763,
          2.373219972374884,
          0.15575329596422724,
          0.27443916807887914,
          1.5379394148316894,
          1.0156948488155468,
          2.166093192750811,
          -1.0885500209397434,
          0.23426839259810678,
          1.0855996519748596,
          -0.11987274678594355,
          0.44089320789934516,
          -0.4109301897292856,
          0.2707175129727391,
          0.9588832487102428,
          1.0789411110517297,
          0.567636859797784,
          0.27125757376181386,
          2.3036423634178256,
          -1.6393208075066952,
          -1.0635721442192485,
          -1.11636408945502,
          -0.6034849340046708,
          -0.38968839640407177,
          -0.6161479359295967,
          -1.2335152643562908,
          -0.31229004474165456,
          0.7538272605696364,
          -0.004508090178002124,
          -0.819361298514153,
          0.8156450489617879,
          -2.5000383877630896,
          -0.6474385769236347
         ]
        },
        {
         "line": {
          "color": "rgba(55, 128, 191, 1.0)",
          "dash": "solid",
          "shape": "linear",
          "width": 1.3
         },
         "mode": "lines",
         "name": "B",
         "text": "",
         "type": "scatter",
         "x": [
          0,
          1,
          2,
          3,
          4,
          5,
          6,
          7,
          8,
          9,
          10,
          11,
          12,
          13,
          14,
          15,
          16,
          17,
          18,
          19,
          20,
          21,
          22,
          23,
          24,
          25,
          26,
          27,
          28,
          29,
          30,
          31,
          32,
          33,
          34,
          35,
          36,
          37,
          38,
          39,
          40,
          41,
          42,
          43,
          44,
          45,
          46,
          47,
          48,
          49,
          50,
          51,
          52,
          53,
          54,
          55,
          56,
          57,
          58,
          59,
          60,
          61,
          62,
          63,
          64,
          65,
          66,
          67,
          68,
          69,
          70,
          71,
          72,
          73,
          74,
          75,
          76,
          77,
          78,
          79,
          80,
          81,
          82,
          83,
          84,
          85,
          86,
          87,
          88,
          89,
          90,
          91,
          92,
          93,
          94,
          95,
          96,
          97,
          98,
          99
         ],
         "y": [
          -0.1301153686144075,
          -1.6689431191330846,
          -0.20285842315621072,
          0.6785541362910886,
          1.0673918447214745,
          -0.7802583792353444,
          0.30655867142304316,
          -1.2224647788795076,
          1.1866673649667518,
          0.46219911312653267,
          1.4359201163455364,
          -0.7620857646479738,
          0.14999770489209946,
          1.3510418038024503,
          -0.3476238768658763,
          0.3770700580304464,
          -0.08724172549181444,
          0.2895924442947607,
          0.9263808590552806,
          0.6797844247887547,
          -1.4012028849109173,
          0.4826166320718709,
          -0.3922986215993963,
          0.1959231778807618,
          -1.535535001735862,
          -1.81030871675917,
          0.3202113451900208,
          -1.0894993574122724,
          1.2611748564873886,
          0.22952844301244146,
          0.20716481394625794,
          -0.5318471990187423,
          0.1905060425236613,
          0.33116265806516637,
          -0.20501117215077244,
          -0.13440599237475553,
          1.3694492195462487,
          0.12091625643835999,
          0.25879190464332064,
          2.1810934957315435,
          -0.8879443807209912,
          -0.10370330117363438,
          1.172528207746524,
          -0.7504584806919168,
          -1.3481550776944762,
          -0.3961405026321928,
          -0.5999811877451495,
          -0.20504473373920704,
          -0.21748858862191447,
          3.7711129137159305,
          1.2972268923024826,
          1.3275408771993824,
          1.95760339268544,
          0.5264064674229573,
          -0.34976669900318985,
          0.8883004010504278,
          -1.9693253772292125,
          -0.7893855424963484,
          -0.943500652185212,
          -0.9272532594633244,
          0.31683412564341046,
          -1.7173765182063023,
          -0.9556446260766284,
          1.3879797679477532,
          1.388906776125478,
          -1.420945170989908,
          -1.2135311911828452,
          -0.038105740051507325,
          -0.6840302763696385,
          -0.21411043178080405,
          -1.7717125392677908,
          0.3551843961210306,
          -0.18233526845925668,
          0.0018104373033404708,
          -1.746680394865062,
          -1.4466500104106845,
          0.2546409286259897,
          -0.9201116861442346,
          0.03541568708138817,
          0.7880116269458712,
          0.010526015638076014,
          -1.2808253690232152,
          -0.43045698828732787,
          0.1970487702396815,
          1.540825646555996,
          -0.6756201736428282,
          -0.5194461460437366,
          -0.9511847167654712,
          0.9183457485866829,
          0.647385429594174,
          0.9178442142583454,
          0.6336945961461663,
          -0.3235544554780584,
          -0.44720725073444695,
          0.15843502509823545,
          1.2594456193699413,
          0.39248124451512556,
          -0.8898170383869574,
          -1.1275896315623108,
          -0.11851924403056344
         ]
        },
        {
         "connectgaps": false,
         "fill": "tozeroy",
         "line": {
          "color": "green",
          "dash": "solid",
          "shape": "linear",
          "width": 0.5
         },
         "mode": "lines",
         "name": "Spread",
         "showlegend": false,
         "type": "scatter",
         "x": [
          0,
          1,
          2,
          3,
          4,
          5,
          6,
          7,
          8,
          9,
          10,
          11,
          12,
          13,
          14,
          15,
          16,
          17,
          18,
          19,
          20,
          21,
          22,
          23,
          24,
          25,
          26,
          27,
          28,
          29,
          30,
          31,
          32,
          33,
          34,
          35,
          36,
          37,
          38,
          39,
          40,
          41,
          42,
          43,
          44,
          45,
          46,
          47,
          48,
          49,
          50,
          51,
          52,
          53,
          54,
          55,
          56,
          57,
          58,
          59,
          60,
          61,
          62,
          63,
          64,
          65,
          66,
          67,
          68,
          69,
          70,
          71,
          72,
          73,
          74,
          75,
          76,
          77,
          78,
          79,
          80,
          81,
          82,
          83,
          84,
          85,
          86,
          87,
          88,
          89,
          90,
          91,
          92,
          93,
          94,
          95,
          96,
          97,
          98,
          99
         ],
         "xaxis": "x2",
         "y": [
          "",
          2.812784282174789,
          "",
          1.1719330016936986,
          0.47898569100651045,
          1.1147744971805182,
          "",
          0.1367849553971725,
          "",
          "",
          "",
          2.5718096136514923,
          0.9346152537801051,
          "",
          0.9600270381980665,
          "",
          1.0002437759175435,
          1.1579400306448084,
          "",
          "",
          1.2481648510891659,
          1.7609336712806098,
          "",
          0.29848284390354335,
          1.8618035096135919,
          2.2498984426004056,
          0.3092440279478049,
          0.3627292354404891,
          "",
          "",
          1.2914966405189976,
          0.2606343172730477,
          "",
          "",
          1.666576599347932,
          1.5076381255790128,
          "",
          0.15092731077217655,
          "",
          "",
          0.4189454865681338,
          1.299038094916065,
          "",
          2.4099007642509527,
          1.632975278748755,
          "",
          2.274509390285311,
          0.6428819188546063,
          "",
          "",
          "",
          "",
          "",
          "",
          0.3721522077058978,
          "",
          1.0523123485351438,
          0.7424071363398599,
          0.27349024333953953,
          0.26116810159538195,
          "",
          2.982310878285907,
          2.233434945041419,
          "",
          "",
          "",
          0.47446688018505956,
          "",
          3.0572502487445226,
          0.3698637277450313,
          2.04615170734667,
          1.1827550187106588,
          1.1980301172748036,
          2.1642827554474704,
          0.6581303739253186,
          1.6809184030087914,
          0.83095872334887,
          0.800238939358291,
          0.405477520817957,
          "",
          0.26019149733466307,
          2.239708617733458,
          1.5093980993390577,
          0.3705880895581025,
          "",
          2.979262537060654,
          "",
          "",
          "",
          "",
          "",
          "",
          "",
          0.1349172059927924,
          0.595392235471401,
          "",
          "",
          1.7054620873487454,
          "",
          ""
         ],
         "yaxis": "y2"
        },
        {
         "connectgaps": false,
         "fill": "tozeroy",
         "line": {
          "color": "red",
          "dash": "solid",
          "shape": "linear",
          "width": 0.5
         },
         "mode": "lines",
         "name": "Spread",
         "showlegend": false,
         "type": "scatter",
         "x": [
          0,
          1,
          2,
          3,
          4,
          5,
          6,
          7,
          8,
          9,
          10,
          11,
          12,
          13,
          14,
          15,
          16,
          17,
          18,
          19,
          20,
          21,
          22,
          23,
          24,
          25,
          26,
          27,
          28,
          29,
          30,
          31,
          32,
          33,
          34,
          35,
          36,
          37,
          38,
          39,
          40,
          41,
          42,
          43,
          44,
          45,
          46,
          47,
          48,
          49,
          50,
          51,
          52,
          53,
          54,
          55,
          56,
          57,
          58,
          59,
          60,
          61,
          62,
          63,
          64,
          65,
          66,
          67,
          68,
          69,
          70,
          71,
          72,
          73,
          74,
          75,
          76,
          77,
          78,
          79,
          80,
          81,
          82,
          83,
          84,
          85,
          86,
          87,
          88,
          89,
          90,
          91,
          92,
          93,
          94,
          95,
          96,
          97,
          98,
          99
         ],
         "xaxis": "x2",
         "y": [
          -1.1346273792509278,
          "",
          -0.8565266751164093,
          "",
          "",
          "",
          -0.5152598344088111,
          "",
          -3.0694604361983786,
          -0.23650321883917141,
          -1.5846208490683713,
          "",
          "",
          -1.809546871893672,
          "",
          -0.0016876770897727433,
          "",
          "",
          -0.54707988934916,
          -0.6542925632018123,
          "",
          "",
          -0.5306643389923272,
          "",
          "",
          "",
          "",
          "",
          -3.3995153204341064,
          -1.3085460663953374,
          "",
          "",
          -0.08912326105886852,
          -2.091745670489488,
          "",
          "",
          -1.6495488064759538,
          "",
          -0.24381714927223952,
          -2.2251785125325525,
          "",
          "",
          -2.379832588946992,
          "",
          "",
          -1.6950019295691168,
          "",
          "",
          -1.3391767242705712,
          -3.5518842355896676,
          -2.286786874589678,
          -0.9200804937451036,
          -2.071601510963411,
          -0.9453298652051781,
          "",
          -1.0804639389964819,
          "",
          "",
          "",
          "",
          -1.0725193596367613,
          "",
          "",
          -2.300599193285854,
          -1.6521748222793073,
          -0.4336870205599612,
          "",
          -0.3456147719555003,
          "",
          "",
          "",
          "",
          "",
          "",
          "",
          "",
          "",
          "",
          "",
          -1.1989418166751569,
          "",
          "",
          "",
          "",
          -1.269568072794182,
          "",
          -1.1198746614629584,
          -0.11238742745377728,
          -2.034709838041703,
          -1.2508703635988447,
          -1.3075326106624172,
          -1.2498425320757631,
          -0.9099608088782324,
          "",
          "",
          -1.2639537095479434,
          -1.2118425430292785,
          "",
          -1.3724487562007788,
          -0.5289193328930712
         ],
         "yaxis": "y2"
        }
       ],
       "layout": {
        "hovermode": "x",
        "legend": {
         "bgcolor": "#F5F6F9",
         "font": {
          "color": "#4D5663"
         }
        },
        "paper_bgcolor": "#F5F6F9",
        "plot_bgcolor": "#F5F6F9",
        "template": {
         "data": {
          "bar": [
           {
            "error_x": {
             "color": "#2a3f5f"
            },
            "error_y": {
             "color": "#2a3f5f"
            },
            "marker": {
             "line": {
              "color": "#E5ECF6",
              "width": 0.5
             },
             "pattern": {
              "fillmode": "overlay",
              "size": 10,
              "solidity": 0.2
             }
            },
            "type": "bar"
           }
          ],
          "barpolar": [
           {
            "marker": {
             "line": {
              "color": "#E5ECF6",
              "width": 0.5
             },
             "pattern": {
              "fillmode": "overlay",
              "size": 10,
              "solidity": 0.2
             }
            },
            "type": "barpolar"
           }
          ],
          "carpet": [
           {
            "aaxis": {
             "endlinecolor": "#2a3f5f",
             "gridcolor": "white",
             "linecolor": "white",
             "minorgridcolor": "white",
             "startlinecolor": "#2a3f5f"
            },
            "baxis": {
             "endlinecolor": "#2a3f5f",
             "gridcolor": "white",
             "linecolor": "white",
             "minorgridcolor": "white",
             "startlinecolor": "#2a3f5f"
            },
            "type": "carpet"
           }
          ],
          "choropleth": [
           {
            "colorbar": {
             "outlinewidth": 0,
             "ticks": ""
            },
            "type": "choropleth"
           }
          ],
          "contour": [
           {
            "colorbar": {
             "outlinewidth": 0,
             "ticks": ""
            },
            "colorscale": [
             [
              0,
              "#0d0887"
             ],
             [
              0.1111111111111111,
              "#46039f"
             ],
             [
              0.2222222222222222,
              "#7201a8"
             ],
             [
              0.3333333333333333,
              "#9c179e"
             ],
             [
              0.4444444444444444,
              "#bd3786"
             ],
             [
              0.5555555555555556,
              "#d8576b"
             ],
             [
              0.6666666666666666,
              "#ed7953"
             ],
             [
              0.7777777777777778,
              "#fb9f3a"
             ],
             [
              0.8888888888888888,
              "#fdca26"
             ],
             [
              1,
              "#f0f921"
             ]
            ],
            "type": "contour"
           }
          ],
          "contourcarpet": [
           {
            "colorbar": {
             "outlinewidth": 0,
             "ticks": ""
            },
            "type": "contourcarpet"
           }
          ],
          "heatmap": [
           {
            "colorbar": {
             "outlinewidth": 0,
             "ticks": ""
            },
            "colorscale": [
             [
              0,
              "#0d0887"
             ],
             [
              0.1111111111111111,
              "#46039f"
             ],
             [
              0.2222222222222222,
              "#7201a8"
             ],
             [
              0.3333333333333333,
              "#9c179e"
             ],
             [
              0.4444444444444444,
              "#bd3786"
             ],
             [
              0.5555555555555556,
              "#d8576b"
             ],
             [
              0.6666666666666666,
              "#ed7953"
             ],
             [
              0.7777777777777778,
              "#fb9f3a"
             ],
             [
              0.8888888888888888,
              "#fdca26"
             ],
             [
              1,
              "#f0f921"
             ]
            ],
            "type": "heatmap"
           }
          ],
          "heatmapgl": [
           {
            "colorbar": {
             "outlinewidth": 0,
             "ticks": ""
            },
            "colorscale": [
             [
              0,
              "#0d0887"
             ],
             [
              0.1111111111111111,
              "#46039f"
             ],
             [
              0.2222222222222222,
              "#7201a8"
             ],
             [
              0.3333333333333333,
              "#9c179e"
             ],
             [
              0.4444444444444444,
              "#bd3786"
             ],
             [
              0.5555555555555556,
              "#d8576b"
             ],
             [
              0.6666666666666666,
              "#ed7953"
             ],
             [
              0.7777777777777778,
              "#fb9f3a"
             ],
             [
              0.8888888888888888,
              "#fdca26"
             ],
             [
              1,
              "#f0f921"
             ]
            ],
            "type": "heatmapgl"
           }
          ],
          "histogram": [
           {
            "marker": {
             "pattern": {
              "fillmode": "overlay",
              "size": 10,
              "solidity": 0.2
             }
            },
            "type": "histogram"
           }
          ],
          "histogram2d": [
           {
            "colorbar": {
             "outlinewidth": 0,
             "ticks": ""
            },
            "colorscale": [
             [
              0,
              "#0d0887"
             ],
             [
              0.1111111111111111,
              "#46039f"
             ],
             [
              0.2222222222222222,
              "#7201a8"
             ],
             [
              0.3333333333333333,
              "#9c179e"
             ],
             [
              0.4444444444444444,
              "#bd3786"
             ],
             [
              0.5555555555555556,
              "#d8576b"
             ],
             [
              0.6666666666666666,
              "#ed7953"
             ],
             [
              0.7777777777777778,
              "#fb9f3a"
             ],
             [
              0.8888888888888888,
              "#fdca26"
             ],
             [
              1,
              "#f0f921"
             ]
            ],
            "type": "histogram2d"
           }
          ],
          "histogram2dcontour": [
           {
            "colorbar": {
             "outlinewidth": 0,
             "ticks": ""
            },
            "colorscale": [
             [
              0,
              "#0d0887"
             ],
             [
              0.1111111111111111,
              "#46039f"
             ],
             [
              0.2222222222222222,
              "#7201a8"
             ],
             [
              0.3333333333333333,
              "#9c179e"
             ],
             [
              0.4444444444444444,
              "#bd3786"
             ],
             [
              0.5555555555555556,
              "#d8576b"
             ],
             [
              0.6666666666666666,
              "#ed7953"
             ],
             [
              0.7777777777777778,
              "#fb9f3a"
             ],
             [
              0.8888888888888888,
              "#fdca26"
             ],
             [
              1,
              "#f0f921"
             ]
            ],
            "type": "histogram2dcontour"
           }
          ],
          "mesh3d": [
           {
            "colorbar": {
             "outlinewidth": 0,
             "ticks": ""
            },
            "type": "mesh3d"
           }
          ],
          "parcoords": [
           {
            "line": {
             "colorbar": {
              "outlinewidth": 0,
              "ticks": ""
             }
            },
            "type": "parcoords"
           }
          ],
          "pie": [
           {
            "automargin": true,
            "type": "pie"
           }
          ],
          "scatter": [
           {
            "marker": {
             "colorbar": {
              "outlinewidth": 0,
              "ticks": ""
             }
            },
            "type": "scatter"
           }
          ],
          "scatter3d": [
           {
            "line": {
             "colorbar": {
              "outlinewidth": 0,
              "ticks": ""
             }
            },
            "marker": {
             "colorbar": {
              "outlinewidth": 0,
              "ticks": ""
             }
            },
            "type": "scatter3d"
           }
          ],
          "scattercarpet": [
           {
            "marker": {
             "colorbar": {
              "outlinewidth": 0,
              "ticks": ""
             }
            },
            "type": "scattercarpet"
           }
          ],
          "scattergeo": [
           {
            "marker": {
             "colorbar": {
              "outlinewidth": 0,
              "ticks": ""
             }
            },
            "type": "scattergeo"
           }
          ],
          "scattergl": [
           {
            "marker": {
             "colorbar": {
              "outlinewidth": 0,
              "ticks": ""
             }
            },
            "type": "scattergl"
           }
          ],
          "scattermapbox": [
           {
            "marker": {
             "colorbar": {
              "outlinewidth": 0,
              "ticks": ""
             }
            },
            "type": "scattermapbox"
           }
          ],
          "scatterpolar": [
           {
            "marker": {
             "colorbar": {
              "outlinewidth": 0,
              "ticks": ""
             }
            },
            "type": "scatterpolar"
           }
          ],
          "scatterpolargl": [
           {
            "marker": {
             "colorbar": {
              "outlinewidth": 0,
              "ticks": ""
             }
            },
            "type": "scatterpolargl"
           }
          ],
          "scatterternary": [
           {
            "marker": {
             "colorbar": {
              "outlinewidth": 0,
              "ticks": ""
             }
            },
            "type": "scatterternary"
           }
          ],
          "surface": [
           {
            "colorbar": {
             "outlinewidth": 0,
             "ticks": ""
            },
            "colorscale": [
             [
              0,
              "#0d0887"
             ],
             [
              0.1111111111111111,
              "#46039f"
             ],
             [
              0.2222222222222222,
              "#7201a8"
             ],
             [
              0.3333333333333333,
              "#9c179e"
             ],
             [
              0.4444444444444444,
              "#bd3786"
             ],
             [
              0.5555555555555556,
              "#d8576b"
             ],
             [
              0.6666666666666666,
              "#ed7953"
             ],
             [
              0.7777777777777778,
              "#fb9f3a"
             ],
             [
              0.8888888888888888,
              "#fdca26"
             ],
             [
              1,
              "#f0f921"
             ]
            ],
            "type": "surface"
           }
          ],
          "table": [
           {
            "cells": {
             "fill": {
              "color": "#EBF0F8"
             },
             "line": {
              "color": "white"
             }
            },
            "header": {
             "fill": {
              "color": "#C8D4E3"
             },
             "line": {
              "color": "white"
             }
            },
            "type": "table"
           }
          ]
         },
         "layout": {
          "annotationdefaults": {
           "arrowcolor": "#2a3f5f",
           "arrowhead": 0,
           "arrowwidth": 1
          },
          "autotypenumbers": "strict",
          "coloraxis": {
           "colorbar": {
            "outlinewidth": 0,
            "ticks": ""
           }
          },
          "colorscale": {
           "diverging": [
            [
             0,
             "#8e0152"
            ],
            [
             0.1,
             "#c51b7d"
            ],
            [
             0.2,
             "#de77ae"
            ],
            [
             0.3,
             "#f1b6da"
            ],
            [
             0.4,
             "#fde0ef"
            ],
            [
             0.5,
             "#f7f7f7"
            ],
            [
             0.6,
             "#e6f5d0"
            ],
            [
             0.7,
             "#b8e186"
            ],
            [
             0.8,
             "#7fbc41"
            ],
            [
             0.9,
             "#4d9221"
            ],
            [
             1,
             "#276419"
            ]
           ],
           "sequential": [
            [
             0,
             "#0d0887"
            ],
            [
             0.1111111111111111,
             "#46039f"
            ],
            [
             0.2222222222222222,
             "#7201a8"
            ],
            [
             0.3333333333333333,
             "#9c179e"
            ],
            [
             0.4444444444444444,
             "#bd3786"
            ],
            [
             0.5555555555555556,
             "#d8576b"
            ],
            [
             0.6666666666666666,
             "#ed7953"
            ],
            [
             0.7777777777777778,
             "#fb9f3a"
            ],
            [
             0.8888888888888888,
             "#fdca26"
            ],
            [
             1,
             "#f0f921"
            ]
           ],
           "sequentialminus": [
            [
             0,
             "#0d0887"
            ],
            [
             0.1111111111111111,
             "#46039f"
            ],
            [
             0.2222222222222222,
             "#7201a8"
            ],
            [
             0.3333333333333333,
             "#9c179e"
            ],
            [
             0.4444444444444444,
             "#bd3786"
            ],
            [
             0.5555555555555556,
             "#d8576b"
            ],
            [
             0.6666666666666666,
             "#ed7953"
            ],
            [
             0.7777777777777778,
             "#fb9f3a"
            ],
            [
             0.8888888888888888,
             "#fdca26"
            ],
            [
             1,
             "#f0f921"
            ]
           ]
          },
          "colorway": [
           "#636efa",
           "#EF553B",
           "#00cc96",
           "#ab63fa",
           "#FFA15A",
           "#19d3f3",
           "#FF6692",
           "#B6E880",
           "#FF97FF",
           "#FECB52"
          ],
          "font": {
           "color": "#2a3f5f"
          },
          "geo": {
           "bgcolor": "white",
           "lakecolor": "white",
           "landcolor": "#E5ECF6",
           "showlakes": true,
           "showland": true,
           "subunitcolor": "white"
          },
          "hoverlabel": {
           "align": "left"
          },
          "hovermode": "closest",
          "mapbox": {
           "style": "light"
          },
          "paper_bgcolor": "white",
          "plot_bgcolor": "#E5ECF6",
          "polar": {
           "angularaxis": {
            "gridcolor": "white",
            "linecolor": "white",
            "ticks": ""
           },
           "bgcolor": "#E5ECF6",
           "radialaxis": {
            "gridcolor": "white",
            "linecolor": "white",
            "ticks": ""
           }
          },
          "scene": {
           "xaxis": {
            "backgroundcolor": "#E5ECF6",
            "gridcolor": "white",
            "gridwidth": 2,
            "linecolor": "white",
            "showbackground": true,
            "ticks": "",
            "zerolinecolor": "white"
           },
           "yaxis": {
            "backgroundcolor": "#E5ECF6",
            "gridcolor": "white",
            "gridwidth": 2,
            "linecolor": "white",
            "showbackground": true,
            "ticks": "",
            "zerolinecolor": "white"
           },
           "zaxis": {
            "backgroundcolor": "#E5ECF6",
            "gridcolor": "white",
            "gridwidth": 2,
            "linecolor": "white",
            "showbackground": true,
            "ticks": "",
            "zerolinecolor": "white"
           }
          },
          "shapedefaults": {
           "line": {
            "color": "#2a3f5f"
           }
          },
          "ternary": {
           "aaxis": {
            "gridcolor": "white",
            "linecolor": "white",
            "ticks": ""
           },
           "baxis": {
            "gridcolor": "white",
            "linecolor": "white",
            "ticks": ""
           },
           "bgcolor": "#E5ECF6",
           "caxis": {
            "gridcolor": "white",
            "linecolor": "white",
            "ticks": ""
           }
          },
          "title": {
           "x": 0.05
          },
          "xaxis": {
           "automargin": true,
           "gridcolor": "white",
           "linecolor": "white",
           "ticks": "",
           "title": {
            "standoff": 15
           },
           "zerolinecolor": "white",
           "zerolinewidth": 2
          },
          "yaxis": {
           "automargin": true,
           "gridcolor": "white",
           "linecolor": "white",
           "ticks": "",
           "title": {
            "standoff": 15
           },
           "zerolinecolor": "white",
           "zerolinewidth": 2
          }
         }
        },
        "title": {
         "font": {
          "color": "#4D5663"
         }
        },
        "xaxis": {
         "gridcolor": "#E1E5ED",
         "showgrid": true,
         "tickfont": {
          "color": "#4D5663"
         },
         "title": {
          "font": {
           "color": "#4D5663"
          },
          "text": ""
         },
         "zerolinecolor": "#E1E5ED"
        },
        "xaxis2": {
         "anchor": "y2",
         "gridcolor": "#E1E5ED",
         "showgrid": true,
         "showticklabels": false,
         "tickfont": {
          "color": "#4D5663"
         },
         "title": {
          "font": {
           "color": "#4D5663"
          },
          "text": ""
         },
         "zerolinecolor": "#E1E5ED"
        },
        "yaxis": {
         "domain": [
          0.3,
          1
         ],
         "gridcolor": "#E1E5ED",
         "showgrid": true,
         "tickfont": {
          "color": "#4D5663"
         },
         "title": {
          "font": {
           "color": "#4D5663"
          },
          "text": ""
         },
         "zerolinecolor": "#E1E5ED"
        },
        "yaxis2": {
         "domain": [
          0,
          0.25
         ],
         "gridcolor": "#E1E5ED",
         "showgrid": true,
         "tickfont": {
          "color": "#4D5663"
         },
         "title": {
          "font": {
           "color": "#4D5663"
          },
          "text": "Spread"
         },
         "zerolinecolor": "#E1E5ED"
        }
       }
      },
      "text/html": [
       "<div>                            <div id=\"cefb0352-aa4e-4c6c-8a54-464ec2280260\" class=\"plotly-graph-div\" style=\"height:525px; width:100%;\"></div>            <script type=\"text/javascript\">                require([\"plotly\"], function(Plotly) {                    window.PLOTLYENV=window.PLOTLYENV || {};\n",
       "                    window.PLOTLYENV.BASE_URL='https://plot.ly';                                    if (document.getElementById(\"cefb0352-aa4e-4c6c-8a54-464ec2280260\")) {                    Plotly.newPlot(                        \"cefb0352-aa4e-4c6c-8a54-464ec2280260\",                        [{\"line\":{\"color\":\"rgba(255, 153, 51, 1.0)\",\"dash\":\"solid\",\"shape\":\"linear\",\"width\":1.3},\"mode\":\"lines\",\"name\":\"A\",\"text\":\"\",\"type\":\"scatter\",\"x\":[0,1,2,3,4,5,6,7,8,9,10,11,12,13,14,15,16,17,18,19,20,21,22,23,24,25,26,27,28,29,30,31,32,33,34,35,36,37,38,39,40,41,42,43,44,45,46,47,48,49,50,51,52,53,54,55,56,57,58,59,60,61,62,63,64,65,66,67,68,69,70,71,72,73,74,75,76,77,78,79,80,81,82,83,84,85,86,87,88,89,90,91,92,93,94,95,96,97,98,99],\"y\":[-1.2647427478653352,1.1438411630417042,-1.05938509827262,1.8504871379847871,1.546377535727985,0.33451611794517383,-0.20870116298576785,-1.085679823482335,-1.8827930712316268,0.22569589428736125,-0.14870073272283485,1.8097238490035186,1.0846129586722046,-0.4585050680912217,0.6124031613321901,0.37538238094067367,0.913002050425729,1.447532474939569,0.37930096970612054,0.025491861586942416,-0.15303803382175143,2.243550303352481,-0.9229629605917236,0.49440602178430515,0.32626850787772976,0.43958972584123573,0.6294553731378257,-0.7267701219717834,-2.138340463946718,-1.079017623382896,1.4986614544652554,-0.27121288174569463,0.10138278146479278,-1.7605830124243214,1.4615654271971597,1.3732321332042572,-0.28009958692970527,0.27184356721053654,0.014974755371081123,-0.044085016801009055,-0.46899889415285745,1.1953347937424306,-1.2073043812004678,1.6594422835590357,0.2848202010542789,-2.0911424322013095,1.6745282025401613,0.4378371851153993,-1.5566653128924857,0.21922867812626284,-0.9895599822871955,0.4074603834542788,-0.11399811827797118,-0.4189233977822209,0.02238550870270797,-0.19216353794605404,-0.9170130286940688,-0.046978406156488545,-0.6700104088456724,-0.6660851578679424,-0.7556852339933507,1.2649343600796048,1.2777903189647906,-0.9126194253381009,-0.2632680461538293,-1.8546321915498691,-0.7390643109977857,-0.38372051200700763,2.373219972374884,0.15575329596422724,0.27443916807887914,1.5379394148316894,1.0156948488155468,2.166093192750811,-1.0885500209397434,0.23426839259810678,1.0855996519748596,-0.11987274678594355,0.44089320789934516,-0.4109301897292856,0.2707175129727391,0.9588832487102428,1.0789411110517297,0.567636859797784,0.27125757376181386,2.3036423634178256,-1.6393208075066952,-1.0635721442192485,-1.11636408945502,-0.6034849340046708,-0.38968839640407177,-0.6161479359295967,-1.2335152643562908,-0.31229004474165456,0.7538272605696364,-0.004508090178002124,-0.819361298514153,0.8156450489617879,-2.5000383877630896,-0.6474385769236347]},{\"line\":{\"color\":\"rgba(55, 128, 191, 1.0)\",\"dash\":\"solid\",\"shape\":\"linear\",\"width\":1.3},\"mode\":\"lines\",\"name\":\"B\",\"text\":\"\",\"type\":\"scatter\",\"x\":[0,1,2,3,4,5,6,7,8,9,10,11,12,13,14,15,16,17,18,19,20,21,22,23,24,25,26,27,28,29,30,31,32,33,34,35,36,37,38,39,40,41,42,43,44,45,46,47,48,49,50,51,52,53,54,55,56,57,58,59,60,61,62,63,64,65,66,67,68,69,70,71,72,73,74,75,76,77,78,79,80,81,82,83,84,85,86,87,88,89,90,91,92,93,94,95,96,97,98,99],\"y\":[-0.1301153686144075,-1.6689431191330846,-0.20285842315621072,0.6785541362910886,1.0673918447214745,-0.7802583792353444,0.30655867142304316,-1.2224647788795076,1.1866673649667518,0.46219911312653267,1.4359201163455364,-0.7620857646479738,0.14999770489209946,1.3510418038024503,-0.3476238768658763,0.3770700580304464,-0.08724172549181444,0.2895924442947607,0.9263808590552806,0.6797844247887547,-1.4012028849109173,0.4826166320718709,-0.3922986215993963,0.1959231778807618,-1.535535001735862,-1.81030871675917,0.3202113451900208,-1.0894993574122724,1.2611748564873886,0.22952844301244146,0.20716481394625794,-0.5318471990187423,0.1905060425236613,0.33116265806516637,-0.20501117215077244,-0.13440599237475553,1.3694492195462487,0.12091625643835999,0.25879190464332064,2.1810934957315435,-0.8879443807209912,-0.10370330117363438,1.172528207746524,-0.7504584806919168,-1.3481550776944762,-0.3961405026321928,-0.5999811877451495,-0.20504473373920704,-0.21748858862191447,3.7711129137159305,1.2972268923024826,1.3275408771993824,1.95760339268544,0.5264064674229573,-0.34976669900318985,0.8883004010504278,-1.9693253772292125,-0.7893855424963484,-0.943500652185212,-0.9272532594633244,0.31683412564341046,-1.7173765182063023,-0.9556446260766284,1.3879797679477532,1.388906776125478,-1.420945170989908,-1.2135311911828452,-0.038105740051507325,-0.6840302763696385,-0.21411043178080405,-1.7717125392677908,0.3551843961210306,-0.18233526845925668,0.0018104373033404708,-1.746680394865062,-1.4466500104106845,0.2546409286259897,-0.9201116861442346,0.03541568708138817,0.7880116269458712,0.010526015638076014,-1.2808253690232152,-0.43045698828732787,0.1970487702396815,1.540825646555996,-0.6756201736428282,-0.5194461460437366,-0.9511847167654712,0.9183457485866829,0.647385429594174,0.9178442142583454,0.6336945961461663,-0.3235544554780584,-0.44720725073444695,0.15843502509823545,1.2594456193699413,0.39248124451512556,-0.8898170383869574,-1.1275896315623108,-0.11851924403056344]},{\"connectgaps\":false,\"fill\":\"tozeroy\",\"line\":{\"color\":\"green\",\"dash\":\"solid\",\"shape\":\"linear\",\"width\":0.5},\"mode\":\"lines\",\"name\":\"Spread\",\"showlegend\":false,\"type\":\"scatter\",\"x\":[0,1,2,3,4,5,6,7,8,9,10,11,12,13,14,15,16,17,18,19,20,21,22,23,24,25,26,27,28,29,30,31,32,33,34,35,36,37,38,39,40,41,42,43,44,45,46,47,48,49,50,51,52,53,54,55,56,57,58,59,60,61,62,63,64,65,66,67,68,69,70,71,72,73,74,75,76,77,78,79,80,81,82,83,84,85,86,87,88,89,90,91,92,93,94,95,96,97,98,99],\"xaxis\":\"x2\",\"y\":[\"\",2.812784282174789,\"\",1.1719330016936986,0.47898569100651045,1.1147744971805182,\"\",0.1367849553971725,\"\",\"\",\"\",2.5718096136514923,0.9346152537801051,\"\",0.9600270381980665,\"\",1.0002437759175435,1.1579400306448084,\"\",\"\",1.2481648510891659,1.7609336712806098,\"\",0.29848284390354335,1.8618035096135919,2.2498984426004056,0.3092440279478049,0.3627292354404891,\"\",\"\",1.2914966405189976,0.2606343172730477,\"\",\"\",1.666576599347932,1.5076381255790128,\"\",0.15092731077217655,\"\",\"\",0.4189454865681338,1.299038094916065,\"\",2.4099007642509527,1.632975278748755,\"\",2.274509390285311,0.6428819188546063,\"\",\"\",\"\",\"\",\"\",\"\",0.3721522077058978,\"\",1.0523123485351438,0.7424071363398599,0.27349024333953953,0.26116810159538195,\"\",2.982310878285907,2.233434945041419,\"\",\"\",\"\",0.47446688018505956,\"\",3.0572502487445226,0.3698637277450313,2.04615170734667,1.1827550187106588,1.1980301172748036,2.1642827554474704,0.6581303739253186,1.6809184030087914,0.83095872334887,0.800238939358291,0.405477520817957,\"\",0.26019149733466307,2.239708617733458,1.5093980993390577,0.3705880895581025,\"\",2.979262537060654,\"\",\"\",\"\",\"\",\"\",\"\",\"\",0.1349172059927924,0.595392235471401,\"\",\"\",1.7054620873487454,\"\",\"\"],\"yaxis\":\"y2\"},{\"connectgaps\":false,\"fill\":\"tozeroy\",\"line\":{\"color\":\"red\",\"dash\":\"solid\",\"shape\":\"linear\",\"width\":0.5},\"mode\":\"lines\",\"name\":\"Spread\",\"showlegend\":false,\"type\":\"scatter\",\"x\":[0,1,2,3,4,5,6,7,8,9,10,11,12,13,14,15,16,17,18,19,20,21,22,23,24,25,26,27,28,29,30,31,32,33,34,35,36,37,38,39,40,41,42,43,44,45,46,47,48,49,50,51,52,53,54,55,56,57,58,59,60,61,62,63,64,65,66,67,68,69,70,71,72,73,74,75,76,77,78,79,80,81,82,83,84,85,86,87,88,89,90,91,92,93,94,95,96,97,98,99],\"xaxis\":\"x2\",\"y\":[-1.1346273792509278,\"\",-0.8565266751164093,\"\",\"\",\"\",-0.5152598344088111,\"\",-3.0694604361983786,-0.23650321883917141,-1.5846208490683713,\"\",\"\",-1.809546871893672,\"\",-0.0016876770897727433,\"\",\"\",-0.54707988934916,-0.6542925632018123,\"\",\"\",-0.5306643389923272,\"\",\"\",\"\",\"\",\"\",-3.3995153204341064,-1.3085460663953374,\"\",\"\",-0.08912326105886852,-2.091745670489488,\"\",\"\",-1.6495488064759538,\"\",-0.24381714927223952,-2.2251785125325525,\"\",\"\",-2.379832588946992,\"\",\"\",-1.6950019295691168,\"\",\"\",-1.3391767242705712,-3.5518842355896676,-2.286786874589678,-0.9200804937451036,-2.071601510963411,-0.9453298652051781,\"\",-1.0804639389964819,\"\",\"\",\"\",\"\",-1.0725193596367613,\"\",\"\",-2.300599193285854,-1.6521748222793073,-0.4336870205599612,\"\",-0.3456147719555003,\"\",\"\",\"\",\"\",\"\",\"\",\"\",\"\",\"\",\"\",\"\",-1.1989418166751569,\"\",\"\",\"\",\"\",-1.269568072794182,\"\",-1.1198746614629584,-0.11238742745377728,-2.034709838041703,-1.2508703635988447,-1.3075326106624172,-1.2498425320757631,-0.9099608088782324,\"\",\"\",-1.2639537095479434,-1.2118425430292785,\"\",-1.3724487562007788,-0.5289193328930712],\"yaxis\":\"y2\"}],                        {\"hovermode\":\"x\",\"legend\":{\"bgcolor\":\"#F5F6F9\",\"font\":{\"color\":\"#4D5663\"}},\"paper_bgcolor\":\"#F5F6F9\",\"plot_bgcolor\":\"#F5F6F9\",\"template\":{\"data\":{\"bar\":[{\"error_x\":{\"color\":\"#2a3f5f\"},\"error_y\":{\"color\":\"#2a3f5f\"},\"marker\":{\"line\":{\"color\":\"#E5ECF6\",\"width\":0.5},\"pattern\":{\"fillmode\":\"overlay\",\"size\":10,\"solidity\":0.2}},\"type\":\"bar\"}],\"barpolar\":[{\"marker\":{\"line\":{\"color\":\"#E5ECF6\",\"width\":0.5},\"pattern\":{\"fillmode\":\"overlay\",\"size\":10,\"solidity\":0.2}},\"type\":\"barpolar\"}],\"carpet\":[{\"aaxis\":{\"endlinecolor\":\"#2a3f5f\",\"gridcolor\":\"white\",\"linecolor\":\"white\",\"minorgridcolor\":\"white\",\"startlinecolor\":\"#2a3f5f\"},\"baxis\":{\"endlinecolor\":\"#2a3f5f\",\"gridcolor\":\"white\",\"linecolor\":\"white\",\"minorgridcolor\":\"white\",\"startlinecolor\":\"#2a3f5f\"},\"type\":\"carpet\"}],\"choropleth\":[{\"colorbar\":{\"outlinewidth\":0,\"ticks\":\"\"},\"type\":\"choropleth\"}],\"contour\":[{\"colorbar\":{\"outlinewidth\":0,\"ticks\":\"\"},\"colorscale\":[[0.0,\"#0d0887\"],[0.1111111111111111,\"#46039f\"],[0.2222222222222222,\"#7201a8\"],[0.3333333333333333,\"#9c179e\"],[0.4444444444444444,\"#bd3786\"],[0.5555555555555556,\"#d8576b\"],[0.6666666666666666,\"#ed7953\"],[0.7777777777777778,\"#fb9f3a\"],[0.8888888888888888,\"#fdca26\"],[1.0,\"#f0f921\"]],\"type\":\"contour\"}],\"contourcarpet\":[{\"colorbar\":{\"outlinewidth\":0,\"ticks\":\"\"},\"type\":\"contourcarpet\"}],\"heatmap\":[{\"colorbar\":{\"outlinewidth\":0,\"ticks\":\"\"},\"colorscale\":[[0.0,\"#0d0887\"],[0.1111111111111111,\"#46039f\"],[0.2222222222222222,\"#7201a8\"],[0.3333333333333333,\"#9c179e\"],[0.4444444444444444,\"#bd3786\"],[0.5555555555555556,\"#d8576b\"],[0.6666666666666666,\"#ed7953\"],[0.7777777777777778,\"#fb9f3a\"],[0.8888888888888888,\"#fdca26\"],[1.0,\"#f0f921\"]],\"type\":\"heatmap\"}],\"heatmapgl\":[{\"colorbar\":{\"outlinewidth\":0,\"ticks\":\"\"},\"colorscale\":[[0.0,\"#0d0887\"],[0.1111111111111111,\"#46039f\"],[0.2222222222222222,\"#7201a8\"],[0.3333333333333333,\"#9c179e\"],[0.4444444444444444,\"#bd3786\"],[0.5555555555555556,\"#d8576b\"],[0.6666666666666666,\"#ed7953\"],[0.7777777777777778,\"#fb9f3a\"],[0.8888888888888888,\"#fdca26\"],[1.0,\"#f0f921\"]],\"type\":\"heatmapgl\"}],\"histogram\":[{\"marker\":{\"pattern\":{\"fillmode\":\"overlay\",\"size\":10,\"solidity\":0.2}},\"type\":\"histogram\"}],\"histogram2d\":[{\"colorbar\":{\"outlinewidth\":0,\"ticks\":\"\"},\"colorscale\":[[0.0,\"#0d0887\"],[0.1111111111111111,\"#46039f\"],[0.2222222222222222,\"#7201a8\"],[0.3333333333333333,\"#9c179e\"],[0.4444444444444444,\"#bd3786\"],[0.5555555555555556,\"#d8576b\"],[0.6666666666666666,\"#ed7953\"],[0.7777777777777778,\"#fb9f3a\"],[0.8888888888888888,\"#fdca26\"],[1.0,\"#f0f921\"]],\"type\":\"histogram2d\"}],\"histogram2dcontour\":[{\"colorbar\":{\"outlinewidth\":0,\"ticks\":\"\"},\"colorscale\":[[0.0,\"#0d0887\"],[0.1111111111111111,\"#46039f\"],[0.2222222222222222,\"#7201a8\"],[0.3333333333333333,\"#9c179e\"],[0.4444444444444444,\"#bd3786\"],[0.5555555555555556,\"#d8576b\"],[0.6666666666666666,\"#ed7953\"],[0.7777777777777778,\"#fb9f3a\"],[0.8888888888888888,\"#fdca26\"],[1.0,\"#f0f921\"]],\"type\":\"histogram2dcontour\"}],\"mesh3d\":[{\"colorbar\":{\"outlinewidth\":0,\"ticks\":\"\"},\"type\":\"mesh3d\"}],\"parcoords\":[{\"line\":{\"colorbar\":{\"outlinewidth\":0,\"ticks\":\"\"}},\"type\":\"parcoords\"}],\"pie\":[{\"automargin\":true,\"type\":\"pie\"}],\"scatter\":[{\"marker\":{\"colorbar\":{\"outlinewidth\":0,\"ticks\":\"\"}},\"type\":\"scatter\"}],\"scatter3d\":[{\"line\":{\"colorbar\":{\"outlinewidth\":0,\"ticks\":\"\"}},\"marker\":{\"colorbar\":{\"outlinewidth\":0,\"ticks\":\"\"}},\"type\":\"scatter3d\"}],\"scattercarpet\":[{\"marker\":{\"colorbar\":{\"outlinewidth\":0,\"ticks\":\"\"}},\"type\":\"scattercarpet\"}],\"scattergeo\":[{\"marker\":{\"colorbar\":{\"outlinewidth\":0,\"ticks\":\"\"}},\"type\":\"scattergeo\"}],\"scattergl\":[{\"marker\":{\"colorbar\":{\"outlinewidth\":0,\"ticks\":\"\"}},\"type\":\"scattergl\"}],\"scattermapbox\":[{\"marker\":{\"colorbar\":{\"outlinewidth\":0,\"ticks\":\"\"}},\"type\":\"scattermapbox\"}],\"scatterpolar\":[{\"marker\":{\"colorbar\":{\"outlinewidth\":0,\"ticks\":\"\"}},\"type\":\"scatterpolar\"}],\"scatterpolargl\":[{\"marker\":{\"colorbar\":{\"outlinewidth\":0,\"ticks\":\"\"}},\"type\":\"scatterpolargl\"}],\"scatterternary\":[{\"marker\":{\"colorbar\":{\"outlinewidth\":0,\"ticks\":\"\"}},\"type\":\"scatterternary\"}],\"surface\":[{\"colorbar\":{\"outlinewidth\":0,\"ticks\":\"\"},\"colorscale\":[[0.0,\"#0d0887\"],[0.1111111111111111,\"#46039f\"],[0.2222222222222222,\"#7201a8\"],[0.3333333333333333,\"#9c179e\"],[0.4444444444444444,\"#bd3786\"],[0.5555555555555556,\"#d8576b\"],[0.6666666666666666,\"#ed7953\"],[0.7777777777777778,\"#fb9f3a\"],[0.8888888888888888,\"#fdca26\"],[1.0,\"#f0f921\"]],\"type\":\"surface\"}],\"table\":[{\"cells\":{\"fill\":{\"color\":\"#EBF0F8\"},\"line\":{\"color\":\"white\"}},\"header\":{\"fill\":{\"color\":\"#C8D4E3\"},\"line\":{\"color\":\"white\"}},\"type\":\"table\"}]},\"layout\":{\"annotationdefaults\":{\"arrowcolor\":\"#2a3f5f\",\"arrowhead\":0,\"arrowwidth\":1},\"autotypenumbers\":\"strict\",\"coloraxis\":{\"colorbar\":{\"outlinewidth\":0,\"ticks\":\"\"}},\"colorscale\":{\"diverging\":[[0,\"#8e0152\"],[0.1,\"#c51b7d\"],[0.2,\"#de77ae\"],[0.3,\"#f1b6da\"],[0.4,\"#fde0ef\"],[0.5,\"#f7f7f7\"],[0.6,\"#e6f5d0\"],[0.7,\"#b8e186\"],[0.8,\"#7fbc41\"],[0.9,\"#4d9221\"],[1,\"#276419\"]],\"sequential\":[[0.0,\"#0d0887\"],[0.1111111111111111,\"#46039f\"],[0.2222222222222222,\"#7201a8\"],[0.3333333333333333,\"#9c179e\"],[0.4444444444444444,\"#bd3786\"],[0.5555555555555556,\"#d8576b\"],[0.6666666666666666,\"#ed7953\"],[0.7777777777777778,\"#fb9f3a\"],[0.8888888888888888,\"#fdca26\"],[1.0,\"#f0f921\"]],\"sequentialminus\":[[0.0,\"#0d0887\"],[0.1111111111111111,\"#46039f\"],[0.2222222222222222,\"#7201a8\"],[0.3333333333333333,\"#9c179e\"],[0.4444444444444444,\"#bd3786\"],[0.5555555555555556,\"#d8576b\"],[0.6666666666666666,\"#ed7953\"],[0.7777777777777778,\"#fb9f3a\"],[0.8888888888888888,\"#fdca26\"],[1.0,\"#f0f921\"]]},\"colorway\":[\"#636efa\",\"#EF553B\",\"#00cc96\",\"#ab63fa\",\"#FFA15A\",\"#19d3f3\",\"#FF6692\",\"#B6E880\",\"#FF97FF\",\"#FECB52\"],\"font\":{\"color\":\"#2a3f5f\"},\"geo\":{\"bgcolor\":\"white\",\"lakecolor\":\"white\",\"landcolor\":\"#E5ECF6\",\"showlakes\":true,\"showland\":true,\"subunitcolor\":\"white\"},\"hoverlabel\":{\"align\":\"left\"},\"hovermode\":\"closest\",\"mapbox\":{\"style\":\"light\"},\"paper_bgcolor\":\"white\",\"plot_bgcolor\":\"#E5ECF6\",\"polar\":{\"angularaxis\":{\"gridcolor\":\"white\",\"linecolor\":\"white\",\"ticks\":\"\"},\"bgcolor\":\"#E5ECF6\",\"radialaxis\":{\"gridcolor\":\"white\",\"linecolor\":\"white\",\"ticks\":\"\"}},\"scene\":{\"xaxis\":{\"backgroundcolor\":\"#E5ECF6\",\"gridcolor\":\"white\",\"gridwidth\":2,\"linecolor\":\"white\",\"showbackground\":true,\"ticks\":\"\",\"zerolinecolor\":\"white\"},\"yaxis\":{\"backgroundcolor\":\"#E5ECF6\",\"gridcolor\":\"white\",\"gridwidth\":2,\"linecolor\":\"white\",\"showbackground\":true,\"ticks\":\"\",\"zerolinecolor\":\"white\"},\"zaxis\":{\"backgroundcolor\":\"#E5ECF6\",\"gridcolor\":\"white\",\"gridwidth\":2,\"linecolor\":\"white\",\"showbackground\":true,\"ticks\":\"\",\"zerolinecolor\":\"white\"}},\"shapedefaults\":{\"line\":{\"color\":\"#2a3f5f\"}},\"ternary\":{\"aaxis\":{\"gridcolor\":\"white\",\"linecolor\":\"white\",\"ticks\":\"\"},\"baxis\":{\"gridcolor\":\"white\",\"linecolor\":\"white\",\"ticks\":\"\"},\"bgcolor\":\"#E5ECF6\",\"caxis\":{\"gridcolor\":\"white\",\"linecolor\":\"white\",\"ticks\":\"\"}},\"title\":{\"x\":0.05},\"xaxis\":{\"automargin\":true,\"gridcolor\":\"white\",\"linecolor\":\"white\",\"ticks\":\"\",\"title\":{\"standoff\":15},\"zerolinecolor\":\"white\",\"zerolinewidth\":2},\"yaxis\":{\"automargin\":true,\"gridcolor\":\"white\",\"linecolor\":\"white\",\"ticks\":\"\",\"title\":{\"standoff\":15},\"zerolinecolor\":\"white\",\"zerolinewidth\":2}}},\"title\":{\"font\":{\"color\":\"#4D5663\"}},\"xaxis\":{\"gridcolor\":\"#E1E5ED\",\"showgrid\":true,\"tickfont\":{\"color\":\"#4D5663\"},\"title\":{\"font\":{\"color\":\"#4D5663\"},\"text\":\"\"},\"zerolinecolor\":\"#E1E5ED\"},\"xaxis2\":{\"anchor\":\"y2\",\"gridcolor\":\"#E1E5ED\",\"showgrid\":true,\"showticklabels\":false,\"tickfont\":{\"color\":\"#4D5663\"},\"title\":{\"font\":{\"color\":\"#4D5663\"},\"text\":\"\"},\"zerolinecolor\":\"#E1E5ED\"},\"yaxis\":{\"domain\":[0.3,1],\"gridcolor\":\"#E1E5ED\",\"showgrid\":true,\"tickfont\":{\"color\":\"#4D5663\"},\"title\":{\"font\":{\"color\":\"#4D5663\"},\"text\":\"\"},\"zerolinecolor\":\"#E1E5ED\"},\"yaxis2\":{\"domain\":[0,0.25],\"gridcolor\":\"#E1E5ED\",\"showgrid\":true,\"tickfont\":{\"color\":\"#4D5663\"},\"title\":{\"font\":{\"color\":\"#4D5663\"},\"text\":\"Spread\"},\"zerolinecolor\":\"#E1E5ED\"}},                        {\"showLink\": true, \"linkText\": \"Export to plot.ly\", \"plotlyServerURL\": \"https://plot.ly\", \"responsive\": true}                    ).then(function(){\n",
       "                            \n",
       "var gd = document.getElementById('cefb0352-aa4e-4c6c-8a54-464ec2280260');\n",
       "var x = new MutationObserver(function (mutations, observer) {{\n",
       "        var display = window.getComputedStyle(gd).display;\n",
       "        if (!display || display === 'none') {{\n",
       "            console.log([gd, 'removed!']);\n",
       "            Plotly.purge(gd);\n",
       "            observer.disconnect();\n",
       "        }}\n",
       "}});\n",
       "\n",
       "// Listen for the removal of the full notebook cells\n",
       "var notebookContainer = gd.closest('#notebook-container');\n",
       "if (notebookContainer) {{\n",
       "    x.observe(notebookContainer, {childList: true});\n",
       "}}\n",
       "\n",
       "// Listen for the clearing of the current output cell\n",
       "var outputEl = gd.closest('.output');\n",
       "if (outputEl) {{\n",
       "    x.observe(outputEl, {childList: true});\n",
       "}}\n",
       "\n",
       "                        })                };                });            </script>        </div>"
      ]
     },
     "metadata": {},
     "output_type": "display_data"
    }
   ],
   "source": [
    "df[['A','B']].iplot(kind = 'spread')"
   ]
  },
  {
   "cell_type": "code",
   "execution_count": 48,
   "metadata": {},
   "outputs": [
    {
     "data": {
      "application/vnd.plotly.v1+json": {
       "config": {
        "linkText": "Export to plot.ly",
        "plotlyServerURL": "https://plot.ly",
        "showLink": true
       },
       "data": [
        {
         "marker": {
          "color": [
           "rgb(255, 153, 51)",
           "rgb(55, 128, 191)",
           "rgb(50, 171, 96)",
           "rgb(128, 0, 128)",
           "rgb(219, 64, 82)",
           "rgb(0, 128, 128)",
           "rgb(255, 255, 51)",
           "rgb(128, 128, 0)",
           "rgb(251, 128, 114)",
           "rgb(128, 177, 211)"
          ],
          "line": {
           "width": 1.3
          },
          "size": [
           60,
           81,
           56,
           112,
           54,
           65,
           56,
           86,
           45,
           52,
           12,
           28,
           64,
           56,
           56,
           43,
           36,
           48,
           47,
           46,
           73,
           50,
           34,
           79,
           26,
           65,
           78,
           16,
           61,
           73,
           49,
           72,
           35,
           54,
           63,
           38,
           83,
           68,
           42,
           49,
           18,
           72,
           39,
           96,
           76,
           48,
           57,
           74,
           62,
           67,
           39,
           87,
           30,
           54,
           64,
           71,
           52,
           70,
           60,
           33,
           52,
           54,
           61,
           68,
           50,
           76,
           75,
           72,
           64,
           79,
           77,
           84,
           80,
           90,
           66,
           59,
           54,
           93,
           49,
           50,
           66,
           32,
           80,
           62,
           64,
           26,
           72,
           93,
           66,
           91,
           59,
           82,
           59,
           30,
           71,
           70,
           46,
           58,
           75,
           77
          ],
          "symbol": "circle"
         },
         "mode": "markers",
         "text": "",
         "type": "scatter",
         "x": [
          -1.2647427478653352,
          1.1438411630417042,
          -1.05938509827262,
          1.8504871379847871,
          1.546377535727985,
          0.33451611794517383,
          -0.20870116298576785,
          -1.085679823482335,
          -1.8827930712316268,
          0.22569589428736125,
          -0.14870073272283485,
          1.8097238490035186,
          1.0846129586722046,
          -0.4585050680912217,
          0.6124031613321901,
          0.37538238094067367,
          0.913002050425729,
          1.447532474939569,
          0.37930096970612054,
          0.025491861586942416,
          -0.15303803382175143,
          2.243550303352481,
          -0.9229629605917236,
          0.49440602178430515,
          0.32626850787772976,
          0.43958972584123573,
          0.6294553731378257,
          -0.7267701219717834,
          -2.138340463946718,
          -1.079017623382896,
          1.4986614544652554,
          -0.27121288174569463,
          0.10138278146479278,
          -1.7605830124243214,
          1.4615654271971597,
          1.3732321332042572,
          -0.28009958692970527,
          0.27184356721053654,
          0.014974755371081123,
          -0.044085016801009055,
          -0.46899889415285745,
          1.1953347937424306,
          -1.2073043812004678,
          1.6594422835590357,
          0.2848202010542789,
          -2.0911424322013095,
          1.6745282025401613,
          0.4378371851153993,
          -1.5566653128924857,
          0.21922867812626284,
          -0.9895599822871955,
          0.4074603834542788,
          -0.11399811827797118,
          -0.4189233977822209,
          0.02238550870270797,
          -0.19216353794605404,
          -0.9170130286940688,
          -0.046978406156488545,
          -0.6700104088456724,
          -0.6660851578679424,
          -0.7556852339933507,
          1.2649343600796048,
          1.2777903189647906,
          -0.9126194253381009,
          -0.2632680461538293,
          -1.8546321915498691,
          -0.7390643109977857,
          -0.38372051200700763,
          2.373219972374884,
          0.15575329596422724,
          0.27443916807887914,
          1.5379394148316894,
          1.0156948488155468,
          2.166093192750811,
          -1.0885500209397434,
          0.23426839259810678,
          1.0855996519748596,
          -0.11987274678594355,
          0.44089320789934516,
          -0.4109301897292856,
          0.2707175129727391,
          0.9588832487102428,
          1.0789411110517297,
          0.567636859797784,
          0.27125757376181386,
          2.3036423634178256,
          -1.6393208075066952,
          -1.0635721442192485,
          -1.11636408945502,
          -0.6034849340046708,
          -0.38968839640407177,
          -0.6161479359295967,
          -1.2335152643562908,
          -0.31229004474165456,
          0.7538272605696364,
          -0.004508090178002124,
          -0.819361298514153,
          0.8156450489617879,
          -2.5000383877630896,
          -0.6474385769236347
         ],
         "y": [
          -0.1301153686144075,
          -1.6689431191330846,
          -0.20285842315621072,
          0.6785541362910886,
          1.0673918447214745,
          -0.7802583792353444,
          0.30655867142304316,
          -1.2224647788795076,
          1.1866673649667518,
          0.46219911312653267,
          1.4359201163455364,
          -0.7620857646479738,
          0.14999770489209946,
          1.3510418038024503,
          -0.3476238768658763,
          0.3770700580304464,
          -0.08724172549181444,
          0.2895924442947607,
          0.9263808590552806,
          0.6797844247887547,
          -1.4012028849109173,
          0.4826166320718709,
          -0.3922986215993963,
          0.1959231778807618,
          -1.535535001735862,
          -1.81030871675917,
          0.3202113451900208,
          -1.0894993574122724,
          1.2611748564873886,
          0.22952844301244146,
          0.20716481394625794,
          -0.5318471990187423,
          0.1905060425236613,
          0.33116265806516637,
          -0.20501117215077244,
          -0.13440599237475553,
          1.3694492195462487,
          0.12091625643835999,
          0.25879190464332064,
          2.1810934957315435,
          -0.8879443807209912,
          -0.10370330117363438,
          1.172528207746524,
          -0.7504584806919168,
          -1.3481550776944762,
          -0.3961405026321928,
          -0.5999811877451495,
          -0.20504473373920704,
          -0.21748858862191447,
          3.7711129137159305,
          1.2972268923024826,
          1.3275408771993824,
          1.95760339268544,
          0.5264064674229573,
          -0.34976669900318985,
          0.8883004010504278,
          -1.9693253772292125,
          -0.7893855424963484,
          -0.943500652185212,
          -0.9272532594633244,
          0.31683412564341046,
          -1.7173765182063023,
          -0.9556446260766284,
          1.3879797679477532,
          1.388906776125478,
          -1.420945170989908,
          -1.2135311911828452,
          -0.038105740051507325,
          -0.6840302763696385,
          -0.21411043178080405,
          -1.7717125392677908,
          0.3551843961210306,
          -0.18233526845925668,
          0.0018104373033404708,
          -1.746680394865062,
          -1.4466500104106845,
          0.2546409286259897,
          -0.9201116861442346,
          0.03541568708138817,
          0.7880116269458712,
          0.010526015638076014,
          -1.2808253690232152,
          -0.43045698828732787,
          0.1970487702396815,
          1.540825646555996,
          -0.6756201736428282,
          -0.5194461460437366,
          -0.9511847167654712,
          0.9183457485866829,
          0.647385429594174,
          0.9178442142583454,
          0.6336945961461663,
          -0.3235544554780584,
          -0.44720725073444695,
          0.15843502509823545,
          1.2594456193699413,
          0.39248124451512556,
          -0.8898170383869574,
          -1.1275896315623108,
          -0.11851924403056344
         ]
        }
       ],
       "layout": {
        "legend": {
         "bgcolor": "#F5F6F9",
         "font": {
          "color": "#4D5663"
         }
        },
        "paper_bgcolor": "#F5F6F9",
        "plot_bgcolor": "#F5F6F9",
        "template": {
         "data": {
          "bar": [
           {
            "error_x": {
             "color": "#2a3f5f"
            },
            "error_y": {
             "color": "#2a3f5f"
            },
            "marker": {
             "line": {
              "color": "#E5ECF6",
              "width": 0.5
             },
             "pattern": {
              "fillmode": "overlay",
              "size": 10,
              "solidity": 0.2
             }
            },
            "type": "bar"
           }
          ],
          "barpolar": [
           {
            "marker": {
             "line": {
              "color": "#E5ECF6",
              "width": 0.5
             },
             "pattern": {
              "fillmode": "overlay",
              "size": 10,
              "solidity": 0.2
             }
            },
            "type": "barpolar"
           }
          ],
          "carpet": [
           {
            "aaxis": {
             "endlinecolor": "#2a3f5f",
             "gridcolor": "white",
             "linecolor": "white",
             "minorgridcolor": "white",
             "startlinecolor": "#2a3f5f"
            },
            "baxis": {
             "endlinecolor": "#2a3f5f",
             "gridcolor": "white",
             "linecolor": "white",
             "minorgridcolor": "white",
             "startlinecolor": "#2a3f5f"
            },
            "type": "carpet"
           }
          ],
          "choropleth": [
           {
            "colorbar": {
             "outlinewidth": 0,
             "ticks": ""
            },
            "type": "choropleth"
           }
          ],
          "contour": [
           {
            "colorbar": {
             "outlinewidth": 0,
             "ticks": ""
            },
            "colorscale": [
             [
              0,
              "#0d0887"
             ],
             [
              0.1111111111111111,
              "#46039f"
             ],
             [
              0.2222222222222222,
              "#7201a8"
             ],
             [
              0.3333333333333333,
              "#9c179e"
             ],
             [
              0.4444444444444444,
              "#bd3786"
             ],
             [
              0.5555555555555556,
              "#d8576b"
             ],
             [
              0.6666666666666666,
              "#ed7953"
             ],
             [
              0.7777777777777778,
              "#fb9f3a"
             ],
             [
              0.8888888888888888,
              "#fdca26"
             ],
             [
              1,
              "#f0f921"
             ]
            ],
            "type": "contour"
           }
          ],
          "contourcarpet": [
           {
            "colorbar": {
             "outlinewidth": 0,
             "ticks": ""
            },
            "type": "contourcarpet"
           }
          ],
          "heatmap": [
           {
            "colorbar": {
             "outlinewidth": 0,
             "ticks": ""
            },
            "colorscale": [
             [
              0,
              "#0d0887"
             ],
             [
              0.1111111111111111,
              "#46039f"
             ],
             [
              0.2222222222222222,
              "#7201a8"
             ],
             [
              0.3333333333333333,
              "#9c179e"
             ],
             [
              0.4444444444444444,
              "#bd3786"
             ],
             [
              0.5555555555555556,
              "#d8576b"
             ],
             [
              0.6666666666666666,
              "#ed7953"
             ],
             [
              0.7777777777777778,
              "#fb9f3a"
             ],
             [
              0.8888888888888888,
              "#fdca26"
             ],
             [
              1,
              "#f0f921"
             ]
            ],
            "type": "heatmap"
           }
          ],
          "heatmapgl": [
           {
            "colorbar": {
             "outlinewidth": 0,
             "ticks": ""
            },
            "colorscale": [
             [
              0,
              "#0d0887"
             ],
             [
              0.1111111111111111,
              "#46039f"
             ],
             [
              0.2222222222222222,
              "#7201a8"
             ],
             [
              0.3333333333333333,
              "#9c179e"
             ],
             [
              0.4444444444444444,
              "#bd3786"
             ],
             [
              0.5555555555555556,
              "#d8576b"
             ],
             [
              0.6666666666666666,
              "#ed7953"
             ],
             [
              0.7777777777777778,
              "#fb9f3a"
             ],
             [
              0.8888888888888888,
              "#fdca26"
             ],
             [
              1,
              "#f0f921"
             ]
            ],
            "type": "heatmapgl"
           }
          ],
          "histogram": [
           {
            "marker": {
             "pattern": {
              "fillmode": "overlay",
              "size": 10,
              "solidity": 0.2
             }
            },
            "type": "histogram"
           }
          ],
          "histogram2d": [
           {
            "colorbar": {
             "outlinewidth": 0,
             "ticks": ""
            },
            "colorscale": [
             [
              0,
              "#0d0887"
             ],
             [
              0.1111111111111111,
              "#46039f"
             ],
             [
              0.2222222222222222,
              "#7201a8"
             ],
             [
              0.3333333333333333,
              "#9c179e"
             ],
             [
              0.4444444444444444,
              "#bd3786"
             ],
             [
              0.5555555555555556,
              "#d8576b"
             ],
             [
              0.6666666666666666,
              "#ed7953"
             ],
             [
              0.7777777777777778,
              "#fb9f3a"
             ],
             [
              0.8888888888888888,
              "#fdca26"
             ],
             [
              1,
              "#f0f921"
             ]
            ],
            "type": "histogram2d"
           }
          ],
          "histogram2dcontour": [
           {
            "colorbar": {
             "outlinewidth": 0,
             "ticks": ""
            },
            "colorscale": [
             [
              0,
              "#0d0887"
             ],
             [
              0.1111111111111111,
              "#46039f"
             ],
             [
              0.2222222222222222,
              "#7201a8"
             ],
             [
              0.3333333333333333,
              "#9c179e"
             ],
             [
              0.4444444444444444,
              "#bd3786"
             ],
             [
              0.5555555555555556,
              "#d8576b"
             ],
             [
              0.6666666666666666,
              "#ed7953"
             ],
             [
              0.7777777777777778,
              "#fb9f3a"
             ],
             [
              0.8888888888888888,
              "#fdca26"
             ],
             [
              1,
              "#f0f921"
             ]
            ],
            "type": "histogram2dcontour"
           }
          ],
          "mesh3d": [
           {
            "colorbar": {
             "outlinewidth": 0,
             "ticks": ""
            },
            "type": "mesh3d"
           }
          ],
          "parcoords": [
           {
            "line": {
             "colorbar": {
              "outlinewidth": 0,
              "ticks": ""
             }
            },
            "type": "parcoords"
           }
          ],
          "pie": [
           {
            "automargin": true,
            "type": "pie"
           }
          ],
          "scatter": [
           {
            "marker": {
             "colorbar": {
              "outlinewidth": 0,
              "ticks": ""
             }
            },
            "type": "scatter"
           }
          ],
          "scatter3d": [
           {
            "line": {
             "colorbar": {
              "outlinewidth": 0,
              "ticks": ""
             }
            },
            "marker": {
             "colorbar": {
              "outlinewidth": 0,
              "ticks": ""
             }
            },
            "type": "scatter3d"
           }
          ],
          "scattercarpet": [
           {
            "marker": {
             "colorbar": {
              "outlinewidth": 0,
              "ticks": ""
             }
            },
            "type": "scattercarpet"
           }
          ],
          "scattergeo": [
           {
            "marker": {
             "colorbar": {
              "outlinewidth": 0,
              "ticks": ""
             }
            },
            "type": "scattergeo"
           }
          ],
          "scattergl": [
           {
            "marker": {
             "colorbar": {
              "outlinewidth": 0,
              "ticks": ""
             }
            },
            "type": "scattergl"
           }
          ],
          "scattermapbox": [
           {
            "marker": {
             "colorbar": {
              "outlinewidth": 0,
              "ticks": ""
             }
            },
            "type": "scattermapbox"
           }
          ],
          "scatterpolar": [
           {
            "marker": {
             "colorbar": {
              "outlinewidth": 0,
              "ticks": ""
             }
            },
            "type": "scatterpolar"
           }
          ],
          "scatterpolargl": [
           {
            "marker": {
             "colorbar": {
              "outlinewidth": 0,
              "ticks": ""
             }
            },
            "type": "scatterpolargl"
           }
          ],
          "scatterternary": [
           {
            "marker": {
             "colorbar": {
              "outlinewidth": 0,
              "ticks": ""
             }
            },
            "type": "scatterternary"
           }
          ],
          "surface": [
           {
            "colorbar": {
             "outlinewidth": 0,
             "ticks": ""
            },
            "colorscale": [
             [
              0,
              "#0d0887"
             ],
             [
              0.1111111111111111,
              "#46039f"
             ],
             [
              0.2222222222222222,
              "#7201a8"
             ],
             [
              0.3333333333333333,
              "#9c179e"
             ],
             [
              0.4444444444444444,
              "#bd3786"
             ],
             [
              0.5555555555555556,
              "#d8576b"
             ],
             [
              0.6666666666666666,
              "#ed7953"
             ],
             [
              0.7777777777777778,
              "#fb9f3a"
             ],
             [
              0.8888888888888888,
              "#fdca26"
             ],
             [
              1,
              "#f0f921"
             ]
            ],
            "type": "surface"
           }
          ],
          "table": [
           {
            "cells": {
             "fill": {
              "color": "#EBF0F8"
             },
             "line": {
              "color": "white"
             }
            },
            "header": {
             "fill": {
              "color": "#C8D4E3"
             },
             "line": {
              "color": "white"
             }
            },
            "type": "table"
           }
          ]
         },
         "layout": {
          "annotationdefaults": {
           "arrowcolor": "#2a3f5f",
           "arrowhead": 0,
           "arrowwidth": 1
          },
          "autotypenumbers": "strict",
          "coloraxis": {
           "colorbar": {
            "outlinewidth": 0,
            "ticks": ""
           }
          },
          "colorscale": {
           "diverging": [
            [
             0,
             "#8e0152"
            ],
            [
             0.1,
             "#c51b7d"
            ],
            [
             0.2,
             "#de77ae"
            ],
            [
             0.3,
             "#f1b6da"
            ],
            [
             0.4,
             "#fde0ef"
            ],
            [
             0.5,
             "#f7f7f7"
            ],
            [
             0.6,
             "#e6f5d0"
            ],
            [
             0.7,
             "#b8e186"
            ],
            [
             0.8,
             "#7fbc41"
            ],
            [
             0.9,
             "#4d9221"
            ],
            [
             1,
             "#276419"
            ]
           ],
           "sequential": [
            [
             0,
             "#0d0887"
            ],
            [
             0.1111111111111111,
             "#46039f"
            ],
            [
             0.2222222222222222,
             "#7201a8"
            ],
            [
             0.3333333333333333,
             "#9c179e"
            ],
            [
             0.4444444444444444,
             "#bd3786"
            ],
            [
             0.5555555555555556,
             "#d8576b"
            ],
            [
             0.6666666666666666,
             "#ed7953"
            ],
            [
             0.7777777777777778,
             "#fb9f3a"
            ],
            [
             0.8888888888888888,
             "#fdca26"
            ],
            [
             1,
             "#f0f921"
            ]
           ],
           "sequentialminus": [
            [
             0,
             "#0d0887"
            ],
            [
             0.1111111111111111,
             "#46039f"
            ],
            [
             0.2222222222222222,
             "#7201a8"
            ],
            [
             0.3333333333333333,
             "#9c179e"
            ],
            [
             0.4444444444444444,
             "#bd3786"
            ],
            [
             0.5555555555555556,
             "#d8576b"
            ],
            [
             0.6666666666666666,
             "#ed7953"
            ],
            [
             0.7777777777777778,
             "#fb9f3a"
            ],
            [
             0.8888888888888888,
             "#fdca26"
            ],
            [
             1,
             "#f0f921"
            ]
           ]
          },
          "colorway": [
           "#636efa",
           "#EF553B",
           "#00cc96",
           "#ab63fa",
           "#FFA15A",
           "#19d3f3",
           "#FF6692",
           "#B6E880",
           "#FF97FF",
           "#FECB52"
          ],
          "font": {
           "color": "#2a3f5f"
          },
          "geo": {
           "bgcolor": "white",
           "lakecolor": "white",
           "landcolor": "#E5ECF6",
           "showlakes": true,
           "showland": true,
           "subunitcolor": "white"
          },
          "hoverlabel": {
           "align": "left"
          },
          "hovermode": "closest",
          "mapbox": {
           "style": "light"
          },
          "paper_bgcolor": "white",
          "plot_bgcolor": "#E5ECF6",
          "polar": {
           "angularaxis": {
            "gridcolor": "white",
            "linecolor": "white",
            "ticks": ""
           },
           "bgcolor": "#E5ECF6",
           "radialaxis": {
            "gridcolor": "white",
            "linecolor": "white",
            "ticks": ""
           }
          },
          "scene": {
           "xaxis": {
            "backgroundcolor": "#E5ECF6",
            "gridcolor": "white",
            "gridwidth": 2,
            "linecolor": "white",
            "showbackground": true,
            "ticks": "",
            "zerolinecolor": "white"
           },
           "yaxis": {
            "backgroundcolor": "#E5ECF6",
            "gridcolor": "white",
            "gridwidth": 2,
            "linecolor": "white",
            "showbackground": true,
            "ticks": "",
            "zerolinecolor": "white"
           },
           "zaxis": {
            "backgroundcolor": "#E5ECF6",
            "gridcolor": "white",
            "gridwidth": 2,
            "linecolor": "white",
            "showbackground": true,
            "ticks": "",
            "zerolinecolor": "white"
           }
          },
          "shapedefaults": {
           "line": {
            "color": "#2a3f5f"
           }
          },
          "ternary": {
           "aaxis": {
            "gridcolor": "white",
            "linecolor": "white",
            "ticks": ""
           },
           "baxis": {
            "gridcolor": "white",
            "linecolor": "white",
            "ticks": ""
           },
           "bgcolor": "#E5ECF6",
           "caxis": {
            "gridcolor": "white",
            "linecolor": "white",
            "ticks": ""
           }
          },
          "title": {
           "x": 0.05
          },
          "xaxis": {
           "automargin": true,
           "gridcolor": "white",
           "linecolor": "white",
           "ticks": "",
           "title": {
            "standoff": 15
           },
           "zerolinecolor": "white",
           "zerolinewidth": 2
          },
          "yaxis": {
           "automargin": true,
           "gridcolor": "white",
           "linecolor": "white",
           "ticks": "",
           "title": {
            "standoff": 15
           },
           "zerolinecolor": "white",
           "zerolinewidth": 2
          }
         }
        },
        "title": {
         "font": {
          "color": "#4D5663"
         }
        },
        "xaxis": {
         "gridcolor": "#E1E5ED",
         "showgrid": true,
         "tickfont": {
          "color": "#4D5663"
         },
         "title": {
          "font": {
           "color": "#4D5663"
          },
          "text": ""
         },
         "zerolinecolor": "#E1E5ED"
        },
        "yaxis": {
         "gridcolor": "#E1E5ED",
         "showgrid": true,
         "tickfont": {
          "color": "#4D5663"
         },
         "title": {
          "font": {
           "color": "#4D5663"
          },
          "text": ""
         },
         "zerolinecolor": "#E1E5ED"
        }
       }
      },
      "text/html": [
       "<div>                            <div id=\"3a8c859c-f000-40cc-abf6-248db054262f\" class=\"plotly-graph-div\" style=\"height:525px; width:100%;\"></div>            <script type=\"text/javascript\">                require([\"plotly\"], function(Plotly) {                    window.PLOTLYENV=window.PLOTLYENV || {};\n",
       "                    window.PLOTLYENV.BASE_URL='https://plot.ly';                                    if (document.getElementById(\"3a8c859c-f000-40cc-abf6-248db054262f\")) {                    Plotly.newPlot(                        \"3a8c859c-f000-40cc-abf6-248db054262f\",                        [{\"marker\":{\"color\":[\"rgb(255, 153, 51)\",\"rgb(55, 128, 191)\",\"rgb(50, 171, 96)\",\"rgb(128, 0, 128)\",\"rgb(219, 64, 82)\",\"rgb(0, 128, 128)\",\"rgb(255, 255, 51)\",\"rgb(128, 128, 0)\",\"rgb(251, 128, 114)\",\"rgb(128, 177, 211)\"],\"line\":{\"width\":1.3},\"size\":[60,81,56,112,54,65,56,86,45,52,12,28,64,56,56,43,36,48,47,46,73,50,34,79,26,65,78,16,61,73,49,72,35,54,63,38,83,68,42,49,18,72,39,96,76,48,57,74,62,67,39,87,30,54,64,71,52,70,60,33,52,54,61,68,50,76,75,72,64,79,77,84,80,90,66,59,54,93,49,50,66,32,80,62,64,26,72,93,66,91,59,82,59,30,71,70,46,58,75,77],\"symbol\":\"circle\"},\"mode\":\"markers\",\"text\":\"\",\"type\":\"scatter\",\"x\":[-1.2647427478653352,1.1438411630417042,-1.05938509827262,1.8504871379847871,1.546377535727985,0.33451611794517383,-0.20870116298576785,-1.085679823482335,-1.8827930712316268,0.22569589428736125,-0.14870073272283485,1.8097238490035186,1.0846129586722046,-0.4585050680912217,0.6124031613321901,0.37538238094067367,0.913002050425729,1.447532474939569,0.37930096970612054,0.025491861586942416,-0.15303803382175143,2.243550303352481,-0.9229629605917236,0.49440602178430515,0.32626850787772976,0.43958972584123573,0.6294553731378257,-0.7267701219717834,-2.138340463946718,-1.079017623382896,1.4986614544652554,-0.27121288174569463,0.10138278146479278,-1.7605830124243214,1.4615654271971597,1.3732321332042572,-0.28009958692970527,0.27184356721053654,0.014974755371081123,-0.044085016801009055,-0.46899889415285745,1.1953347937424306,-1.2073043812004678,1.6594422835590357,0.2848202010542789,-2.0911424322013095,1.6745282025401613,0.4378371851153993,-1.5566653128924857,0.21922867812626284,-0.9895599822871955,0.4074603834542788,-0.11399811827797118,-0.4189233977822209,0.02238550870270797,-0.19216353794605404,-0.9170130286940688,-0.046978406156488545,-0.6700104088456724,-0.6660851578679424,-0.7556852339933507,1.2649343600796048,1.2777903189647906,-0.9126194253381009,-0.2632680461538293,-1.8546321915498691,-0.7390643109977857,-0.38372051200700763,2.373219972374884,0.15575329596422724,0.27443916807887914,1.5379394148316894,1.0156948488155468,2.166093192750811,-1.0885500209397434,0.23426839259810678,1.0855996519748596,-0.11987274678594355,0.44089320789934516,-0.4109301897292856,0.2707175129727391,0.9588832487102428,1.0789411110517297,0.567636859797784,0.27125757376181386,2.3036423634178256,-1.6393208075066952,-1.0635721442192485,-1.11636408945502,-0.6034849340046708,-0.38968839640407177,-0.6161479359295967,-1.2335152643562908,-0.31229004474165456,0.7538272605696364,-0.004508090178002124,-0.819361298514153,0.8156450489617879,-2.5000383877630896,-0.6474385769236347],\"y\":[-0.1301153686144075,-1.6689431191330846,-0.20285842315621072,0.6785541362910886,1.0673918447214745,-0.7802583792353444,0.30655867142304316,-1.2224647788795076,1.1866673649667518,0.46219911312653267,1.4359201163455364,-0.7620857646479738,0.14999770489209946,1.3510418038024503,-0.3476238768658763,0.3770700580304464,-0.08724172549181444,0.2895924442947607,0.9263808590552806,0.6797844247887547,-1.4012028849109173,0.4826166320718709,-0.3922986215993963,0.1959231778807618,-1.535535001735862,-1.81030871675917,0.3202113451900208,-1.0894993574122724,1.2611748564873886,0.22952844301244146,0.20716481394625794,-0.5318471990187423,0.1905060425236613,0.33116265806516637,-0.20501117215077244,-0.13440599237475553,1.3694492195462487,0.12091625643835999,0.25879190464332064,2.1810934957315435,-0.8879443807209912,-0.10370330117363438,1.172528207746524,-0.7504584806919168,-1.3481550776944762,-0.3961405026321928,-0.5999811877451495,-0.20504473373920704,-0.21748858862191447,3.7711129137159305,1.2972268923024826,1.3275408771993824,1.95760339268544,0.5264064674229573,-0.34976669900318985,0.8883004010504278,-1.9693253772292125,-0.7893855424963484,-0.943500652185212,-0.9272532594633244,0.31683412564341046,-1.7173765182063023,-0.9556446260766284,1.3879797679477532,1.388906776125478,-1.420945170989908,-1.2135311911828452,-0.038105740051507325,-0.6840302763696385,-0.21411043178080405,-1.7717125392677908,0.3551843961210306,-0.18233526845925668,0.0018104373033404708,-1.746680394865062,-1.4466500104106845,0.2546409286259897,-0.9201116861442346,0.03541568708138817,0.7880116269458712,0.010526015638076014,-1.2808253690232152,-0.43045698828732787,0.1970487702396815,1.540825646555996,-0.6756201736428282,-0.5194461460437366,-0.9511847167654712,0.9183457485866829,0.647385429594174,0.9178442142583454,0.6336945961461663,-0.3235544554780584,-0.44720725073444695,0.15843502509823545,1.2594456193699413,0.39248124451512556,-0.8898170383869574,-1.1275896315623108,-0.11851924403056344]}],                        {\"legend\":{\"bgcolor\":\"#F5F6F9\",\"font\":{\"color\":\"#4D5663\"}},\"paper_bgcolor\":\"#F5F6F9\",\"plot_bgcolor\":\"#F5F6F9\",\"template\":{\"data\":{\"bar\":[{\"error_x\":{\"color\":\"#2a3f5f\"},\"error_y\":{\"color\":\"#2a3f5f\"},\"marker\":{\"line\":{\"color\":\"#E5ECF6\",\"width\":0.5},\"pattern\":{\"fillmode\":\"overlay\",\"size\":10,\"solidity\":0.2}},\"type\":\"bar\"}],\"barpolar\":[{\"marker\":{\"line\":{\"color\":\"#E5ECF6\",\"width\":0.5},\"pattern\":{\"fillmode\":\"overlay\",\"size\":10,\"solidity\":0.2}},\"type\":\"barpolar\"}],\"carpet\":[{\"aaxis\":{\"endlinecolor\":\"#2a3f5f\",\"gridcolor\":\"white\",\"linecolor\":\"white\",\"minorgridcolor\":\"white\",\"startlinecolor\":\"#2a3f5f\"},\"baxis\":{\"endlinecolor\":\"#2a3f5f\",\"gridcolor\":\"white\",\"linecolor\":\"white\",\"minorgridcolor\":\"white\",\"startlinecolor\":\"#2a3f5f\"},\"type\":\"carpet\"}],\"choropleth\":[{\"colorbar\":{\"outlinewidth\":0,\"ticks\":\"\"},\"type\":\"choropleth\"}],\"contour\":[{\"colorbar\":{\"outlinewidth\":0,\"ticks\":\"\"},\"colorscale\":[[0.0,\"#0d0887\"],[0.1111111111111111,\"#46039f\"],[0.2222222222222222,\"#7201a8\"],[0.3333333333333333,\"#9c179e\"],[0.4444444444444444,\"#bd3786\"],[0.5555555555555556,\"#d8576b\"],[0.6666666666666666,\"#ed7953\"],[0.7777777777777778,\"#fb9f3a\"],[0.8888888888888888,\"#fdca26\"],[1.0,\"#f0f921\"]],\"type\":\"contour\"}],\"contourcarpet\":[{\"colorbar\":{\"outlinewidth\":0,\"ticks\":\"\"},\"type\":\"contourcarpet\"}],\"heatmap\":[{\"colorbar\":{\"outlinewidth\":0,\"ticks\":\"\"},\"colorscale\":[[0.0,\"#0d0887\"],[0.1111111111111111,\"#46039f\"],[0.2222222222222222,\"#7201a8\"],[0.3333333333333333,\"#9c179e\"],[0.4444444444444444,\"#bd3786\"],[0.5555555555555556,\"#d8576b\"],[0.6666666666666666,\"#ed7953\"],[0.7777777777777778,\"#fb9f3a\"],[0.8888888888888888,\"#fdca26\"],[1.0,\"#f0f921\"]],\"type\":\"heatmap\"}],\"heatmapgl\":[{\"colorbar\":{\"outlinewidth\":0,\"ticks\":\"\"},\"colorscale\":[[0.0,\"#0d0887\"],[0.1111111111111111,\"#46039f\"],[0.2222222222222222,\"#7201a8\"],[0.3333333333333333,\"#9c179e\"],[0.4444444444444444,\"#bd3786\"],[0.5555555555555556,\"#d8576b\"],[0.6666666666666666,\"#ed7953\"],[0.7777777777777778,\"#fb9f3a\"],[0.8888888888888888,\"#fdca26\"],[1.0,\"#f0f921\"]],\"type\":\"heatmapgl\"}],\"histogram\":[{\"marker\":{\"pattern\":{\"fillmode\":\"overlay\",\"size\":10,\"solidity\":0.2}},\"type\":\"histogram\"}],\"histogram2d\":[{\"colorbar\":{\"outlinewidth\":0,\"ticks\":\"\"},\"colorscale\":[[0.0,\"#0d0887\"],[0.1111111111111111,\"#46039f\"],[0.2222222222222222,\"#7201a8\"],[0.3333333333333333,\"#9c179e\"],[0.4444444444444444,\"#bd3786\"],[0.5555555555555556,\"#d8576b\"],[0.6666666666666666,\"#ed7953\"],[0.7777777777777778,\"#fb9f3a\"],[0.8888888888888888,\"#fdca26\"],[1.0,\"#f0f921\"]],\"type\":\"histogram2d\"}],\"histogram2dcontour\":[{\"colorbar\":{\"outlinewidth\":0,\"ticks\":\"\"},\"colorscale\":[[0.0,\"#0d0887\"],[0.1111111111111111,\"#46039f\"],[0.2222222222222222,\"#7201a8\"],[0.3333333333333333,\"#9c179e\"],[0.4444444444444444,\"#bd3786\"],[0.5555555555555556,\"#d8576b\"],[0.6666666666666666,\"#ed7953\"],[0.7777777777777778,\"#fb9f3a\"],[0.8888888888888888,\"#fdca26\"],[1.0,\"#f0f921\"]],\"type\":\"histogram2dcontour\"}],\"mesh3d\":[{\"colorbar\":{\"outlinewidth\":0,\"ticks\":\"\"},\"type\":\"mesh3d\"}],\"parcoords\":[{\"line\":{\"colorbar\":{\"outlinewidth\":0,\"ticks\":\"\"}},\"type\":\"parcoords\"}],\"pie\":[{\"automargin\":true,\"type\":\"pie\"}],\"scatter\":[{\"marker\":{\"colorbar\":{\"outlinewidth\":0,\"ticks\":\"\"}},\"type\":\"scatter\"}],\"scatter3d\":[{\"line\":{\"colorbar\":{\"outlinewidth\":0,\"ticks\":\"\"}},\"marker\":{\"colorbar\":{\"outlinewidth\":0,\"ticks\":\"\"}},\"type\":\"scatter3d\"}],\"scattercarpet\":[{\"marker\":{\"colorbar\":{\"outlinewidth\":0,\"ticks\":\"\"}},\"type\":\"scattercarpet\"}],\"scattergeo\":[{\"marker\":{\"colorbar\":{\"outlinewidth\":0,\"ticks\":\"\"}},\"type\":\"scattergeo\"}],\"scattergl\":[{\"marker\":{\"colorbar\":{\"outlinewidth\":0,\"ticks\":\"\"}},\"type\":\"scattergl\"}],\"scattermapbox\":[{\"marker\":{\"colorbar\":{\"outlinewidth\":0,\"ticks\":\"\"}},\"type\":\"scattermapbox\"}],\"scatterpolar\":[{\"marker\":{\"colorbar\":{\"outlinewidth\":0,\"ticks\":\"\"}},\"type\":\"scatterpolar\"}],\"scatterpolargl\":[{\"marker\":{\"colorbar\":{\"outlinewidth\":0,\"ticks\":\"\"}},\"type\":\"scatterpolargl\"}],\"scatterternary\":[{\"marker\":{\"colorbar\":{\"outlinewidth\":0,\"ticks\":\"\"}},\"type\":\"scatterternary\"}],\"surface\":[{\"colorbar\":{\"outlinewidth\":0,\"ticks\":\"\"},\"colorscale\":[[0.0,\"#0d0887\"],[0.1111111111111111,\"#46039f\"],[0.2222222222222222,\"#7201a8\"],[0.3333333333333333,\"#9c179e\"],[0.4444444444444444,\"#bd3786\"],[0.5555555555555556,\"#d8576b\"],[0.6666666666666666,\"#ed7953\"],[0.7777777777777778,\"#fb9f3a\"],[0.8888888888888888,\"#fdca26\"],[1.0,\"#f0f921\"]],\"type\":\"surface\"}],\"table\":[{\"cells\":{\"fill\":{\"color\":\"#EBF0F8\"},\"line\":{\"color\":\"white\"}},\"header\":{\"fill\":{\"color\":\"#C8D4E3\"},\"line\":{\"color\":\"white\"}},\"type\":\"table\"}]},\"layout\":{\"annotationdefaults\":{\"arrowcolor\":\"#2a3f5f\",\"arrowhead\":0,\"arrowwidth\":1},\"autotypenumbers\":\"strict\",\"coloraxis\":{\"colorbar\":{\"outlinewidth\":0,\"ticks\":\"\"}},\"colorscale\":{\"diverging\":[[0,\"#8e0152\"],[0.1,\"#c51b7d\"],[0.2,\"#de77ae\"],[0.3,\"#f1b6da\"],[0.4,\"#fde0ef\"],[0.5,\"#f7f7f7\"],[0.6,\"#e6f5d0\"],[0.7,\"#b8e186\"],[0.8,\"#7fbc41\"],[0.9,\"#4d9221\"],[1,\"#276419\"]],\"sequential\":[[0.0,\"#0d0887\"],[0.1111111111111111,\"#46039f\"],[0.2222222222222222,\"#7201a8\"],[0.3333333333333333,\"#9c179e\"],[0.4444444444444444,\"#bd3786\"],[0.5555555555555556,\"#d8576b\"],[0.6666666666666666,\"#ed7953\"],[0.7777777777777778,\"#fb9f3a\"],[0.8888888888888888,\"#fdca26\"],[1.0,\"#f0f921\"]],\"sequentialminus\":[[0.0,\"#0d0887\"],[0.1111111111111111,\"#46039f\"],[0.2222222222222222,\"#7201a8\"],[0.3333333333333333,\"#9c179e\"],[0.4444444444444444,\"#bd3786\"],[0.5555555555555556,\"#d8576b\"],[0.6666666666666666,\"#ed7953\"],[0.7777777777777778,\"#fb9f3a\"],[0.8888888888888888,\"#fdca26\"],[1.0,\"#f0f921\"]]},\"colorway\":[\"#636efa\",\"#EF553B\",\"#00cc96\",\"#ab63fa\",\"#FFA15A\",\"#19d3f3\",\"#FF6692\",\"#B6E880\",\"#FF97FF\",\"#FECB52\"],\"font\":{\"color\":\"#2a3f5f\"},\"geo\":{\"bgcolor\":\"white\",\"lakecolor\":\"white\",\"landcolor\":\"#E5ECF6\",\"showlakes\":true,\"showland\":true,\"subunitcolor\":\"white\"},\"hoverlabel\":{\"align\":\"left\"},\"hovermode\":\"closest\",\"mapbox\":{\"style\":\"light\"},\"paper_bgcolor\":\"white\",\"plot_bgcolor\":\"#E5ECF6\",\"polar\":{\"angularaxis\":{\"gridcolor\":\"white\",\"linecolor\":\"white\",\"ticks\":\"\"},\"bgcolor\":\"#E5ECF6\",\"radialaxis\":{\"gridcolor\":\"white\",\"linecolor\":\"white\",\"ticks\":\"\"}},\"scene\":{\"xaxis\":{\"backgroundcolor\":\"#E5ECF6\",\"gridcolor\":\"white\",\"gridwidth\":2,\"linecolor\":\"white\",\"showbackground\":true,\"ticks\":\"\",\"zerolinecolor\":\"white\"},\"yaxis\":{\"backgroundcolor\":\"#E5ECF6\",\"gridcolor\":\"white\",\"gridwidth\":2,\"linecolor\":\"white\",\"showbackground\":true,\"ticks\":\"\",\"zerolinecolor\":\"white\"},\"zaxis\":{\"backgroundcolor\":\"#E5ECF6\",\"gridcolor\":\"white\",\"gridwidth\":2,\"linecolor\":\"white\",\"showbackground\":true,\"ticks\":\"\",\"zerolinecolor\":\"white\"}},\"shapedefaults\":{\"line\":{\"color\":\"#2a3f5f\"}},\"ternary\":{\"aaxis\":{\"gridcolor\":\"white\",\"linecolor\":\"white\",\"ticks\":\"\"},\"baxis\":{\"gridcolor\":\"white\",\"linecolor\":\"white\",\"ticks\":\"\"},\"bgcolor\":\"#E5ECF6\",\"caxis\":{\"gridcolor\":\"white\",\"linecolor\":\"white\",\"ticks\":\"\"}},\"title\":{\"x\":0.05},\"xaxis\":{\"automargin\":true,\"gridcolor\":\"white\",\"linecolor\":\"white\",\"ticks\":\"\",\"title\":{\"standoff\":15},\"zerolinecolor\":\"white\",\"zerolinewidth\":2},\"yaxis\":{\"automargin\":true,\"gridcolor\":\"white\",\"linecolor\":\"white\",\"ticks\":\"\",\"title\":{\"standoff\":15},\"zerolinecolor\":\"white\",\"zerolinewidth\":2}}},\"title\":{\"font\":{\"color\":\"#4D5663\"}},\"xaxis\":{\"gridcolor\":\"#E1E5ED\",\"showgrid\":true,\"tickfont\":{\"color\":\"#4D5663\"},\"title\":{\"font\":{\"color\":\"#4D5663\"},\"text\":\"\"},\"zerolinecolor\":\"#E1E5ED\"},\"yaxis\":{\"gridcolor\":\"#E1E5ED\",\"showgrid\":true,\"tickfont\":{\"color\":\"#4D5663\"},\"title\":{\"font\":{\"color\":\"#4D5663\"},\"text\":\"\"},\"zerolinecolor\":\"#E1E5ED\"}},                        {\"showLink\": true, \"linkText\": \"Export to plot.ly\", \"plotlyServerURL\": \"https://plot.ly\", \"responsive\": true}                    ).then(function(){\n",
       "                            \n",
       "var gd = document.getElementById('3a8c859c-f000-40cc-abf6-248db054262f');\n",
       "var x = new MutationObserver(function (mutations, observer) {{\n",
       "        var display = window.getComputedStyle(gd).display;\n",
       "        if (!display || display === 'none') {{\n",
       "            console.log([gd, 'removed!']);\n",
       "            Plotly.purge(gd);\n",
       "            observer.disconnect();\n",
       "        }}\n",
       "}});\n",
       "\n",
       "// Listen for the removal of the full notebook cells\n",
       "var notebookContainer = gd.closest('#notebook-container');\n",
       "if (notebookContainer) {{\n",
       "    x.observe(notebookContainer, {childList: true});\n",
       "}}\n",
       "\n",
       "// Listen for the clearing of the current output cell\n",
       "var outputEl = gd.closest('.output');\n",
       "if (outputEl) {{\n",
       "    x.observe(outputEl, {childList: true});\n",
       "}}\n",
       "\n",
       "                        })                };                });            </script>        </div>"
      ]
     },
     "metadata": {},
     "output_type": "display_data"
    }
   ],
   "source": [
    "df.iplot(kind = 'bubble', x = 'A', y = 'B', size = 'C')"
   ]
  },
  {
   "cell_type": "code",
   "execution_count": 49,
   "metadata": {},
   "outputs": [
    {
     "data": {
      "application/vnd.plotly.v1+json": {
       "config": {
        "linkText": "Export to plot.ly",
        "plotlyServerURL": "https://plot.ly",
        "showLink": true
       },
       "data": [
        {
         "histfunc": "count",
         "histnorm": "",
         "marker": {
          "color": "rgba(255, 153, 51, 1.0)",
          "line": {
           "color": "#4D5663",
           "width": 1.3
          }
         },
         "name": "A",
         "nbinsx": 10,
         "opacity": 0.8,
         "orientation": "v",
         "type": "histogram",
         "x": [
          -1.2647427478653352,
          1.1438411630417042,
          -1.05938509827262,
          1.8504871379847871,
          1.546377535727985,
          0.33451611794517383,
          -0.20870116298576785,
          -1.085679823482335,
          -1.8827930712316268,
          0.22569589428736125,
          -0.14870073272283485,
          1.8097238490035186,
          1.0846129586722046,
          -0.4585050680912217,
          0.6124031613321901,
          0.37538238094067367,
          0.913002050425729,
          1.447532474939569,
          0.37930096970612054,
          0.025491861586942416,
          -0.15303803382175143,
          2.243550303352481,
          -0.9229629605917236,
          0.49440602178430515,
          0.32626850787772976,
          0.43958972584123573,
          0.6294553731378257,
          -0.7267701219717834,
          -2.138340463946718,
          -1.079017623382896,
          1.4986614544652554,
          -0.27121288174569463,
          0.10138278146479278,
          -1.7605830124243214,
          1.4615654271971597,
          1.3732321332042572,
          -0.28009958692970527,
          0.27184356721053654,
          0.014974755371081123,
          -0.044085016801009055,
          -0.46899889415285745,
          1.1953347937424306,
          -1.2073043812004678,
          1.6594422835590357,
          0.2848202010542789,
          -2.0911424322013095,
          1.6745282025401613,
          0.4378371851153993,
          -1.5566653128924857,
          0.21922867812626284,
          -0.9895599822871955,
          0.4074603834542788,
          -0.11399811827797118,
          -0.4189233977822209,
          0.02238550870270797,
          -0.19216353794605404,
          -0.9170130286940688,
          -0.046978406156488545,
          -0.6700104088456724,
          -0.6660851578679424,
          -0.7556852339933507,
          1.2649343600796048,
          1.2777903189647906,
          -0.9126194253381009,
          -0.2632680461538293,
          -1.8546321915498691,
          -0.7390643109977857,
          -0.38372051200700763,
          2.373219972374884,
          0.15575329596422724,
          0.27443916807887914,
          1.5379394148316894,
          1.0156948488155468,
          2.166093192750811,
          -1.0885500209397434,
          0.23426839259810678,
          1.0855996519748596,
          -0.11987274678594355,
          0.44089320789934516,
          -0.4109301897292856,
          0.2707175129727391,
          0.9588832487102428,
          1.0789411110517297,
          0.567636859797784,
          0.27125757376181386,
          2.3036423634178256,
          -1.6393208075066952,
          -1.0635721442192485,
          -1.11636408945502,
          -0.6034849340046708,
          -0.38968839640407177,
          -0.6161479359295967,
          -1.2335152643562908,
          -0.31229004474165456,
          0.7538272605696364,
          -0.004508090178002124,
          -0.819361298514153,
          0.8156450489617879,
          -2.5000383877630896,
          -0.6474385769236347
         ],
         "xaxis": "x",
         "yaxis": "y"
        },
        {
         "line": {
          "color": "rgba(128, 128, 128, 1.0)",
          "dash": "solid",
          "shape": "linear",
          "width": 1.3
         },
         "marker": {
          "size": 2,
          "symbol": "circle"
         },
         "mode": "markers",
         "name": "A",
         "text": "",
         "type": "scatter",
         "x": [
          -0.1301153686144075,
          -1.6689431191330846,
          -0.20285842315621072,
          0.6785541362910886,
          1.0673918447214745,
          -0.7802583792353444,
          0.30655867142304316,
          -1.2224647788795076,
          1.1866673649667518,
          0.46219911312653267,
          1.4359201163455364,
          -0.7620857646479738,
          0.14999770489209946,
          1.3510418038024503,
          -0.3476238768658763,
          0.3770700580304464,
          -0.08724172549181444,
          0.2895924442947607,
          0.9263808590552806,
          0.6797844247887547,
          -1.4012028849109173,
          0.4826166320718709,
          -0.3922986215993963,
          0.1959231778807618,
          -1.535535001735862,
          -1.81030871675917,
          0.3202113451900208,
          -1.0894993574122724,
          1.2611748564873886,
          0.22952844301244146,
          0.20716481394625794,
          -0.5318471990187423,
          0.1905060425236613,
          0.33116265806516637,
          -0.20501117215077244,
          -0.13440599237475553,
          1.3694492195462487,
          0.12091625643835999,
          0.25879190464332064,
          2.1810934957315435,
          -0.8879443807209912,
          -0.10370330117363438,
          1.172528207746524,
          -0.7504584806919168,
          -1.3481550776944762,
          -0.3961405026321928,
          -0.5999811877451495,
          -0.20504473373920704,
          -0.21748858862191447,
          3.7711129137159305,
          1.2972268923024826,
          1.3275408771993824,
          1.95760339268544,
          0.5264064674229573,
          -0.34976669900318985,
          0.8883004010504278,
          -1.9693253772292125,
          -0.7893855424963484,
          -0.943500652185212,
          -0.9272532594633244,
          0.31683412564341046,
          -1.7173765182063023,
          -0.9556446260766284,
          1.3879797679477532,
          1.388906776125478,
          -1.420945170989908,
          -1.2135311911828452,
          -0.038105740051507325,
          -0.6840302763696385,
          -0.21411043178080405,
          -1.7717125392677908,
          0.3551843961210306,
          -0.18233526845925668,
          0.0018104373033404708,
          -1.746680394865062,
          -1.4466500104106845,
          0.2546409286259897,
          -0.9201116861442346,
          0.03541568708138817,
          0.7880116269458712,
          0.010526015638076014,
          -1.2808253690232152,
          -0.43045698828732787,
          0.1970487702396815,
          1.540825646555996,
          -0.6756201736428282,
          -0.5194461460437366,
          -0.9511847167654712,
          0.9183457485866829,
          0.647385429594174,
          0.9178442142583454,
          0.6336945961461663,
          -0.3235544554780584,
          -0.44720725073444695,
          0.15843502509823545,
          1.2594456193699413,
          0.39248124451512556,
          -0.8898170383869574,
          -1.1275896315623108,
          -0.11851924403056344
         ],
         "xaxis": "x2",
         "y": [
          -1.2647427478653352,
          1.1438411630417042,
          -1.05938509827262,
          1.8504871379847871,
          1.546377535727985,
          0.33451611794517383,
          -0.20870116298576785,
          -1.085679823482335,
          -1.8827930712316268,
          0.22569589428736125,
          -0.14870073272283485,
          1.8097238490035186,
          1.0846129586722046,
          -0.4585050680912217,
          0.6124031613321901,
          0.37538238094067367,
          0.913002050425729,
          1.447532474939569,
          0.37930096970612054,
          0.025491861586942416,
          -0.15303803382175143,
          2.243550303352481,
          -0.9229629605917236,
          0.49440602178430515,
          0.32626850787772976,
          0.43958972584123573,
          0.6294553731378257,
          -0.7267701219717834,
          -2.138340463946718,
          -1.079017623382896,
          1.4986614544652554,
          -0.27121288174569463,
          0.10138278146479278,
          -1.7605830124243214,
          1.4615654271971597,
          1.3732321332042572,
          -0.28009958692970527,
          0.27184356721053654,
          0.014974755371081123,
          -0.044085016801009055,
          -0.46899889415285745,
          1.1953347937424306,
          -1.2073043812004678,
          1.6594422835590357,
          0.2848202010542789,
          -2.0911424322013095,
          1.6745282025401613,
          0.4378371851153993,
          -1.5566653128924857,
          0.21922867812626284,
          -0.9895599822871955,
          0.4074603834542788,
          -0.11399811827797118,
          -0.4189233977822209,
          0.02238550870270797,
          -0.19216353794605404,
          -0.9170130286940688,
          -0.046978406156488545,
          -0.6700104088456724,
          -0.6660851578679424,
          -0.7556852339933507,
          1.2649343600796048,
          1.2777903189647906,
          -0.9126194253381009,
          -0.2632680461538293,
          -1.8546321915498691,
          -0.7390643109977857,
          -0.38372051200700763,
          2.373219972374884,
          0.15575329596422724,
          0.27443916807887914,
          1.5379394148316894,
          1.0156948488155468,
          2.166093192750811,
          -1.0885500209397434,
          0.23426839259810678,
          1.0855996519748596,
          -0.11987274678594355,
          0.44089320789934516,
          -0.4109301897292856,
          0.2707175129727391,
          0.9588832487102428,
          1.0789411110517297,
          0.567636859797784,
          0.27125757376181386,
          2.3036423634178256,
          -1.6393208075066952,
          -1.0635721442192485,
          -1.11636408945502,
          -0.6034849340046708,
          -0.38968839640407177,
          -0.6161479359295967,
          -1.2335152643562908,
          -0.31229004474165456,
          0.7538272605696364,
          -0.004508090178002124,
          -0.819361298514153,
          0.8156450489617879,
          -2.5000383877630896,
          -0.6474385769236347
         ],
         "yaxis": "y2"
        },
        {
         "line": {
          "color": "rgba(128, 128, 128, 1.0)",
          "dash": "solid",
          "shape": "linear",
          "width": 1.3
         },
         "marker": {
          "size": 2,
          "symbol": "circle"
         },
         "mode": "markers",
         "name": "A",
         "text": "",
         "type": "scatter",
         "x": [
          -0.07432342968579692,
          0.8777393170757319,
          -0.268685472600146,
          2.2755479995390724,
          -0.37728094900430725,
          0.1184472486791024,
          -0.29017894624360546,
          1.1158427295735731,
          -0.7758434989150765,
          -0.4790779231648547,
          -2.3250729856442938,
          -1.5534520814003805,
          0.07010582217536217,
          -0.2927700554009269,
          -0.2811455338833278,
          -0.8750958025697672,
          -1.2038965914051378,
          -0.6434231131292169,
          -0.6933378384744655,
          -0.7577773232183364,
          0.5154751557422648,
          -0.5641891223990193,
          -1.2678242521522025,
          0.7580626055782035,
          -1.6437958322617576,
          0.1407262845677634,
          0.734618915207698,
          -2.1253459717396757,
          -0.05320894119059313,
          0.5020172279450783,
          -0.6007903967332062,
          0.4684013807286517,
          -1.247870978194363,
          -0.38664553706485005,
          0.03776818892294396,
          -1.1267882230181745,
          0.9733591024478954,
          0.2930903308635077,
          -0.9356332519517122,
          -0.6153650657932038,
          -2.005219721405772,
          0.4695288178331009,
          -1.073751331509847,
          1.5482237236119312,
          0.6198457881908529,
          -0.642975934936527,
          -0.2386603838651042,
          0.5457898899845418,
          0.008883115991847122,
          0.23611209976553363,
          -1.0661063877070136,
          1.1667594602651707,
          -1.4575667775877763,
          -0.3847504559382402,
          0.09733002200553688,
          0.4310870134831516,
          -0.4525022409739558,
          0.37553198768314006,
          -0.08003213716421696,
          -1.358415695089806,
          -0.45033699452019677,
          -0.3472681257446617,
          -0.06396174660646238,
          0.2953685116668367,
          -0.5716331949998891,
          0.620180982707281,
          0.6178404926900865,
          0.4727830204525924,
          0.0707867733215683,
          0.7700111763387979,
          0.7016979988897313,
          0.9891376074936984,
          0.8455810848569197,
          1.2976137757949149,
          0.18066361919708504,
          -0.14591865517098768,
          -0.38216986888205057,
          1.4135921837446803,
          -0.6035065781423513,
          -0.5376334455997732,
          0.16614548239085303,
          -1.3663504605981143,
          0.8304002429780812,
          0.012290164098070978,
          0.07764199785601283,
          -1.638318478838887,
          0.44109578829677776,
          1.441371191636775,
          0.18436976846990072,
          1.3310878377634119,
          -0.151549605806431,
          0.911745823951154,
          -0.14309957623134648,
          -1.4817145138189582,
          0.4039496314825262,
          0.3603561154744288,
          -0.7410868344261943,
          -0.16394398100005667,
          0.5859320151542924,
          0.6849286686588602
         ],
         "xaxis": "x3",
         "y": [
          -1.2647427478653352,
          1.1438411630417042,
          -1.05938509827262,
          1.8504871379847871,
          1.546377535727985,
          0.33451611794517383,
          -0.20870116298576785,
          -1.085679823482335,
          -1.8827930712316268,
          0.22569589428736125,
          -0.14870073272283485,
          1.8097238490035186,
          1.0846129586722046,
          -0.4585050680912217,
          0.6124031613321901,
          0.37538238094067367,
          0.913002050425729,
          1.447532474939569,
          0.37930096970612054,
          0.025491861586942416,
          -0.15303803382175143,
          2.243550303352481,
          -0.9229629605917236,
          0.49440602178430515,
          0.32626850787772976,
          0.43958972584123573,
          0.6294553731378257,
          -0.7267701219717834,
          -2.138340463946718,
          -1.079017623382896,
          1.4986614544652554,
          -0.27121288174569463,
          0.10138278146479278,
          -1.7605830124243214,
          1.4615654271971597,
          1.3732321332042572,
          -0.28009958692970527,
          0.27184356721053654,
          0.014974755371081123,
          -0.044085016801009055,
          -0.46899889415285745,
          1.1953347937424306,
          -1.2073043812004678,
          1.6594422835590357,
          0.2848202010542789,
          -2.0911424322013095,
          1.6745282025401613,
          0.4378371851153993,
          -1.5566653128924857,
          0.21922867812626284,
          -0.9895599822871955,
          0.4074603834542788,
          -0.11399811827797118,
          -0.4189233977822209,
          0.02238550870270797,
          -0.19216353794605404,
          -0.9170130286940688,
          -0.046978406156488545,
          -0.6700104088456724,
          -0.6660851578679424,
          -0.7556852339933507,
          1.2649343600796048,
          1.2777903189647906,
          -0.9126194253381009,
          -0.2632680461538293,
          -1.8546321915498691,
          -0.7390643109977857,
          -0.38372051200700763,
          2.373219972374884,
          0.15575329596422724,
          0.27443916807887914,
          1.5379394148316894,
          1.0156948488155468,
          2.166093192750811,
          -1.0885500209397434,
          0.23426839259810678,
          1.0855996519748596,
          -0.11987274678594355,
          0.44089320789934516,
          -0.4109301897292856,
          0.2707175129727391,
          0.9588832487102428,
          1.0789411110517297,
          0.567636859797784,
          0.27125757376181386,
          2.3036423634178256,
          -1.6393208075066952,
          -1.0635721442192485,
          -1.11636408945502,
          -0.6034849340046708,
          -0.38968839640407177,
          -0.6161479359295967,
          -1.2335152643562908,
          -0.31229004474165456,
          0.7538272605696364,
          -0.004508090178002124,
          -0.819361298514153,
          0.8156450489617879,
          -2.5000383877630896,
          -0.6474385769236347
         ],
         "yaxis": "y3"
        },
        {
         "line": {
          "color": "rgba(128, 128, 128, 1.0)",
          "dash": "solid",
          "shape": "linear",
          "width": 1.3
         },
         "marker": {
          "size": 2,
          "symbol": "circle"
         },
         "mode": "markers",
         "name": "A",
         "text": "",
         "type": "scatter",
         "x": [
          -0.8863454276883004,
          -0.1645708355236205,
          -0.7673022871715959,
          0.5502003178107542,
          0.5782332646332343,
          -0.2883640033885405,
          -2.4590500778578295,
          0.3814999589068852,
          -0.7848758141315808,
          -0.5886942499702799,
          -1.1801811153934427,
          3.9370432901687895,
          1.1957947402804088,
          0.26039386578231316,
          -0.3865384592129036,
          1.1426080070390392,
          0.15853703541445704,
          1.9434894736718002,
          0.5634047708216215,
          0.4845198129148697,
          1.4778971369029104,
          -0.23522299796185353,
          1.2652058584995227,
          0.39965351876924093,
          1.1342011861190648,
          1.4876317325502424,
          -0.7315044957257623,
          1.2721255156223625,
          -0.5150307609409148,
          0.9191075654871602,
          0.3494876538837761,
          0.7618773037155189,
          -0.2169210404456462,
          -0.3721130554270073,
          -1.0647043052330407,
          -1.798502529073453,
          0.3630921321787982,
          -0.7034208280439024,
          0.41967401887464095,
          1.2408493405964054,
          -0.8649778879766941,
          0.5370630893827874,
          -0.0022656007835508037,
          0.5528593758405621,
          0.6514452462779097,
          -0.7193390468692294,
          0.41363849852505,
          -1.1550876929393719,
          -0.3333227893871169,
          1.1670374072457335,
          -0.193170443946,
          0.9858918067424841,
          0.5352465267173225,
          -0.4214400221911786,
          -0.6058297062984426,
          0.8355805060377944,
          -0.21831842091956985,
          -1.2206737775347731,
          1.0618805543186036,
          0.8256202093395615,
          1.0480969337977304,
          -1.1767596205270556,
          0.22660341445141913,
          -0.02043141145474128,
          -0.3970225663722118,
          -0.06510176853847016,
          2.283918922208758,
          0.36218304941214347,
          -0.43750547101447995,
          0.9572622278046339,
          1.0897298993794287,
          -1.8881741854698473,
          0.24837316037209245,
          0.1576255939153728,
          0.6985460371861626,
          0.577325167618128,
          0.04288007554373437,
          0.0798381463361213,
          0.47021391855991557,
          -1.322498435518512,
          0.807740653757711,
          1.044837675048127,
          0.6683976697470645,
          1.0806151850609549,
          -0.8964360100020632,
          1.4486966483639385,
          -0.7620826886466616,
          -1.1840753631011112,
          0.5826196587773148,
          1.2446553971162422,
          -0.2497319817787376,
          1.000513118384911,
          0.23676817902069075,
          1.1611010130583208,
          0.31636924126830085,
          -0.8080503861933555,
          -0.14720794930826459,
          1.5075623463079884,
          0.28587340189621624,
          -0.34528881368554365
         ],
         "xaxis": "x4",
         "y": [
          -1.2647427478653352,
          1.1438411630417042,
          -1.05938509827262,
          1.8504871379847871,
          1.546377535727985,
          0.33451611794517383,
          -0.20870116298576785,
          -1.085679823482335,
          -1.8827930712316268,
          0.22569589428736125,
          -0.14870073272283485,
          1.8097238490035186,
          1.0846129586722046,
          -0.4585050680912217,
          0.6124031613321901,
          0.37538238094067367,
          0.913002050425729,
          1.447532474939569,
          0.37930096970612054,
          0.025491861586942416,
          -0.15303803382175143,
          2.243550303352481,
          -0.9229629605917236,
          0.49440602178430515,
          0.32626850787772976,
          0.43958972584123573,
          0.6294553731378257,
          -0.7267701219717834,
          -2.138340463946718,
          -1.079017623382896,
          1.4986614544652554,
          -0.27121288174569463,
          0.10138278146479278,
          -1.7605830124243214,
          1.4615654271971597,
          1.3732321332042572,
          -0.28009958692970527,
          0.27184356721053654,
          0.014974755371081123,
          -0.044085016801009055,
          -0.46899889415285745,
          1.1953347937424306,
          -1.2073043812004678,
          1.6594422835590357,
          0.2848202010542789,
          -2.0911424322013095,
          1.6745282025401613,
          0.4378371851153993,
          -1.5566653128924857,
          0.21922867812626284,
          -0.9895599822871955,
          0.4074603834542788,
          -0.11399811827797118,
          -0.4189233977822209,
          0.02238550870270797,
          -0.19216353794605404,
          -0.9170130286940688,
          -0.046978406156488545,
          -0.6700104088456724,
          -0.6660851578679424,
          -0.7556852339933507,
          1.2649343600796048,
          1.2777903189647906,
          -0.9126194253381009,
          -0.2632680461538293,
          -1.8546321915498691,
          -0.7390643109977857,
          -0.38372051200700763,
          2.373219972374884,
          0.15575329596422724,
          0.27443916807887914,
          1.5379394148316894,
          1.0156948488155468,
          2.166093192750811,
          -1.0885500209397434,
          0.23426839259810678,
          1.0855996519748596,
          -0.11987274678594355,
          0.44089320789934516,
          -0.4109301897292856,
          0.2707175129727391,
          0.9588832487102428,
          1.0789411110517297,
          0.567636859797784,
          0.27125757376181386,
          2.3036423634178256,
          -1.6393208075066952,
          -1.0635721442192485,
          -1.11636408945502,
          -0.6034849340046708,
          -0.38968839640407177,
          -0.6161479359295967,
          -1.2335152643562908,
          -0.31229004474165456,
          0.7538272605696364,
          -0.004508090178002124,
          -0.819361298514153,
          0.8156450489617879,
          -2.5000383877630896,
          -0.6474385769236347
         ],
         "yaxis": "y4"
        },
        {
         "line": {
          "color": "rgba(128, 128, 128, 1.0)",
          "dash": "solid",
          "shape": "linear",
          "width": 1.3
         },
         "marker": {
          "size": 2,
          "symbol": "circle"
         },
         "mode": "markers",
         "name": "B",
         "text": "",
         "type": "scatter",
         "x": [
          -1.2647427478653352,
          1.1438411630417042,
          -1.05938509827262,
          1.8504871379847871,
          1.546377535727985,
          0.33451611794517383,
          -0.20870116298576785,
          -1.085679823482335,
          -1.8827930712316268,
          0.22569589428736125,
          -0.14870073272283485,
          1.8097238490035186,
          1.0846129586722046,
          -0.4585050680912217,
          0.6124031613321901,
          0.37538238094067367,
          0.913002050425729,
          1.447532474939569,
          0.37930096970612054,
          0.025491861586942416,
          -0.15303803382175143,
          2.243550303352481,
          -0.9229629605917236,
          0.49440602178430515,
          0.32626850787772976,
          0.43958972584123573,
          0.6294553731378257,
          -0.7267701219717834,
          -2.138340463946718,
          -1.079017623382896,
          1.4986614544652554,
          -0.27121288174569463,
          0.10138278146479278,
          -1.7605830124243214,
          1.4615654271971597,
          1.3732321332042572,
          -0.28009958692970527,
          0.27184356721053654,
          0.014974755371081123,
          -0.044085016801009055,
          -0.46899889415285745,
          1.1953347937424306,
          -1.2073043812004678,
          1.6594422835590357,
          0.2848202010542789,
          -2.0911424322013095,
          1.6745282025401613,
          0.4378371851153993,
          -1.5566653128924857,
          0.21922867812626284,
          -0.9895599822871955,
          0.4074603834542788,
          -0.11399811827797118,
          -0.4189233977822209,
          0.02238550870270797,
          -0.19216353794605404,
          -0.9170130286940688,
          -0.046978406156488545,
          -0.6700104088456724,
          -0.6660851578679424,
          -0.7556852339933507,
          1.2649343600796048,
          1.2777903189647906,
          -0.9126194253381009,
          -0.2632680461538293,
          -1.8546321915498691,
          -0.7390643109977857,
          -0.38372051200700763,
          2.373219972374884,
          0.15575329596422724,
          0.27443916807887914,
          1.5379394148316894,
          1.0156948488155468,
          2.166093192750811,
          -1.0885500209397434,
          0.23426839259810678,
          1.0855996519748596,
          -0.11987274678594355,
          0.44089320789934516,
          -0.4109301897292856,
          0.2707175129727391,
          0.9588832487102428,
          1.0789411110517297,
          0.567636859797784,
          0.27125757376181386,
          2.3036423634178256,
          -1.6393208075066952,
          -1.0635721442192485,
          -1.11636408945502,
          -0.6034849340046708,
          -0.38968839640407177,
          -0.6161479359295967,
          -1.2335152643562908,
          -0.31229004474165456,
          0.7538272605696364,
          -0.004508090178002124,
          -0.819361298514153,
          0.8156450489617879,
          -2.5000383877630896,
          -0.6474385769236347
         ],
         "xaxis": "x5",
         "y": [
          -0.1301153686144075,
          -1.6689431191330846,
          -0.20285842315621072,
          0.6785541362910886,
          1.0673918447214745,
          -0.7802583792353444,
          0.30655867142304316,
          -1.2224647788795076,
          1.1866673649667518,
          0.46219911312653267,
          1.4359201163455364,
          -0.7620857646479738,
          0.14999770489209946,
          1.3510418038024503,
          -0.3476238768658763,
          0.3770700580304464,
          -0.08724172549181444,
          0.2895924442947607,
          0.9263808590552806,
          0.6797844247887547,
          -1.4012028849109173,
          0.4826166320718709,
          -0.3922986215993963,
          0.1959231778807618,
          -1.535535001735862,
          -1.81030871675917,
          0.3202113451900208,
          -1.0894993574122724,
          1.2611748564873886,
          0.22952844301244146,
          0.20716481394625794,
          -0.5318471990187423,
          0.1905060425236613,
          0.33116265806516637,
          -0.20501117215077244,
          -0.13440599237475553,
          1.3694492195462487,
          0.12091625643835999,
          0.25879190464332064,
          2.1810934957315435,
          -0.8879443807209912,
          -0.10370330117363438,
          1.172528207746524,
          -0.7504584806919168,
          -1.3481550776944762,
          -0.3961405026321928,
          -0.5999811877451495,
          -0.20504473373920704,
          -0.21748858862191447,
          3.7711129137159305,
          1.2972268923024826,
          1.3275408771993824,
          1.95760339268544,
          0.5264064674229573,
          -0.34976669900318985,
          0.8883004010504278,
          -1.9693253772292125,
          -0.7893855424963484,
          -0.943500652185212,
          -0.9272532594633244,
          0.31683412564341046,
          -1.7173765182063023,
          -0.9556446260766284,
          1.3879797679477532,
          1.388906776125478,
          -1.420945170989908,
          -1.2135311911828452,
          -0.038105740051507325,
          -0.6840302763696385,
          -0.21411043178080405,
          -1.7717125392677908,
          0.3551843961210306,
          -0.18233526845925668,
          0.0018104373033404708,
          -1.746680394865062,
          -1.4466500104106845,
          0.2546409286259897,
          -0.9201116861442346,
          0.03541568708138817,
          0.7880116269458712,
          0.010526015638076014,
          -1.2808253690232152,
          -0.43045698828732787,
          0.1970487702396815,
          1.540825646555996,
          -0.6756201736428282,
          -0.5194461460437366,
          -0.9511847167654712,
          0.9183457485866829,
          0.647385429594174,
          0.9178442142583454,
          0.6336945961461663,
          -0.3235544554780584,
          -0.44720725073444695,
          0.15843502509823545,
          1.2594456193699413,
          0.39248124451512556,
          -0.8898170383869574,
          -1.1275896315623108,
          -0.11851924403056344
         ],
         "yaxis": "y5"
        },
        {
         "histfunc": "count",
         "histnorm": "",
         "marker": {
          "color": "rgba(55, 128, 191, 1.0)",
          "line": {
           "color": "#4D5663",
           "width": 1.3
          }
         },
         "name": "B",
         "nbinsx": 10,
         "opacity": 0.8,
         "orientation": "v",
         "type": "histogram",
         "x": [
          -0.1301153686144075,
          -1.6689431191330846,
          -0.20285842315621072,
          0.6785541362910886,
          1.0673918447214745,
          -0.7802583792353444,
          0.30655867142304316,
          -1.2224647788795076,
          1.1866673649667518,
          0.46219911312653267,
          1.4359201163455364,
          -0.7620857646479738,
          0.14999770489209946,
          1.3510418038024503,
          -0.3476238768658763,
          0.3770700580304464,
          -0.08724172549181444,
          0.2895924442947607,
          0.9263808590552806,
          0.6797844247887547,
          -1.4012028849109173,
          0.4826166320718709,
          -0.3922986215993963,
          0.1959231778807618,
          -1.535535001735862,
          -1.81030871675917,
          0.3202113451900208,
          -1.0894993574122724,
          1.2611748564873886,
          0.22952844301244146,
          0.20716481394625794,
          -0.5318471990187423,
          0.1905060425236613,
          0.33116265806516637,
          -0.20501117215077244,
          -0.13440599237475553,
          1.3694492195462487,
          0.12091625643835999,
          0.25879190464332064,
          2.1810934957315435,
          -0.8879443807209912,
          -0.10370330117363438,
          1.172528207746524,
          -0.7504584806919168,
          -1.3481550776944762,
          -0.3961405026321928,
          -0.5999811877451495,
          -0.20504473373920704,
          -0.21748858862191447,
          3.7711129137159305,
          1.2972268923024826,
          1.3275408771993824,
          1.95760339268544,
          0.5264064674229573,
          -0.34976669900318985,
          0.8883004010504278,
          -1.9693253772292125,
          -0.7893855424963484,
          -0.943500652185212,
          -0.9272532594633244,
          0.31683412564341046,
          -1.7173765182063023,
          -0.9556446260766284,
          1.3879797679477532,
          1.388906776125478,
          -1.420945170989908,
          -1.2135311911828452,
          -0.038105740051507325,
          -0.6840302763696385,
          -0.21411043178080405,
          -1.7717125392677908,
          0.3551843961210306,
          -0.18233526845925668,
          0.0018104373033404708,
          -1.746680394865062,
          -1.4466500104106845,
          0.2546409286259897,
          -0.9201116861442346,
          0.03541568708138817,
          0.7880116269458712,
          0.010526015638076014,
          -1.2808253690232152,
          -0.43045698828732787,
          0.1970487702396815,
          1.540825646555996,
          -0.6756201736428282,
          -0.5194461460437366,
          -0.9511847167654712,
          0.9183457485866829,
          0.647385429594174,
          0.9178442142583454,
          0.6336945961461663,
          -0.3235544554780584,
          -0.44720725073444695,
          0.15843502509823545,
          1.2594456193699413,
          0.39248124451512556,
          -0.8898170383869574,
          -1.1275896315623108,
          -0.11851924403056344
         ],
         "xaxis": "x6",
         "yaxis": "y6"
        },
        {
         "line": {
          "color": "rgba(128, 128, 128, 1.0)",
          "dash": "solid",
          "shape": "linear",
          "width": 1.3
         },
         "marker": {
          "size": 2,
          "symbol": "circle"
         },
         "mode": "markers",
         "name": "B",
         "text": "",
         "type": "scatter",
         "x": [
          -0.07432342968579692,
          0.8777393170757319,
          -0.268685472600146,
          2.2755479995390724,
          -0.37728094900430725,
          0.1184472486791024,
          -0.29017894624360546,
          1.1158427295735731,
          -0.7758434989150765,
          -0.4790779231648547,
          -2.3250729856442938,
          -1.5534520814003805,
          0.07010582217536217,
          -0.2927700554009269,
          -0.2811455338833278,
          -0.8750958025697672,
          -1.2038965914051378,
          -0.6434231131292169,
          -0.6933378384744655,
          -0.7577773232183364,
          0.5154751557422648,
          -0.5641891223990193,
          -1.2678242521522025,
          0.7580626055782035,
          -1.6437958322617576,
          0.1407262845677634,
          0.734618915207698,
          -2.1253459717396757,
          -0.05320894119059313,
          0.5020172279450783,
          -0.6007903967332062,
          0.4684013807286517,
          -1.247870978194363,
          -0.38664553706485005,
          0.03776818892294396,
          -1.1267882230181745,
          0.9733591024478954,
          0.2930903308635077,
          -0.9356332519517122,
          -0.6153650657932038,
          -2.005219721405772,
          0.4695288178331009,
          -1.073751331509847,
          1.5482237236119312,
          0.6198457881908529,
          -0.642975934936527,
          -0.2386603838651042,
          0.5457898899845418,
          0.008883115991847122,
          0.23611209976553363,
          -1.0661063877070136,
          1.1667594602651707,
          -1.4575667775877763,
          -0.3847504559382402,
          0.09733002200553688,
          0.4310870134831516,
          -0.4525022409739558,
          0.37553198768314006,
          -0.08003213716421696,
          -1.358415695089806,
          -0.45033699452019677,
          -0.3472681257446617,
          -0.06396174660646238,
          0.2953685116668367,
          -0.5716331949998891,
          0.620180982707281,
          0.6178404926900865,
          0.4727830204525924,
          0.0707867733215683,
          0.7700111763387979,
          0.7016979988897313,
          0.9891376074936984,
          0.8455810848569197,
          1.2976137757949149,
          0.18066361919708504,
          -0.14591865517098768,
          -0.38216986888205057,
          1.4135921837446803,
          -0.6035065781423513,
          -0.5376334455997732,
          0.16614548239085303,
          -1.3663504605981143,
          0.8304002429780812,
          0.012290164098070978,
          0.07764199785601283,
          -1.638318478838887,
          0.44109578829677776,
          1.441371191636775,
          0.18436976846990072,
          1.3310878377634119,
          -0.151549605806431,
          0.911745823951154,
          -0.14309957623134648,
          -1.4817145138189582,
          0.4039496314825262,
          0.3603561154744288,
          -0.7410868344261943,
          -0.16394398100005667,
          0.5859320151542924,
          0.6849286686588602
         ],
         "xaxis": "x7",
         "y": [
          -0.1301153686144075,
          -1.6689431191330846,
          -0.20285842315621072,
          0.6785541362910886,
          1.0673918447214745,
          -0.7802583792353444,
          0.30655867142304316,
          -1.2224647788795076,
          1.1866673649667518,
          0.46219911312653267,
          1.4359201163455364,
          -0.7620857646479738,
          0.14999770489209946,
          1.3510418038024503,
          -0.3476238768658763,
          0.3770700580304464,
          -0.08724172549181444,
          0.2895924442947607,
          0.9263808590552806,
          0.6797844247887547,
          -1.4012028849109173,
          0.4826166320718709,
          -0.3922986215993963,
          0.1959231778807618,
          -1.535535001735862,
          -1.81030871675917,
          0.3202113451900208,
          -1.0894993574122724,
          1.2611748564873886,
          0.22952844301244146,
          0.20716481394625794,
          -0.5318471990187423,
          0.1905060425236613,
          0.33116265806516637,
          -0.20501117215077244,
          -0.13440599237475553,
          1.3694492195462487,
          0.12091625643835999,
          0.25879190464332064,
          2.1810934957315435,
          -0.8879443807209912,
          -0.10370330117363438,
          1.172528207746524,
          -0.7504584806919168,
          -1.3481550776944762,
          -0.3961405026321928,
          -0.5999811877451495,
          -0.20504473373920704,
          -0.21748858862191447,
          3.7711129137159305,
          1.2972268923024826,
          1.3275408771993824,
          1.95760339268544,
          0.5264064674229573,
          -0.34976669900318985,
          0.8883004010504278,
          -1.9693253772292125,
          -0.7893855424963484,
          -0.943500652185212,
          -0.9272532594633244,
          0.31683412564341046,
          -1.7173765182063023,
          -0.9556446260766284,
          1.3879797679477532,
          1.388906776125478,
          -1.420945170989908,
          -1.2135311911828452,
          -0.038105740051507325,
          -0.6840302763696385,
          -0.21411043178080405,
          -1.7717125392677908,
          0.3551843961210306,
          -0.18233526845925668,
          0.0018104373033404708,
          -1.746680394865062,
          -1.4466500104106845,
          0.2546409286259897,
          -0.9201116861442346,
          0.03541568708138817,
          0.7880116269458712,
          0.010526015638076014,
          -1.2808253690232152,
          -0.43045698828732787,
          0.1970487702396815,
          1.540825646555996,
          -0.6756201736428282,
          -0.5194461460437366,
          -0.9511847167654712,
          0.9183457485866829,
          0.647385429594174,
          0.9178442142583454,
          0.6336945961461663,
          -0.3235544554780584,
          -0.44720725073444695,
          0.15843502509823545,
          1.2594456193699413,
          0.39248124451512556,
          -0.8898170383869574,
          -1.1275896315623108,
          -0.11851924403056344
         ],
         "yaxis": "y7"
        },
        {
         "line": {
          "color": "rgba(128, 128, 128, 1.0)",
          "dash": "solid",
          "shape": "linear",
          "width": 1.3
         },
         "marker": {
          "size": 2,
          "symbol": "circle"
         },
         "mode": "markers",
         "name": "B",
         "text": "",
         "type": "scatter",
         "x": [
          -0.8863454276883004,
          -0.1645708355236205,
          -0.7673022871715959,
          0.5502003178107542,
          0.5782332646332343,
          -0.2883640033885405,
          -2.4590500778578295,
          0.3814999589068852,
          -0.7848758141315808,
          -0.5886942499702799,
          -1.1801811153934427,
          3.9370432901687895,
          1.1957947402804088,
          0.26039386578231316,
          -0.3865384592129036,
          1.1426080070390392,
          0.15853703541445704,
          1.9434894736718002,
          0.5634047708216215,
          0.4845198129148697,
          1.4778971369029104,
          -0.23522299796185353,
          1.2652058584995227,
          0.39965351876924093,
          1.1342011861190648,
          1.4876317325502424,
          -0.7315044957257623,
          1.2721255156223625,
          -0.5150307609409148,
          0.9191075654871602,
          0.3494876538837761,
          0.7618773037155189,
          -0.2169210404456462,
          -0.3721130554270073,
          -1.0647043052330407,
          -1.798502529073453,
          0.3630921321787982,
          -0.7034208280439024,
          0.41967401887464095,
          1.2408493405964054,
          -0.8649778879766941,
          0.5370630893827874,
          -0.0022656007835508037,
          0.5528593758405621,
          0.6514452462779097,
          -0.7193390468692294,
          0.41363849852505,
          -1.1550876929393719,
          -0.3333227893871169,
          1.1670374072457335,
          -0.193170443946,
          0.9858918067424841,
          0.5352465267173225,
          -0.4214400221911786,
          -0.6058297062984426,
          0.8355805060377944,
          -0.21831842091956985,
          -1.2206737775347731,
          1.0618805543186036,
          0.8256202093395615,
          1.0480969337977304,
          -1.1767596205270556,
          0.22660341445141913,
          -0.02043141145474128,
          -0.3970225663722118,
          -0.06510176853847016,
          2.283918922208758,
          0.36218304941214347,
          -0.43750547101447995,
          0.9572622278046339,
          1.0897298993794287,
          -1.8881741854698473,
          0.24837316037209245,
          0.1576255939153728,
          0.6985460371861626,
          0.577325167618128,
          0.04288007554373437,
          0.0798381463361213,
          0.47021391855991557,
          -1.322498435518512,
          0.807740653757711,
          1.044837675048127,
          0.6683976697470645,
          1.0806151850609549,
          -0.8964360100020632,
          1.4486966483639385,
          -0.7620826886466616,
          -1.1840753631011112,
          0.5826196587773148,
          1.2446553971162422,
          -0.2497319817787376,
          1.000513118384911,
          0.23676817902069075,
          1.1611010130583208,
          0.31636924126830085,
          -0.8080503861933555,
          -0.14720794930826459,
          1.5075623463079884,
          0.28587340189621624,
          -0.34528881368554365
         ],
         "xaxis": "x8",
         "y": [
          -0.1301153686144075,
          -1.6689431191330846,
          -0.20285842315621072,
          0.6785541362910886,
          1.0673918447214745,
          -0.7802583792353444,
          0.30655867142304316,
          -1.2224647788795076,
          1.1866673649667518,
          0.46219911312653267,
          1.4359201163455364,
          -0.7620857646479738,
          0.14999770489209946,
          1.3510418038024503,
          -0.3476238768658763,
          0.3770700580304464,
          -0.08724172549181444,
          0.2895924442947607,
          0.9263808590552806,
          0.6797844247887547,
          -1.4012028849109173,
          0.4826166320718709,
          -0.3922986215993963,
          0.1959231778807618,
          -1.535535001735862,
          -1.81030871675917,
          0.3202113451900208,
          -1.0894993574122724,
          1.2611748564873886,
          0.22952844301244146,
          0.20716481394625794,
          -0.5318471990187423,
          0.1905060425236613,
          0.33116265806516637,
          -0.20501117215077244,
          -0.13440599237475553,
          1.3694492195462487,
          0.12091625643835999,
          0.25879190464332064,
          2.1810934957315435,
          -0.8879443807209912,
          -0.10370330117363438,
          1.172528207746524,
          -0.7504584806919168,
          -1.3481550776944762,
          -0.3961405026321928,
          -0.5999811877451495,
          -0.20504473373920704,
          -0.21748858862191447,
          3.7711129137159305,
          1.2972268923024826,
          1.3275408771993824,
          1.95760339268544,
          0.5264064674229573,
          -0.34976669900318985,
          0.8883004010504278,
          -1.9693253772292125,
          -0.7893855424963484,
          -0.943500652185212,
          -0.9272532594633244,
          0.31683412564341046,
          -1.7173765182063023,
          -0.9556446260766284,
          1.3879797679477532,
          1.388906776125478,
          -1.420945170989908,
          -1.2135311911828452,
          -0.038105740051507325,
          -0.6840302763696385,
          -0.21411043178080405,
          -1.7717125392677908,
          0.3551843961210306,
          -0.18233526845925668,
          0.0018104373033404708,
          -1.746680394865062,
          -1.4466500104106845,
          0.2546409286259897,
          -0.9201116861442346,
          0.03541568708138817,
          0.7880116269458712,
          0.010526015638076014,
          -1.2808253690232152,
          -0.43045698828732787,
          0.1970487702396815,
          1.540825646555996,
          -0.6756201736428282,
          -0.5194461460437366,
          -0.9511847167654712,
          0.9183457485866829,
          0.647385429594174,
          0.9178442142583454,
          0.6336945961461663,
          -0.3235544554780584,
          -0.44720725073444695,
          0.15843502509823545,
          1.2594456193699413,
          0.39248124451512556,
          -0.8898170383869574,
          -1.1275896315623108,
          -0.11851924403056344
         ],
         "yaxis": "y8"
        },
        {
         "line": {
          "color": "rgba(128, 128, 128, 1.0)",
          "dash": "solid",
          "shape": "linear",
          "width": 1.3
         },
         "marker": {
          "size": 2,
          "symbol": "circle"
         },
         "mode": "markers",
         "name": "C",
         "text": "",
         "type": "scatter",
         "x": [
          -1.2647427478653352,
          1.1438411630417042,
          -1.05938509827262,
          1.8504871379847871,
          1.546377535727985,
          0.33451611794517383,
          -0.20870116298576785,
          -1.085679823482335,
          -1.8827930712316268,
          0.22569589428736125,
          -0.14870073272283485,
          1.8097238490035186,
          1.0846129586722046,
          -0.4585050680912217,
          0.6124031613321901,
          0.37538238094067367,
          0.913002050425729,
          1.447532474939569,
          0.37930096970612054,
          0.025491861586942416,
          -0.15303803382175143,
          2.243550303352481,
          -0.9229629605917236,
          0.49440602178430515,
          0.32626850787772976,
          0.43958972584123573,
          0.6294553731378257,
          -0.7267701219717834,
          -2.138340463946718,
          -1.079017623382896,
          1.4986614544652554,
          -0.27121288174569463,
          0.10138278146479278,
          -1.7605830124243214,
          1.4615654271971597,
          1.3732321332042572,
          -0.28009958692970527,
          0.27184356721053654,
          0.014974755371081123,
          -0.044085016801009055,
          -0.46899889415285745,
          1.1953347937424306,
          -1.2073043812004678,
          1.6594422835590357,
          0.2848202010542789,
          -2.0911424322013095,
          1.6745282025401613,
          0.4378371851153993,
          -1.5566653128924857,
          0.21922867812626284,
          -0.9895599822871955,
          0.4074603834542788,
          -0.11399811827797118,
          -0.4189233977822209,
          0.02238550870270797,
          -0.19216353794605404,
          -0.9170130286940688,
          -0.046978406156488545,
          -0.6700104088456724,
          -0.6660851578679424,
          -0.7556852339933507,
          1.2649343600796048,
          1.2777903189647906,
          -0.9126194253381009,
          -0.2632680461538293,
          -1.8546321915498691,
          -0.7390643109977857,
          -0.38372051200700763,
          2.373219972374884,
          0.15575329596422724,
          0.27443916807887914,
          1.5379394148316894,
          1.0156948488155468,
          2.166093192750811,
          -1.0885500209397434,
          0.23426839259810678,
          1.0855996519748596,
          -0.11987274678594355,
          0.44089320789934516,
          -0.4109301897292856,
          0.2707175129727391,
          0.9588832487102428,
          1.0789411110517297,
          0.567636859797784,
          0.27125757376181386,
          2.3036423634178256,
          -1.6393208075066952,
          -1.0635721442192485,
          -1.11636408945502,
          -0.6034849340046708,
          -0.38968839640407177,
          -0.6161479359295967,
          -1.2335152643562908,
          -0.31229004474165456,
          0.7538272605696364,
          -0.004508090178002124,
          -0.819361298514153,
          0.8156450489617879,
          -2.5000383877630896,
          -0.6474385769236347
         ],
         "xaxis": "x9",
         "y": [
          -0.07432342968579692,
          0.8777393170757319,
          -0.268685472600146,
          2.2755479995390724,
          -0.37728094900430725,
          0.1184472486791024,
          -0.29017894624360546,
          1.1158427295735731,
          -0.7758434989150765,
          -0.4790779231648547,
          -2.3250729856442938,
          -1.5534520814003805,
          0.07010582217536217,
          -0.2927700554009269,
          -0.2811455338833278,
          -0.8750958025697672,
          -1.2038965914051378,
          -0.6434231131292169,
          -0.6933378384744655,
          -0.7577773232183364,
          0.5154751557422648,
          -0.5641891223990193,
          -1.2678242521522025,
          0.7580626055782035,
          -1.6437958322617576,
          0.1407262845677634,
          0.734618915207698,
          -2.1253459717396757,
          -0.05320894119059313,
          0.5020172279450783,
          -0.6007903967332062,
          0.4684013807286517,
          -1.247870978194363,
          -0.38664553706485005,
          0.03776818892294396,
          -1.1267882230181745,
          0.9733591024478954,
          0.2930903308635077,
          -0.9356332519517122,
          -0.6153650657932038,
          -2.005219721405772,
          0.4695288178331009,
          -1.073751331509847,
          1.5482237236119312,
          0.6198457881908529,
          -0.642975934936527,
          -0.2386603838651042,
          0.5457898899845418,
          0.008883115991847122,
          0.23611209976553363,
          -1.0661063877070136,
          1.1667594602651707,
          -1.4575667775877763,
          -0.3847504559382402,
          0.09733002200553688,
          0.4310870134831516,
          -0.4525022409739558,
          0.37553198768314006,
          -0.08003213716421696,
          -1.358415695089806,
          -0.45033699452019677,
          -0.3472681257446617,
          -0.06396174660646238,
          0.2953685116668367,
          -0.5716331949998891,
          0.620180982707281,
          0.6178404926900865,
          0.4727830204525924,
          0.0707867733215683,
          0.7700111763387979,
          0.7016979988897313,
          0.9891376074936984,
          0.8455810848569197,
          1.2976137757949149,
          0.18066361919708504,
          -0.14591865517098768,
          -0.38216986888205057,
          1.4135921837446803,
          -0.6035065781423513,
          -0.5376334455997732,
          0.16614548239085303,
          -1.3663504605981143,
          0.8304002429780812,
          0.012290164098070978,
          0.07764199785601283,
          -1.638318478838887,
          0.44109578829677776,
          1.441371191636775,
          0.18436976846990072,
          1.3310878377634119,
          -0.151549605806431,
          0.911745823951154,
          -0.14309957623134648,
          -1.4817145138189582,
          0.4039496314825262,
          0.3603561154744288,
          -0.7410868344261943,
          -0.16394398100005667,
          0.5859320151542924,
          0.6849286686588602
         ],
         "yaxis": "y9"
        },
        {
         "line": {
          "color": "rgba(128, 128, 128, 1.0)",
          "dash": "solid",
          "shape": "linear",
          "width": 1.3
         },
         "marker": {
          "size": 2,
          "symbol": "circle"
         },
         "mode": "markers",
         "name": "C",
         "text": "",
         "type": "scatter",
         "x": [
          -0.1301153686144075,
          -1.6689431191330846,
          -0.20285842315621072,
          0.6785541362910886,
          1.0673918447214745,
          -0.7802583792353444,
          0.30655867142304316,
          -1.2224647788795076,
          1.1866673649667518,
          0.46219911312653267,
          1.4359201163455364,
          -0.7620857646479738,
          0.14999770489209946,
          1.3510418038024503,
          -0.3476238768658763,
          0.3770700580304464,
          -0.08724172549181444,
          0.2895924442947607,
          0.9263808590552806,
          0.6797844247887547,
          -1.4012028849109173,
          0.4826166320718709,
          -0.3922986215993963,
          0.1959231778807618,
          -1.535535001735862,
          -1.81030871675917,
          0.3202113451900208,
          -1.0894993574122724,
          1.2611748564873886,
          0.22952844301244146,
          0.20716481394625794,
          -0.5318471990187423,
          0.1905060425236613,
          0.33116265806516637,
          -0.20501117215077244,
          -0.13440599237475553,
          1.3694492195462487,
          0.12091625643835999,
          0.25879190464332064,
          2.1810934957315435,
          -0.8879443807209912,
          -0.10370330117363438,
          1.172528207746524,
          -0.7504584806919168,
          -1.3481550776944762,
          -0.3961405026321928,
          -0.5999811877451495,
          -0.20504473373920704,
          -0.21748858862191447,
          3.7711129137159305,
          1.2972268923024826,
          1.3275408771993824,
          1.95760339268544,
          0.5264064674229573,
          -0.34976669900318985,
          0.8883004010504278,
          -1.9693253772292125,
          -0.7893855424963484,
          -0.943500652185212,
          -0.9272532594633244,
          0.31683412564341046,
          -1.7173765182063023,
          -0.9556446260766284,
          1.3879797679477532,
          1.388906776125478,
          -1.420945170989908,
          -1.2135311911828452,
          -0.038105740051507325,
          -0.6840302763696385,
          -0.21411043178080405,
          -1.7717125392677908,
          0.3551843961210306,
          -0.18233526845925668,
          0.0018104373033404708,
          -1.746680394865062,
          -1.4466500104106845,
          0.2546409286259897,
          -0.9201116861442346,
          0.03541568708138817,
          0.7880116269458712,
          0.010526015638076014,
          -1.2808253690232152,
          -0.43045698828732787,
          0.1970487702396815,
          1.540825646555996,
          -0.6756201736428282,
          -0.5194461460437366,
          -0.9511847167654712,
          0.9183457485866829,
          0.647385429594174,
          0.9178442142583454,
          0.6336945961461663,
          -0.3235544554780584,
          -0.44720725073444695,
          0.15843502509823545,
          1.2594456193699413,
          0.39248124451512556,
          -0.8898170383869574,
          -1.1275896315623108,
          -0.11851924403056344
         ],
         "xaxis": "x10",
         "y": [
          -0.07432342968579692,
          0.8777393170757319,
          -0.268685472600146,
          2.2755479995390724,
          -0.37728094900430725,
          0.1184472486791024,
          -0.29017894624360546,
          1.1158427295735731,
          -0.7758434989150765,
          -0.4790779231648547,
          -2.3250729856442938,
          -1.5534520814003805,
          0.07010582217536217,
          -0.2927700554009269,
          -0.2811455338833278,
          -0.8750958025697672,
          -1.2038965914051378,
          -0.6434231131292169,
          -0.6933378384744655,
          -0.7577773232183364,
          0.5154751557422648,
          -0.5641891223990193,
          -1.2678242521522025,
          0.7580626055782035,
          -1.6437958322617576,
          0.1407262845677634,
          0.734618915207698,
          -2.1253459717396757,
          -0.05320894119059313,
          0.5020172279450783,
          -0.6007903967332062,
          0.4684013807286517,
          -1.247870978194363,
          -0.38664553706485005,
          0.03776818892294396,
          -1.1267882230181745,
          0.9733591024478954,
          0.2930903308635077,
          -0.9356332519517122,
          -0.6153650657932038,
          -2.005219721405772,
          0.4695288178331009,
          -1.073751331509847,
          1.5482237236119312,
          0.6198457881908529,
          -0.642975934936527,
          -0.2386603838651042,
          0.5457898899845418,
          0.008883115991847122,
          0.23611209976553363,
          -1.0661063877070136,
          1.1667594602651707,
          -1.4575667775877763,
          -0.3847504559382402,
          0.09733002200553688,
          0.4310870134831516,
          -0.4525022409739558,
          0.37553198768314006,
          -0.08003213716421696,
          -1.358415695089806,
          -0.45033699452019677,
          -0.3472681257446617,
          -0.06396174660646238,
          0.2953685116668367,
          -0.5716331949998891,
          0.620180982707281,
          0.6178404926900865,
          0.4727830204525924,
          0.0707867733215683,
          0.7700111763387979,
          0.7016979988897313,
          0.9891376074936984,
          0.8455810848569197,
          1.2976137757949149,
          0.18066361919708504,
          -0.14591865517098768,
          -0.38216986888205057,
          1.4135921837446803,
          -0.6035065781423513,
          -0.5376334455997732,
          0.16614548239085303,
          -1.3663504605981143,
          0.8304002429780812,
          0.012290164098070978,
          0.07764199785601283,
          -1.638318478838887,
          0.44109578829677776,
          1.441371191636775,
          0.18436976846990072,
          1.3310878377634119,
          -0.151549605806431,
          0.911745823951154,
          -0.14309957623134648,
          -1.4817145138189582,
          0.4039496314825262,
          0.3603561154744288,
          -0.7410868344261943,
          -0.16394398100005667,
          0.5859320151542924,
          0.6849286686588602
         ],
         "yaxis": "y10"
        },
        {
         "histfunc": "count",
         "histnorm": "",
         "marker": {
          "color": "rgba(50, 171, 96, 1.0)",
          "line": {
           "color": "#4D5663",
           "width": 1.3
          }
         },
         "name": "C",
         "nbinsx": 10,
         "opacity": 0.8,
         "orientation": "v",
         "type": "histogram",
         "x": [
          -0.07432342968579692,
          0.8777393170757319,
          -0.268685472600146,
          2.2755479995390724,
          -0.37728094900430725,
          0.1184472486791024,
          -0.29017894624360546,
          1.1158427295735731,
          -0.7758434989150765,
          -0.4790779231648547,
          -2.3250729856442938,
          -1.5534520814003805,
          0.07010582217536217,
          -0.2927700554009269,
          -0.2811455338833278,
          -0.8750958025697672,
          -1.2038965914051378,
          -0.6434231131292169,
          -0.6933378384744655,
          -0.7577773232183364,
          0.5154751557422648,
          -0.5641891223990193,
          -1.2678242521522025,
          0.7580626055782035,
          -1.6437958322617576,
          0.1407262845677634,
          0.734618915207698,
          -2.1253459717396757,
          -0.05320894119059313,
          0.5020172279450783,
          -0.6007903967332062,
          0.4684013807286517,
          -1.247870978194363,
          -0.38664553706485005,
          0.03776818892294396,
          -1.1267882230181745,
          0.9733591024478954,
          0.2930903308635077,
          -0.9356332519517122,
          -0.6153650657932038,
          -2.005219721405772,
          0.4695288178331009,
          -1.073751331509847,
          1.5482237236119312,
          0.6198457881908529,
          -0.642975934936527,
          -0.2386603838651042,
          0.5457898899845418,
          0.008883115991847122,
          0.23611209976553363,
          -1.0661063877070136,
          1.1667594602651707,
          -1.4575667775877763,
          -0.3847504559382402,
          0.09733002200553688,
          0.4310870134831516,
          -0.4525022409739558,
          0.37553198768314006,
          -0.08003213716421696,
          -1.358415695089806,
          -0.45033699452019677,
          -0.3472681257446617,
          -0.06396174660646238,
          0.2953685116668367,
          -0.5716331949998891,
          0.620180982707281,
          0.6178404926900865,
          0.4727830204525924,
          0.0707867733215683,
          0.7700111763387979,
          0.7016979988897313,
          0.9891376074936984,
          0.8455810848569197,
          1.2976137757949149,
          0.18066361919708504,
          -0.14591865517098768,
          -0.38216986888205057,
          1.4135921837446803,
          -0.6035065781423513,
          -0.5376334455997732,
          0.16614548239085303,
          -1.3663504605981143,
          0.8304002429780812,
          0.012290164098070978,
          0.07764199785601283,
          -1.638318478838887,
          0.44109578829677776,
          1.441371191636775,
          0.18436976846990072,
          1.3310878377634119,
          -0.151549605806431,
          0.911745823951154,
          -0.14309957623134648,
          -1.4817145138189582,
          0.4039496314825262,
          0.3603561154744288,
          -0.7410868344261943,
          -0.16394398100005667,
          0.5859320151542924,
          0.6849286686588602
         ],
         "xaxis": "x11",
         "yaxis": "y11"
        },
        {
         "line": {
          "color": "rgba(128, 128, 128, 1.0)",
          "dash": "solid",
          "shape": "linear",
          "width": 1.3
         },
         "marker": {
          "size": 2,
          "symbol": "circle"
         },
         "mode": "markers",
         "name": "C",
         "text": "",
         "type": "scatter",
         "x": [
          -0.8863454276883004,
          -0.1645708355236205,
          -0.7673022871715959,
          0.5502003178107542,
          0.5782332646332343,
          -0.2883640033885405,
          -2.4590500778578295,
          0.3814999589068852,
          -0.7848758141315808,
          -0.5886942499702799,
          -1.1801811153934427,
          3.9370432901687895,
          1.1957947402804088,
          0.26039386578231316,
          -0.3865384592129036,
          1.1426080070390392,
          0.15853703541445704,
          1.9434894736718002,
          0.5634047708216215,
          0.4845198129148697,
          1.4778971369029104,
          -0.23522299796185353,
          1.2652058584995227,
          0.39965351876924093,
          1.1342011861190648,
          1.4876317325502424,
          -0.7315044957257623,
          1.2721255156223625,
          -0.5150307609409148,
          0.9191075654871602,
          0.3494876538837761,
          0.7618773037155189,
          -0.2169210404456462,
          -0.3721130554270073,
          -1.0647043052330407,
          -1.798502529073453,
          0.3630921321787982,
          -0.7034208280439024,
          0.41967401887464095,
          1.2408493405964054,
          -0.8649778879766941,
          0.5370630893827874,
          -0.0022656007835508037,
          0.5528593758405621,
          0.6514452462779097,
          -0.7193390468692294,
          0.41363849852505,
          -1.1550876929393719,
          -0.3333227893871169,
          1.1670374072457335,
          -0.193170443946,
          0.9858918067424841,
          0.5352465267173225,
          -0.4214400221911786,
          -0.6058297062984426,
          0.8355805060377944,
          -0.21831842091956985,
          -1.2206737775347731,
          1.0618805543186036,
          0.8256202093395615,
          1.0480969337977304,
          -1.1767596205270556,
          0.22660341445141913,
          -0.02043141145474128,
          -0.3970225663722118,
          -0.06510176853847016,
          2.283918922208758,
          0.36218304941214347,
          -0.43750547101447995,
          0.9572622278046339,
          1.0897298993794287,
          -1.8881741854698473,
          0.24837316037209245,
          0.1576255939153728,
          0.6985460371861626,
          0.577325167618128,
          0.04288007554373437,
          0.0798381463361213,
          0.47021391855991557,
          -1.322498435518512,
          0.807740653757711,
          1.044837675048127,
          0.6683976697470645,
          1.0806151850609549,
          -0.8964360100020632,
          1.4486966483639385,
          -0.7620826886466616,
          -1.1840753631011112,
          0.5826196587773148,
          1.2446553971162422,
          -0.2497319817787376,
          1.000513118384911,
          0.23676817902069075,
          1.1611010130583208,
          0.31636924126830085,
          -0.8080503861933555,
          -0.14720794930826459,
          1.5075623463079884,
          0.28587340189621624,
          -0.34528881368554365
         ],
         "xaxis": "x12",
         "y": [
          -0.07432342968579692,
          0.8777393170757319,
          -0.268685472600146,
          2.2755479995390724,
          -0.37728094900430725,
          0.1184472486791024,
          -0.29017894624360546,
          1.1158427295735731,
          -0.7758434989150765,
          -0.4790779231648547,
          -2.3250729856442938,
          -1.5534520814003805,
          0.07010582217536217,
          -0.2927700554009269,
          -0.2811455338833278,
          -0.8750958025697672,
          -1.2038965914051378,
          -0.6434231131292169,
          -0.6933378384744655,
          -0.7577773232183364,
          0.5154751557422648,
          -0.5641891223990193,
          -1.2678242521522025,
          0.7580626055782035,
          -1.6437958322617576,
          0.1407262845677634,
          0.734618915207698,
          -2.1253459717396757,
          -0.05320894119059313,
          0.5020172279450783,
          -0.6007903967332062,
          0.4684013807286517,
          -1.247870978194363,
          -0.38664553706485005,
          0.03776818892294396,
          -1.1267882230181745,
          0.9733591024478954,
          0.2930903308635077,
          -0.9356332519517122,
          -0.6153650657932038,
          -2.005219721405772,
          0.4695288178331009,
          -1.073751331509847,
          1.5482237236119312,
          0.6198457881908529,
          -0.642975934936527,
          -0.2386603838651042,
          0.5457898899845418,
          0.008883115991847122,
          0.23611209976553363,
          -1.0661063877070136,
          1.1667594602651707,
          -1.4575667775877763,
          -0.3847504559382402,
          0.09733002200553688,
          0.4310870134831516,
          -0.4525022409739558,
          0.37553198768314006,
          -0.08003213716421696,
          -1.358415695089806,
          -0.45033699452019677,
          -0.3472681257446617,
          -0.06396174660646238,
          0.2953685116668367,
          -0.5716331949998891,
          0.620180982707281,
          0.6178404926900865,
          0.4727830204525924,
          0.0707867733215683,
          0.7700111763387979,
          0.7016979988897313,
          0.9891376074936984,
          0.8455810848569197,
          1.2976137757949149,
          0.18066361919708504,
          -0.14591865517098768,
          -0.38216986888205057,
          1.4135921837446803,
          -0.6035065781423513,
          -0.5376334455997732,
          0.16614548239085303,
          -1.3663504605981143,
          0.8304002429780812,
          0.012290164098070978,
          0.07764199785601283,
          -1.638318478838887,
          0.44109578829677776,
          1.441371191636775,
          0.18436976846990072,
          1.3310878377634119,
          -0.151549605806431,
          0.911745823951154,
          -0.14309957623134648,
          -1.4817145138189582,
          0.4039496314825262,
          0.3603561154744288,
          -0.7410868344261943,
          -0.16394398100005667,
          0.5859320151542924,
          0.6849286686588602
         ],
         "yaxis": "y12"
        },
        {
         "line": {
          "color": "rgba(128, 128, 128, 1.0)",
          "dash": "solid",
          "shape": "linear",
          "width": 1.3
         },
         "marker": {
          "size": 2,
          "symbol": "circle"
         },
         "mode": "markers",
         "name": "D",
         "text": "",
         "type": "scatter",
         "x": [
          -1.2647427478653352,
          1.1438411630417042,
          -1.05938509827262,
          1.8504871379847871,
          1.546377535727985,
          0.33451611794517383,
          -0.20870116298576785,
          -1.085679823482335,
          -1.8827930712316268,
          0.22569589428736125,
          -0.14870073272283485,
          1.8097238490035186,
          1.0846129586722046,
          -0.4585050680912217,
          0.6124031613321901,
          0.37538238094067367,
          0.913002050425729,
          1.447532474939569,
          0.37930096970612054,
          0.025491861586942416,
          -0.15303803382175143,
          2.243550303352481,
          -0.9229629605917236,
          0.49440602178430515,
          0.32626850787772976,
          0.43958972584123573,
          0.6294553731378257,
          -0.7267701219717834,
          -2.138340463946718,
          -1.079017623382896,
          1.4986614544652554,
          -0.27121288174569463,
          0.10138278146479278,
          -1.7605830124243214,
          1.4615654271971597,
          1.3732321332042572,
          -0.28009958692970527,
          0.27184356721053654,
          0.014974755371081123,
          -0.044085016801009055,
          -0.46899889415285745,
          1.1953347937424306,
          -1.2073043812004678,
          1.6594422835590357,
          0.2848202010542789,
          -2.0911424322013095,
          1.6745282025401613,
          0.4378371851153993,
          -1.5566653128924857,
          0.21922867812626284,
          -0.9895599822871955,
          0.4074603834542788,
          -0.11399811827797118,
          -0.4189233977822209,
          0.02238550870270797,
          -0.19216353794605404,
          -0.9170130286940688,
          -0.046978406156488545,
          -0.6700104088456724,
          -0.6660851578679424,
          -0.7556852339933507,
          1.2649343600796048,
          1.2777903189647906,
          -0.9126194253381009,
          -0.2632680461538293,
          -1.8546321915498691,
          -0.7390643109977857,
          -0.38372051200700763,
          2.373219972374884,
          0.15575329596422724,
          0.27443916807887914,
          1.5379394148316894,
          1.0156948488155468,
          2.166093192750811,
          -1.0885500209397434,
          0.23426839259810678,
          1.0855996519748596,
          -0.11987274678594355,
          0.44089320789934516,
          -0.4109301897292856,
          0.2707175129727391,
          0.9588832487102428,
          1.0789411110517297,
          0.567636859797784,
          0.27125757376181386,
          2.3036423634178256,
          -1.6393208075066952,
          -1.0635721442192485,
          -1.11636408945502,
          -0.6034849340046708,
          -0.38968839640407177,
          -0.6161479359295967,
          -1.2335152643562908,
          -0.31229004474165456,
          0.7538272605696364,
          -0.004508090178002124,
          -0.819361298514153,
          0.8156450489617879,
          -2.5000383877630896,
          -0.6474385769236347
         ],
         "xaxis": "x13",
         "y": [
          -0.8863454276883004,
          -0.1645708355236205,
          -0.7673022871715959,
          0.5502003178107542,
          0.5782332646332343,
          -0.2883640033885405,
          -2.4590500778578295,
          0.3814999589068852,
          -0.7848758141315808,
          -0.5886942499702799,
          -1.1801811153934427,
          3.9370432901687895,
          1.1957947402804088,
          0.26039386578231316,
          -0.3865384592129036,
          1.1426080070390392,
          0.15853703541445704,
          1.9434894736718002,
          0.5634047708216215,
          0.4845198129148697,
          1.4778971369029104,
          -0.23522299796185353,
          1.2652058584995227,
          0.39965351876924093,
          1.1342011861190648,
          1.4876317325502424,
          -0.7315044957257623,
          1.2721255156223625,
          -0.5150307609409148,
          0.9191075654871602,
          0.3494876538837761,
          0.7618773037155189,
          -0.2169210404456462,
          -0.3721130554270073,
          -1.0647043052330407,
          -1.798502529073453,
          0.3630921321787982,
          -0.7034208280439024,
          0.41967401887464095,
          1.2408493405964054,
          -0.8649778879766941,
          0.5370630893827874,
          -0.0022656007835508037,
          0.5528593758405621,
          0.6514452462779097,
          -0.7193390468692294,
          0.41363849852505,
          -1.1550876929393719,
          -0.3333227893871169,
          1.1670374072457335,
          -0.193170443946,
          0.9858918067424841,
          0.5352465267173225,
          -0.4214400221911786,
          -0.6058297062984426,
          0.8355805060377944,
          -0.21831842091956985,
          -1.2206737775347731,
          1.0618805543186036,
          0.8256202093395615,
          1.0480969337977304,
          -1.1767596205270556,
          0.22660341445141913,
          -0.02043141145474128,
          -0.3970225663722118,
          -0.06510176853847016,
          2.283918922208758,
          0.36218304941214347,
          -0.43750547101447995,
          0.9572622278046339,
          1.0897298993794287,
          -1.8881741854698473,
          0.24837316037209245,
          0.1576255939153728,
          0.6985460371861626,
          0.577325167618128,
          0.04288007554373437,
          0.0798381463361213,
          0.47021391855991557,
          -1.322498435518512,
          0.807740653757711,
          1.044837675048127,
          0.6683976697470645,
          1.0806151850609549,
          -0.8964360100020632,
          1.4486966483639385,
          -0.7620826886466616,
          -1.1840753631011112,
          0.5826196587773148,
          1.2446553971162422,
          -0.2497319817787376,
          1.000513118384911,
          0.23676817902069075,
          1.1611010130583208,
          0.31636924126830085,
          -0.8080503861933555,
          -0.14720794930826459,
          1.5075623463079884,
          0.28587340189621624,
          -0.34528881368554365
         ],
         "yaxis": "y13"
        },
        {
         "line": {
          "color": "rgba(128, 128, 128, 1.0)",
          "dash": "solid",
          "shape": "linear",
          "width": 1.3
         },
         "marker": {
          "size": 2,
          "symbol": "circle"
         },
         "mode": "markers",
         "name": "D",
         "text": "",
         "type": "scatter",
         "x": [
          -0.1301153686144075,
          -1.6689431191330846,
          -0.20285842315621072,
          0.6785541362910886,
          1.0673918447214745,
          -0.7802583792353444,
          0.30655867142304316,
          -1.2224647788795076,
          1.1866673649667518,
          0.46219911312653267,
          1.4359201163455364,
          -0.7620857646479738,
          0.14999770489209946,
          1.3510418038024503,
          -0.3476238768658763,
          0.3770700580304464,
          -0.08724172549181444,
          0.2895924442947607,
          0.9263808590552806,
          0.6797844247887547,
          -1.4012028849109173,
          0.4826166320718709,
          -0.3922986215993963,
          0.1959231778807618,
          -1.535535001735862,
          -1.81030871675917,
          0.3202113451900208,
          -1.0894993574122724,
          1.2611748564873886,
          0.22952844301244146,
          0.20716481394625794,
          -0.5318471990187423,
          0.1905060425236613,
          0.33116265806516637,
          -0.20501117215077244,
          -0.13440599237475553,
          1.3694492195462487,
          0.12091625643835999,
          0.25879190464332064,
          2.1810934957315435,
          -0.8879443807209912,
          -0.10370330117363438,
          1.172528207746524,
          -0.7504584806919168,
          -1.3481550776944762,
          -0.3961405026321928,
          -0.5999811877451495,
          -0.20504473373920704,
          -0.21748858862191447,
          3.7711129137159305,
          1.2972268923024826,
          1.3275408771993824,
          1.95760339268544,
          0.5264064674229573,
          -0.34976669900318985,
          0.8883004010504278,
          -1.9693253772292125,
          -0.7893855424963484,
          -0.943500652185212,
          -0.9272532594633244,
          0.31683412564341046,
          -1.7173765182063023,
          -0.9556446260766284,
          1.3879797679477532,
          1.388906776125478,
          -1.420945170989908,
          -1.2135311911828452,
          -0.038105740051507325,
          -0.6840302763696385,
          -0.21411043178080405,
          -1.7717125392677908,
          0.3551843961210306,
          -0.18233526845925668,
          0.0018104373033404708,
          -1.746680394865062,
          -1.4466500104106845,
          0.2546409286259897,
          -0.9201116861442346,
          0.03541568708138817,
          0.7880116269458712,
          0.010526015638076014,
          -1.2808253690232152,
          -0.43045698828732787,
          0.1970487702396815,
          1.540825646555996,
          -0.6756201736428282,
          -0.5194461460437366,
          -0.9511847167654712,
          0.9183457485866829,
          0.647385429594174,
          0.9178442142583454,
          0.6336945961461663,
          -0.3235544554780584,
          -0.44720725073444695,
          0.15843502509823545,
          1.2594456193699413,
          0.39248124451512556,
          -0.8898170383869574,
          -1.1275896315623108,
          -0.11851924403056344
         ],
         "xaxis": "x14",
         "y": [
          -0.8863454276883004,
          -0.1645708355236205,
          -0.7673022871715959,
          0.5502003178107542,
          0.5782332646332343,
          -0.2883640033885405,
          -2.4590500778578295,
          0.3814999589068852,
          -0.7848758141315808,
          -0.5886942499702799,
          -1.1801811153934427,
          3.9370432901687895,
          1.1957947402804088,
          0.26039386578231316,
          -0.3865384592129036,
          1.1426080070390392,
          0.15853703541445704,
          1.9434894736718002,
          0.5634047708216215,
          0.4845198129148697,
          1.4778971369029104,
          -0.23522299796185353,
          1.2652058584995227,
          0.39965351876924093,
          1.1342011861190648,
          1.4876317325502424,
          -0.7315044957257623,
          1.2721255156223625,
          -0.5150307609409148,
          0.9191075654871602,
          0.3494876538837761,
          0.7618773037155189,
          -0.2169210404456462,
          -0.3721130554270073,
          -1.0647043052330407,
          -1.798502529073453,
          0.3630921321787982,
          -0.7034208280439024,
          0.41967401887464095,
          1.2408493405964054,
          -0.8649778879766941,
          0.5370630893827874,
          -0.0022656007835508037,
          0.5528593758405621,
          0.6514452462779097,
          -0.7193390468692294,
          0.41363849852505,
          -1.1550876929393719,
          -0.3333227893871169,
          1.1670374072457335,
          -0.193170443946,
          0.9858918067424841,
          0.5352465267173225,
          -0.4214400221911786,
          -0.6058297062984426,
          0.8355805060377944,
          -0.21831842091956985,
          -1.2206737775347731,
          1.0618805543186036,
          0.8256202093395615,
          1.0480969337977304,
          -1.1767596205270556,
          0.22660341445141913,
          -0.02043141145474128,
          -0.3970225663722118,
          -0.06510176853847016,
          2.283918922208758,
          0.36218304941214347,
          -0.43750547101447995,
          0.9572622278046339,
          1.0897298993794287,
          -1.8881741854698473,
          0.24837316037209245,
          0.1576255939153728,
          0.6985460371861626,
          0.577325167618128,
          0.04288007554373437,
          0.0798381463361213,
          0.47021391855991557,
          -1.322498435518512,
          0.807740653757711,
          1.044837675048127,
          0.6683976697470645,
          1.0806151850609549,
          -0.8964360100020632,
          1.4486966483639385,
          -0.7620826886466616,
          -1.1840753631011112,
          0.5826196587773148,
          1.2446553971162422,
          -0.2497319817787376,
          1.000513118384911,
          0.23676817902069075,
          1.1611010130583208,
          0.31636924126830085,
          -0.8080503861933555,
          -0.14720794930826459,
          1.5075623463079884,
          0.28587340189621624,
          -0.34528881368554365
         ],
         "yaxis": "y14"
        },
        {
         "line": {
          "color": "rgba(128, 128, 128, 1.0)",
          "dash": "solid",
          "shape": "linear",
          "width": 1.3
         },
         "marker": {
          "size": 2,
          "symbol": "circle"
         },
         "mode": "markers",
         "name": "D",
         "text": "",
         "type": "scatter",
         "x": [
          -0.07432342968579692,
          0.8777393170757319,
          -0.268685472600146,
          2.2755479995390724,
          -0.37728094900430725,
          0.1184472486791024,
          -0.29017894624360546,
          1.1158427295735731,
          -0.7758434989150765,
          -0.4790779231648547,
          -2.3250729856442938,
          -1.5534520814003805,
          0.07010582217536217,
          -0.2927700554009269,
          -0.2811455338833278,
          -0.8750958025697672,
          -1.2038965914051378,
          -0.6434231131292169,
          -0.6933378384744655,
          -0.7577773232183364,
          0.5154751557422648,
          -0.5641891223990193,
          -1.2678242521522025,
          0.7580626055782035,
          -1.6437958322617576,
          0.1407262845677634,
          0.734618915207698,
          -2.1253459717396757,
          -0.05320894119059313,
          0.5020172279450783,
          -0.6007903967332062,
          0.4684013807286517,
          -1.247870978194363,
          -0.38664553706485005,
          0.03776818892294396,
          -1.1267882230181745,
          0.9733591024478954,
          0.2930903308635077,
          -0.9356332519517122,
          -0.6153650657932038,
          -2.005219721405772,
          0.4695288178331009,
          -1.073751331509847,
          1.5482237236119312,
          0.6198457881908529,
          -0.642975934936527,
          -0.2386603838651042,
          0.5457898899845418,
          0.008883115991847122,
          0.23611209976553363,
          -1.0661063877070136,
          1.1667594602651707,
          -1.4575667775877763,
          -0.3847504559382402,
          0.09733002200553688,
          0.4310870134831516,
          -0.4525022409739558,
          0.37553198768314006,
          -0.08003213716421696,
          -1.358415695089806,
          -0.45033699452019677,
          -0.3472681257446617,
          -0.06396174660646238,
          0.2953685116668367,
          -0.5716331949998891,
          0.620180982707281,
          0.6178404926900865,
          0.4727830204525924,
          0.0707867733215683,
          0.7700111763387979,
          0.7016979988897313,
          0.9891376074936984,
          0.8455810848569197,
          1.2976137757949149,
          0.18066361919708504,
          -0.14591865517098768,
          -0.38216986888205057,
          1.4135921837446803,
          -0.6035065781423513,
          -0.5376334455997732,
          0.16614548239085303,
          -1.3663504605981143,
          0.8304002429780812,
          0.012290164098070978,
          0.07764199785601283,
          -1.638318478838887,
          0.44109578829677776,
          1.441371191636775,
          0.18436976846990072,
          1.3310878377634119,
          -0.151549605806431,
          0.911745823951154,
          -0.14309957623134648,
          -1.4817145138189582,
          0.4039496314825262,
          0.3603561154744288,
          -0.7410868344261943,
          -0.16394398100005667,
          0.5859320151542924,
          0.6849286686588602
         ],
         "xaxis": "x15",
         "y": [
          -0.8863454276883004,
          -0.1645708355236205,
          -0.7673022871715959,
          0.5502003178107542,
          0.5782332646332343,
          -0.2883640033885405,
          -2.4590500778578295,
          0.3814999589068852,
          -0.7848758141315808,
          -0.5886942499702799,
          -1.1801811153934427,
          3.9370432901687895,
          1.1957947402804088,
          0.26039386578231316,
          -0.3865384592129036,
          1.1426080070390392,
          0.15853703541445704,
          1.9434894736718002,
          0.5634047708216215,
          0.4845198129148697,
          1.4778971369029104,
          -0.23522299796185353,
          1.2652058584995227,
          0.39965351876924093,
          1.1342011861190648,
          1.4876317325502424,
          -0.7315044957257623,
          1.2721255156223625,
          -0.5150307609409148,
          0.9191075654871602,
          0.3494876538837761,
          0.7618773037155189,
          -0.2169210404456462,
          -0.3721130554270073,
          -1.0647043052330407,
          -1.798502529073453,
          0.3630921321787982,
          -0.7034208280439024,
          0.41967401887464095,
          1.2408493405964054,
          -0.8649778879766941,
          0.5370630893827874,
          -0.0022656007835508037,
          0.5528593758405621,
          0.6514452462779097,
          -0.7193390468692294,
          0.41363849852505,
          -1.1550876929393719,
          -0.3333227893871169,
          1.1670374072457335,
          -0.193170443946,
          0.9858918067424841,
          0.5352465267173225,
          -0.4214400221911786,
          -0.6058297062984426,
          0.8355805060377944,
          -0.21831842091956985,
          -1.2206737775347731,
          1.0618805543186036,
          0.8256202093395615,
          1.0480969337977304,
          -1.1767596205270556,
          0.22660341445141913,
          -0.02043141145474128,
          -0.3970225663722118,
          -0.06510176853847016,
          2.283918922208758,
          0.36218304941214347,
          -0.43750547101447995,
          0.9572622278046339,
          1.0897298993794287,
          -1.8881741854698473,
          0.24837316037209245,
          0.1576255939153728,
          0.6985460371861626,
          0.577325167618128,
          0.04288007554373437,
          0.0798381463361213,
          0.47021391855991557,
          -1.322498435518512,
          0.807740653757711,
          1.044837675048127,
          0.6683976697470645,
          1.0806151850609549,
          -0.8964360100020632,
          1.4486966483639385,
          -0.7620826886466616,
          -1.1840753631011112,
          0.5826196587773148,
          1.2446553971162422,
          -0.2497319817787376,
          1.000513118384911,
          0.23676817902069075,
          1.1611010130583208,
          0.31636924126830085,
          -0.8080503861933555,
          -0.14720794930826459,
          1.5075623463079884,
          0.28587340189621624,
          -0.34528881368554365
         ],
         "yaxis": "y15"
        },
        {
         "histfunc": "count",
         "histnorm": "",
         "marker": {
          "color": "rgba(128, 0, 128, 1.0)",
          "line": {
           "color": "#4D5663",
           "width": 1.3
          }
         },
         "name": "D",
         "nbinsx": 10,
         "opacity": 0.8,
         "orientation": "v",
         "type": "histogram",
         "x": [
          -0.8863454276883004,
          -0.1645708355236205,
          -0.7673022871715959,
          0.5502003178107542,
          0.5782332646332343,
          -0.2883640033885405,
          -2.4590500778578295,
          0.3814999589068852,
          -0.7848758141315808,
          -0.5886942499702799,
          -1.1801811153934427,
          3.9370432901687895,
          1.1957947402804088,
          0.26039386578231316,
          -0.3865384592129036,
          1.1426080070390392,
          0.15853703541445704,
          1.9434894736718002,
          0.5634047708216215,
          0.4845198129148697,
          1.4778971369029104,
          -0.23522299796185353,
          1.2652058584995227,
          0.39965351876924093,
          1.1342011861190648,
          1.4876317325502424,
          -0.7315044957257623,
          1.2721255156223625,
          -0.5150307609409148,
          0.9191075654871602,
          0.3494876538837761,
          0.7618773037155189,
          -0.2169210404456462,
          -0.3721130554270073,
          -1.0647043052330407,
          -1.798502529073453,
          0.3630921321787982,
          -0.7034208280439024,
          0.41967401887464095,
          1.2408493405964054,
          -0.8649778879766941,
          0.5370630893827874,
          -0.0022656007835508037,
          0.5528593758405621,
          0.6514452462779097,
          -0.7193390468692294,
          0.41363849852505,
          -1.1550876929393719,
          -0.3333227893871169,
          1.1670374072457335,
          -0.193170443946,
          0.9858918067424841,
          0.5352465267173225,
          -0.4214400221911786,
          -0.6058297062984426,
          0.8355805060377944,
          -0.21831842091956985,
          -1.2206737775347731,
          1.0618805543186036,
          0.8256202093395615,
          1.0480969337977304,
          -1.1767596205270556,
          0.22660341445141913,
          -0.02043141145474128,
          -0.3970225663722118,
          -0.06510176853847016,
          2.283918922208758,
          0.36218304941214347,
          -0.43750547101447995,
          0.9572622278046339,
          1.0897298993794287,
          -1.8881741854698473,
          0.24837316037209245,
          0.1576255939153728,
          0.6985460371861626,
          0.577325167618128,
          0.04288007554373437,
          0.0798381463361213,
          0.47021391855991557,
          -1.322498435518512,
          0.807740653757711,
          1.044837675048127,
          0.6683976697470645,
          1.0806151850609549,
          -0.8964360100020632,
          1.4486966483639385,
          -0.7620826886466616,
          -1.1840753631011112,
          0.5826196587773148,
          1.2446553971162422,
          -0.2497319817787376,
          1.000513118384911,
          0.23676817902069075,
          1.1611010130583208,
          0.31636924126830085,
          -0.8080503861933555,
          -0.14720794930826459,
          1.5075623463079884,
          0.28587340189621624,
          -0.34528881368554365
         ],
         "xaxis": "x16",
         "yaxis": "y16"
        }
       ],
       "layout": {
        "bargap": 0.02,
        "legend": {
         "bgcolor": "#F5F6F9",
         "font": {
          "color": "#4D5663"
         }
        },
        "paper_bgcolor": "#F5F6F9",
        "plot_bgcolor": "#F5F6F9",
        "showlegend": false,
        "template": {
         "data": {
          "bar": [
           {
            "error_x": {
             "color": "#2a3f5f"
            },
            "error_y": {
             "color": "#2a3f5f"
            },
            "marker": {
             "line": {
              "color": "#E5ECF6",
              "width": 0.5
             },
             "pattern": {
              "fillmode": "overlay",
              "size": 10,
              "solidity": 0.2
             }
            },
            "type": "bar"
           }
          ],
          "barpolar": [
           {
            "marker": {
             "line": {
              "color": "#E5ECF6",
              "width": 0.5
             },
             "pattern": {
              "fillmode": "overlay",
              "size": 10,
              "solidity": 0.2
             }
            },
            "type": "barpolar"
           }
          ],
          "carpet": [
           {
            "aaxis": {
             "endlinecolor": "#2a3f5f",
             "gridcolor": "white",
             "linecolor": "white",
             "minorgridcolor": "white",
             "startlinecolor": "#2a3f5f"
            },
            "baxis": {
             "endlinecolor": "#2a3f5f",
             "gridcolor": "white",
             "linecolor": "white",
             "minorgridcolor": "white",
             "startlinecolor": "#2a3f5f"
            },
            "type": "carpet"
           }
          ],
          "choropleth": [
           {
            "colorbar": {
             "outlinewidth": 0,
             "ticks": ""
            },
            "type": "choropleth"
           }
          ],
          "contour": [
           {
            "colorbar": {
             "outlinewidth": 0,
             "ticks": ""
            },
            "colorscale": [
             [
              0,
              "#0d0887"
             ],
             [
              0.1111111111111111,
              "#46039f"
             ],
             [
              0.2222222222222222,
              "#7201a8"
             ],
             [
              0.3333333333333333,
              "#9c179e"
             ],
             [
              0.4444444444444444,
              "#bd3786"
             ],
             [
              0.5555555555555556,
              "#d8576b"
             ],
             [
              0.6666666666666666,
              "#ed7953"
             ],
             [
              0.7777777777777778,
              "#fb9f3a"
             ],
             [
              0.8888888888888888,
              "#fdca26"
             ],
             [
              1,
              "#f0f921"
             ]
            ],
            "type": "contour"
           }
          ],
          "contourcarpet": [
           {
            "colorbar": {
             "outlinewidth": 0,
             "ticks": ""
            },
            "type": "contourcarpet"
           }
          ],
          "heatmap": [
           {
            "colorbar": {
             "outlinewidth": 0,
             "ticks": ""
            },
            "colorscale": [
             [
              0,
              "#0d0887"
             ],
             [
              0.1111111111111111,
              "#46039f"
             ],
             [
              0.2222222222222222,
              "#7201a8"
             ],
             [
              0.3333333333333333,
              "#9c179e"
             ],
             [
              0.4444444444444444,
              "#bd3786"
             ],
             [
              0.5555555555555556,
              "#d8576b"
             ],
             [
              0.6666666666666666,
              "#ed7953"
             ],
             [
              0.7777777777777778,
              "#fb9f3a"
             ],
             [
              0.8888888888888888,
              "#fdca26"
             ],
             [
              1,
              "#f0f921"
             ]
            ],
            "type": "heatmap"
           }
          ],
          "heatmapgl": [
           {
            "colorbar": {
             "outlinewidth": 0,
             "ticks": ""
            },
            "colorscale": [
             [
              0,
              "#0d0887"
             ],
             [
              0.1111111111111111,
              "#46039f"
             ],
             [
              0.2222222222222222,
              "#7201a8"
             ],
             [
              0.3333333333333333,
              "#9c179e"
             ],
             [
              0.4444444444444444,
              "#bd3786"
             ],
             [
              0.5555555555555556,
              "#d8576b"
             ],
             [
              0.6666666666666666,
              "#ed7953"
             ],
             [
              0.7777777777777778,
              "#fb9f3a"
             ],
             [
              0.8888888888888888,
              "#fdca26"
             ],
             [
              1,
              "#f0f921"
             ]
            ],
            "type": "heatmapgl"
           }
          ],
          "histogram": [
           {
            "marker": {
             "pattern": {
              "fillmode": "overlay",
              "size": 10,
              "solidity": 0.2
             }
            },
            "type": "histogram"
           }
          ],
          "histogram2d": [
           {
            "colorbar": {
             "outlinewidth": 0,
             "ticks": ""
            },
            "colorscale": [
             [
              0,
              "#0d0887"
             ],
             [
              0.1111111111111111,
              "#46039f"
             ],
             [
              0.2222222222222222,
              "#7201a8"
             ],
             [
              0.3333333333333333,
              "#9c179e"
             ],
             [
              0.4444444444444444,
              "#bd3786"
             ],
             [
              0.5555555555555556,
              "#d8576b"
             ],
             [
              0.6666666666666666,
              "#ed7953"
             ],
             [
              0.7777777777777778,
              "#fb9f3a"
             ],
             [
              0.8888888888888888,
              "#fdca26"
             ],
             [
              1,
              "#f0f921"
             ]
            ],
            "type": "histogram2d"
           }
          ],
          "histogram2dcontour": [
           {
            "colorbar": {
             "outlinewidth": 0,
             "ticks": ""
            },
            "colorscale": [
             [
              0,
              "#0d0887"
             ],
             [
              0.1111111111111111,
              "#46039f"
             ],
             [
              0.2222222222222222,
              "#7201a8"
             ],
             [
              0.3333333333333333,
              "#9c179e"
             ],
             [
              0.4444444444444444,
              "#bd3786"
             ],
             [
              0.5555555555555556,
              "#d8576b"
             ],
             [
              0.6666666666666666,
              "#ed7953"
             ],
             [
              0.7777777777777778,
              "#fb9f3a"
             ],
             [
              0.8888888888888888,
              "#fdca26"
             ],
             [
              1,
              "#f0f921"
             ]
            ],
            "type": "histogram2dcontour"
           }
          ],
          "mesh3d": [
           {
            "colorbar": {
             "outlinewidth": 0,
             "ticks": ""
            },
            "type": "mesh3d"
           }
          ],
          "parcoords": [
           {
            "line": {
             "colorbar": {
              "outlinewidth": 0,
              "ticks": ""
             }
            },
            "type": "parcoords"
           }
          ],
          "pie": [
           {
            "automargin": true,
            "type": "pie"
           }
          ],
          "scatter": [
           {
            "marker": {
             "colorbar": {
              "outlinewidth": 0,
              "ticks": ""
             }
            },
            "type": "scatter"
           }
          ],
          "scatter3d": [
           {
            "line": {
             "colorbar": {
              "outlinewidth": 0,
              "ticks": ""
             }
            },
            "marker": {
             "colorbar": {
              "outlinewidth": 0,
              "ticks": ""
             }
            },
            "type": "scatter3d"
           }
          ],
          "scattercarpet": [
           {
            "marker": {
             "colorbar": {
              "outlinewidth": 0,
              "ticks": ""
             }
            },
            "type": "scattercarpet"
           }
          ],
          "scattergeo": [
           {
            "marker": {
             "colorbar": {
              "outlinewidth": 0,
              "ticks": ""
             }
            },
            "type": "scattergeo"
           }
          ],
          "scattergl": [
           {
            "marker": {
             "colorbar": {
              "outlinewidth": 0,
              "ticks": ""
             }
            },
            "type": "scattergl"
           }
          ],
          "scattermapbox": [
           {
            "marker": {
             "colorbar": {
              "outlinewidth": 0,
              "ticks": ""
             }
            },
            "type": "scattermapbox"
           }
          ],
          "scatterpolar": [
           {
            "marker": {
             "colorbar": {
              "outlinewidth": 0,
              "ticks": ""
             }
            },
            "type": "scatterpolar"
           }
          ],
          "scatterpolargl": [
           {
            "marker": {
             "colorbar": {
              "outlinewidth": 0,
              "ticks": ""
             }
            },
            "type": "scatterpolargl"
           }
          ],
          "scatterternary": [
           {
            "marker": {
             "colorbar": {
              "outlinewidth": 0,
              "ticks": ""
             }
            },
            "type": "scatterternary"
           }
          ],
          "surface": [
           {
            "colorbar": {
             "outlinewidth": 0,
             "ticks": ""
            },
            "colorscale": [
             [
              0,
              "#0d0887"
             ],
             [
              0.1111111111111111,
              "#46039f"
             ],
             [
              0.2222222222222222,
              "#7201a8"
             ],
             [
              0.3333333333333333,
              "#9c179e"
             ],
             [
              0.4444444444444444,
              "#bd3786"
             ],
             [
              0.5555555555555556,
              "#d8576b"
             ],
             [
              0.6666666666666666,
              "#ed7953"
             ],
             [
              0.7777777777777778,
              "#fb9f3a"
             ],
             [
              0.8888888888888888,
              "#fdca26"
             ],
             [
              1,
              "#f0f921"
             ]
            ],
            "type": "surface"
           }
          ],
          "table": [
           {
            "cells": {
             "fill": {
              "color": "#EBF0F8"
             },
             "line": {
              "color": "white"
             }
            },
            "header": {
             "fill": {
              "color": "#C8D4E3"
             },
             "line": {
              "color": "white"
             }
            },
            "type": "table"
           }
          ]
         },
         "layout": {
          "annotationdefaults": {
           "arrowcolor": "#2a3f5f",
           "arrowhead": 0,
           "arrowwidth": 1
          },
          "autotypenumbers": "strict",
          "coloraxis": {
           "colorbar": {
            "outlinewidth": 0,
            "ticks": ""
           }
          },
          "colorscale": {
           "diverging": [
            [
             0,
             "#8e0152"
            ],
            [
             0.1,
             "#c51b7d"
            ],
            [
             0.2,
             "#de77ae"
            ],
            [
             0.3,
             "#f1b6da"
            ],
            [
             0.4,
             "#fde0ef"
            ],
            [
             0.5,
             "#f7f7f7"
            ],
            [
             0.6,
             "#e6f5d0"
            ],
            [
             0.7,
             "#b8e186"
            ],
            [
             0.8,
             "#7fbc41"
            ],
            [
             0.9,
             "#4d9221"
            ],
            [
             1,
             "#276419"
            ]
           ],
           "sequential": [
            [
             0,
             "#0d0887"
            ],
            [
             0.1111111111111111,
             "#46039f"
            ],
            [
             0.2222222222222222,
             "#7201a8"
            ],
            [
             0.3333333333333333,
             "#9c179e"
            ],
            [
             0.4444444444444444,
             "#bd3786"
            ],
            [
             0.5555555555555556,
             "#d8576b"
            ],
            [
             0.6666666666666666,
             "#ed7953"
            ],
            [
             0.7777777777777778,
             "#fb9f3a"
            ],
            [
             0.8888888888888888,
             "#fdca26"
            ],
            [
             1,
             "#f0f921"
            ]
           ],
           "sequentialminus": [
            [
             0,
             "#0d0887"
            ],
            [
             0.1111111111111111,
             "#46039f"
            ],
            [
             0.2222222222222222,
             "#7201a8"
            ],
            [
             0.3333333333333333,
             "#9c179e"
            ],
            [
             0.4444444444444444,
             "#bd3786"
            ],
            [
             0.5555555555555556,
             "#d8576b"
            ],
            [
             0.6666666666666666,
             "#ed7953"
            ],
            [
             0.7777777777777778,
             "#fb9f3a"
            ],
            [
             0.8888888888888888,
             "#fdca26"
            ],
            [
             1,
             "#f0f921"
            ]
           ]
          },
          "colorway": [
           "#636efa",
           "#EF553B",
           "#00cc96",
           "#ab63fa",
           "#FFA15A",
           "#19d3f3",
           "#FF6692",
           "#B6E880",
           "#FF97FF",
           "#FECB52"
          ],
          "font": {
           "color": "#2a3f5f"
          },
          "geo": {
           "bgcolor": "white",
           "lakecolor": "white",
           "landcolor": "#E5ECF6",
           "showlakes": true,
           "showland": true,
           "subunitcolor": "white"
          },
          "hoverlabel": {
           "align": "left"
          },
          "hovermode": "closest",
          "mapbox": {
           "style": "light"
          },
          "paper_bgcolor": "white",
          "plot_bgcolor": "#E5ECF6",
          "polar": {
           "angularaxis": {
            "gridcolor": "white",
            "linecolor": "white",
            "ticks": ""
           },
           "bgcolor": "#E5ECF6",
           "radialaxis": {
            "gridcolor": "white",
            "linecolor": "white",
            "ticks": ""
           }
          },
          "scene": {
           "xaxis": {
            "backgroundcolor": "#E5ECF6",
            "gridcolor": "white",
            "gridwidth": 2,
            "linecolor": "white",
            "showbackground": true,
            "ticks": "",
            "zerolinecolor": "white"
           },
           "yaxis": {
            "backgroundcolor": "#E5ECF6",
            "gridcolor": "white",
            "gridwidth": 2,
            "linecolor": "white",
            "showbackground": true,
            "ticks": "",
            "zerolinecolor": "white"
           },
           "zaxis": {
            "backgroundcolor": "#E5ECF6",
            "gridcolor": "white",
            "gridwidth": 2,
            "linecolor": "white",
            "showbackground": true,
            "ticks": "",
            "zerolinecolor": "white"
           }
          },
          "shapedefaults": {
           "line": {
            "color": "#2a3f5f"
           }
          },
          "ternary": {
           "aaxis": {
            "gridcolor": "white",
            "linecolor": "white",
            "ticks": ""
           },
           "baxis": {
            "gridcolor": "white",
            "linecolor": "white",
            "ticks": ""
           },
           "bgcolor": "#E5ECF6",
           "caxis": {
            "gridcolor": "white",
            "linecolor": "white",
            "ticks": ""
           }
          },
          "title": {
           "x": 0.05
          },
          "xaxis": {
           "automargin": true,
           "gridcolor": "white",
           "linecolor": "white",
           "ticks": "",
           "title": {
            "standoff": 15
           },
           "zerolinecolor": "white",
           "zerolinewidth": 2
          },
          "yaxis": {
           "automargin": true,
           "gridcolor": "white",
           "linecolor": "white",
           "ticks": "",
           "title": {
            "standoff": 15
           },
           "zerolinecolor": "white",
           "zerolinewidth": 2
          }
         }
        },
        "title": {
         "font": {
          "color": "#4D5663"
         }
        },
        "xaxis": {
         "anchor": "y",
         "domain": [
          0,
          0.2125
         ],
         "gridcolor": "#E1E5ED",
         "showgrid": false,
         "tickfont": {
          "color": "#4D5663"
         },
         "title": {
          "font": {
           "color": "#4D5663"
          },
          "text": ""
         },
         "zerolinecolor": "#E1E5ED"
        },
        "xaxis10": {
         "anchor": "y10",
         "domain": [
          0.2625,
          0.475
         ],
         "gridcolor": "#E1E5ED",
         "showgrid": false,
         "tickfont": {
          "color": "#4D5663"
         },
         "title": {
          "font": {
           "color": "#4D5663"
          },
          "text": ""
         },
         "zerolinecolor": "#E1E5ED"
        },
        "xaxis11": {
         "anchor": "y11",
         "domain": [
          0.525,
          0.7375
         ],
         "gridcolor": "#E1E5ED",
         "showgrid": false,
         "tickfont": {
          "color": "#4D5663"
         },
         "title": {
          "font": {
           "color": "#4D5663"
          },
          "text": ""
         },
         "zerolinecolor": "#E1E5ED"
        },
        "xaxis12": {
         "anchor": "y12",
         "domain": [
          0.7875,
          1
         ],
         "gridcolor": "#E1E5ED",
         "showgrid": false,
         "tickfont": {
          "color": "#4D5663"
         },
         "title": {
          "font": {
           "color": "#4D5663"
          },
          "text": ""
         },
         "zerolinecolor": "#E1E5ED"
        },
        "xaxis13": {
         "anchor": "y13",
         "domain": [
          0,
          0.2125
         ],
         "gridcolor": "#E1E5ED",
         "showgrid": false,
         "tickfont": {
          "color": "#4D5663"
         },
         "title": {
          "font": {
           "color": "#4D5663"
          },
          "text": ""
         },
         "zerolinecolor": "#E1E5ED"
        },
        "xaxis14": {
         "anchor": "y14",
         "domain": [
          0.2625,
          0.475
         ],
         "gridcolor": "#E1E5ED",
         "showgrid": false,
         "tickfont": {
          "color": "#4D5663"
         },
         "title": {
          "font": {
           "color": "#4D5663"
          },
          "text": ""
         },
         "zerolinecolor": "#E1E5ED"
        },
        "xaxis15": {
         "anchor": "y15",
         "domain": [
          0.525,
          0.7375
         ],
         "gridcolor": "#E1E5ED",
         "showgrid": false,
         "tickfont": {
          "color": "#4D5663"
         },
         "title": {
          "font": {
           "color": "#4D5663"
          },
          "text": ""
         },
         "zerolinecolor": "#E1E5ED"
        },
        "xaxis16": {
         "anchor": "y16",
         "domain": [
          0.7875,
          1
         ],
         "gridcolor": "#E1E5ED",
         "showgrid": false,
         "tickfont": {
          "color": "#4D5663"
         },
         "title": {
          "font": {
           "color": "#4D5663"
          },
          "text": ""
         },
         "zerolinecolor": "#E1E5ED"
        },
        "xaxis2": {
         "anchor": "y2",
         "domain": [
          0.2625,
          0.475
         ],
         "gridcolor": "#E1E5ED",
         "showgrid": false,
         "tickfont": {
          "color": "#4D5663"
         },
         "title": {
          "font": {
           "color": "#4D5663"
          },
          "text": ""
         },
         "zerolinecolor": "#E1E5ED"
        },
        "xaxis3": {
         "anchor": "y3",
         "domain": [
          0.525,
          0.7375
         ],
         "gridcolor": "#E1E5ED",
         "showgrid": false,
         "tickfont": {
          "color": "#4D5663"
         },
         "title": {
          "font": {
           "color": "#4D5663"
          },
          "text": ""
         },
         "zerolinecolor": "#E1E5ED"
        },
        "xaxis4": {
         "anchor": "y4",
         "domain": [
          0.7875,
          1
         ],
         "gridcolor": "#E1E5ED",
         "showgrid": false,
         "tickfont": {
          "color": "#4D5663"
         },
         "title": {
          "font": {
           "color": "#4D5663"
          },
          "text": ""
         },
         "zerolinecolor": "#E1E5ED"
        },
        "xaxis5": {
         "anchor": "y5",
         "domain": [
          0,
          0.2125
         ],
         "gridcolor": "#E1E5ED",
         "showgrid": false,
         "tickfont": {
          "color": "#4D5663"
         },
         "title": {
          "font": {
           "color": "#4D5663"
          },
          "text": ""
         },
         "zerolinecolor": "#E1E5ED"
        },
        "xaxis6": {
         "anchor": "y6",
         "domain": [
          0.2625,
          0.475
         ],
         "gridcolor": "#E1E5ED",
         "showgrid": false,
         "tickfont": {
          "color": "#4D5663"
         },
         "title": {
          "font": {
           "color": "#4D5663"
          },
          "text": ""
         },
         "zerolinecolor": "#E1E5ED"
        },
        "xaxis7": {
         "anchor": "y7",
         "domain": [
          0.525,
          0.7375
         ],
         "gridcolor": "#E1E5ED",
         "showgrid": false,
         "tickfont": {
          "color": "#4D5663"
         },
         "title": {
          "font": {
           "color": "#4D5663"
          },
          "text": ""
         },
         "zerolinecolor": "#E1E5ED"
        },
        "xaxis8": {
         "anchor": "y8",
         "domain": [
          0.7875,
          1
         ],
         "gridcolor": "#E1E5ED",
         "showgrid": false,
         "tickfont": {
          "color": "#4D5663"
         },
         "title": {
          "font": {
           "color": "#4D5663"
          },
          "text": ""
         },
         "zerolinecolor": "#E1E5ED"
        },
        "xaxis9": {
         "anchor": "y9",
         "domain": [
          0,
          0.2125
         ],
         "gridcolor": "#E1E5ED",
         "showgrid": false,
         "tickfont": {
          "color": "#4D5663"
         },
         "title": {
          "font": {
           "color": "#4D5663"
          },
          "text": ""
         },
         "zerolinecolor": "#E1E5ED"
        },
        "yaxis": {
         "anchor": "x",
         "domain": [
          0.8025,
          1
         ],
         "gridcolor": "#E1E5ED",
         "showgrid": false,
         "tickfont": {
          "color": "#4D5663"
         },
         "title": {
          "font": {
           "color": "#4D5663"
          },
          "text": ""
         },
         "zerolinecolor": "#E1E5ED"
        },
        "yaxis10": {
         "anchor": "x10",
         "domain": [
          0.2675,
          0.465
         ],
         "gridcolor": "#E1E5ED",
         "showgrid": false,
         "tickfont": {
          "color": "#4D5663"
         },
         "title": {
          "font": {
           "color": "#4D5663"
          },
          "text": ""
         },
         "zerolinecolor": "#E1E5ED"
        },
        "yaxis11": {
         "anchor": "x11",
         "domain": [
          0.2675,
          0.465
         ],
         "gridcolor": "#E1E5ED",
         "showgrid": false,
         "tickfont": {
          "color": "#4D5663"
         },
         "title": {
          "font": {
           "color": "#4D5663"
          },
          "text": ""
         },
         "zerolinecolor": "#E1E5ED"
        },
        "yaxis12": {
         "anchor": "x12",
         "domain": [
          0.2675,
          0.465
         ],
         "gridcolor": "#E1E5ED",
         "showgrid": false,
         "tickfont": {
          "color": "#4D5663"
         },
         "title": {
          "font": {
           "color": "#4D5663"
          },
          "text": ""
         },
         "zerolinecolor": "#E1E5ED"
        },
        "yaxis13": {
         "anchor": "x13",
         "domain": [
          0,
          0.1975
         ],
         "gridcolor": "#E1E5ED",
         "showgrid": false,
         "tickfont": {
          "color": "#4D5663"
         },
         "title": {
          "font": {
           "color": "#4D5663"
          },
          "text": ""
         },
         "zerolinecolor": "#E1E5ED"
        },
        "yaxis14": {
         "anchor": "x14",
         "domain": [
          0,
          0.1975
         ],
         "gridcolor": "#E1E5ED",
         "showgrid": false,
         "tickfont": {
          "color": "#4D5663"
         },
         "title": {
          "font": {
           "color": "#4D5663"
          },
          "text": ""
         },
         "zerolinecolor": "#E1E5ED"
        },
        "yaxis15": {
         "anchor": "x15",
         "domain": [
          0,
          0.1975
         ],
         "gridcolor": "#E1E5ED",
         "showgrid": false,
         "tickfont": {
          "color": "#4D5663"
         },
         "title": {
          "font": {
           "color": "#4D5663"
          },
          "text": ""
         },
         "zerolinecolor": "#E1E5ED"
        },
        "yaxis16": {
         "anchor": "x16",
         "domain": [
          0,
          0.1975
         ],
         "gridcolor": "#E1E5ED",
         "showgrid": false,
         "tickfont": {
          "color": "#4D5663"
         },
         "title": {
          "font": {
           "color": "#4D5663"
          },
          "text": ""
         },
         "zerolinecolor": "#E1E5ED"
        },
        "yaxis2": {
         "anchor": "x2",
         "domain": [
          0.8025,
          1
         ],
         "gridcolor": "#E1E5ED",
         "showgrid": false,
         "tickfont": {
          "color": "#4D5663"
         },
         "title": {
          "font": {
           "color": "#4D5663"
          },
          "text": ""
         },
         "zerolinecolor": "#E1E5ED"
        },
        "yaxis3": {
         "anchor": "x3",
         "domain": [
          0.8025,
          1
         ],
         "gridcolor": "#E1E5ED",
         "showgrid": false,
         "tickfont": {
          "color": "#4D5663"
         },
         "title": {
          "font": {
           "color": "#4D5663"
          },
          "text": ""
         },
         "zerolinecolor": "#E1E5ED"
        },
        "yaxis4": {
         "anchor": "x4",
         "domain": [
          0.8025,
          1
         ],
         "gridcolor": "#E1E5ED",
         "showgrid": false,
         "tickfont": {
          "color": "#4D5663"
         },
         "title": {
          "font": {
           "color": "#4D5663"
          },
          "text": ""
         },
         "zerolinecolor": "#E1E5ED"
        },
        "yaxis5": {
         "anchor": "x5",
         "domain": [
          0.535,
          0.7325
         ],
         "gridcolor": "#E1E5ED",
         "showgrid": false,
         "tickfont": {
          "color": "#4D5663"
         },
         "title": {
          "font": {
           "color": "#4D5663"
          },
          "text": ""
         },
         "zerolinecolor": "#E1E5ED"
        },
        "yaxis6": {
         "anchor": "x6",
         "domain": [
          0.535,
          0.7325
         ],
         "gridcolor": "#E1E5ED",
         "showgrid": false,
         "tickfont": {
          "color": "#4D5663"
         },
         "title": {
          "font": {
           "color": "#4D5663"
          },
          "text": ""
         },
         "zerolinecolor": "#E1E5ED"
        },
        "yaxis7": {
         "anchor": "x7",
         "domain": [
          0.535,
          0.7325
         ],
         "gridcolor": "#E1E5ED",
         "showgrid": false,
         "tickfont": {
          "color": "#4D5663"
         },
         "title": {
          "font": {
           "color": "#4D5663"
          },
          "text": ""
         },
         "zerolinecolor": "#E1E5ED"
        },
        "yaxis8": {
         "anchor": "x8",
         "domain": [
          0.535,
          0.7325
         ],
         "gridcolor": "#E1E5ED",
         "showgrid": false,
         "tickfont": {
          "color": "#4D5663"
         },
         "title": {
          "font": {
           "color": "#4D5663"
          },
          "text": ""
         },
         "zerolinecolor": "#E1E5ED"
        },
        "yaxis9": {
         "anchor": "x9",
         "domain": [
          0.2675,
          0.465
         ],
         "gridcolor": "#E1E5ED",
         "showgrid": false,
         "tickfont": {
          "color": "#4D5663"
         },
         "title": {
          "font": {
           "color": "#4D5663"
          },
          "text": ""
         },
         "zerolinecolor": "#E1E5ED"
        }
       }
      },
      "text/html": [
       "<div>                            <div id=\"8cffdf3c-d0a8-4048-a230-e2302361d2b8\" class=\"plotly-graph-div\" style=\"height:525px; width:100%;\"></div>            <script type=\"text/javascript\">                require([\"plotly\"], function(Plotly) {                    window.PLOTLYENV=window.PLOTLYENV || {};\n",
       "                    window.PLOTLYENV.BASE_URL='https://plot.ly';                                    if (document.getElementById(\"8cffdf3c-d0a8-4048-a230-e2302361d2b8\")) {                    Plotly.newPlot(                        \"8cffdf3c-d0a8-4048-a230-e2302361d2b8\",                        [{\"histfunc\":\"count\",\"histnorm\":\"\",\"marker\":{\"color\":\"rgba(255, 153, 51, 1.0)\",\"line\":{\"color\":\"#4D5663\",\"width\":1.3}},\"name\":\"A\",\"nbinsx\":10,\"opacity\":0.8,\"orientation\":\"v\",\"type\":\"histogram\",\"x\":[-1.2647427478653352,1.1438411630417042,-1.05938509827262,1.8504871379847871,1.546377535727985,0.33451611794517383,-0.20870116298576785,-1.085679823482335,-1.8827930712316268,0.22569589428736125,-0.14870073272283485,1.8097238490035186,1.0846129586722046,-0.4585050680912217,0.6124031613321901,0.37538238094067367,0.913002050425729,1.447532474939569,0.37930096970612054,0.025491861586942416,-0.15303803382175143,2.243550303352481,-0.9229629605917236,0.49440602178430515,0.32626850787772976,0.43958972584123573,0.6294553731378257,-0.7267701219717834,-2.138340463946718,-1.079017623382896,1.4986614544652554,-0.27121288174569463,0.10138278146479278,-1.7605830124243214,1.4615654271971597,1.3732321332042572,-0.28009958692970527,0.27184356721053654,0.014974755371081123,-0.044085016801009055,-0.46899889415285745,1.1953347937424306,-1.2073043812004678,1.6594422835590357,0.2848202010542789,-2.0911424322013095,1.6745282025401613,0.4378371851153993,-1.5566653128924857,0.21922867812626284,-0.9895599822871955,0.4074603834542788,-0.11399811827797118,-0.4189233977822209,0.02238550870270797,-0.19216353794605404,-0.9170130286940688,-0.046978406156488545,-0.6700104088456724,-0.6660851578679424,-0.7556852339933507,1.2649343600796048,1.2777903189647906,-0.9126194253381009,-0.2632680461538293,-1.8546321915498691,-0.7390643109977857,-0.38372051200700763,2.373219972374884,0.15575329596422724,0.27443916807887914,1.5379394148316894,1.0156948488155468,2.166093192750811,-1.0885500209397434,0.23426839259810678,1.0855996519748596,-0.11987274678594355,0.44089320789934516,-0.4109301897292856,0.2707175129727391,0.9588832487102428,1.0789411110517297,0.567636859797784,0.27125757376181386,2.3036423634178256,-1.6393208075066952,-1.0635721442192485,-1.11636408945502,-0.6034849340046708,-0.38968839640407177,-0.6161479359295967,-1.2335152643562908,-0.31229004474165456,0.7538272605696364,-0.004508090178002124,-0.819361298514153,0.8156450489617879,-2.5000383877630896,-0.6474385769236347],\"xaxis\":\"x\",\"yaxis\":\"y\"},{\"line\":{\"color\":\"rgba(128, 128, 128, 1.0)\",\"dash\":\"solid\",\"shape\":\"linear\",\"width\":1.3},\"marker\":{\"size\":2,\"symbol\":\"circle\"},\"mode\":\"markers\",\"name\":\"A\",\"text\":\"\",\"type\":\"scatter\",\"x\":[-0.1301153686144075,-1.6689431191330846,-0.20285842315621072,0.6785541362910886,1.0673918447214745,-0.7802583792353444,0.30655867142304316,-1.2224647788795076,1.1866673649667518,0.46219911312653267,1.4359201163455364,-0.7620857646479738,0.14999770489209946,1.3510418038024503,-0.3476238768658763,0.3770700580304464,-0.08724172549181444,0.2895924442947607,0.9263808590552806,0.6797844247887547,-1.4012028849109173,0.4826166320718709,-0.3922986215993963,0.1959231778807618,-1.535535001735862,-1.81030871675917,0.3202113451900208,-1.0894993574122724,1.2611748564873886,0.22952844301244146,0.20716481394625794,-0.5318471990187423,0.1905060425236613,0.33116265806516637,-0.20501117215077244,-0.13440599237475553,1.3694492195462487,0.12091625643835999,0.25879190464332064,2.1810934957315435,-0.8879443807209912,-0.10370330117363438,1.172528207746524,-0.7504584806919168,-1.3481550776944762,-0.3961405026321928,-0.5999811877451495,-0.20504473373920704,-0.21748858862191447,3.7711129137159305,1.2972268923024826,1.3275408771993824,1.95760339268544,0.5264064674229573,-0.34976669900318985,0.8883004010504278,-1.9693253772292125,-0.7893855424963484,-0.943500652185212,-0.9272532594633244,0.31683412564341046,-1.7173765182063023,-0.9556446260766284,1.3879797679477532,1.388906776125478,-1.420945170989908,-1.2135311911828452,-0.038105740051507325,-0.6840302763696385,-0.21411043178080405,-1.7717125392677908,0.3551843961210306,-0.18233526845925668,0.0018104373033404708,-1.746680394865062,-1.4466500104106845,0.2546409286259897,-0.9201116861442346,0.03541568708138817,0.7880116269458712,0.010526015638076014,-1.2808253690232152,-0.43045698828732787,0.1970487702396815,1.540825646555996,-0.6756201736428282,-0.5194461460437366,-0.9511847167654712,0.9183457485866829,0.647385429594174,0.9178442142583454,0.6336945961461663,-0.3235544554780584,-0.44720725073444695,0.15843502509823545,1.2594456193699413,0.39248124451512556,-0.8898170383869574,-1.1275896315623108,-0.11851924403056344],\"xaxis\":\"x2\",\"y\":[-1.2647427478653352,1.1438411630417042,-1.05938509827262,1.8504871379847871,1.546377535727985,0.33451611794517383,-0.20870116298576785,-1.085679823482335,-1.8827930712316268,0.22569589428736125,-0.14870073272283485,1.8097238490035186,1.0846129586722046,-0.4585050680912217,0.6124031613321901,0.37538238094067367,0.913002050425729,1.447532474939569,0.37930096970612054,0.025491861586942416,-0.15303803382175143,2.243550303352481,-0.9229629605917236,0.49440602178430515,0.32626850787772976,0.43958972584123573,0.6294553731378257,-0.7267701219717834,-2.138340463946718,-1.079017623382896,1.4986614544652554,-0.27121288174569463,0.10138278146479278,-1.7605830124243214,1.4615654271971597,1.3732321332042572,-0.28009958692970527,0.27184356721053654,0.014974755371081123,-0.044085016801009055,-0.46899889415285745,1.1953347937424306,-1.2073043812004678,1.6594422835590357,0.2848202010542789,-2.0911424322013095,1.6745282025401613,0.4378371851153993,-1.5566653128924857,0.21922867812626284,-0.9895599822871955,0.4074603834542788,-0.11399811827797118,-0.4189233977822209,0.02238550870270797,-0.19216353794605404,-0.9170130286940688,-0.046978406156488545,-0.6700104088456724,-0.6660851578679424,-0.7556852339933507,1.2649343600796048,1.2777903189647906,-0.9126194253381009,-0.2632680461538293,-1.8546321915498691,-0.7390643109977857,-0.38372051200700763,2.373219972374884,0.15575329596422724,0.27443916807887914,1.5379394148316894,1.0156948488155468,2.166093192750811,-1.0885500209397434,0.23426839259810678,1.0855996519748596,-0.11987274678594355,0.44089320789934516,-0.4109301897292856,0.2707175129727391,0.9588832487102428,1.0789411110517297,0.567636859797784,0.27125757376181386,2.3036423634178256,-1.6393208075066952,-1.0635721442192485,-1.11636408945502,-0.6034849340046708,-0.38968839640407177,-0.6161479359295967,-1.2335152643562908,-0.31229004474165456,0.7538272605696364,-0.004508090178002124,-0.819361298514153,0.8156450489617879,-2.5000383877630896,-0.6474385769236347],\"yaxis\":\"y2\"},{\"line\":{\"color\":\"rgba(128, 128, 128, 1.0)\",\"dash\":\"solid\",\"shape\":\"linear\",\"width\":1.3},\"marker\":{\"size\":2,\"symbol\":\"circle\"},\"mode\":\"markers\",\"name\":\"A\",\"text\":\"\",\"type\":\"scatter\",\"x\":[-0.07432342968579692,0.8777393170757319,-0.268685472600146,2.2755479995390724,-0.37728094900430725,0.1184472486791024,-0.29017894624360546,1.1158427295735731,-0.7758434989150765,-0.4790779231648547,-2.3250729856442938,-1.5534520814003805,0.07010582217536217,-0.2927700554009269,-0.2811455338833278,-0.8750958025697672,-1.2038965914051378,-0.6434231131292169,-0.6933378384744655,-0.7577773232183364,0.5154751557422648,-0.5641891223990193,-1.2678242521522025,0.7580626055782035,-1.6437958322617576,0.1407262845677634,0.734618915207698,-2.1253459717396757,-0.05320894119059313,0.5020172279450783,-0.6007903967332062,0.4684013807286517,-1.247870978194363,-0.38664553706485005,0.03776818892294396,-1.1267882230181745,0.9733591024478954,0.2930903308635077,-0.9356332519517122,-0.6153650657932038,-2.005219721405772,0.4695288178331009,-1.073751331509847,1.5482237236119312,0.6198457881908529,-0.642975934936527,-0.2386603838651042,0.5457898899845418,0.008883115991847122,0.23611209976553363,-1.0661063877070136,1.1667594602651707,-1.4575667775877763,-0.3847504559382402,0.09733002200553688,0.4310870134831516,-0.4525022409739558,0.37553198768314006,-0.08003213716421696,-1.358415695089806,-0.45033699452019677,-0.3472681257446617,-0.06396174660646238,0.2953685116668367,-0.5716331949998891,0.620180982707281,0.6178404926900865,0.4727830204525924,0.0707867733215683,0.7700111763387979,0.7016979988897313,0.9891376074936984,0.8455810848569197,1.2976137757949149,0.18066361919708504,-0.14591865517098768,-0.38216986888205057,1.4135921837446803,-0.6035065781423513,-0.5376334455997732,0.16614548239085303,-1.3663504605981143,0.8304002429780812,0.012290164098070978,0.07764199785601283,-1.638318478838887,0.44109578829677776,1.441371191636775,0.18436976846990072,1.3310878377634119,-0.151549605806431,0.911745823951154,-0.14309957623134648,-1.4817145138189582,0.4039496314825262,0.3603561154744288,-0.7410868344261943,-0.16394398100005667,0.5859320151542924,0.6849286686588602],\"xaxis\":\"x3\",\"y\":[-1.2647427478653352,1.1438411630417042,-1.05938509827262,1.8504871379847871,1.546377535727985,0.33451611794517383,-0.20870116298576785,-1.085679823482335,-1.8827930712316268,0.22569589428736125,-0.14870073272283485,1.8097238490035186,1.0846129586722046,-0.4585050680912217,0.6124031613321901,0.37538238094067367,0.913002050425729,1.447532474939569,0.37930096970612054,0.025491861586942416,-0.15303803382175143,2.243550303352481,-0.9229629605917236,0.49440602178430515,0.32626850787772976,0.43958972584123573,0.6294553731378257,-0.7267701219717834,-2.138340463946718,-1.079017623382896,1.4986614544652554,-0.27121288174569463,0.10138278146479278,-1.7605830124243214,1.4615654271971597,1.3732321332042572,-0.28009958692970527,0.27184356721053654,0.014974755371081123,-0.044085016801009055,-0.46899889415285745,1.1953347937424306,-1.2073043812004678,1.6594422835590357,0.2848202010542789,-2.0911424322013095,1.6745282025401613,0.4378371851153993,-1.5566653128924857,0.21922867812626284,-0.9895599822871955,0.4074603834542788,-0.11399811827797118,-0.4189233977822209,0.02238550870270797,-0.19216353794605404,-0.9170130286940688,-0.046978406156488545,-0.6700104088456724,-0.6660851578679424,-0.7556852339933507,1.2649343600796048,1.2777903189647906,-0.9126194253381009,-0.2632680461538293,-1.8546321915498691,-0.7390643109977857,-0.38372051200700763,2.373219972374884,0.15575329596422724,0.27443916807887914,1.5379394148316894,1.0156948488155468,2.166093192750811,-1.0885500209397434,0.23426839259810678,1.0855996519748596,-0.11987274678594355,0.44089320789934516,-0.4109301897292856,0.2707175129727391,0.9588832487102428,1.0789411110517297,0.567636859797784,0.27125757376181386,2.3036423634178256,-1.6393208075066952,-1.0635721442192485,-1.11636408945502,-0.6034849340046708,-0.38968839640407177,-0.6161479359295967,-1.2335152643562908,-0.31229004474165456,0.7538272605696364,-0.004508090178002124,-0.819361298514153,0.8156450489617879,-2.5000383877630896,-0.6474385769236347],\"yaxis\":\"y3\"},{\"line\":{\"color\":\"rgba(128, 128, 128, 1.0)\",\"dash\":\"solid\",\"shape\":\"linear\",\"width\":1.3},\"marker\":{\"size\":2,\"symbol\":\"circle\"},\"mode\":\"markers\",\"name\":\"A\",\"text\":\"\",\"type\":\"scatter\",\"x\":[-0.8863454276883004,-0.1645708355236205,-0.7673022871715959,0.5502003178107542,0.5782332646332343,-0.2883640033885405,-2.4590500778578295,0.3814999589068852,-0.7848758141315808,-0.5886942499702799,-1.1801811153934427,3.9370432901687895,1.1957947402804088,0.26039386578231316,-0.3865384592129036,1.1426080070390392,0.15853703541445704,1.9434894736718002,0.5634047708216215,0.4845198129148697,1.4778971369029104,-0.23522299796185353,1.2652058584995227,0.39965351876924093,1.1342011861190648,1.4876317325502424,-0.7315044957257623,1.2721255156223625,-0.5150307609409148,0.9191075654871602,0.3494876538837761,0.7618773037155189,-0.2169210404456462,-0.3721130554270073,-1.0647043052330407,-1.798502529073453,0.3630921321787982,-0.7034208280439024,0.41967401887464095,1.2408493405964054,-0.8649778879766941,0.5370630893827874,-0.0022656007835508037,0.5528593758405621,0.6514452462779097,-0.7193390468692294,0.41363849852505,-1.1550876929393719,-0.3333227893871169,1.1670374072457335,-0.193170443946,0.9858918067424841,0.5352465267173225,-0.4214400221911786,-0.6058297062984426,0.8355805060377944,-0.21831842091956985,-1.2206737775347731,1.0618805543186036,0.8256202093395615,1.0480969337977304,-1.1767596205270556,0.22660341445141913,-0.02043141145474128,-0.3970225663722118,-0.06510176853847016,2.283918922208758,0.36218304941214347,-0.43750547101447995,0.9572622278046339,1.0897298993794287,-1.8881741854698473,0.24837316037209245,0.1576255939153728,0.6985460371861626,0.577325167618128,0.04288007554373437,0.0798381463361213,0.47021391855991557,-1.322498435518512,0.807740653757711,1.044837675048127,0.6683976697470645,1.0806151850609549,-0.8964360100020632,1.4486966483639385,-0.7620826886466616,-1.1840753631011112,0.5826196587773148,1.2446553971162422,-0.2497319817787376,1.000513118384911,0.23676817902069075,1.1611010130583208,0.31636924126830085,-0.8080503861933555,-0.14720794930826459,1.5075623463079884,0.28587340189621624,-0.34528881368554365],\"xaxis\":\"x4\",\"y\":[-1.2647427478653352,1.1438411630417042,-1.05938509827262,1.8504871379847871,1.546377535727985,0.33451611794517383,-0.20870116298576785,-1.085679823482335,-1.8827930712316268,0.22569589428736125,-0.14870073272283485,1.8097238490035186,1.0846129586722046,-0.4585050680912217,0.6124031613321901,0.37538238094067367,0.913002050425729,1.447532474939569,0.37930096970612054,0.025491861586942416,-0.15303803382175143,2.243550303352481,-0.9229629605917236,0.49440602178430515,0.32626850787772976,0.43958972584123573,0.6294553731378257,-0.7267701219717834,-2.138340463946718,-1.079017623382896,1.4986614544652554,-0.27121288174569463,0.10138278146479278,-1.7605830124243214,1.4615654271971597,1.3732321332042572,-0.28009958692970527,0.27184356721053654,0.014974755371081123,-0.044085016801009055,-0.46899889415285745,1.1953347937424306,-1.2073043812004678,1.6594422835590357,0.2848202010542789,-2.0911424322013095,1.6745282025401613,0.4378371851153993,-1.5566653128924857,0.21922867812626284,-0.9895599822871955,0.4074603834542788,-0.11399811827797118,-0.4189233977822209,0.02238550870270797,-0.19216353794605404,-0.9170130286940688,-0.046978406156488545,-0.6700104088456724,-0.6660851578679424,-0.7556852339933507,1.2649343600796048,1.2777903189647906,-0.9126194253381009,-0.2632680461538293,-1.8546321915498691,-0.7390643109977857,-0.38372051200700763,2.373219972374884,0.15575329596422724,0.27443916807887914,1.5379394148316894,1.0156948488155468,2.166093192750811,-1.0885500209397434,0.23426839259810678,1.0855996519748596,-0.11987274678594355,0.44089320789934516,-0.4109301897292856,0.2707175129727391,0.9588832487102428,1.0789411110517297,0.567636859797784,0.27125757376181386,2.3036423634178256,-1.6393208075066952,-1.0635721442192485,-1.11636408945502,-0.6034849340046708,-0.38968839640407177,-0.6161479359295967,-1.2335152643562908,-0.31229004474165456,0.7538272605696364,-0.004508090178002124,-0.819361298514153,0.8156450489617879,-2.5000383877630896,-0.6474385769236347],\"yaxis\":\"y4\"},{\"line\":{\"color\":\"rgba(128, 128, 128, 1.0)\",\"dash\":\"solid\",\"shape\":\"linear\",\"width\":1.3},\"marker\":{\"size\":2,\"symbol\":\"circle\"},\"mode\":\"markers\",\"name\":\"B\",\"text\":\"\",\"type\":\"scatter\",\"x\":[-1.2647427478653352,1.1438411630417042,-1.05938509827262,1.8504871379847871,1.546377535727985,0.33451611794517383,-0.20870116298576785,-1.085679823482335,-1.8827930712316268,0.22569589428736125,-0.14870073272283485,1.8097238490035186,1.0846129586722046,-0.4585050680912217,0.6124031613321901,0.37538238094067367,0.913002050425729,1.447532474939569,0.37930096970612054,0.025491861586942416,-0.15303803382175143,2.243550303352481,-0.9229629605917236,0.49440602178430515,0.32626850787772976,0.43958972584123573,0.6294553731378257,-0.7267701219717834,-2.138340463946718,-1.079017623382896,1.4986614544652554,-0.27121288174569463,0.10138278146479278,-1.7605830124243214,1.4615654271971597,1.3732321332042572,-0.28009958692970527,0.27184356721053654,0.014974755371081123,-0.044085016801009055,-0.46899889415285745,1.1953347937424306,-1.2073043812004678,1.6594422835590357,0.2848202010542789,-2.0911424322013095,1.6745282025401613,0.4378371851153993,-1.5566653128924857,0.21922867812626284,-0.9895599822871955,0.4074603834542788,-0.11399811827797118,-0.4189233977822209,0.02238550870270797,-0.19216353794605404,-0.9170130286940688,-0.046978406156488545,-0.6700104088456724,-0.6660851578679424,-0.7556852339933507,1.2649343600796048,1.2777903189647906,-0.9126194253381009,-0.2632680461538293,-1.8546321915498691,-0.7390643109977857,-0.38372051200700763,2.373219972374884,0.15575329596422724,0.27443916807887914,1.5379394148316894,1.0156948488155468,2.166093192750811,-1.0885500209397434,0.23426839259810678,1.0855996519748596,-0.11987274678594355,0.44089320789934516,-0.4109301897292856,0.2707175129727391,0.9588832487102428,1.0789411110517297,0.567636859797784,0.27125757376181386,2.3036423634178256,-1.6393208075066952,-1.0635721442192485,-1.11636408945502,-0.6034849340046708,-0.38968839640407177,-0.6161479359295967,-1.2335152643562908,-0.31229004474165456,0.7538272605696364,-0.004508090178002124,-0.819361298514153,0.8156450489617879,-2.5000383877630896,-0.6474385769236347],\"xaxis\":\"x5\",\"y\":[-0.1301153686144075,-1.6689431191330846,-0.20285842315621072,0.6785541362910886,1.0673918447214745,-0.7802583792353444,0.30655867142304316,-1.2224647788795076,1.1866673649667518,0.46219911312653267,1.4359201163455364,-0.7620857646479738,0.14999770489209946,1.3510418038024503,-0.3476238768658763,0.3770700580304464,-0.08724172549181444,0.2895924442947607,0.9263808590552806,0.6797844247887547,-1.4012028849109173,0.4826166320718709,-0.3922986215993963,0.1959231778807618,-1.535535001735862,-1.81030871675917,0.3202113451900208,-1.0894993574122724,1.2611748564873886,0.22952844301244146,0.20716481394625794,-0.5318471990187423,0.1905060425236613,0.33116265806516637,-0.20501117215077244,-0.13440599237475553,1.3694492195462487,0.12091625643835999,0.25879190464332064,2.1810934957315435,-0.8879443807209912,-0.10370330117363438,1.172528207746524,-0.7504584806919168,-1.3481550776944762,-0.3961405026321928,-0.5999811877451495,-0.20504473373920704,-0.21748858862191447,3.7711129137159305,1.2972268923024826,1.3275408771993824,1.95760339268544,0.5264064674229573,-0.34976669900318985,0.8883004010504278,-1.9693253772292125,-0.7893855424963484,-0.943500652185212,-0.9272532594633244,0.31683412564341046,-1.7173765182063023,-0.9556446260766284,1.3879797679477532,1.388906776125478,-1.420945170989908,-1.2135311911828452,-0.038105740051507325,-0.6840302763696385,-0.21411043178080405,-1.7717125392677908,0.3551843961210306,-0.18233526845925668,0.0018104373033404708,-1.746680394865062,-1.4466500104106845,0.2546409286259897,-0.9201116861442346,0.03541568708138817,0.7880116269458712,0.010526015638076014,-1.2808253690232152,-0.43045698828732787,0.1970487702396815,1.540825646555996,-0.6756201736428282,-0.5194461460437366,-0.9511847167654712,0.9183457485866829,0.647385429594174,0.9178442142583454,0.6336945961461663,-0.3235544554780584,-0.44720725073444695,0.15843502509823545,1.2594456193699413,0.39248124451512556,-0.8898170383869574,-1.1275896315623108,-0.11851924403056344],\"yaxis\":\"y5\"},{\"histfunc\":\"count\",\"histnorm\":\"\",\"marker\":{\"color\":\"rgba(55, 128, 191, 1.0)\",\"line\":{\"color\":\"#4D5663\",\"width\":1.3}},\"name\":\"B\",\"nbinsx\":10,\"opacity\":0.8,\"orientation\":\"v\",\"type\":\"histogram\",\"x\":[-0.1301153686144075,-1.6689431191330846,-0.20285842315621072,0.6785541362910886,1.0673918447214745,-0.7802583792353444,0.30655867142304316,-1.2224647788795076,1.1866673649667518,0.46219911312653267,1.4359201163455364,-0.7620857646479738,0.14999770489209946,1.3510418038024503,-0.3476238768658763,0.3770700580304464,-0.08724172549181444,0.2895924442947607,0.9263808590552806,0.6797844247887547,-1.4012028849109173,0.4826166320718709,-0.3922986215993963,0.1959231778807618,-1.535535001735862,-1.81030871675917,0.3202113451900208,-1.0894993574122724,1.2611748564873886,0.22952844301244146,0.20716481394625794,-0.5318471990187423,0.1905060425236613,0.33116265806516637,-0.20501117215077244,-0.13440599237475553,1.3694492195462487,0.12091625643835999,0.25879190464332064,2.1810934957315435,-0.8879443807209912,-0.10370330117363438,1.172528207746524,-0.7504584806919168,-1.3481550776944762,-0.3961405026321928,-0.5999811877451495,-0.20504473373920704,-0.21748858862191447,3.7711129137159305,1.2972268923024826,1.3275408771993824,1.95760339268544,0.5264064674229573,-0.34976669900318985,0.8883004010504278,-1.9693253772292125,-0.7893855424963484,-0.943500652185212,-0.9272532594633244,0.31683412564341046,-1.7173765182063023,-0.9556446260766284,1.3879797679477532,1.388906776125478,-1.420945170989908,-1.2135311911828452,-0.038105740051507325,-0.6840302763696385,-0.21411043178080405,-1.7717125392677908,0.3551843961210306,-0.18233526845925668,0.0018104373033404708,-1.746680394865062,-1.4466500104106845,0.2546409286259897,-0.9201116861442346,0.03541568708138817,0.7880116269458712,0.010526015638076014,-1.2808253690232152,-0.43045698828732787,0.1970487702396815,1.540825646555996,-0.6756201736428282,-0.5194461460437366,-0.9511847167654712,0.9183457485866829,0.647385429594174,0.9178442142583454,0.6336945961461663,-0.3235544554780584,-0.44720725073444695,0.15843502509823545,1.2594456193699413,0.39248124451512556,-0.8898170383869574,-1.1275896315623108,-0.11851924403056344],\"xaxis\":\"x6\",\"yaxis\":\"y6\"},{\"line\":{\"color\":\"rgba(128, 128, 128, 1.0)\",\"dash\":\"solid\",\"shape\":\"linear\",\"width\":1.3},\"marker\":{\"size\":2,\"symbol\":\"circle\"},\"mode\":\"markers\",\"name\":\"B\",\"text\":\"\",\"type\":\"scatter\",\"x\":[-0.07432342968579692,0.8777393170757319,-0.268685472600146,2.2755479995390724,-0.37728094900430725,0.1184472486791024,-0.29017894624360546,1.1158427295735731,-0.7758434989150765,-0.4790779231648547,-2.3250729856442938,-1.5534520814003805,0.07010582217536217,-0.2927700554009269,-0.2811455338833278,-0.8750958025697672,-1.2038965914051378,-0.6434231131292169,-0.6933378384744655,-0.7577773232183364,0.5154751557422648,-0.5641891223990193,-1.2678242521522025,0.7580626055782035,-1.6437958322617576,0.1407262845677634,0.734618915207698,-2.1253459717396757,-0.05320894119059313,0.5020172279450783,-0.6007903967332062,0.4684013807286517,-1.247870978194363,-0.38664553706485005,0.03776818892294396,-1.1267882230181745,0.9733591024478954,0.2930903308635077,-0.9356332519517122,-0.6153650657932038,-2.005219721405772,0.4695288178331009,-1.073751331509847,1.5482237236119312,0.6198457881908529,-0.642975934936527,-0.2386603838651042,0.5457898899845418,0.008883115991847122,0.23611209976553363,-1.0661063877070136,1.1667594602651707,-1.4575667775877763,-0.3847504559382402,0.09733002200553688,0.4310870134831516,-0.4525022409739558,0.37553198768314006,-0.08003213716421696,-1.358415695089806,-0.45033699452019677,-0.3472681257446617,-0.06396174660646238,0.2953685116668367,-0.5716331949998891,0.620180982707281,0.6178404926900865,0.4727830204525924,0.0707867733215683,0.7700111763387979,0.7016979988897313,0.9891376074936984,0.8455810848569197,1.2976137757949149,0.18066361919708504,-0.14591865517098768,-0.38216986888205057,1.4135921837446803,-0.6035065781423513,-0.5376334455997732,0.16614548239085303,-1.3663504605981143,0.8304002429780812,0.012290164098070978,0.07764199785601283,-1.638318478838887,0.44109578829677776,1.441371191636775,0.18436976846990072,1.3310878377634119,-0.151549605806431,0.911745823951154,-0.14309957623134648,-1.4817145138189582,0.4039496314825262,0.3603561154744288,-0.7410868344261943,-0.16394398100005667,0.5859320151542924,0.6849286686588602],\"xaxis\":\"x7\",\"y\":[-0.1301153686144075,-1.6689431191330846,-0.20285842315621072,0.6785541362910886,1.0673918447214745,-0.7802583792353444,0.30655867142304316,-1.2224647788795076,1.1866673649667518,0.46219911312653267,1.4359201163455364,-0.7620857646479738,0.14999770489209946,1.3510418038024503,-0.3476238768658763,0.3770700580304464,-0.08724172549181444,0.2895924442947607,0.9263808590552806,0.6797844247887547,-1.4012028849109173,0.4826166320718709,-0.3922986215993963,0.1959231778807618,-1.535535001735862,-1.81030871675917,0.3202113451900208,-1.0894993574122724,1.2611748564873886,0.22952844301244146,0.20716481394625794,-0.5318471990187423,0.1905060425236613,0.33116265806516637,-0.20501117215077244,-0.13440599237475553,1.3694492195462487,0.12091625643835999,0.25879190464332064,2.1810934957315435,-0.8879443807209912,-0.10370330117363438,1.172528207746524,-0.7504584806919168,-1.3481550776944762,-0.3961405026321928,-0.5999811877451495,-0.20504473373920704,-0.21748858862191447,3.7711129137159305,1.2972268923024826,1.3275408771993824,1.95760339268544,0.5264064674229573,-0.34976669900318985,0.8883004010504278,-1.9693253772292125,-0.7893855424963484,-0.943500652185212,-0.9272532594633244,0.31683412564341046,-1.7173765182063023,-0.9556446260766284,1.3879797679477532,1.388906776125478,-1.420945170989908,-1.2135311911828452,-0.038105740051507325,-0.6840302763696385,-0.21411043178080405,-1.7717125392677908,0.3551843961210306,-0.18233526845925668,0.0018104373033404708,-1.746680394865062,-1.4466500104106845,0.2546409286259897,-0.9201116861442346,0.03541568708138817,0.7880116269458712,0.010526015638076014,-1.2808253690232152,-0.43045698828732787,0.1970487702396815,1.540825646555996,-0.6756201736428282,-0.5194461460437366,-0.9511847167654712,0.9183457485866829,0.647385429594174,0.9178442142583454,0.6336945961461663,-0.3235544554780584,-0.44720725073444695,0.15843502509823545,1.2594456193699413,0.39248124451512556,-0.8898170383869574,-1.1275896315623108,-0.11851924403056344],\"yaxis\":\"y7\"},{\"line\":{\"color\":\"rgba(128, 128, 128, 1.0)\",\"dash\":\"solid\",\"shape\":\"linear\",\"width\":1.3},\"marker\":{\"size\":2,\"symbol\":\"circle\"},\"mode\":\"markers\",\"name\":\"B\",\"text\":\"\",\"type\":\"scatter\",\"x\":[-0.8863454276883004,-0.1645708355236205,-0.7673022871715959,0.5502003178107542,0.5782332646332343,-0.2883640033885405,-2.4590500778578295,0.3814999589068852,-0.7848758141315808,-0.5886942499702799,-1.1801811153934427,3.9370432901687895,1.1957947402804088,0.26039386578231316,-0.3865384592129036,1.1426080070390392,0.15853703541445704,1.9434894736718002,0.5634047708216215,0.4845198129148697,1.4778971369029104,-0.23522299796185353,1.2652058584995227,0.39965351876924093,1.1342011861190648,1.4876317325502424,-0.7315044957257623,1.2721255156223625,-0.5150307609409148,0.9191075654871602,0.3494876538837761,0.7618773037155189,-0.2169210404456462,-0.3721130554270073,-1.0647043052330407,-1.798502529073453,0.3630921321787982,-0.7034208280439024,0.41967401887464095,1.2408493405964054,-0.8649778879766941,0.5370630893827874,-0.0022656007835508037,0.5528593758405621,0.6514452462779097,-0.7193390468692294,0.41363849852505,-1.1550876929393719,-0.3333227893871169,1.1670374072457335,-0.193170443946,0.9858918067424841,0.5352465267173225,-0.4214400221911786,-0.6058297062984426,0.8355805060377944,-0.21831842091956985,-1.2206737775347731,1.0618805543186036,0.8256202093395615,1.0480969337977304,-1.1767596205270556,0.22660341445141913,-0.02043141145474128,-0.3970225663722118,-0.06510176853847016,2.283918922208758,0.36218304941214347,-0.43750547101447995,0.9572622278046339,1.0897298993794287,-1.8881741854698473,0.24837316037209245,0.1576255939153728,0.6985460371861626,0.577325167618128,0.04288007554373437,0.0798381463361213,0.47021391855991557,-1.322498435518512,0.807740653757711,1.044837675048127,0.6683976697470645,1.0806151850609549,-0.8964360100020632,1.4486966483639385,-0.7620826886466616,-1.1840753631011112,0.5826196587773148,1.2446553971162422,-0.2497319817787376,1.000513118384911,0.23676817902069075,1.1611010130583208,0.31636924126830085,-0.8080503861933555,-0.14720794930826459,1.5075623463079884,0.28587340189621624,-0.34528881368554365],\"xaxis\":\"x8\",\"y\":[-0.1301153686144075,-1.6689431191330846,-0.20285842315621072,0.6785541362910886,1.0673918447214745,-0.7802583792353444,0.30655867142304316,-1.2224647788795076,1.1866673649667518,0.46219911312653267,1.4359201163455364,-0.7620857646479738,0.14999770489209946,1.3510418038024503,-0.3476238768658763,0.3770700580304464,-0.08724172549181444,0.2895924442947607,0.9263808590552806,0.6797844247887547,-1.4012028849109173,0.4826166320718709,-0.3922986215993963,0.1959231778807618,-1.535535001735862,-1.81030871675917,0.3202113451900208,-1.0894993574122724,1.2611748564873886,0.22952844301244146,0.20716481394625794,-0.5318471990187423,0.1905060425236613,0.33116265806516637,-0.20501117215077244,-0.13440599237475553,1.3694492195462487,0.12091625643835999,0.25879190464332064,2.1810934957315435,-0.8879443807209912,-0.10370330117363438,1.172528207746524,-0.7504584806919168,-1.3481550776944762,-0.3961405026321928,-0.5999811877451495,-0.20504473373920704,-0.21748858862191447,3.7711129137159305,1.2972268923024826,1.3275408771993824,1.95760339268544,0.5264064674229573,-0.34976669900318985,0.8883004010504278,-1.9693253772292125,-0.7893855424963484,-0.943500652185212,-0.9272532594633244,0.31683412564341046,-1.7173765182063023,-0.9556446260766284,1.3879797679477532,1.388906776125478,-1.420945170989908,-1.2135311911828452,-0.038105740051507325,-0.6840302763696385,-0.21411043178080405,-1.7717125392677908,0.3551843961210306,-0.18233526845925668,0.0018104373033404708,-1.746680394865062,-1.4466500104106845,0.2546409286259897,-0.9201116861442346,0.03541568708138817,0.7880116269458712,0.010526015638076014,-1.2808253690232152,-0.43045698828732787,0.1970487702396815,1.540825646555996,-0.6756201736428282,-0.5194461460437366,-0.9511847167654712,0.9183457485866829,0.647385429594174,0.9178442142583454,0.6336945961461663,-0.3235544554780584,-0.44720725073444695,0.15843502509823545,1.2594456193699413,0.39248124451512556,-0.8898170383869574,-1.1275896315623108,-0.11851924403056344],\"yaxis\":\"y8\"},{\"line\":{\"color\":\"rgba(128, 128, 128, 1.0)\",\"dash\":\"solid\",\"shape\":\"linear\",\"width\":1.3},\"marker\":{\"size\":2,\"symbol\":\"circle\"},\"mode\":\"markers\",\"name\":\"C\",\"text\":\"\",\"type\":\"scatter\",\"x\":[-1.2647427478653352,1.1438411630417042,-1.05938509827262,1.8504871379847871,1.546377535727985,0.33451611794517383,-0.20870116298576785,-1.085679823482335,-1.8827930712316268,0.22569589428736125,-0.14870073272283485,1.8097238490035186,1.0846129586722046,-0.4585050680912217,0.6124031613321901,0.37538238094067367,0.913002050425729,1.447532474939569,0.37930096970612054,0.025491861586942416,-0.15303803382175143,2.243550303352481,-0.9229629605917236,0.49440602178430515,0.32626850787772976,0.43958972584123573,0.6294553731378257,-0.7267701219717834,-2.138340463946718,-1.079017623382896,1.4986614544652554,-0.27121288174569463,0.10138278146479278,-1.7605830124243214,1.4615654271971597,1.3732321332042572,-0.28009958692970527,0.27184356721053654,0.014974755371081123,-0.044085016801009055,-0.46899889415285745,1.1953347937424306,-1.2073043812004678,1.6594422835590357,0.2848202010542789,-2.0911424322013095,1.6745282025401613,0.4378371851153993,-1.5566653128924857,0.21922867812626284,-0.9895599822871955,0.4074603834542788,-0.11399811827797118,-0.4189233977822209,0.02238550870270797,-0.19216353794605404,-0.9170130286940688,-0.046978406156488545,-0.6700104088456724,-0.6660851578679424,-0.7556852339933507,1.2649343600796048,1.2777903189647906,-0.9126194253381009,-0.2632680461538293,-1.8546321915498691,-0.7390643109977857,-0.38372051200700763,2.373219972374884,0.15575329596422724,0.27443916807887914,1.5379394148316894,1.0156948488155468,2.166093192750811,-1.0885500209397434,0.23426839259810678,1.0855996519748596,-0.11987274678594355,0.44089320789934516,-0.4109301897292856,0.2707175129727391,0.9588832487102428,1.0789411110517297,0.567636859797784,0.27125757376181386,2.3036423634178256,-1.6393208075066952,-1.0635721442192485,-1.11636408945502,-0.6034849340046708,-0.38968839640407177,-0.6161479359295967,-1.2335152643562908,-0.31229004474165456,0.7538272605696364,-0.004508090178002124,-0.819361298514153,0.8156450489617879,-2.5000383877630896,-0.6474385769236347],\"xaxis\":\"x9\",\"y\":[-0.07432342968579692,0.8777393170757319,-0.268685472600146,2.2755479995390724,-0.37728094900430725,0.1184472486791024,-0.29017894624360546,1.1158427295735731,-0.7758434989150765,-0.4790779231648547,-2.3250729856442938,-1.5534520814003805,0.07010582217536217,-0.2927700554009269,-0.2811455338833278,-0.8750958025697672,-1.2038965914051378,-0.6434231131292169,-0.6933378384744655,-0.7577773232183364,0.5154751557422648,-0.5641891223990193,-1.2678242521522025,0.7580626055782035,-1.6437958322617576,0.1407262845677634,0.734618915207698,-2.1253459717396757,-0.05320894119059313,0.5020172279450783,-0.6007903967332062,0.4684013807286517,-1.247870978194363,-0.38664553706485005,0.03776818892294396,-1.1267882230181745,0.9733591024478954,0.2930903308635077,-0.9356332519517122,-0.6153650657932038,-2.005219721405772,0.4695288178331009,-1.073751331509847,1.5482237236119312,0.6198457881908529,-0.642975934936527,-0.2386603838651042,0.5457898899845418,0.008883115991847122,0.23611209976553363,-1.0661063877070136,1.1667594602651707,-1.4575667775877763,-0.3847504559382402,0.09733002200553688,0.4310870134831516,-0.4525022409739558,0.37553198768314006,-0.08003213716421696,-1.358415695089806,-0.45033699452019677,-0.3472681257446617,-0.06396174660646238,0.2953685116668367,-0.5716331949998891,0.620180982707281,0.6178404926900865,0.4727830204525924,0.0707867733215683,0.7700111763387979,0.7016979988897313,0.9891376074936984,0.8455810848569197,1.2976137757949149,0.18066361919708504,-0.14591865517098768,-0.38216986888205057,1.4135921837446803,-0.6035065781423513,-0.5376334455997732,0.16614548239085303,-1.3663504605981143,0.8304002429780812,0.012290164098070978,0.07764199785601283,-1.638318478838887,0.44109578829677776,1.441371191636775,0.18436976846990072,1.3310878377634119,-0.151549605806431,0.911745823951154,-0.14309957623134648,-1.4817145138189582,0.4039496314825262,0.3603561154744288,-0.7410868344261943,-0.16394398100005667,0.5859320151542924,0.6849286686588602],\"yaxis\":\"y9\"},{\"line\":{\"color\":\"rgba(128, 128, 128, 1.0)\",\"dash\":\"solid\",\"shape\":\"linear\",\"width\":1.3},\"marker\":{\"size\":2,\"symbol\":\"circle\"},\"mode\":\"markers\",\"name\":\"C\",\"text\":\"\",\"type\":\"scatter\",\"x\":[-0.1301153686144075,-1.6689431191330846,-0.20285842315621072,0.6785541362910886,1.0673918447214745,-0.7802583792353444,0.30655867142304316,-1.2224647788795076,1.1866673649667518,0.46219911312653267,1.4359201163455364,-0.7620857646479738,0.14999770489209946,1.3510418038024503,-0.3476238768658763,0.3770700580304464,-0.08724172549181444,0.2895924442947607,0.9263808590552806,0.6797844247887547,-1.4012028849109173,0.4826166320718709,-0.3922986215993963,0.1959231778807618,-1.535535001735862,-1.81030871675917,0.3202113451900208,-1.0894993574122724,1.2611748564873886,0.22952844301244146,0.20716481394625794,-0.5318471990187423,0.1905060425236613,0.33116265806516637,-0.20501117215077244,-0.13440599237475553,1.3694492195462487,0.12091625643835999,0.25879190464332064,2.1810934957315435,-0.8879443807209912,-0.10370330117363438,1.172528207746524,-0.7504584806919168,-1.3481550776944762,-0.3961405026321928,-0.5999811877451495,-0.20504473373920704,-0.21748858862191447,3.7711129137159305,1.2972268923024826,1.3275408771993824,1.95760339268544,0.5264064674229573,-0.34976669900318985,0.8883004010504278,-1.9693253772292125,-0.7893855424963484,-0.943500652185212,-0.9272532594633244,0.31683412564341046,-1.7173765182063023,-0.9556446260766284,1.3879797679477532,1.388906776125478,-1.420945170989908,-1.2135311911828452,-0.038105740051507325,-0.6840302763696385,-0.21411043178080405,-1.7717125392677908,0.3551843961210306,-0.18233526845925668,0.0018104373033404708,-1.746680394865062,-1.4466500104106845,0.2546409286259897,-0.9201116861442346,0.03541568708138817,0.7880116269458712,0.010526015638076014,-1.2808253690232152,-0.43045698828732787,0.1970487702396815,1.540825646555996,-0.6756201736428282,-0.5194461460437366,-0.9511847167654712,0.9183457485866829,0.647385429594174,0.9178442142583454,0.6336945961461663,-0.3235544554780584,-0.44720725073444695,0.15843502509823545,1.2594456193699413,0.39248124451512556,-0.8898170383869574,-1.1275896315623108,-0.11851924403056344],\"xaxis\":\"x10\",\"y\":[-0.07432342968579692,0.8777393170757319,-0.268685472600146,2.2755479995390724,-0.37728094900430725,0.1184472486791024,-0.29017894624360546,1.1158427295735731,-0.7758434989150765,-0.4790779231648547,-2.3250729856442938,-1.5534520814003805,0.07010582217536217,-0.2927700554009269,-0.2811455338833278,-0.8750958025697672,-1.2038965914051378,-0.6434231131292169,-0.6933378384744655,-0.7577773232183364,0.5154751557422648,-0.5641891223990193,-1.2678242521522025,0.7580626055782035,-1.6437958322617576,0.1407262845677634,0.734618915207698,-2.1253459717396757,-0.05320894119059313,0.5020172279450783,-0.6007903967332062,0.4684013807286517,-1.247870978194363,-0.38664553706485005,0.03776818892294396,-1.1267882230181745,0.9733591024478954,0.2930903308635077,-0.9356332519517122,-0.6153650657932038,-2.005219721405772,0.4695288178331009,-1.073751331509847,1.5482237236119312,0.6198457881908529,-0.642975934936527,-0.2386603838651042,0.5457898899845418,0.008883115991847122,0.23611209976553363,-1.0661063877070136,1.1667594602651707,-1.4575667775877763,-0.3847504559382402,0.09733002200553688,0.4310870134831516,-0.4525022409739558,0.37553198768314006,-0.08003213716421696,-1.358415695089806,-0.45033699452019677,-0.3472681257446617,-0.06396174660646238,0.2953685116668367,-0.5716331949998891,0.620180982707281,0.6178404926900865,0.4727830204525924,0.0707867733215683,0.7700111763387979,0.7016979988897313,0.9891376074936984,0.8455810848569197,1.2976137757949149,0.18066361919708504,-0.14591865517098768,-0.38216986888205057,1.4135921837446803,-0.6035065781423513,-0.5376334455997732,0.16614548239085303,-1.3663504605981143,0.8304002429780812,0.012290164098070978,0.07764199785601283,-1.638318478838887,0.44109578829677776,1.441371191636775,0.18436976846990072,1.3310878377634119,-0.151549605806431,0.911745823951154,-0.14309957623134648,-1.4817145138189582,0.4039496314825262,0.3603561154744288,-0.7410868344261943,-0.16394398100005667,0.5859320151542924,0.6849286686588602],\"yaxis\":\"y10\"},{\"histfunc\":\"count\",\"histnorm\":\"\",\"marker\":{\"color\":\"rgba(50, 171, 96, 1.0)\",\"line\":{\"color\":\"#4D5663\",\"width\":1.3}},\"name\":\"C\",\"nbinsx\":10,\"opacity\":0.8,\"orientation\":\"v\",\"type\":\"histogram\",\"x\":[-0.07432342968579692,0.8777393170757319,-0.268685472600146,2.2755479995390724,-0.37728094900430725,0.1184472486791024,-0.29017894624360546,1.1158427295735731,-0.7758434989150765,-0.4790779231648547,-2.3250729856442938,-1.5534520814003805,0.07010582217536217,-0.2927700554009269,-0.2811455338833278,-0.8750958025697672,-1.2038965914051378,-0.6434231131292169,-0.6933378384744655,-0.7577773232183364,0.5154751557422648,-0.5641891223990193,-1.2678242521522025,0.7580626055782035,-1.6437958322617576,0.1407262845677634,0.734618915207698,-2.1253459717396757,-0.05320894119059313,0.5020172279450783,-0.6007903967332062,0.4684013807286517,-1.247870978194363,-0.38664553706485005,0.03776818892294396,-1.1267882230181745,0.9733591024478954,0.2930903308635077,-0.9356332519517122,-0.6153650657932038,-2.005219721405772,0.4695288178331009,-1.073751331509847,1.5482237236119312,0.6198457881908529,-0.642975934936527,-0.2386603838651042,0.5457898899845418,0.008883115991847122,0.23611209976553363,-1.0661063877070136,1.1667594602651707,-1.4575667775877763,-0.3847504559382402,0.09733002200553688,0.4310870134831516,-0.4525022409739558,0.37553198768314006,-0.08003213716421696,-1.358415695089806,-0.45033699452019677,-0.3472681257446617,-0.06396174660646238,0.2953685116668367,-0.5716331949998891,0.620180982707281,0.6178404926900865,0.4727830204525924,0.0707867733215683,0.7700111763387979,0.7016979988897313,0.9891376074936984,0.8455810848569197,1.2976137757949149,0.18066361919708504,-0.14591865517098768,-0.38216986888205057,1.4135921837446803,-0.6035065781423513,-0.5376334455997732,0.16614548239085303,-1.3663504605981143,0.8304002429780812,0.012290164098070978,0.07764199785601283,-1.638318478838887,0.44109578829677776,1.441371191636775,0.18436976846990072,1.3310878377634119,-0.151549605806431,0.911745823951154,-0.14309957623134648,-1.4817145138189582,0.4039496314825262,0.3603561154744288,-0.7410868344261943,-0.16394398100005667,0.5859320151542924,0.6849286686588602],\"xaxis\":\"x11\",\"yaxis\":\"y11\"},{\"line\":{\"color\":\"rgba(128, 128, 128, 1.0)\",\"dash\":\"solid\",\"shape\":\"linear\",\"width\":1.3},\"marker\":{\"size\":2,\"symbol\":\"circle\"},\"mode\":\"markers\",\"name\":\"C\",\"text\":\"\",\"type\":\"scatter\",\"x\":[-0.8863454276883004,-0.1645708355236205,-0.7673022871715959,0.5502003178107542,0.5782332646332343,-0.2883640033885405,-2.4590500778578295,0.3814999589068852,-0.7848758141315808,-0.5886942499702799,-1.1801811153934427,3.9370432901687895,1.1957947402804088,0.26039386578231316,-0.3865384592129036,1.1426080070390392,0.15853703541445704,1.9434894736718002,0.5634047708216215,0.4845198129148697,1.4778971369029104,-0.23522299796185353,1.2652058584995227,0.39965351876924093,1.1342011861190648,1.4876317325502424,-0.7315044957257623,1.2721255156223625,-0.5150307609409148,0.9191075654871602,0.3494876538837761,0.7618773037155189,-0.2169210404456462,-0.3721130554270073,-1.0647043052330407,-1.798502529073453,0.3630921321787982,-0.7034208280439024,0.41967401887464095,1.2408493405964054,-0.8649778879766941,0.5370630893827874,-0.0022656007835508037,0.5528593758405621,0.6514452462779097,-0.7193390468692294,0.41363849852505,-1.1550876929393719,-0.3333227893871169,1.1670374072457335,-0.193170443946,0.9858918067424841,0.5352465267173225,-0.4214400221911786,-0.6058297062984426,0.8355805060377944,-0.21831842091956985,-1.2206737775347731,1.0618805543186036,0.8256202093395615,1.0480969337977304,-1.1767596205270556,0.22660341445141913,-0.02043141145474128,-0.3970225663722118,-0.06510176853847016,2.283918922208758,0.36218304941214347,-0.43750547101447995,0.9572622278046339,1.0897298993794287,-1.8881741854698473,0.24837316037209245,0.1576255939153728,0.6985460371861626,0.577325167618128,0.04288007554373437,0.0798381463361213,0.47021391855991557,-1.322498435518512,0.807740653757711,1.044837675048127,0.6683976697470645,1.0806151850609549,-0.8964360100020632,1.4486966483639385,-0.7620826886466616,-1.1840753631011112,0.5826196587773148,1.2446553971162422,-0.2497319817787376,1.000513118384911,0.23676817902069075,1.1611010130583208,0.31636924126830085,-0.8080503861933555,-0.14720794930826459,1.5075623463079884,0.28587340189621624,-0.34528881368554365],\"xaxis\":\"x12\",\"y\":[-0.07432342968579692,0.8777393170757319,-0.268685472600146,2.2755479995390724,-0.37728094900430725,0.1184472486791024,-0.29017894624360546,1.1158427295735731,-0.7758434989150765,-0.4790779231648547,-2.3250729856442938,-1.5534520814003805,0.07010582217536217,-0.2927700554009269,-0.2811455338833278,-0.8750958025697672,-1.2038965914051378,-0.6434231131292169,-0.6933378384744655,-0.7577773232183364,0.5154751557422648,-0.5641891223990193,-1.2678242521522025,0.7580626055782035,-1.6437958322617576,0.1407262845677634,0.734618915207698,-2.1253459717396757,-0.05320894119059313,0.5020172279450783,-0.6007903967332062,0.4684013807286517,-1.247870978194363,-0.38664553706485005,0.03776818892294396,-1.1267882230181745,0.9733591024478954,0.2930903308635077,-0.9356332519517122,-0.6153650657932038,-2.005219721405772,0.4695288178331009,-1.073751331509847,1.5482237236119312,0.6198457881908529,-0.642975934936527,-0.2386603838651042,0.5457898899845418,0.008883115991847122,0.23611209976553363,-1.0661063877070136,1.1667594602651707,-1.4575667775877763,-0.3847504559382402,0.09733002200553688,0.4310870134831516,-0.4525022409739558,0.37553198768314006,-0.08003213716421696,-1.358415695089806,-0.45033699452019677,-0.3472681257446617,-0.06396174660646238,0.2953685116668367,-0.5716331949998891,0.620180982707281,0.6178404926900865,0.4727830204525924,0.0707867733215683,0.7700111763387979,0.7016979988897313,0.9891376074936984,0.8455810848569197,1.2976137757949149,0.18066361919708504,-0.14591865517098768,-0.38216986888205057,1.4135921837446803,-0.6035065781423513,-0.5376334455997732,0.16614548239085303,-1.3663504605981143,0.8304002429780812,0.012290164098070978,0.07764199785601283,-1.638318478838887,0.44109578829677776,1.441371191636775,0.18436976846990072,1.3310878377634119,-0.151549605806431,0.911745823951154,-0.14309957623134648,-1.4817145138189582,0.4039496314825262,0.3603561154744288,-0.7410868344261943,-0.16394398100005667,0.5859320151542924,0.6849286686588602],\"yaxis\":\"y12\"},{\"line\":{\"color\":\"rgba(128, 128, 128, 1.0)\",\"dash\":\"solid\",\"shape\":\"linear\",\"width\":1.3},\"marker\":{\"size\":2,\"symbol\":\"circle\"},\"mode\":\"markers\",\"name\":\"D\",\"text\":\"\",\"type\":\"scatter\",\"x\":[-1.2647427478653352,1.1438411630417042,-1.05938509827262,1.8504871379847871,1.546377535727985,0.33451611794517383,-0.20870116298576785,-1.085679823482335,-1.8827930712316268,0.22569589428736125,-0.14870073272283485,1.8097238490035186,1.0846129586722046,-0.4585050680912217,0.6124031613321901,0.37538238094067367,0.913002050425729,1.447532474939569,0.37930096970612054,0.025491861586942416,-0.15303803382175143,2.243550303352481,-0.9229629605917236,0.49440602178430515,0.32626850787772976,0.43958972584123573,0.6294553731378257,-0.7267701219717834,-2.138340463946718,-1.079017623382896,1.4986614544652554,-0.27121288174569463,0.10138278146479278,-1.7605830124243214,1.4615654271971597,1.3732321332042572,-0.28009958692970527,0.27184356721053654,0.014974755371081123,-0.044085016801009055,-0.46899889415285745,1.1953347937424306,-1.2073043812004678,1.6594422835590357,0.2848202010542789,-2.0911424322013095,1.6745282025401613,0.4378371851153993,-1.5566653128924857,0.21922867812626284,-0.9895599822871955,0.4074603834542788,-0.11399811827797118,-0.4189233977822209,0.02238550870270797,-0.19216353794605404,-0.9170130286940688,-0.046978406156488545,-0.6700104088456724,-0.6660851578679424,-0.7556852339933507,1.2649343600796048,1.2777903189647906,-0.9126194253381009,-0.2632680461538293,-1.8546321915498691,-0.7390643109977857,-0.38372051200700763,2.373219972374884,0.15575329596422724,0.27443916807887914,1.5379394148316894,1.0156948488155468,2.166093192750811,-1.0885500209397434,0.23426839259810678,1.0855996519748596,-0.11987274678594355,0.44089320789934516,-0.4109301897292856,0.2707175129727391,0.9588832487102428,1.0789411110517297,0.567636859797784,0.27125757376181386,2.3036423634178256,-1.6393208075066952,-1.0635721442192485,-1.11636408945502,-0.6034849340046708,-0.38968839640407177,-0.6161479359295967,-1.2335152643562908,-0.31229004474165456,0.7538272605696364,-0.004508090178002124,-0.819361298514153,0.8156450489617879,-2.5000383877630896,-0.6474385769236347],\"xaxis\":\"x13\",\"y\":[-0.8863454276883004,-0.1645708355236205,-0.7673022871715959,0.5502003178107542,0.5782332646332343,-0.2883640033885405,-2.4590500778578295,0.3814999589068852,-0.7848758141315808,-0.5886942499702799,-1.1801811153934427,3.9370432901687895,1.1957947402804088,0.26039386578231316,-0.3865384592129036,1.1426080070390392,0.15853703541445704,1.9434894736718002,0.5634047708216215,0.4845198129148697,1.4778971369029104,-0.23522299796185353,1.2652058584995227,0.39965351876924093,1.1342011861190648,1.4876317325502424,-0.7315044957257623,1.2721255156223625,-0.5150307609409148,0.9191075654871602,0.3494876538837761,0.7618773037155189,-0.2169210404456462,-0.3721130554270073,-1.0647043052330407,-1.798502529073453,0.3630921321787982,-0.7034208280439024,0.41967401887464095,1.2408493405964054,-0.8649778879766941,0.5370630893827874,-0.0022656007835508037,0.5528593758405621,0.6514452462779097,-0.7193390468692294,0.41363849852505,-1.1550876929393719,-0.3333227893871169,1.1670374072457335,-0.193170443946,0.9858918067424841,0.5352465267173225,-0.4214400221911786,-0.6058297062984426,0.8355805060377944,-0.21831842091956985,-1.2206737775347731,1.0618805543186036,0.8256202093395615,1.0480969337977304,-1.1767596205270556,0.22660341445141913,-0.02043141145474128,-0.3970225663722118,-0.06510176853847016,2.283918922208758,0.36218304941214347,-0.43750547101447995,0.9572622278046339,1.0897298993794287,-1.8881741854698473,0.24837316037209245,0.1576255939153728,0.6985460371861626,0.577325167618128,0.04288007554373437,0.0798381463361213,0.47021391855991557,-1.322498435518512,0.807740653757711,1.044837675048127,0.6683976697470645,1.0806151850609549,-0.8964360100020632,1.4486966483639385,-0.7620826886466616,-1.1840753631011112,0.5826196587773148,1.2446553971162422,-0.2497319817787376,1.000513118384911,0.23676817902069075,1.1611010130583208,0.31636924126830085,-0.8080503861933555,-0.14720794930826459,1.5075623463079884,0.28587340189621624,-0.34528881368554365],\"yaxis\":\"y13\"},{\"line\":{\"color\":\"rgba(128, 128, 128, 1.0)\",\"dash\":\"solid\",\"shape\":\"linear\",\"width\":1.3},\"marker\":{\"size\":2,\"symbol\":\"circle\"},\"mode\":\"markers\",\"name\":\"D\",\"text\":\"\",\"type\":\"scatter\",\"x\":[-0.1301153686144075,-1.6689431191330846,-0.20285842315621072,0.6785541362910886,1.0673918447214745,-0.7802583792353444,0.30655867142304316,-1.2224647788795076,1.1866673649667518,0.46219911312653267,1.4359201163455364,-0.7620857646479738,0.14999770489209946,1.3510418038024503,-0.3476238768658763,0.3770700580304464,-0.08724172549181444,0.2895924442947607,0.9263808590552806,0.6797844247887547,-1.4012028849109173,0.4826166320718709,-0.3922986215993963,0.1959231778807618,-1.535535001735862,-1.81030871675917,0.3202113451900208,-1.0894993574122724,1.2611748564873886,0.22952844301244146,0.20716481394625794,-0.5318471990187423,0.1905060425236613,0.33116265806516637,-0.20501117215077244,-0.13440599237475553,1.3694492195462487,0.12091625643835999,0.25879190464332064,2.1810934957315435,-0.8879443807209912,-0.10370330117363438,1.172528207746524,-0.7504584806919168,-1.3481550776944762,-0.3961405026321928,-0.5999811877451495,-0.20504473373920704,-0.21748858862191447,3.7711129137159305,1.2972268923024826,1.3275408771993824,1.95760339268544,0.5264064674229573,-0.34976669900318985,0.8883004010504278,-1.9693253772292125,-0.7893855424963484,-0.943500652185212,-0.9272532594633244,0.31683412564341046,-1.7173765182063023,-0.9556446260766284,1.3879797679477532,1.388906776125478,-1.420945170989908,-1.2135311911828452,-0.038105740051507325,-0.6840302763696385,-0.21411043178080405,-1.7717125392677908,0.3551843961210306,-0.18233526845925668,0.0018104373033404708,-1.746680394865062,-1.4466500104106845,0.2546409286259897,-0.9201116861442346,0.03541568708138817,0.7880116269458712,0.010526015638076014,-1.2808253690232152,-0.43045698828732787,0.1970487702396815,1.540825646555996,-0.6756201736428282,-0.5194461460437366,-0.9511847167654712,0.9183457485866829,0.647385429594174,0.9178442142583454,0.6336945961461663,-0.3235544554780584,-0.44720725073444695,0.15843502509823545,1.2594456193699413,0.39248124451512556,-0.8898170383869574,-1.1275896315623108,-0.11851924403056344],\"xaxis\":\"x14\",\"y\":[-0.8863454276883004,-0.1645708355236205,-0.7673022871715959,0.5502003178107542,0.5782332646332343,-0.2883640033885405,-2.4590500778578295,0.3814999589068852,-0.7848758141315808,-0.5886942499702799,-1.1801811153934427,3.9370432901687895,1.1957947402804088,0.26039386578231316,-0.3865384592129036,1.1426080070390392,0.15853703541445704,1.9434894736718002,0.5634047708216215,0.4845198129148697,1.4778971369029104,-0.23522299796185353,1.2652058584995227,0.39965351876924093,1.1342011861190648,1.4876317325502424,-0.7315044957257623,1.2721255156223625,-0.5150307609409148,0.9191075654871602,0.3494876538837761,0.7618773037155189,-0.2169210404456462,-0.3721130554270073,-1.0647043052330407,-1.798502529073453,0.3630921321787982,-0.7034208280439024,0.41967401887464095,1.2408493405964054,-0.8649778879766941,0.5370630893827874,-0.0022656007835508037,0.5528593758405621,0.6514452462779097,-0.7193390468692294,0.41363849852505,-1.1550876929393719,-0.3333227893871169,1.1670374072457335,-0.193170443946,0.9858918067424841,0.5352465267173225,-0.4214400221911786,-0.6058297062984426,0.8355805060377944,-0.21831842091956985,-1.2206737775347731,1.0618805543186036,0.8256202093395615,1.0480969337977304,-1.1767596205270556,0.22660341445141913,-0.02043141145474128,-0.3970225663722118,-0.06510176853847016,2.283918922208758,0.36218304941214347,-0.43750547101447995,0.9572622278046339,1.0897298993794287,-1.8881741854698473,0.24837316037209245,0.1576255939153728,0.6985460371861626,0.577325167618128,0.04288007554373437,0.0798381463361213,0.47021391855991557,-1.322498435518512,0.807740653757711,1.044837675048127,0.6683976697470645,1.0806151850609549,-0.8964360100020632,1.4486966483639385,-0.7620826886466616,-1.1840753631011112,0.5826196587773148,1.2446553971162422,-0.2497319817787376,1.000513118384911,0.23676817902069075,1.1611010130583208,0.31636924126830085,-0.8080503861933555,-0.14720794930826459,1.5075623463079884,0.28587340189621624,-0.34528881368554365],\"yaxis\":\"y14\"},{\"line\":{\"color\":\"rgba(128, 128, 128, 1.0)\",\"dash\":\"solid\",\"shape\":\"linear\",\"width\":1.3},\"marker\":{\"size\":2,\"symbol\":\"circle\"},\"mode\":\"markers\",\"name\":\"D\",\"text\":\"\",\"type\":\"scatter\",\"x\":[-0.07432342968579692,0.8777393170757319,-0.268685472600146,2.2755479995390724,-0.37728094900430725,0.1184472486791024,-0.29017894624360546,1.1158427295735731,-0.7758434989150765,-0.4790779231648547,-2.3250729856442938,-1.5534520814003805,0.07010582217536217,-0.2927700554009269,-0.2811455338833278,-0.8750958025697672,-1.2038965914051378,-0.6434231131292169,-0.6933378384744655,-0.7577773232183364,0.5154751557422648,-0.5641891223990193,-1.2678242521522025,0.7580626055782035,-1.6437958322617576,0.1407262845677634,0.734618915207698,-2.1253459717396757,-0.05320894119059313,0.5020172279450783,-0.6007903967332062,0.4684013807286517,-1.247870978194363,-0.38664553706485005,0.03776818892294396,-1.1267882230181745,0.9733591024478954,0.2930903308635077,-0.9356332519517122,-0.6153650657932038,-2.005219721405772,0.4695288178331009,-1.073751331509847,1.5482237236119312,0.6198457881908529,-0.642975934936527,-0.2386603838651042,0.5457898899845418,0.008883115991847122,0.23611209976553363,-1.0661063877070136,1.1667594602651707,-1.4575667775877763,-0.3847504559382402,0.09733002200553688,0.4310870134831516,-0.4525022409739558,0.37553198768314006,-0.08003213716421696,-1.358415695089806,-0.45033699452019677,-0.3472681257446617,-0.06396174660646238,0.2953685116668367,-0.5716331949998891,0.620180982707281,0.6178404926900865,0.4727830204525924,0.0707867733215683,0.7700111763387979,0.7016979988897313,0.9891376074936984,0.8455810848569197,1.2976137757949149,0.18066361919708504,-0.14591865517098768,-0.38216986888205057,1.4135921837446803,-0.6035065781423513,-0.5376334455997732,0.16614548239085303,-1.3663504605981143,0.8304002429780812,0.012290164098070978,0.07764199785601283,-1.638318478838887,0.44109578829677776,1.441371191636775,0.18436976846990072,1.3310878377634119,-0.151549605806431,0.911745823951154,-0.14309957623134648,-1.4817145138189582,0.4039496314825262,0.3603561154744288,-0.7410868344261943,-0.16394398100005667,0.5859320151542924,0.6849286686588602],\"xaxis\":\"x15\",\"y\":[-0.8863454276883004,-0.1645708355236205,-0.7673022871715959,0.5502003178107542,0.5782332646332343,-0.2883640033885405,-2.4590500778578295,0.3814999589068852,-0.7848758141315808,-0.5886942499702799,-1.1801811153934427,3.9370432901687895,1.1957947402804088,0.26039386578231316,-0.3865384592129036,1.1426080070390392,0.15853703541445704,1.9434894736718002,0.5634047708216215,0.4845198129148697,1.4778971369029104,-0.23522299796185353,1.2652058584995227,0.39965351876924093,1.1342011861190648,1.4876317325502424,-0.7315044957257623,1.2721255156223625,-0.5150307609409148,0.9191075654871602,0.3494876538837761,0.7618773037155189,-0.2169210404456462,-0.3721130554270073,-1.0647043052330407,-1.798502529073453,0.3630921321787982,-0.7034208280439024,0.41967401887464095,1.2408493405964054,-0.8649778879766941,0.5370630893827874,-0.0022656007835508037,0.5528593758405621,0.6514452462779097,-0.7193390468692294,0.41363849852505,-1.1550876929393719,-0.3333227893871169,1.1670374072457335,-0.193170443946,0.9858918067424841,0.5352465267173225,-0.4214400221911786,-0.6058297062984426,0.8355805060377944,-0.21831842091956985,-1.2206737775347731,1.0618805543186036,0.8256202093395615,1.0480969337977304,-1.1767596205270556,0.22660341445141913,-0.02043141145474128,-0.3970225663722118,-0.06510176853847016,2.283918922208758,0.36218304941214347,-0.43750547101447995,0.9572622278046339,1.0897298993794287,-1.8881741854698473,0.24837316037209245,0.1576255939153728,0.6985460371861626,0.577325167618128,0.04288007554373437,0.0798381463361213,0.47021391855991557,-1.322498435518512,0.807740653757711,1.044837675048127,0.6683976697470645,1.0806151850609549,-0.8964360100020632,1.4486966483639385,-0.7620826886466616,-1.1840753631011112,0.5826196587773148,1.2446553971162422,-0.2497319817787376,1.000513118384911,0.23676817902069075,1.1611010130583208,0.31636924126830085,-0.8080503861933555,-0.14720794930826459,1.5075623463079884,0.28587340189621624,-0.34528881368554365],\"yaxis\":\"y15\"},{\"histfunc\":\"count\",\"histnorm\":\"\",\"marker\":{\"color\":\"rgba(128, 0, 128, 1.0)\",\"line\":{\"color\":\"#4D5663\",\"width\":1.3}},\"name\":\"D\",\"nbinsx\":10,\"opacity\":0.8,\"orientation\":\"v\",\"type\":\"histogram\",\"x\":[-0.8863454276883004,-0.1645708355236205,-0.7673022871715959,0.5502003178107542,0.5782332646332343,-0.2883640033885405,-2.4590500778578295,0.3814999589068852,-0.7848758141315808,-0.5886942499702799,-1.1801811153934427,3.9370432901687895,1.1957947402804088,0.26039386578231316,-0.3865384592129036,1.1426080070390392,0.15853703541445704,1.9434894736718002,0.5634047708216215,0.4845198129148697,1.4778971369029104,-0.23522299796185353,1.2652058584995227,0.39965351876924093,1.1342011861190648,1.4876317325502424,-0.7315044957257623,1.2721255156223625,-0.5150307609409148,0.9191075654871602,0.3494876538837761,0.7618773037155189,-0.2169210404456462,-0.3721130554270073,-1.0647043052330407,-1.798502529073453,0.3630921321787982,-0.7034208280439024,0.41967401887464095,1.2408493405964054,-0.8649778879766941,0.5370630893827874,-0.0022656007835508037,0.5528593758405621,0.6514452462779097,-0.7193390468692294,0.41363849852505,-1.1550876929393719,-0.3333227893871169,1.1670374072457335,-0.193170443946,0.9858918067424841,0.5352465267173225,-0.4214400221911786,-0.6058297062984426,0.8355805060377944,-0.21831842091956985,-1.2206737775347731,1.0618805543186036,0.8256202093395615,1.0480969337977304,-1.1767596205270556,0.22660341445141913,-0.02043141145474128,-0.3970225663722118,-0.06510176853847016,2.283918922208758,0.36218304941214347,-0.43750547101447995,0.9572622278046339,1.0897298993794287,-1.8881741854698473,0.24837316037209245,0.1576255939153728,0.6985460371861626,0.577325167618128,0.04288007554373437,0.0798381463361213,0.47021391855991557,-1.322498435518512,0.807740653757711,1.044837675048127,0.6683976697470645,1.0806151850609549,-0.8964360100020632,1.4486966483639385,-0.7620826886466616,-1.1840753631011112,0.5826196587773148,1.2446553971162422,-0.2497319817787376,1.000513118384911,0.23676817902069075,1.1611010130583208,0.31636924126830085,-0.8080503861933555,-0.14720794930826459,1.5075623463079884,0.28587340189621624,-0.34528881368554365],\"xaxis\":\"x16\",\"yaxis\":\"y16\"}],                        {\"bargap\":0.02,\"legend\":{\"bgcolor\":\"#F5F6F9\",\"font\":{\"color\":\"#4D5663\"}},\"paper_bgcolor\":\"#F5F6F9\",\"plot_bgcolor\":\"#F5F6F9\",\"showlegend\":false,\"template\":{\"data\":{\"bar\":[{\"error_x\":{\"color\":\"#2a3f5f\"},\"error_y\":{\"color\":\"#2a3f5f\"},\"marker\":{\"line\":{\"color\":\"#E5ECF6\",\"width\":0.5},\"pattern\":{\"fillmode\":\"overlay\",\"size\":10,\"solidity\":0.2}},\"type\":\"bar\"}],\"barpolar\":[{\"marker\":{\"line\":{\"color\":\"#E5ECF6\",\"width\":0.5},\"pattern\":{\"fillmode\":\"overlay\",\"size\":10,\"solidity\":0.2}},\"type\":\"barpolar\"}],\"carpet\":[{\"aaxis\":{\"endlinecolor\":\"#2a3f5f\",\"gridcolor\":\"white\",\"linecolor\":\"white\",\"minorgridcolor\":\"white\",\"startlinecolor\":\"#2a3f5f\"},\"baxis\":{\"endlinecolor\":\"#2a3f5f\",\"gridcolor\":\"white\",\"linecolor\":\"white\",\"minorgridcolor\":\"white\",\"startlinecolor\":\"#2a3f5f\"},\"type\":\"carpet\"}],\"choropleth\":[{\"colorbar\":{\"outlinewidth\":0,\"ticks\":\"\"},\"type\":\"choropleth\"}],\"contour\":[{\"colorbar\":{\"outlinewidth\":0,\"ticks\":\"\"},\"colorscale\":[[0.0,\"#0d0887\"],[0.1111111111111111,\"#46039f\"],[0.2222222222222222,\"#7201a8\"],[0.3333333333333333,\"#9c179e\"],[0.4444444444444444,\"#bd3786\"],[0.5555555555555556,\"#d8576b\"],[0.6666666666666666,\"#ed7953\"],[0.7777777777777778,\"#fb9f3a\"],[0.8888888888888888,\"#fdca26\"],[1.0,\"#f0f921\"]],\"type\":\"contour\"}],\"contourcarpet\":[{\"colorbar\":{\"outlinewidth\":0,\"ticks\":\"\"},\"type\":\"contourcarpet\"}],\"heatmap\":[{\"colorbar\":{\"outlinewidth\":0,\"ticks\":\"\"},\"colorscale\":[[0.0,\"#0d0887\"],[0.1111111111111111,\"#46039f\"],[0.2222222222222222,\"#7201a8\"],[0.3333333333333333,\"#9c179e\"],[0.4444444444444444,\"#bd3786\"],[0.5555555555555556,\"#d8576b\"],[0.6666666666666666,\"#ed7953\"],[0.7777777777777778,\"#fb9f3a\"],[0.8888888888888888,\"#fdca26\"],[1.0,\"#f0f921\"]],\"type\":\"heatmap\"}],\"heatmapgl\":[{\"colorbar\":{\"outlinewidth\":0,\"ticks\":\"\"},\"colorscale\":[[0.0,\"#0d0887\"],[0.1111111111111111,\"#46039f\"],[0.2222222222222222,\"#7201a8\"],[0.3333333333333333,\"#9c179e\"],[0.4444444444444444,\"#bd3786\"],[0.5555555555555556,\"#d8576b\"],[0.6666666666666666,\"#ed7953\"],[0.7777777777777778,\"#fb9f3a\"],[0.8888888888888888,\"#fdca26\"],[1.0,\"#f0f921\"]],\"type\":\"heatmapgl\"}],\"histogram\":[{\"marker\":{\"pattern\":{\"fillmode\":\"overlay\",\"size\":10,\"solidity\":0.2}},\"type\":\"histogram\"}],\"histogram2d\":[{\"colorbar\":{\"outlinewidth\":0,\"ticks\":\"\"},\"colorscale\":[[0.0,\"#0d0887\"],[0.1111111111111111,\"#46039f\"],[0.2222222222222222,\"#7201a8\"],[0.3333333333333333,\"#9c179e\"],[0.4444444444444444,\"#bd3786\"],[0.5555555555555556,\"#d8576b\"],[0.6666666666666666,\"#ed7953\"],[0.7777777777777778,\"#fb9f3a\"],[0.8888888888888888,\"#fdca26\"],[1.0,\"#f0f921\"]],\"type\":\"histogram2d\"}],\"histogram2dcontour\":[{\"colorbar\":{\"outlinewidth\":0,\"ticks\":\"\"},\"colorscale\":[[0.0,\"#0d0887\"],[0.1111111111111111,\"#46039f\"],[0.2222222222222222,\"#7201a8\"],[0.3333333333333333,\"#9c179e\"],[0.4444444444444444,\"#bd3786\"],[0.5555555555555556,\"#d8576b\"],[0.6666666666666666,\"#ed7953\"],[0.7777777777777778,\"#fb9f3a\"],[0.8888888888888888,\"#fdca26\"],[1.0,\"#f0f921\"]],\"type\":\"histogram2dcontour\"}],\"mesh3d\":[{\"colorbar\":{\"outlinewidth\":0,\"ticks\":\"\"},\"type\":\"mesh3d\"}],\"parcoords\":[{\"line\":{\"colorbar\":{\"outlinewidth\":0,\"ticks\":\"\"}},\"type\":\"parcoords\"}],\"pie\":[{\"automargin\":true,\"type\":\"pie\"}],\"scatter\":[{\"marker\":{\"colorbar\":{\"outlinewidth\":0,\"ticks\":\"\"}},\"type\":\"scatter\"}],\"scatter3d\":[{\"line\":{\"colorbar\":{\"outlinewidth\":0,\"ticks\":\"\"}},\"marker\":{\"colorbar\":{\"outlinewidth\":0,\"ticks\":\"\"}},\"type\":\"scatter3d\"}],\"scattercarpet\":[{\"marker\":{\"colorbar\":{\"outlinewidth\":0,\"ticks\":\"\"}},\"type\":\"scattercarpet\"}],\"scattergeo\":[{\"marker\":{\"colorbar\":{\"outlinewidth\":0,\"ticks\":\"\"}},\"type\":\"scattergeo\"}],\"scattergl\":[{\"marker\":{\"colorbar\":{\"outlinewidth\":0,\"ticks\":\"\"}},\"type\":\"scattergl\"}],\"scattermapbox\":[{\"marker\":{\"colorbar\":{\"outlinewidth\":0,\"ticks\":\"\"}},\"type\":\"scattermapbox\"}],\"scatterpolar\":[{\"marker\":{\"colorbar\":{\"outlinewidth\":0,\"ticks\":\"\"}},\"type\":\"scatterpolar\"}],\"scatterpolargl\":[{\"marker\":{\"colorbar\":{\"outlinewidth\":0,\"ticks\":\"\"}},\"type\":\"scatterpolargl\"}],\"scatterternary\":[{\"marker\":{\"colorbar\":{\"outlinewidth\":0,\"ticks\":\"\"}},\"type\":\"scatterternary\"}],\"surface\":[{\"colorbar\":{\"outlinewidth\":0,\"ticks\":\"\"},\"colorscale\":[[0.0,\"#0d0887\"],[0.1111111111111111,\"#46039f\"],[0.2222222222222222,\"#7201a8\"],[0.3333333333333333,\"#9c179e\"],[0.4444444444444444,\"#bd3786\"],[0.5555555555555556,\"#d8576b\"],[0.6666666666666666,\"#ed7953\"],[0.7777777777777778,\"#fb9f3a\"],[0.8888888888888888,\"#fdca26\"],[1.0,\"#f0f921\"]],\"type\":\"surface\"}],\"table\":[{\"cells\":{\"fill\":{\"color\":\"#EBF0F8\"},\"line\":{\"color\":\"white\"}},\"header\":{\"fill\":{\"color\":\"#C8D4E3\"},\"line\":{\"color\":\"white\"}},\"type\":\"table\"}]},\"layout\":{\"annotationdefaults\":{\"arrowcolor\":\"#2a3f5f\",\"arrowhead\":0,\"arrowwidth\":1},\"autotypenumbers\":\"strict\",\"coloraxis\":{\"colorbar\":{\"outlinewidth\":0,\"ticks\":\"\"}},\"colorscale\":{\"diverging\":[[0,\"#8e0152\"],[0.1,\"#c51b7d\"],[0.2,\"#de77ae\"],[0.3,\"#f1b6da\"],[0.4,\"#fde0ef\"],[0.5,\"#f7f7f7\"],[0.6,\"#e6f5d0\"],[0.7,\"#b8e186\"],[0.8,\"#7fbc41\"],[0.9,\"#4d9221\"],[1,\"#276419\"]],\"sequential\":[[0.0,\"#0d0887\"],[0.1111111111111111,\"#46039f\"],[0.2222222222222222,\"#7201a8\"],[0.3333333333333333,\"#9c179e\"],[0.4444444444444444,\"#bd3786\"],[0.5555555555555556,\"#d8576b\"],[0.6666666666666666,\"#ed7953\"],[0.7777777777777778,\"#fb9f3a\"],[0.8888888888888888,\"#fdca26\"],[1.0,\"#f0f921\"]],\"sequentialminus\":[[0.0,\"#0d0887\"],[0.1111111111111111,\"#46039f\"],[0.2222222222222222,\"#7201a8\"],[0.3333333333333333,\"#9c179e\"],[0.4444444444444444,\"#bd3786\"],[0.5555555555555556,\"#d8576b\"],[0.6666666666666666,\"#ed7953\"],[0.7777777777777778,\"#fb9f3a\"],[0.8888888888888888,\"#fdca26\"],[1.0,\"#f0f921\"]]},\"colorway\":[\"#636efa\",\"#EF553B\",\"#00cc96\",\"#ab63fa\",\"#FFA15A\",\"#19d3f3\",\"#FF6692\",\"#B6E880\",\"#FF97FF\",\"#FECB52\"],\"font\":{\"color\":\"#2a3f5f\"},\"geo\":{\"bgcolor\":\"white\",\"lakecolor\":\"white\",\"landcolor\":\"#E5ECF6\",\"showlakes\":true,\"showland\":true,\"subunitcolor\":\"white\"},\"hoverlabel\":{\"align\":\"left\"},\"hovermode\":\"closest\",\"mapbox\":{\"style\":\"light\"},\"paper_bgcolor\":\"white\",\"plot_bgcolor\":\"#E5ECF6\",\"polar\":{\"angularaxis\":{\"gridcolor\":\"white\",\"linecolor\":\"white\",\"ticks\":\"\"},\"bgcolor\":\"#E5ECF6\",\"radialaxis\":{\"gridcolor\":\"white\",\"linecolor\":\"white\",\"ticks\":\"\"}},\"scene\":{\"xaxis\":{\"backgroundcolor\":\"#E5ECF6\",\"gridcolor\":\"white\",\"gridwidth\":2,\"linecolor\":\"white\",\"showbackground\":true,\"ticks\":\"\",\"zerolinecolor\":\"white\"},\"yaxis\":{\"backgroundcolor\":\"#E5ECF6\",\"gridcolor\":\"white\",\"gridwidth\":2,\"linecolor\":\"white\",\"showbackground\":true,\"ticks\":\"\",\"zerolinecolor\":\"white\"},\"zaxis\":{\"backgroundcolor\":\"#E5ECF6\",\"gridcolor\":\"white\",\"gridwidth\":2,\"linecolor\":\"white\",\"showbackground\":true,\"ticks\":\"\",\"zerolinecolor\":\"white\"}},\"shapedefaults\":{\"line\":{\"color\":\"#2a3f5f\"}},\"ternary\":{\"aaxis\":{\"gridcolor\":\"white\",\"linecolor\":\"white\",\"ticks\":\"\"},\"baxis\":{\"gridcolor\":\"white\",\"linecolor\":\"white\",\"ticks\":\"\"},\"bgcolor\":\"#E5ECF6\",\"caxis\":{\"gridcolor\":\"white\",\"linecolor\":\"white\",\"ticks\":\"\"}},\"title\":{\"x\":0.05},\"xaxis\":{\"automargin\":true,\"gridcolor\":\"white\",\"linecolor\":\"white\",\"ticks\":\"\",\"title\":{\"standoff\":15},\"zerolinecolor\":\"white\",\"zerolinewidth\":2},\"yaxis\":{\"automargin\":true,\"gridcolor\":\"white\",\"linecolor\":\"white\",\"ticks\":\"\",\"title\":{\"standoff\":15},\"zerolinecolor\":\"white\",\"zerolinewidth\":2}}},\"title\":{\"font\":{\"color\":\"#4D5663\"}},\"xaxis\":{\"anchor\":\"y\",\"domain\":[0.0,0.2125],\"gridcolor\":\"#E1E5ED\",\"showgrid\":false,\"tickfont\":{\"color\":\"#4D5663\"},\"title\":{\"font\":{\"color\":\"#4D5663\"},\"text\":\"\"},\"zerolinecolor\":\"#E1E5ED\"},\"xaxis10\":{\"anchor\":\"y10\",\"domain\":[0.2625,0.475],\"gridcolor\":\"#E1E5ED\",\"showgrid\":false,\"tickfont\":{\"color\":\"#4D5663\"},\"title\":{\"font\":{\"color\":\"#4D5663\"},\"text\":\"\"},\"zerolinecolor\":\"#E1E5ED\"},\"xaxis11\":{\"anchor\":\"y11\",\"domain\":[0.525,0.7375],\"gridcolor\":\"#E1E5ED\",\"showgrid\":false,\"tickfont\":{\"color\":\"#4D5663\"},\"title\":{\"font\":{\"color\":\"#4D5663\"},\"text\":\"\"},\"zerolinecolor\":\"#E1E5ED\"},\"xaxis12\":{\"anchor\":\"y12\",\"domain\":[0.7875,1.0],\"gridcolor\":\"#E1E5ED\",\"showgrid\":false,\"tickfont\":{\"color\":\"#4D5663\"},\"title\":{\"font\":{\"color\":\"#4D5663\"},\"text\":\"\"},\"zerolinecolor\":\"#E1E5ED\"},\"xaxis13\":{\"anchor\":\"y13\",\"domain\":[0.0,0.2125],\"gridcolor\":\"#E1E5ED\",\"showgrid\":false,\"tickfont\":{\"color\":\"#4D5663\"},\"title\":{\"font\":{\"color\":\"#4D5663\"},\"text\":\"\"},\"zerolinecolor\":\"#E1E5ED\"},\"xaxis14\":{\"anchor\":\"y14\",\"domain\":[0.2625,0.475],\"gridcolor\":\"#E1E5ED\",\"showgrid\":false,\"tickfont\":{\"color\":\"#4D5663\"},\"title\":{\"font\":{\"color\":\"#4D5663\"},\"text\":\"\"},\"zerolinecolor\":\"#E1E5ED\"},\"xaxis15\":{\"anchor\":\"y15\",\"domain\":[0.525,0.7375],\"gridcolor\":\"#E1E5ED\",\"showgrid\":false,\"tickfont\":{\"color\":\"#4D5663\"},\"title\":{\"font\":{\"color\":\"#4D5663\"},\"text\":\"\"},\"zerolinecolor\":\"#E1E5ED\"},\"xaxis16\":{\"anchor\":\"y16\",\"domain\":[0.7875,1.0],\"gridcolor\":\"#E1E5ED\",\"showgrid\":false,\"tickfont\":{\"color\":\"#4D5663\"},\"title\":{\"font\":{\"color\":\"#4D5663\"},\"text\":\"\"},\"zerolinecolor\":\"#E1E5ED\"},\"xaxis2\":{\"anchor\":\"y2\",\"domain\":[0.2625,0.475],\"gridcolor\":\"#E1E5ED\",\"showgrid\":false,\"tickfont\":{\"color\":\"#4D5663\"},\"title\":{\"font\":{\"color\":\"#4D5663\"},\"text\":\"\"},\"zerolinecolor\":\"#E1E5ED\"},\"xaxis3\":{\"anchor\":\"y3\",\"domain\":[0.525,0.7375],\"gridcolor\":\"#E1E5ED\",\"showgrid\":false,\"tickfont\":{\"color\":\"#4D5663\"},\"title\":{\"font\":{\"color\":\"#4D5663\"},\"text\":\"\"},\"zerolinecolor\":\"#E1E5ED\"},\"xaxis4\":{\"anchor\":\"y4\",\"domain\":[0.7875,1.0],\"gridcolor\":\"#E1E5ED\",\"showgrid\":false,\"tickfont\":{\"color\":\"#4D5663\"},\"title\":{\"font\":{\"color\":\"#4D5663\"},\"text\":\"\"},\"zerolinecolor\":\"#E1E5ED\"},\"xaxis5\":{\"anchor\":\"y5\",\"domain\":[0.0,0.2125],\"gridcolor\":\"#E1E5ED\",\"showgrid\":false,\"tickfont\":{\"color\":\"#4D5663\"},\"title\":{\"font\":{\"color\":\"#4D5663\"},\"text\":\"\"},\"zerolinecolor\":\"#E1E5ED\"},\"xaxis6\":{\"anchor\":\"y6\",\"domain\":[0.2625,0.475],\"gridcolor\":\"#E1E5ED\",\"showgrid\":false,\"tickfont\":{\"color\":\"#4D5663\"},\"title\":{\"font\":{\"color\":\"#4D5663\"},\"text\":\"\"},\"zerolinecolor\":\"#E1E5ED\"},\"xaxis7\":{\"anchor\":\"y7\",\"domain\":[0.525,0.7375],\"gridcolor\":\"#E1E5ED\",\"showgrid\":false,\"tickfont\":{\"color\":\"#4D5663\"},\"title\":{\"font\":{\"color\":\"#4D5663\"},\"text\":\"\"},\"zerolinecolor\":\"#E1E5ED\"},\"xaxis8\":{\"anchor\":\"y8\",\"domain\":[0.7875,1.0],\"gridcolor\":\"#E1E5ED\",\"showgrid\":false,\"tickfont\":{\"color\":\"#4D5663\"},\"title\":{\"font\":{\"color\":\"#4D5663\"},\"text\":\"\"},\"zerolinecolor\":\"#E1E5ED\"},\"xaxis9\":{\"anchor\":\"y9\",\"domain\":[0.0,0.2125],\"gridcolor\":\"#E1E5ED\",\"showgrid\":false,\"tickfont\":{\"color\":\"#4D5663\"},\"title\":{\"font\":{\"color\":\"#4D5663\"},\"text\":\"\"},\"zerolinecolor\":\"#E1E5ED\"},\"yaxis\":{\"anchor\":\"x\",\"domain\":[0.8025,1.0],\"gridcolor\":\"#E1E5ED\",\"showgrid\":false,\"tickfont\":{\"color\":\"#4D5663\"},\"title\":{\"font\":{\"color\":\"#4D5663\"},\"text\":\"\"},\"zerolinecolor\":\"#E1E5ED\"},\"yaxis10\":{\"anchor\":\"x10\",\"domain\":[0.2675,0.465],\"gridcolor\":\"#E1E5ED\",\"showgrid\":false,\"tickfont\":{\"color\":\"#4D5663\"},\"title\":{\"font\":{\"color\":\"#4D5663\"},\"text\":\"\"},\"zerolinecolor\":\"#E1E5ED\"},\"yaxis11\":{\"anchor\":\"x11\",\"domain\":[0.2675,0.465],\"gridcolor\":\"#E1E5ED\",\"showgrid\":false,\"tickfont\":{\"color\":\"#4D5663\"},\"title\":{\"font\":{\"color\":\"#4D5663\"},\"text\":\"\"},\"zerolinecolor\":\"#E1E5ED\"},\"yaxis12\":{\"anchor\":\"x12\",\"domain\":[0.2675,0.465],\"gridcolor\":\"#E1E5ED\",\"showgrid\":false,\"tickfont\":{\"color\":\"#4D5663\"},\"title\":{\"font\":{\"color\":\"#4D5663\"},\"text\":\"\"},\"zerolinecolor\":\"#E1E5ED\"},\"yaxis13\":{\"anchor\":\"x13\",\"domain\":[0.0,0.1975],\"gridcolor\":\"#E1E5ED\",\"showgrid\":false,\"tickfont\":{\"color\":\"#4D5663\"},\"title\":{\"font\":{\"color\":\"#4D5663\"},\"text\":\"\"},\"zerolinecolor\":\"#E1E5ED\"},\"yaxis14\":{\"anchor\":\"x14\",\"domain\":[0.0,0.1975],\"gridcolor\":\"#E1E5ED\",\"showgrid\":false,\"tickfont\":{\"color\":\"#4D5663\"},\"title\":{\"font\":{\"color\":\"#4D5663\"},\"text\":\"\"},\"zerolinecolor\":\"#E1E5ED\"},\"yaxis15\":{\"anchor\":\"x15\",\"domain\":[0.0,0.1975],\"gridcolor\":\"#E1E5ED\",\"showgrid\":false,\"tickfont\":{\"color\":\"#4D5663\"},\"title\":{\"font\":{\"color\":\"#4D5663\"},\"text\":\"\"},\"zerolinecolor\":\"#E1E5ED\"},\"yaxis16\":{\"anchor\":\"x16\",\"domain\":[0.0,0.1975],\"gridcolor\":\"#E1E5ED\",\"showgrid\":false,\"tickfont\":{\"color\":\"#4D5663\"},\"title\":{\"font\":{\"color\":\"#4D5663\"},\"text\":\"\"},\"zerolinecolor\":\"#E1E5ED\"},\"yaxis2\":{\"anchor\":\"x2\",\"domain\":[0.8025,1.0],\"gridcolor\":\"#E1E5ED\",\"showgrid\":false,\"tickfont\":{\"color\":\"#4D5663\"},\"title\":{\"font\":{\"color\":\"#4D5663\"},\"text\":\"\"},\"zerolinecolor\":\"#E1E5ED\"},\"yaxis3\":{\"anchor\":\"x3\",\"domain\":[0.8025,1.0],\"gridcolor\":\"#E1E5ED\",\"showgrid\":false,\"tickfont\":{\"color\":\"#4D5663\"},\"title\":{\"font\":{\"color\":\"#4D5663\"},\"text\":\"\"},\"zerolinecolor\":\"#E1E5ED\"},\"yaxis4\":{\"anchor\":\"x4\",\"domain\":[0.8025,1.0],\"gridcolor\":\"#E1E5ED\",\"showgrid\":false,\"tickfont\":{\"color\":\"#4D5663\"},\"title\":{\"font\":{\"color\":\"#4D5663\"},\"text\":\"\"},\"zerolinecolor\":\"#E1E5ED\"},\"yaxis5\":{\"anchor\":\"x5\",\"domain\":[0.535,0.7325],\"gridcolor\":\"#E1E5ED\",\"showgrid\":false,\"tickfont\":{\"color\":\"#4D5663\"},\"title\":{\"font\":{\"color\":\"#4D5663\"},\"text\":\"\"},\"zerolinecolor\":\"#E1E5ED\"},\"yaxis6\":{\"anchor\":\"x6\",\"domain\":[0.535,0.7325],\"gridcolor\":\"#E1E5ED\",\"showgrid\":false,\"tickfont\":{\"color\":\"#4D5663\"},\"title\":{\"font\":{\"color\":\"#4D5663\"},\"text\":\"\"},\"zerolinecolor\":\"#E1E5ED\"},\"yaxis7\":{\"anchor\":\"x7\",\"domain\":[0.535,0.7325],\"gridcolor\":\"#E1E5ED\",\"showgrid\":false,\"tickfont\":{\"color\":\"#4D5663\"},\"title\":{\"font\":{\"color\":\"#4D5663\"},\"text\":\"\"},\"zerolinecolor\":\"#E1E5ED\"},\"yaxis8\":{\"anchor\":\"x8\",\"domain\":[0.535,0.7325],\"gridcolor\":\"#E1E5ED\",\"showgrid\":false,\"tickfont\":{\"color\":\"#4D5663\"},\"title\":{\"font\":{\"color\":\"#4D5663\"},\"text\":\"\"},\"zerolinecolor\":\"#E1E5ED\"},\"yaxis9\":{\"anchor\":\"x9\",\"domain\":[0.2675,0.465],\"gridcolor\":\"#E1E5ED\",\"showgrid\":false,\"tickfont\":{\"color\":\"#4D5663\"},\"title\":{\"font\":{\"color\":\"#4D5663\"},\"text\":\"\"},\"zerolinecolor\":\"#E1E5ED\"}},                        {\"showLink\": true, \"linkText\": \"Export to plot.ly\", \"plotlyServerURL\": \"https://plot.ly\", \"responsive\": true}                    ).then(function(){\n",
       "                            \n",
       "var gd = document.getElementById('8cffdf3c-d0a8-4048-a230-e2302361d2b8');\n",
       "var x = new MutationObserver(function (mutations, observer) {{\n",
       "        var display = window.getComputedStyle(gd).display;\n",
       "        if (!display || display === 'none') {{\n",
       "            console.log([gd, 'removed!']);\n",
       "            Plotly.purge(gd);\n",
       "            observer.disconnect();\n",
       "        }}\n",
       "}});\n",
       "\n",
       "// Listen for the removal of the full notebook cells\n",
       "var notebookContainer = gd.closest('#notebook-container');\n",
       "if (notebookContainer) {{\n",
       "    x.observe(notebookContainer, {childList: true});\n",
       "}}\n",
       "\n",
       "// Listen for the clearing of the current output cell\n",
       "var outputEl = gd.closest('.output');\n",
       "if (outputEl) {{\n",
       "    x.observe(outputEl, {childList: true});\n",
       "}}\n",
       "\n",
       "                        })                };                });            </script>        </div>"
      ]
     },
     "metadata": {},
     "output_type": "display_data"
    }
   ],
   "source": [
    "df.scatter_matrix()"
   ]
  },
  {
   "cell_type": "code",
   "execution_count": null,
   "metadata": {},
   "outputs": [],
   "source": []
  }
 ],
 "metadata": {
  "kernelspec": {
   "display_name": "Python 3",
   "language": "python",
   "name": "python3"
  },
  "language_info": {
   "codemirror_mode": {
    "name": "ipython",
    "version": 3
   },
   "file_extension": ".py",
   "mimetype": "text/x-python",
   "name": "python",
   "nbconvert_exporter": "python",
   "pygments_lexer": "ipython3",
   "version": "3.8.5"
  }
 },
 "nbformat": 4,
 "nbformat_minor": 4
}
